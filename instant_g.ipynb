{
 "cells": [
  {
   "cell_type": "markdown",
   "metadata": {},
   "source": [
    "Here i try using dask instead of pandas for a kaggle competition i entered.  There are a few different things.  First of all you can't use iloc to split a dataframe by index so it makes it very hard to use stratified split.  \n",
    "But runtimes are much much quicker, so i suppose once you get used to it would be far superior for large datasets\n",
    "\n",
    "It was quite difficult ot get kaggle into an amazon notebook, and there is not a lot of support for it, could be worth a blog post.\n",
    "\n",
    "Also it was beyond me how to push this directly from aws.  "
   ]
  },
  {
   "cell_type": "code",
   "execution_count": null,
   "metadata": {},
   "outputs": [],
   "source": [
    "!pip install tqdm"
   ]
  },
  {
   "cell_type": "code",
   "execution_count": null,
   "metadata": {},
   "outputs": [],
   "source": [
    "!pip install kaggle"
   ]
  },
  {
   "cell_type": "code",
   "execution_count": null,
   "metadata": {},
   "outputs": [],
   "source": [
    "!kaggle competitions download -c instant-gratification"
   ]
  },
  {
   "cell_type": "code",
   "execution_count": 10,
   "metadata": {},
   "outputs": [],
   "source": [
    "import os"
   ]
  },
  {
   "cell_type": "code",
   "execution_count": 16,
   "metadata": {},
   "outputs": [],
   "source": [
    "os.environ['KAGGLE_USERNAME'] = \"****\""
   ]
  },
  {
   "cell_type": "code",
   "execution_count": 18,
   "metadata": {},
   "outputs": [],
   "source": [
    "os.environ['KAGGLE_KEY'] = \"****\""
   ]
  },
  {
   "cell_type": "code",
   "execution_count": 29,
   "metadata": {},
   "outputs": [],
   "source": [
    "import pandas as pd\n",
    "import numpy as np"
   ]
  },
  {
   "cell_type": "code",
   "execution_count": 33,
   "metadata": {},
   "outputs": [],
   "source": [
    "test = pd.read_csv('test.csv.zip', compression='zip', header=0, sep=',', quotechar='\"')"
   ]
  },
  {
   "cell_type": "code",
   "execution_count": 31,
   "metadata": {},
   "outputs": [],
   "source": [
    "train = pd.read_csv('train.csv.zip', compression='zip', header=0, sep=',', quotechar='\"')"
   ]
  },
  {
   "cell_type": "code",
   "execution_count": 59,
   "metadata": {},
   "outputs": [],
   "source": [
    "train=train.set_index('id',drop=True)\n",
    "test=test.set_index('id',drop=True)"
   ]
  },
  {
   "cell_type": "code",
   "execution_count": 60,
   "metadata": {},
   "outputs": [],
   "source": [
    "import pandas as pd\n",
    "import numpy as np\n",
    "from sklearn.svm import SVC, NuSVC\n",
    "from sklearn.neighbors import KNeighborsClassifier\n",
    "from sklearn.preprocessing import StandardScaler\n",
    "from sklearn.discriminant_analysis import QuadraticDiscriminantAnalysis\n",
    "from sklearn.feature_selection import VarianceThreshold\n",
    "from tqdm import tqdm_notebook\n",
    "from sklearn.metrics import roc_auc_score\n",
    "from sklearn.model_selection import StratifiedKFold, train_test_split\n",
    "cols=[x for x in train.columns if x not in ['target','wheezy-copper-turtle-magic']]\n",
    "scaler=StandardScaler()"
   ]
  },
  {
   "cell_type": "code",
   "execution_count": 61,
   "metadata": {},
   "outputs": [],
   "source": [
    "magic_key=train.columns[146]\n",
    "train_f=[train[train[magic_key]==i] for i in range(512)]\n",
    "test_f=[test[test[magic_key]==i] for i in range(512)]\n",
    "combo=[train_f[i][cols].append(test_f[i][cols]).copy() for i in range(512)]\n",
    "N=11\n",
    "qda=QuadraticDiscriminantAnalysis(0.5)\n",
    "skf = StratifiedKFold(n_splits=N,random_state=75)\n",
    "vt = VarianceThreshold(threshold=1.5)"
   ]
  },
  {
   "cell_type": "code",
   "execution_count": 65,
   "metadata": {},
   "outputs": [
    {
     "name": "stdout",
     "output_type": "stream",
     "text": [
      "CPU times: user 5 µs, sys: 3 µs, total: 8 µs\n",
      "Wall time: 15.3 µs\n"
     ]
    },
    {
     "data": {
      "application/vnd.jupyter.widget-view+json": {
       "model_id": "9d7e6b26f10748c68a938317ba19218e",
       "version_major": 2,
       "version_minor": 0
      },
      "text/plain": [
       "HBox(children=(IntProgress(value=0, max=512), HTML(value='')))"
      ]
     },
     "metadata": {},
     "output_type": "display_data"
    }
   ],
   "source": [
    "#first of all we will correct the 'flipped' labels from the training data\n",
    "%time\n",
    "skfprobas={}\n",
    "#for k in tqdm_notebook(range(2)):\n",
    "for k in tqdm_notebook(range(512)):\n",
    "    vt.fit(combo[k][cols])\n",
    "\n",
    "    for train_index, test_index in skf.split(train_f[k][cols],train_f[k][['target']]):\n",
    "        X_pl=vt.transform(train_f[k][cols].iloc[train_index])\n",
    "        X_skf_test=vt.transform(train_f[k][cols].iloc[test_index])\n",
    "        \n",
    "        y_pl=train_f[k][['target']].iloc[train_index]\n",
    "        \n",
    "        qda.fit(X_pl,y_pl.values.ravel())\n",
    "        y_preds_skf=qda.predict_proba(X_skf_test)\n",
    "        temp_skf=train_f[k][['target']].iloc[test_index].copy()\n",
    "        temp_skf['preds']=[x[1] for x in y_preds_skf]\n",
    "        for kk in temp_skf.index:\n",
    "            skfprobas[kk]=temp_skf['preds'][kk]"
   ]
  },
  {
   "cell_type": "code",
   "execution_count": 66,
   "metadata": {},
   "outputs": [
    {
     "name": "stdout",
     "output_type": "stream",
     "text": [
      "CPU times: user 2min 27s, sys: 1.58 s, total: 2min 29s\n",
      "Wall time: 2min 28s\n"
     ]
    }
   ],
   "source": [
    "%%time\n",
    "import dask.dataframe as dd\n",
    "from dask.distributed import Client\n",
    "train_dask = dd.from_pandas(train, npartitions=3)\n",
    "test_dask = dd.from_pandas(test, npartitions=3)\n",
    "train_f_dask=[train_dask[train_dask[magic_key]==i] for i in range(512)]\n",
    "test_f_dask=[test_dask[test_dask[magic_key]==i] for i in range(512)]\n",
    "combo_dask=[train_f_dask[i][cols].append(test_f_dask[i][cols]).copy() for i in range(512)]\n",
    "N=11\n",
    "qda_dask=QuadraticDiscriminantAnalysis(0.5)\n",
    "skf_dask = StratifiedKFold(n_splits=N,random_state=75)\n",
    "vt_dask = VarianceThreshold(threshold=1.5)"
   ]
  },
  {
   "cell_type": "code",
   "execution_count": 78,
   "metadata": {},
   "outputs": [],
   "source": [
    "import warnings\n",
    "warnings.simplefilter('ignore')"
   ]
  },
  {
   "cell_type": "code",
   "execution_count": 82,
   "metadata": {},
   "outputs": [
    {
     "name": "stdout",
     "output_type": "stream",
     "text": [
      "CPU times: user 6 µs, sys: 6 µs, total: 12 µs\n",
      "Wall time: 24.6 µs\n"
     ]
    },
    {
     "data": {
      "application/vnd.jupyter.widget-view+json": {
       "model_id": "2972daa4ba2640a188d373db631996bb",
       "version_major": 2,
       "version_minor": 0
      },
      "text/plain": [
       "HBox(children=(IntProgress(value=0, max=512), HTML(value='')))"
      ]
     },
     "metadata": {},
     "output_type": "display_data"
    }
   ],
   "source": [
    "%time\n",
    "skfprobas_dask=[]\n",
    "#for k in tqdm_notebook(range(2)):\n",
    "for k in tqdm_notebook(range(512)):\n",
    "    vt_dask.fit(combo_dask[k])\n",
    "    X=vt_dask.transform(train_f_dask[k][cols])\n",
    "    X_test=vt_dask.transform(test_f_dask[k][cols])\n",
    "    y=train_f_dask[k][['target']]\n",
    "    qda_dask.fit(X,y.values)\n",
    "    preds = qda_dask.predict_proba(X_test)\n",
    "    preds = [x[1] for x in preds]\n",
    "    my_preds=test_f[k][test_f[k].columns[0]].copy()\n",
    "    my_preds['preds']=preds\n",
    "    skfprobas_dask.append(my_preds['preds'])"
   ]
  },
  {
   "cell_type": "code",
   "execution_count": 84,
   "metadata": {},
   "outputs": [
    {
     "data": {
      "text/plain": [
       "[4.0907943231579687e-07,\n",
       " 0.9999999312168185,\n",
       " 4.4161858409879836e-24,\n",
       " 0.9871257722919382,\n",
       " 0.9999997492206025,\n",
       " 0.9990180988196776,\n",
       " 2.4144309667826135e-10,\n",
       " 0.9999999999999374,\n",
       " 0.999999999999305,\n",
       " 0.022775279505056128]"
      ]
     },
     "execution_count": 84,
     "metadata": {},
     "output_type": "execute_result"
    }
   ],
   "source": [
    "skfprobas_dask[0][:10]"
   ]
  },
  {
   "cell_type": "code",
   "execution_count": 85,
   "metadata": {},
   "outputs": [
    {
     "data": {
      "text/plain": [
       "2"
      ]
     },
     "execution_count": 85,
     "metadata": {},
     "output_type": "execute_result"
    }
   ],
   "source": [
    "1+1"
   ]
  },
  {
   "cell_type": "code",
   "execution_count": null,
   "metadata": {},
   "outputs": [],
   "source": []
  }
 ],
 "metadata": {
  "kernelspec": {
   "display_name": "conda_python3",
   "language": "python",
   "name": "conda_python3"
  },
  "language_info": {
   "codemirror_mode": {
    "name": "ipython",
    "version": 3
   },
   "file_extension": ".py",
   "mimetype": "text/x-python",
   "name": "python",
   "nbconvert_exporter": "python",
   "pygments_lexer": "ipython3",
   "version": "3.6.5"
  }
 },
 "nbformat": 4,
 "nbformat_minor": 2
}
