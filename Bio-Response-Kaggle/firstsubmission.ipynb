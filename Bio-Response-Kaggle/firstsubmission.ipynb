{
 "cells": [
  {
   "cell_type": "code",
   "execution_count": 1,
   "metadata": {},
   "outputs": [
    {
     "name": "stdout",
     "output_type": "stream",
     "text": [
      "(3000, 1776) (751, 1776) (3000,) (751,)\n"
     ]
    }
   ],
   "source": [
    "import pandas as pd\n",
    "import numpy as np \n",
    "from sklearn.linear_model import LogisticRegression, SGDClassifier\n",
    "from sklearn.preprocessing import StandardScaler, FunctionTransformer\n",
    "from sklearn.model_selection import train_test_split, cross_val_score, GridSearchCV\n",
    "from sklearn.metrics import mean_absolute_error, accuracy_score, log_loss\n",
    "from sklearn.pipeline import make_pipeline, Pipeline\n",
    "from sklearn.decomposition import PCA\n",
    "from sklearn.cluster import FeatureAgglomeration\n",
    "import category_encoders as ce\n",
    "from numpy.testing import assert_almost_equal\n",
    "from functools import reduce\n",
    "import matplotlib.pyplot as plt\n",
    "\n",
    "from load_data import X_train, X_test, y_train, y_test, X, y, df_test\n"
   ]
  },
  {
   "cell_type": "code",
   "execution_count": 3,
   "metadata": {},
   "outputs": [
    {
     "data": {
      "text/plain": [
       "0.5615317955500563"
      ]
     },
     "execution_count": 3,
     "metadata": {},
     "output_type": "execute_result"
    }
   ],
   "source": [
    "pcan = 218\n",
    "l_alpha = 0.15848931924611143\n",
    "\n",
    "transformer = FunctionTransformer(np.log1p, validate=True)\n",
    "scl = StandardScaler(with_std=False)\n",
    "logistic = SGDClassifier(alpha=l_alpha, max_iter=10000, tol=np.exp(-5), random_state=0,\n",
    "                         loss='modified_huber', penalty='l2')\n",
    "pca = PCA(n_components=pcan)\n",
    "\n",
    "pipe = Pipeline(steps=[('standardize', scl), ('logarithm', transformer), \n",
    "                       ('pca', pca), ('logistic', logistic)])\n",
    "\n",
    "scores = cross_val_score(pipe, X_train, y_train, cv=8, scoring='neg_log_loss') \n",
    "\n",
    "-scores.mean()\n",
    "\n",
    "#log_loss(y_test, y_pred)"
   ]
  },
  {
   "cell_type": "code",
   "execution_count": 4,
   "metadata": {},
   "outputs": [],
   "source": [
    "\n",
    "pipe.fit(X_train, y_train)\n",
    "y_pred = pipe.predict_proba(df_test)\n"
   ]
  },
  {
   "cell_type": "code",
   "execution_count": 5,
   "metadata": {},
   "outputs": [
    {
     "name": "stdout",
     "output_type": "stream",
     "text": [
      "[[0.13050688 0.86949312]\n",
      " [0.27500836 0.72499164]\n",
      " [0.80570159 0.19429841]\n",
      " ...\n",
      " [0.11797975 0.88202025]\n",
      " [0.21583173 0.78416827]\n",
      " [0.73571293 0.26428707]]\n"
     ]
    }
   ],
   "source": [
    "print(y_pred)"
   ]
  },
  {
   "cell_type": "code",
   "execution_count": null,
   "metadata": {},
   "outputs": [],
   "source": []
  }
 ],
 "metadata": {
  "kernelspec": {
   "display_name": "Python 3",
   "language": "python",
   "name": "python3"
  },
  "language_info": {
   "codemirror_mode": {
    "name": "ipython",
    "version": 3
   },
   "file_extension": ".py",
   "mimetype": "text/x-python",
   "name": "python",
   "nbconvert_exporter": "python",
   "pygments_lexer": "ipython3",
   "version": "3.7.2"
  }
 },
 "nbformat": 4,
 "nbformat_minor": 2
}
