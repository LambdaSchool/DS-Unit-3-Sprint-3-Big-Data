{
 "cells": [
  {
   "cell_type": "code",
   "execution_count": 3,
   "metadata": {},
   "outputs": [],
   "source": [
    "import numpy as np\n",
    "from logistic import LRSolver\n",
    "\n",
    "x = LRSolver()\n",
    "\n",
    "beet = np.random.randn(x.X.shape[1])"
   ]
  },
  {
   "cell_type": "code",
   "execution_count": 19,
   "metadata": {
    "scrolled": true
   },
   "outputs": [],
   "source": [
    "#x.center()"
   ]
  },
  {
   "cell_type": "code",
   "execution_count": null,
   "metadata": {},
   "outputs": [],
   "source": []
  },
  {
   "cell_type": "code",
   "execution_count": 29,
   "metadata": {},
   "outputs": [
    {
     "data": {
      "text/plain": [
       "[1, 1778, 1581531, 938375060]"
      ]
     },
     "execution_count": 29,
     "metadata": {},
     "output_type": "execute_result"
    }
   ],
   "source": []
  },
  {
   "cell_type": "code",
   "execution_count": 60,
   "metadata": {},
   "outputs": [
    {
     "name": "stdout",
     "output_type": "stream",
     "text": [
      "169911\n",
      "CPU times: user 32.5 ms, sys: 316 µs, total: 32.8 ms\n",
      "Wall time: 32.5 ms\n"
     ]
    }
   ],
   "source": [
    "%%time\n",
    "from itertools import combinations_with_replacement as mc\n",
    "\n",
    "from scipy.special import comb as choose, factorial\n",
    "comb = lambda x,y: choose(x,y, exact=True)\n",
    "\n",
    "def the_count(k, n): \n",
    "    return comb(n+k, k)\n",
    "\n",
    "def the_count_recursive(k,n):\n",
    "    if k==0: return 1\n",
    "    else: return comb(n+k-1, k) + the_count_recursive(k-1, n)\n",
    "\n",
    "#@njit\n",
    "def plynm_feats(cols, deg=3): \n",
    "    if deg==0: return ['1']\n",
    "    else: \n",
    "        return list(mc(cols, deg)) + plynm_feats(cols, deg=deg-1)\n",
    "\n",
    "a = plynm_feats(np.array([x for x in \"abcdefghijklmnopqrstuvwxyz\"]), 5)\n",
    "\n",
    "print(len(a))\n",
    "\n",
    "#print(a)"
   ]
  },
  {
   "cell_type": "code",
   "execution_count": null,
   "metadata": {},
   "outputs": [],
   "source": []
  },
  {
   "cell_type": "code",
   "execution_count": 56,
   "metadata": {},
   "outputs": [
    {
     "data": {
      "text/plain": [
       "array('jfkdlajf', dtype='<U8')"
      ]
     },
     "execution_count": 56,
     "metadata": {},
     "output_type": "execute_result"
    }
   ],
   "source": [
    "np.array(\"jfkdlajf\")"
   ]
  },
  {
   "cell_type": "code",
   "execution_count": null,
   "metadata": {},
   "outputs": [],
   "source": [
    "# # making minimal reproducer for numba issue\n",
    "\n",
    "# import numpy as np\n",
    "# import pandas as pd \n",
    "# from numba import jit, njit\n",
    "\n",
    "# train_url = 'https://raw.githubusercontent.com/quinn-dougherty/DS-Unit-3-Sprint-3-Big-Data/master/Bio-Response-Kaggle/data/train.csv'\n",
    "\n",
    "# df_ = pd.read_csv(train_url)\n",
    "# df_['ones'] = np.ones(df_.shape[0])\n",
    "# X=df_.drop('Activity', axis=1).to_numpy()\n",
    "\n",
    "# @jit                                                                                                                                                                                                                   \n",
    "# def center(X):\n",
    "#     ''' optional; centers the data at zero, both mutating and returning ''' \n",
    "#     n = X.shape[1]\n",
    "#     means = np.array([np.float_(x.mean()) for x in X.T])\n",
    "#     ones = np.array([np.float_(1) for _ in X.T])\n",
    "#     return X - np.dot(ones, means)\n",
    "    \n",
    "# center(X)"
   ]
  }
 ],
 "metadata": {
  "kernelspec": {
   "display_name": "Python 3",
   "language": "python",
   "name": "python3"
  }
 },
 "nbformat": 4,
 "nbformat_minor": 2
}
