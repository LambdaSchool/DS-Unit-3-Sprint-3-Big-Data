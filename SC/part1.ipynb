{
 "cells": [
  {
   "cell_type": "code",
   "execution_count": 47,
   "metadata": {},
   "outputs": [
    {
     "name": "stdout",
     "output_type": "stream",
     "text": [
      "(1956, 5)\n"
     ]
    },
    {
     "data": {
      "text/html": [
       "<div>\n",
       "<style scoped>\n",
       "    .dataframe tbody tr th:only-of-type {\n",
       "        vertical-align: middle;\n",
       "    }\n",
       "\n",
       "    .dataframe tbody tr th {\n",
       "        vertical-align: top;\n",
       "    }\n",
       "\n",
       "    .dataframe thead th {\n",
       "        text-align: right;\n",
       "    }\n",
       "</style>\n",
       "<table border=\"1\" class=\"dataframe\">\n",
       "  <thead>\n",
       "    <tr style=\"text-align: right;\">\n",
       "      <th></th>\n",
       "      <th>COMMENT_ID</th>\n",
       "      <th>AUTHOR</th>\n",
       "      <th>DATE</th>\n",
       "      <th>CONTENT</th>\n",
       "      <th>CLASS</th>\n",
       "    </tr>\n",
       "  </thead>\n",
       "  <tbody>\n",
       "    <tr>\n",
       "      <th>0</th>\n",
       "      <td>LZQPQhLyRh80UYxNuaDWhIGQYNQ96IuCg-AYWqNPjpU</td>\n",
       "      <td>Julius NM</td>\n",
       "      <td>2013-11-07T06:20:48</td>\n",
       "      <td>Huh, anyway check out this you[tube] channel: ...</td>\n",
       "      <td>1</td>\n",
       "    </tr>\n",
       "    <tr>\n",
       "      <th>1</th>\n",
       "      <td>LZQPQhLyRh_C2cTtd9MvFRJedxydaVW-2sNg5Diuo4A</td>\n",
       "      <td>adam riyati</td>\n",
       "      <td>2013-11-07T12:37:15</td>\n",
       "      <td>Hey guys check out my new channel and our firs...</td>\n",
       "      <td>1</td>\n",
       "    </tr>\n",
       "    <tr>\n",
       "      <th>2</th>\n",
       "      <td>LZQPQhLyRh9MSZYnf8djyk0gEF9BHDPYrrK-qCczIY8</td>\n",
       "      <td>Evgeny Murashkin</td>\n",
       "      <td>2013-11-08T17:34:21</td>\n",
       "      <td>just for test I have to say murdev.com</td>\n",
       "      <td>1</td>\n",
       "    </tr>\n",
       "    <tr>\n",
       "      <th>3</th>\n",
       "      <td>z13jhp0bxqncu512g22wvzkasxmvvzjaz04</td>\n",
       "      <td>ElNino Melendez</td>\n",
       "      <td>2013-11-09T08:28:43</td>\n",
       "      <td>me shaking my sexy ass on my channel enjoy ^_^ ﻿</td>\n",
       "      <td>1</td>\n",
       "    </tr>\n",
       "    <tr>\n",
       "      <th>4</th>\n",
       "      <td>z13fwbwp1oujthgqj04chlngpvzmtt3r3dw</td>\n",
       "      <td>GsMega</td>\n",
       "      <td>2013-11-10T16:05:38</td>\n",
       "      <td>watch?v=vtaRGgvGtWQ   Check this out .﻿</td>\n",
       "      <td>1</td>\n",
       "    </tr>\n",
       "  </tbody>\n",
       "</table>\n",
       "</div>"
      ],
      "text/plain": [
       "                                    COMMENT_ID            AUTHOR  \\\n",
       "0  LZQPQhLyRh80UYxNuaDWhIGQYNQ96IuCg-AYWqNPjpU         Julius NM   \n",
       "1  LZQPQhLyRh_C2cTtd9MvFRJedxydaVW-2sNg5Diuo4A       adam riyati   \n",
       "2  LZQPQhLyRh9MSZYnf8djyk0gEF9BHDPYrrK-qCczIY8  Evgeny Murashkin   \n",
       "3          z13jhp0bxqncu512g22wvzkasxmvvzjaz04   ElNino Melendez   \n",
       "4          z13fwbwp1oujthgqj04chlngpvzmtt3r3dw            GsMega   \n",
       "\n",
       "                  DATE                                            CONTENT  \\\n",
       "0  2013-11-07T06:20:48  Huh, anyway check out this you[tube] channel: ...   \n",
       "1  2013-11-07T12:37:15  Hey guys check out my new channel and our firs...   \n",
       "2  2013-11-08T17:34:21             just for test I have to say murdev.com   \n",
       "3  2013-11-09T08:28:43   me shaking my sexy ass on my channel enjoy ^_^ ﻿   \n",
       "4  2013-11-10T16:05:38            watch?v=vtaRGgvGtWQ   Check this out .﻿   \n",
       "\n",
       "   CLASS  \n",
       "0      1  \n",
       "1      1  \n",
       "2      1  \n",
       "3      1  \n",
       "4      1  "
      ]
     },
     "execution_count": 47,
     "metadata": {},
     "output_type": "execute_result"
    }
   ],
   "source": [
    "import dask.dataframe as dd\n",
    "from typing import Tuple\n",
    "df = dd.read_csv('Youtube0*.csv')\n",
    "\n",
    "def get_lazy_shape(datf: dd) -> Tuple[int, int]: \n",
    "    return (df.shape[0].compute(), df.shape[1])\n",
    "\n",
    "print(get_lazy_shape(df))\n",
    "df.head()"
   ]
  },
  {
   "cell_type": "code",
   "execution_count": 55,
   "metadata": {},
   "outputs": [
    {
     "name": "stdout",
     "output_type": "stream",
     "text": [
      "The number of spam comments is 1005. \n",
      "The number of non-spam comments is 951. \n",
      "If the heuristic on the word check was the ONLY aspect of the model; \n",
      "\twe'd have 544 false negatives, \n",
      "\tand 932 false positives. \n"
     ]
    }
   ],
   "source": [
    "#df[\"check\" in df.CONTENT.compute().str.lower()].shape\n",
    "\n",
    "def get_check(datf: dd, membership: int) -> int: \n",
    "    assert membership in [0,1]\n",
    "    xs = [\"check\" in x for x in df.CONTENT.compute().str.lower()]\n",
    "    ys =  [x==membership for x in df.CLASS.compute()]\n",
    "    return sum([x and y for x,y in zip(xs,ys)])\n",
    "\n",
    "def reporter(datf: dd) -> str: \n",
    "    c = datf.CLASS.value_counts().compute()\n",
    "    checkyes = get_check(datf, 1)\n",
    "    checkno = get_check(datf, 0)\n",
    "    s0 = f\"The number of spam comments is {c.loc[1]}. \\n\"\n",
    "    s1 = f\"The number of non-spam comments is {c.loc[0]}. \\n\"\n",
    "    s2 = \"If the heuristic on the word check was the ONLY aspect of the model; \\n\"\n",
    "    s3 = f\"\\twe'd have {c.loc[1] - checkyes} false negatives, \\n\"\n",
    "    s4 = f\"\\tand {c.loc[0] - checkno} false positives. \"\n",
    "    \n",
    "    return ''.join([s0, s1, s2, s3, s4])\n",
    "\n",
    "print(reporter(df))"
   ]
  },
  {
   "cell_type": "code",
   "execution_count": 61,
   "metadata": {},
   "outputs": [
    {
     "data": {
      "image/png": "[encoded data removed]",
      "text/plain": [
       "<Figure size 432x288 with 2 Axes>"
      ]
     },
     "metadata": {},
     "output_type": "display_data"
    }
   ],
   "source": [
    "from typing import List\n",
    "import numpy as np\n",
    "import pandas as pd\n",
    "from seaborn import heatmap\n",
    "\n",
    "def confusionmatrix(datf: dd) -> dd:\n",
    "    '''a confusion matrix for the baseline model that ONLY considers the heuristic with the word 'check' '''\n",
    "    seconds = ['Negative', 'Positive']\n",
    "    firsts = ['Actual', 'Predicted']\n",
    "    \n",
    "    def tupdex(first: str) -> List[str]: \n",
    "        return [first + ' ' + seconds[0], first + ' ' + seconds[1]]\n",
    "  \n",
    "    c = np.empty((2,2))\n",
    "  \n",
    "    spam = datf.CLASS.value_counts().compute()\n",
    "\n",
    "    c[0][0] = spam.loc[0]\n",
    "    c[1][0] = spam.loc[1]\n",
    "    \n",
    "    c[0][1] = get_check(datf, 0)\n",
    "    c[1][1] = get_check(datf, 1)\n",
    "\n",
    "    return pd.DataFrame(c, \n",
    "                        index=tupdex(firsts[0]), \n",
    "                        columns=tupdex(firsts[1])\n",
    "                       ).astype(int)\n",
    "    \n",
    "\n",
    "heatmap(confusionmatrix(df));"
   ]
  },
  {
   "cell_type": "code",
   "execution_count": null,
   "metadata": {},
   "outputs": [],
   "source": []
  },
  {
   "cell_type": "code",
   "execution_count": null,
   "metadata": {},
   "outputs": [],
   "source": [
    "# part2"
   ]
  },
  {
   "cell_type": "markdown",
   "metadata": {},
   "source": [
    "# Databricks                                                                                                                       \n",
    "\n",
    "Databricks seems well-suited to **prototyping and sketching a distributed computing strategy**. It gives me a low-pressure environment to get comfortable with dispatching jobs to clusters with spark, simply by *simulating* a distributed environment in a free-to-play service. For example, if I'm starting a brand new ETL pipeline that will ultimately perform well when dumped in the order of 10e40 rows and 10e60 features, I'd want to start in Databricks' free-to-use mode to make sure I get my tools playing nicely with my samples.\n",
    " \n",
    "# deploying\n",
    " \n",
    "Once my team is *oriented to the problem* and have reasonably well-iterated ETL code, we'd port it to whichever cloud service has the best prices at the time, provided all else equal with smooth notebook environments and library compatibility. Here we might end up on AWS, Azure, or even Databricks' paid service.\n",
    " \n",
    "# orders of magnitude \n",
    " \n",
    "### small data: \n",
    "If the data dump is within the order of maybe 10e9 observations and 10e6 features, I'd handle it on a personal computer. I may be required to sample down a few orders during notebook work sessions, and I'd have to be very clever sometimes, but it'd be completely doable.\n",
    " \n",
    "### medium data: \n",
    "For a data dump in the order of 10e10-10e20 observations and 10e7-10-12 features, I think it'd be fun to make my own personal cloud by asking family and friends if I can run docker packages on their computers! In a professional environment, this could mean some grouping of PCs that are lying around the office.\n",
    "\n",
    "### big data: \n",
    "Anything bigger and we're definitely gonna be a big cloud customer.\n",
    " \n",
    "![orders.jpg](decisionmaking)\n",
    "       "
   ]
  }
 ],
 "metadata": {
  "kernelspec": {
   "display_name": "conda_python3",
   "language": "python",
   "name": "conda_python3"
  },
  "language_info": {
   "codemirror_mode": {
    "name": "ipython",
    "version": 3
   },
   "file_extension": ".py",
   "mimetype": "text/x-python",
   "name": "python",
   "nbconvert_exporter": "python",
   "pygments_lexer": "ipython3",
   "version": "3.6.5"
  }
 },
 "nbformat": 4,
 "nbformat_minor": 2
}
