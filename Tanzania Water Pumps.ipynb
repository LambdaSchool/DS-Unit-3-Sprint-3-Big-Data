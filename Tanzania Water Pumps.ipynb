{
 "cells": [
  {
   "cell_type": "code",
   "execution_count": 1,
   "metadata": {
    "ExecuteTime": {
     "end_time": "2019-02-12T21:00:16.223107Z",
     "start_time": "2019-02-12T21:00:15.414122Z"
    }
   },
   "outputs": [
    {
     "name": "stdout",
     "output_type": "stream",
     "text": [
      "Warning: Your Kaggle API key is readable by other users on this system! To fix this, you can run 'chmod 600 /home/mark/.kaggle/kaggle.json'\n"
     ]
    }
   ],
   "source": [
    "import pandas as pd\n",
    "import numpy as np \n",
    "from sklearn.linear_model import LogisticRegression, SGDClassifier\n",
    "from sklearn.preprocessing import StandardScaler, FunctionTransformer\n",
    "from sklearn.model_selection import train_test_split, cross_val_score, GridSearchCV\n",
    "from sklearn.metrics import mean_absolute_error, accuracy_score, log_loss, mean_squared_error, r2_score\n",
    "from sklearn.pipeline import make_pipeline, Pipeline\n",
    "from sklearn.decomposition import PCA\n",
    "from sklearn.cluster import FeatureAgglomeration\n",
    "import category_encoders as ce\n",
    "from numpy.testing import assert_almost_equal\n",
    "from functools import reduce\n",
    "import matplotlib.pyplot as plt\n",
    "import time\n",
    "from category_encoders.binary import BinaryEncoder\n",
    "pd.set_option('display.max_columns', None)  # Unlimited columns\n",
    "import xgboost as xgb\n",
    "# from xgboost import XGBClassifier, XGBRegressor\n",
    "import copy\n",
    "from sklearn.feature_extraction.text import TfidfVectorizer\n",
    "import kaggle\n",
    "import re"
   ]
  },
  {
   "cell_type": "code",
   "execution_count": 2,
   "metadata": {
    "ExecuteTime": {
     "end_time": "2019-02-12T21:00:16.870358Z",
     "start_time": "2019-02-12T21:00:16.857575Z"
    }
   },
   "outputs": [
    {
     "data": {
      "text/plain": [
       "'1.15.4'"
      ]
     },
     "execution_count": 2,
     "metadata": {},
     "output_type": "execute_result"
    }
   ],
   "source": [
    "np.__version__"
   ]
  },
  {
   "cell_type": "code",
   "execution_count": 3,
   "metadata": {
    "ExecuteTime": {
     "end_time": "2019-02-12T21:00:17.817779Z",
     "start_time": "2019-02-12T21:00:17.808161Z"
    }
   },
   "outputs": [
    {
     "data": {
      "text/plain": [
       "'0.81'"
      ]
     },
     "execution_count": 3,
     "metadata": {},
     "output_type": "execute_result"
    }
   ],
   "source": [
    "xgb.__version__"
   ]
  },
  {
   "cell_type": "code",
   "execution_count": 4,
   "metadata": {
    "ExecuteTime": {
     "end_time": "2019-02-12T21:00:19.167791Z",
     "start_time": "2019-02-12T21:00:18.755280Z"
    }
   },
   "outputs": [],
   "source": [
    "url = \"unit-3/train_features.csv\"\n",
    "df = pd.read_csv(url, parse_dates=['date_recorded'],index_col='id' )"
   ]
  },
  {
   "cell_type": "code",
   "execution_count": 5,
   "metadata": {
    "ExecuteTime": {
     "end_time": "2019-02-12T21:00:20.946579Z",
     "start_time": "2019-02-12T21:00:20.890741Z"
    }
   },
   "outputs": [
    {
     "data": {
      "text/html": [
       "<div>\n",
       "<style scoped>\n",
       "    .dataframe tbody tr th:only-of-type {\n",
       "        vertical-align: middle;\n",
       "    }\n",
       "\n",
       "    .dataframe tbody tr th {\n",
       "        vertical-align: top;\n",
       "    }\n",
       "\n",
       "    .dataframe thead th {\n",
       "        text-align: right;\n",
       "    }\n",
       "</style>\n",
       "<table border=\"1\" class=\"dataframe\">\n",
       "  <thead>\n",
       "    <tr style=\"text-align: right;\">\n",
       "      <th></th>\n",
       "      <th>amount_tsh</th>\n",
       "      <th>date_recorded</th>\n",
       "      <th>funder</th>\n",
       "      <th>gps_height</th>\n",
       "      <th>installer</th>\n",
       "      <th>longitude</th>\n",
       "      <th>latitude</th>\n",
       "      <th>wpt_name</th>\n",
       "      <th>num_private</th>\n",
       "      <th>basin</th>\n",
       "      <th>subvillage</th>\n",
       "      <th>region</th>\n",
       "      <th>region_code</th>\n",
       "      <th>district_code</th>\n",
       "      <th>lga</th>\n",
       "      <th>ward</th>\n",
       "      <th>population</th>\n",
       "      <th>public_meeting</th>\n",
       "      <th>recorded_by</th>\n",
       "      <th>scheme_management</th>\n",
       "      <th>scheme_name</th>\n",
       "      <th>permit</th>\n",
       "      <th>construction_year</th>\n",
       "      <th>extraction_type</th>\n",
       "      <th>extraction_type_group</th>\n",
       "      <th>extraction_type_class</th>\n",
       "      <th>management</th>\n",
       "      <th>management_group</th>\n",
       "      <th>payment</th>\n",
       "      <th>payment_type</th>\n",
       "      <th>water_quality</th>\n",
       "      <th>quality_group</th>\n",
       "      <th>quantity</th>\n",
       "      <th>quantity_group</th>\n",
       "      <th>source</th>\n",
       "      <th>source_type</th>\n",
       "      <th>source_class</th>\n",
       "      <th>waterpoint_type</th>\n",
       "      <th>waterpoint_type_group</th>\n",
       "    </tr>\n",
       "    <tr>\n",
       "      <th>id</th>\n",
       "      <th></th>\n",
       "      <th></th>\n",
       "      <th></th>\n",
       "      <th></th>\n",
       "      <th></th>\n",
       "      <th></th>\n",
       "      <th></th>\n",
       "      <th></th>\n",
       "      <th></th>\n",
       "      <th></th>\n",
       "      <th></th>\n",
       "      <th></th>\n",
       "      <th></th>\n",
       "      <th></th>\n",
       "      <th></th>\n",
       "      <th></th>\n",
       "      <th></th>\n",
       "      <th></th>\n",
       "      <th></th>\n",
       "      <th></th>\n",
       "      <th></th>\n",
       "      <th></th>\n",
       "      <th></th>\n",
       "      <th></th>\n",
       "      <th></th>\n",
       "      <th></th>\n",
       "      <th></th>\n",
       "      <th></th>\n",
       "      <th></th>\n",
       "      <th></th>\n",
       "      <th></th>\n",
       "      <th></th>\n",
       "      <th></th>\n",
       "      <th></th>\n",
       "      <th></th>\n",
       "      <th></th>\n",
       "      <th></th>\n",
       "      <th></th>\n",
       "      <th></th>\n",
       "    </tr>\n",
       "  </thead>\n",
       "  <tbody>\n",
       "    <tr>\n",
       "      <th>69572</th>\n",
       "      <td>6000.0</td>\n",
       "      <td>2011-03-14</td>\n",
       "      <td>Roman</td>\n",
       "      <td>1390</td>\n",
       "      <td>Roman</td>\n",
       "      <td>34.938093</td>\n",
       "      <td>-9.856322</td>\n",
       "      <td>none</td>\n",
       "      <td>0</td>\n",
       "      <td>Lake Nyasa</td>\n",
       "      <td>Mnyusi B</td>\n",
       "      <td>Iringa</td>\n",
       "      <td>11</td>\n",
       "      <td>5</td>\n",
       "      <td>Ludewa</td>\n",
       "      <td>Mundindi</td>\n",
       "      <td>109</td>\n",
       "      <td>True</td>\n",
       "      <td>GeoData Consultants Ltd</td>\n",
       "      <td>VWC</td>\n",
       "      <td>Roman</td>\n",
       "      <td>False</td>\n",
       "      <td>1999</td>\n",
       "      <td>gravity</td>\n",
       "      <td>gravity</td>\n",
       "      <td>gravity</td>\n",
       "      <td>vwc</td>\n",
       "      <td>user-group</td>\n",
       "      <td>pay annually</td>\n",
       "      <td>annually</td>\n",
       "      <td>soft</td>\n",
       "      <td>good</td>\n",
       "      <td>enough</td>\n",
       "      <td>enough</td>\n",
       "      <td>spring</td>\n",
       "      <td>spring</td>\n",
       "      <td>groundwater</td>\n",
       "      <td>communal standpipe</td>\n",
       "      <td>communal standpipe</td>\n",
       "    </tr>\n",
       "    <tr>\n",
       "      <th>8776</th>\n",
       "      <td>0.0</td>\n",
       "      <td>2013-03-06</td>\n",
       "      <td>Grumeti</td>\n",
       "      <td>1399</td>\n",
       "      <td>GRUMETI</td>\n",
       "      <td>34.698766</td>\n",
       "      <td>-2.147466</td>\n",
       "      <td>Zahanati</td>\n",
       "      <td>0</td>\n",
       "      <td>Lake Victoria</td>\n",
       "      <td>Nyamara</td>\n",
       "      <td>Mara</td>\n",
       "      <td>20</td>\n",
       "      <td>2</td>\n",
       "      <td>Serengeti</td>\n",
       "      <td>Natta</td>\n",
       "      <td>280</td>\n",
       "      <td>NaN</td>\n",
       "      <td>GeoData Consultants Ltd</td>\n",
       "      <td>Other</td>\n",
       "      <td>NaN</td>\n",
       "      <td>True</td>\n",
       "      <td>2010</td>\n",
       "      <td>gravity</td>\n",
       "      <td>gravity</td>\n",
       "      <td>gravity</td>\n",
       "      <td>wug</td>\n",
       "      <td>user-group</td>\n",
       "      <td>never pay</td>\n",
       "      <td>never pay</td>\n",
       "      <td>soft</td>\n",
       "      <td>good</td>\n",
       "      <td>insufficient</td>\n",
       "      <td>insufficient</td>\n",
       "      <td>rainwater harvesting</td>\n",
       "      <td>rainwater harvesting</td>\n",
       "      <td>surface</td>\n",
       "      <td>communal standpipe</td>\n",
       "      <td>communal standpipe</td>\n",
       "    </tr>\n",
       "    <tr>\n",
       "      <th>34310</th>\n",
       "      <td>25.0</td>\n",
       "      <td>2013-02-25</td>\n",
       "      <td>Lottery Club</td>\n",
       "      <td>686</td>\n",
       "      <td>World vision</td>\n",
       "      <td>37.460664</td>\n",
       "      <td>-3.821329</td>\n",
       "      <td>Kwa Mahundi</td>\n",
       "      <td>0</td>\n",
       "      <td>Pangani</td>\n",
       "      <td>Majengo</td>\n",
       "      <td>Manyara</td>\n",
       "      <td>21</td>\n",
       "      <td>4</td>\n",
       "      <td>Simanjiro</td>\n",
       "      <td>Ngorika</td>\n",
       "      <td>250</td>\n",
       "      <td>True</td>\n",
       "      <td>GeoData Consultants Ltd</td>\n",
       "      <td>VWC</td>\n",
       "      <td>Nyumba ya mungu pipe scheme</td>\n",
       "      <td>True</td>\n",
       "      <td>2009</td>\n",
       "      <td>gravity</td>\n",
       "      <td>gravity</td>\n",
       "      <td>gravity</td>\n",
       "      <td>vwc</td>\n",
       "      <td>user-group</td>\n",
       "      <td>pay per bucket</td>\n",
       "      <td>per bucket</td>\n",
       "      <td>soft</td>\n",
       "      <td>good</td>\n",
       "      <td>enough</td>\n",
       "      <td>enough</td>\n",
       "      <td>dam</td>\n",
       "      <td>dam</td>\n",
       "      <td>surface</td>\n",
       "      <td>communal standpipe multiple</td>\n",
       "      <td>communal standpipe</td>\n",
       "    </tr>\n",
       "    <tr>\n",
       "      <th>67743</th>\n",
       "      <td>0.0</td>\n",
       "      <td>2013-01-28</td>\n",
       "      <td>Unicef</td>\n",
       "      <td>263</td>\n",
       "      <td>UNICEF</td>\n",
       "      <td>38.486161</td>\n",
       "      <td>-11.155298</td>\n",
       "      <td>Zahanati Ya Nanyumbu</td>\n",
       "      <td>0</td>\n",
       "      <td>Ruvuma / Southern Coast</td>\n",
       "      <td>Mahakamani</td>\n",
       "      <td>Mtwara</td>\n",
       "      <td>90</td>\n",
       "      <td>63</td>\n",
       "      <td>Nanyumbu</td>\n",
       "      <td>Nanyumbu</td>\n",
       "      <td>58</td>\n",
       "      <td>True</td>\n",
       "      <td>GeoData Consultants Ltd</td>\n",
       "      <td>VWC</td>\n",
       "      <td>NaN</td>\n",
       "      <td>True</td>\n",
       "      <td>1986</td>\n",
       "      <td>submersible</td>\n",
       "      <td>submersible</td>\n",
       "      <td>submersible</td>\n",
       "      <td>vwc</td>\n",
       "      <td>user-group</td>\n",
       "      <td>never pay</td>\n",
       "      <td>never pay</td>\n",
       "      <td>soft</td>\n",
       "      <td>good</td>\n",
       "      <td>dry</td>\n",
       "      <td>dry</td>\n",
       "      <td>machine dbh</td>\n",
       "      <td>borehole</td>\n",
       "      <td>groundwater</td>\n",
       "      <td>communal standpipe multiple</td>\n",
       "      <td>communal standpipe</td>\n",
       "    </tr>\n",
       "    <tr>\n",
       "      <th>19728</th>\n",
       "      <td>0.0</td>\n",
       "      <td>2011-07-13</td>\n",
       "      <td>Action In A</td>\n",
       "      <td>0</td>\n",
       "      <td>Artisan</td>\n",
       "      <td>31.130847</td>\n",
       "      <td>-1.825359</td>\n",
       "      <td>Shuleni</td>\n",
       "      <td>0</td>\n",
       "      <td>Lake Victoria</td>\n",
       "      <td>Kyanyamisa</td>\n",
       "      <td>Kagera</td>\n",
       "      <td>18</td>\n",
       "      <td>1</td>\n",
       "      <td>Karagwe</td>\n",
       "      <td>Nyakasimbi</td>\n",
       "      <td>0</td>\n",
       "      <td>True</td>\n",
       "      <td>GeoData Consultants Ltd</td>\n",
       "      <td>NaN</td>\n",
       "      <td>NaN</td>\n",
       "      <td>True</td>\n",
       "      <td>0</td>\n",
       "      <td>gravity</td>\n",
       "      <td>gravity</td>\n",
       "      <td>gravity</td>\n",
       "      <td>other</td>\n",
       "      <td>other</td>\n",
       "      <td>never pay</td>\n",
       "      <td>never pay</td>\n",
       "      <td>soft</td>\n",
       "      <td>good</td>\n",
       "      <td>seasonal</td>\n",
       "      <td>seasonal</td>\n",
       "      <td>rainwater harvesting</td>\n",
       "      <td>rainwater harvesting</td>\n",
       "      <td>surface</td>\n",
       "      <td>communal standpipe</td>\n",
       "      <td>communal standpipe</td>\n",
       "    </tr>\n",
       "  </tbody>\n",
       "</table>\n",
       "</div>"
      ],
      "text/plain": [
       "       amount_tsh date_recorded        funder  gps_height     installer  \\\n",
       "id                                                                        \n",
       "69572      6000.0    2011-03-14         Roman        1390         Roman   \n",
       "8776          0.0    2013-03-06       Grumeti        1399       GRUMETI   \n",
       "34310        25.0    2013-02-25  Lottery Club         686  World vision   \n",
       "67743         0.0    2013-01-28        Unicef         263        UNICEF   \n",
       "19728         0.0    2011-07-13   Action In A           0       Artisan   \n",
       "\n",
       "       longitude   latitude              wpt_name  num_private  \\\n",
       "id                                                               \n",
       "69572  34.938093  -9.856322                  none            0   \n",
       "8776   34.698766  -2.147466              Zahanati            0   \n",
       "34310  37.460664  -3.821329           Kwa Mahundi            0   \n",
       "67743  38.486161 -11.155298  Zahanati Ya Nanyumbu            0   \n",
       "19728  31.130847  -1.825359               Shuleni            0   \n",
       "\n",
       "                         basin  subvillage   region  region_code  \\\n",
       "id                                                                 \n",
       "69572               Lake Nyasa    Mnyusi B   Iringa           11   \n",
       "8776             Lake Victoria     Nyamara     Mara           20   \n",
       "34310                  Pangani     Majengo  Manyara           21   \n",
       "67743  Ruvuma / Southern Coast  Mahakamani   Mtwara           90   \n",
       "19728            Lake Victoria  Kyanyamisa   Kagera           18   \n",
       "\n",
       "       district_code        lga        ward  population public_meeting  \\\n",
       "id                                                                       \n",
       "69572              5     Ludewa    Mundindi         109           True   \n",
       "8776               2  Serengeti       Natta         280            NaN   \n",
       "34310              4  Simanjiro     Ngorika         250           True   \n",
       "67743             63   Nanyumbu    Nanyumbu          58           True   \n",
       "19728              1    Karagwe  Nyakasimbi           0           True   \n",
       "\n",
       "                   recorded_by scheme_management                  scheme_name  \\\n",
       "id                                                                              \n",
       "69572  GeoData Consultants Ltd               VWC                        Roman   \n",
       "8776   GeoData Consultants Ltd             Other                          NaN   \n",
       "34310  GeoData Consultants Ltd               VWC  Nyumba ya mungu pipe scheme   \n",
       "67743  GeoData Consultants Ltd               VWC                          NaN   \n",
       "19728  GeoData Consultants Ltd               NaN                          NaN   \n",
       "\n",
       "      permit  construction_year extraction_type extraction_type_group  \\\n",
       "id                                                                      \n",
       "69572  False               1999         gravity               gravity   \n",
       "8776    True               2010         gravity               gravity   \n",
       "34310   True               2009         gravity               gravity   \n",
       "67743   True               1986     submersible           submersible   \n",
       "19728   True                  0         gravity               gravity   \n",
       "\n",
       "      extraction_type_class management management_group         payment  \\\n",
       "id                                                                        \n",
       "69572               gravity        vwc       user-group    pay annually   \n",
       "8776                gravity        wug       user-group       never pay   \n",
       "34310               gravity        vwc       user-group  pay per bucket   \n",
       "67743           submersible        vwc       user-group       never pay   \n",
       "19728               gravity      other            other       never pay   \n",
       "\n",
       "      payment_type water_quality quality_group      quantity quantity_group  \\\n",
       "id                                                                            \n",
       "69572     annually          soft          good        enough         enough   \n",
       "8776     never pay          soft          good  insufficient   insufficient   \n",
       "34310   per bucket          soft          good        enough         enough   \n",
       "67743    never pay          soft          good           dry            dry   \n",
       "19728    never pay          soft          good      seasonal       seasonal   \n",
       "\n",
       "                     source           source_type source_class  \\\n",
       "id                                                               \n",
       "69572                spring                spring  groundwater   \n",
       "8776   rainwater harvesting  rainwater harvesting      surface   \n",
       "34310                   dam                   dam      surface   \n",
       "67743           machine dbh              borehole  groundwater   \n",
       "19728  rainwater harvesting  rainwater harvesting      surface   \n",
       "\n",
       "                   waterpoint_type waterpoint_type_group  \n",
       "id                                                        \n",
       "69572           communal standpipe    communal standpipe  \n",
       "8776            communal standpipe    communal standpipe  \n",
       "34310  communal standpipe multiple    communal standpipe  \n",
       "67743  communal standpipe multiple    communal standpipe  \n",
       "19728           communal standpipe    communal standpipe  "
      ]
     },
     "execution_count": 5,
     "metadata": {},
     "output_type": "execute_result"
    }
   ],
   "source": [
    "df.head()"
   ]
  },
  {
   "cell_type": "code",
   "execution_count": 6,
   "metadata": {
    "ExecuteTime": {
     "end_time": "2019-02-12T21:00:21.990461Z",
     "start_time": "2019-02-12T21:00:21.987294Z"
    }
   },
   "outputs": [
    {
     "data": {
      "text/plain": [
       "(59400, 39)"
      ]
     },
     "execution_count": 6,
     "metadata": {},
     "output_type": "execute_result"
    }
   ],
   "source": [
    "df.shape"
   ]
  },
  {
   "cell_type": "code",
   "execution_count": 7,
   "metadata": {
    "ExecuteTime": {
     "end_time": "2019-02-12T21:00:25.047130Z",
     "start_time": "2019-02-12T21:00:23.245451Z"
    }
   },
   "outputs": [
    {
     "data": {
      "text/html": [
       "<div>\n",
       "<style scoped>\n",
       "    .dataframe tbody tr th:only-of-type {\n",
       "        vertical-align: middle;\n",
       "    }\n",
       "\n",
       "    .dataframe tbody tr th {\n",
       "        vertical-align: top;\n",
       "    }\n",
       "\n",
       "    .dataframe thead th {\n",
       "        text-align: right;\n",
       "    }\n",
       "</style>\n",
       "<table border=\"1\" class=\"dataframe\">\n",
       "  <thead>\n",
       "    <tr style=\"text-align: right;\">\n",
       "      <th></th>\n",
       "      <th>amount_tsh</th>\n",
       "      <th>funder</th>\n",
       "      <th>gps_height</th>\n",
       "      <th>installer</th>\n",
       "      <th>longitude</th>\n",
       "      <th>latitude</th>\n",
       "      <th>wpt_name</th>\n",
       "      <th>num_private</th>\n",
       "      <th>basin</th>\n",
       "      <th>subvillage</th>\n",
       "      <th>lga</th>\n",
       "      <th>ward</th>\n",
       "      <th>population</th>\n",
       "      <th>public_meeting</th>\n",
       "      <th>recorded_by</th>\n",
       "      <th>scheme_management</th>\n",
       "      <th>scheme_name</th>\n",
       "      <th>permit</th>\n",
       "      <th>construction_year</th>\n",
       "      <th>extraction_type</th>\n",
       "      <th>extraction_type_group</th>\n",
       "      <th>extraction_type_class</th>\n",
       "      <th>management</th>\n",
       "      <th>management_group</th>\n",
       "      <th>payment</th>\n",
       "      <th>payment_type</th>\n",
       "      <th>water_quality</th>\n",
       "      <th>quality_group</th>\n",
       "      <th>quantity</th>\n",
       "      <th>quantity_group</th>\n",
       "      <th>source</th>\n",
       "      <th>source_type</th>\n",
       "      <th>source_class</th>\n",
       "      <th>waterpoint_type</th>\n",
       "      <th>waterpoint_type_group</th>\n",
       "      <th>timestamp</th>\n",
       "      <th>region_district</th>\n",
       "    </tr>\n",
       "    <tr>\n",
       "      <th>id</th>\n",
       "      <th></th>\n",
       "      <th></th>\n",
       "      <th></th>\n",
       "      <th></th>\n",
       "      <th></th>\n",
       "      <th></th>\n",
       "      <th></th>\n",
       "      <th></th>\n",
       "      <th></th>\n",
       "      <th></th>\n",
       "      <th></th>\n",
       "      <th></th>\n",
       "      <th></th>\n",
       "      <th></th>\n",
       "      <th></th>\n",
       "      <th></th>\n",
       "      <th></th>\n",
       "      <th></th>\n",
       "      <th></th>\n",
       "      <th></th>\n",
       "      <th></th>\n",
       "      <th></th>\n",
       "      <th></th>\n",
       "      <th></th>\n",
       "      <th></th>\n",
       "      <th></th>\n",
       "      <th></th>\n",
       "      <th></th>\n",
       "      <th></th>\n",
       "      <th></th>\n",
       "      <th></th>\n",
       "      <th></th>\n",
       "      <th></th>\n",
       "      <th></th>\n",
       "      <th></th>\n",
       "      <th></th>\n",
       "      <th></th>\n",
       "    </tr>\n",
       "  </thead>\n",
       "  <tbody>\n",
       "    <tr>\n",
       "      <th>69572</th>\n",
       "      <td>6000.0</td>\n",
       "      <td>Roman</td>\n",
       "      <td>1390</td>\n",
       "      <td>Roman</td>\n",
       "      <td>34.938093</td>\n",
       "      <td>-9.856322</td>\n",
       "      <td>none</td>\n",
       "      <td>0</td>\n",
       "      <td>Lake Nyasa</td>\n",
       "      <td>Mnyusi B</td>\n",
       "      <td>Ludewa</td>\n",
       "      <td>Mundindi</td>\n",
       "      <td>109</td>\n",
       "      <td>True</td>\n",
       "      <td>GeoData Consultants Ltd</td>\n",
       "      <td>VWC</td>\n",
       "      <td>Roman</td>\n",
       "      <td>False</td>\n",
       "      <td>1999</td>\n",
       "      <td>gravity</td>\n",
       "      <td>gravity</td>\n",
       "      <td>gravity</td>\n",
       "      <td>vwc</td>\n",
       "      <td>user-group</td>\n",
       "      <td>pay annually</td>\n",
       "      <td>annually</td>\n",
       "      <td>soft</td>\n",
       "      <td>good</td>\n",
       "      <td>enough</td>\n",
       "      <td>enough</td>\n",
       "      <td>spring</td>\n",
       "      <td>spring</td>\n",
       "      <td>groundwater</td>\n",
       "      <td>communal standpipe</td>\n",
       "      <td>communal standpipe</td>\n",
       "      <td>1.300061</td>\n",
       "      <td>Iringa_5</td>\n",
       "    </tr>\n",
       "    <tr>\n",
       "      <th>8776</th>\n",
       "      <td>0.0</td>\n",
       "      <td>Grumeti</td>\n",
       "      <td>1399</td>\n",
       "      <td>GRUMETI</td>\n",
       "      <td>34.698766</td>\n",
       "      <td>-2.147466</td>\n",
       "      <td>Zahanati</td>\n",
       "      <td>0</td>\n",
       "      <td>Lake Victoria</td>\n",
       "      <td>Nyamara</td>\n",
       "      <td>Serengeti</td>\n",
       "      <td>Natta</td>\n",
       "      <td>280</td>\n",
       "      <td>NaN</td>\n",
       "      <td>GeoData Consultants Ltd</td>\n",
       "      <td>Other</td>\n",
       "      <td>NaN</td>\n",
       "      <td>True</td>\n",
       "      <td>2010</td>\n",
       "      <td>gravity</td>\n",
       "      <td>gravity</td>\n",
       "      <td>gravity</td>\n",
       "      <td>wug</td>\n",
       "      <td>user-group</td>\n",
       "      <td>never pay</td>\n",
       "      <td>never pay</td>\n",
       "      <td>soft</td>\n",
       "      <td>good</td>\n",
       "      <td>insufficient</td>\n",
       "      <td>insufficient</td>\n",
       "      <td>rainwater harvesting</td>\n",
       "      <td>rainwater harvesting</td>\n",
       "      <td>surface</td>\n",
       "      <td>communal standpipe</td>\n",
       "      <td>communal standpipe</td>\n",
       "      <td>1.362528</td>\n",
       "      <td>Mara_2</td>\n",
       "    </tr>\n",
       "    <tr>\n",
       "      <th>34310</th>\n",
       "      <td>25.0</td>\n",
       "      <td>Lottery Club</td>\n",
       "      <td>686</td>\n",
       "      <td>World vision</td>\n",
       "      <td>37.460664</td>\n",
       "      <td>-3.821329</td>\n",
       "      <td>Kwa Mahundi</td>\n",
       "      <td>0</td>\n",
       "      <td>Pangani</td>\n",
       "      <td>Majengo</td>\n",
       "      <td>Simanjiro</td>\n",
       "      <td>Ngorika</td>\n",
       "      <td>250</td>\n",
       "      <td>True</td>\n",
       "      <td>GeoData Consultants Ltd</td>\n",
       "      <td>VWC</td>\n",
       "      <td>Nyumba ya mungu pipe scheme</td>\n",
       "      <td>True</td>\n",
       "      <td>2009</td>\n",
       "      <td>gravity</td>\n",
       "      <td>gravity</td>\n",
       "      <td>gravity</td>\n",
       "      <td>vwc</td>\n",
       "      <td>user-group</td>\n",
       "      <td>pay per bucket</td>\n",
       "      <td>per bucket</td>\n",
       "      <td>soft</td>\n",
       "      <td>good</td>\n",
       "      <td>enough</td>\n",
       "      <td>enough</td>\n",
       "      <td>dam</td>\n",
       "      <td>dam</td>\n",
       "      <td>surface</td>\n",
       "      <td>communal standpipe multiple</td>\n",
       "      <td>communal standpipe</td>\n",
       "      <td>1.361750</td>\n",
       "      <td>Manyara_4</td>\n",
       "    </tr>\n",
       "    <tr>\n",
       "      <th>67743</th>\n",
       "      <td>0.0</td>\n",
       "      <td>Unicef</td>\n",
       "      <td>263</td>\n",
       "      <td>UNICEF</td>\n",
       "      <td>38.486161</td>\n",
       "      <td>-11.155298</td>\n",
       "      <td>Zahanati Ya Nanyumbu</td>\n",
       "      <td>0</td>\n",
       "      <td>Ruvuma / Southern Coast</td>\n",
       "      <td>Mahakamani</td>\n",
       "      <td>Nanyumbu</td>\n",
       "      <td>Nanyumbu</td>\n",
       "      <td>58</td>\n",
       "      <td>True</td>\n",
       "      <td>GeoData Consultants Ltd</td>\n",
       "      <td>VWC</td>\n",
       "      <td>NaN</td>\n",
       "      <td>True</td>\n",
       "      <td>1986</td>\n",
       "      <td>submersible</td>\n",
       "      <td>submersible</td>\n",
       "      <td>submersible</td>\n",
       "      <td>vwc</td>\n",
       "      <td>user-group</td>\n",
       "      <td>never pay</td>\n",
       "      <td>never pay</td>\n",
       "      <td>soft</td>\n",
       "      <td>good</td>\n",
       "      <td>dry</td>\n",
       "      <td>dry</td>\n",
       "      <td>machine dbh</td>\n",
       "      <td>borehole</td>\n",
       "      <td>groundwater</td>\n",
       "      <td>communal standpipe multiple</td>\n",
       "      <td>communal standpipe</td>\n",
       "      <td>1.359331</td>\n",
       "      <td>Mtwara_63</td>\n",
       "    </tr>\n",
       "    <tr>\n",
       "      <th>19728</th>\n",
       "      <td>0.0</td>\n",
       "      <td>Action In A</td>\n",
       "      <td>0</td>\n",
       "      <td>Artisan</td>\n",
       "      <td>31.130847</td>\n",
       "      <td>-1.825359</td>\n",
       "      <td>Shuleni</td>\n",
       "      <td>0</td>\n",
       "      <td>Lake Victoria</td>\n",
       "      <td>Kyanyamisa</td>\n",
       "      <td>Karagwe</td>\n",
       "      <td>Nyakasimbi</td>\n",
       "      <td>0</td>\n",
       "      <td>True</td>\n",
       "      <td>GeoData Consultants Ltd</td>\n",
       "      <td>NaN</td>\n",
       "      <td>NaN</td>\n",
       "      <td>True</td>\n",
       "      <td>0</td>\n",
       "      <td>gravity</td>\n",
       "      <td>gravity</td>\n",
       "      <td>gravity</td>\n",
       "      <td>other</td>\n",
       "      <td>other</td>\n",
       "      <td>never pay</td>\n",
       "      <td>never pay</td>\n",
       "      <td>soft</td>\n",
       "      <td>good</td>\n",
       "      <td>seasonal</td>\n",
       "      <td>seasonal</td>\n",
       "      <td>rainwater harvesting</td>\n",
       "      <td>rainwater harvesting</td>\n",
       "      <td>surface</td>\n",
       "      <td>communal standpipe</td>\n",
       "      <td>communal standpipe</td>\n",
       "      <td>1.310515</td>\n",
       "      <td>Kagera_1</td>\n",
       "    </tr>\n",
       "  </tbody>\n",
       "</table>\n",
       "</div>"
      ],
      "text/plain": [
       "       amount_tsh        funder  gps_height     installer  longitude  \\\n",
       "id                                                                     \n",
       "69572      6000.0         Roman        1390         Roman  34.938093   \n",
       "8776          0.0       Grumeti        1399       GRUMETI  34.698766   \n",
       "34310        25.0  Lottery Club         686  World vision  37.460664   \n",
       "67743         0.0        Unicef         263        UNICEF  38.486161   \n",
       "19728         0.0   Action In A           0       Artisan  31.130847   \n",
       "\n",
       "        latitude              wpt_name  num_private                    basin  \\\n",
       "id                                                                             \n",
       "69572  -9.856322                  none            0               Lake Nyasa   \n",
       "8776   -2.147466              Zahanati            0            Lake Victoria   \n",
       "34310  -3.821329           Kwa Mahundi            0                  Pangani   \n",
       "67743 -11.155298  Zahanati Ya Nanyumbu            0  Ruvuma / Southern Coast   \n",
       "19728  -1.825359               Shuleni            0            Lake Victoria   \n",
       "\n",
       "       subvillage        lga        ward  population public_meeting  \\\n",
       "id                                                                    \n",
       "69572    Mnyusi B     Ludewa    Mundindi         109           True   \n",
       "8776      Nyamara  Serengeti       Natta         280            NaN   \n",
       "34310     Majengo  Simanjiro     Ngorika         250           True   \n",
       "67743  Mahakamani   Nanyumbu    Nanyumbu          58           True   \n",
       "19728  Kyanyamisa    Karagwe  Nyakasimbi           0           True   \n",
       "\n",
       "                   recorded_by scheme_management                  scheme_name  \\\n",
       "id                                                                              \n",
       "69572  GeoData Consultants Ltd               VWC                        Roman   \n",
       "8776   GeoData Consultants Ltd             Other                          NaN   \n",
       "34310  GeoData Consultants Ltd               VWC  Nyumba ya mungu pipe scheme   \n",
       "67743  GeoData Consultants Ltd               VWC                          NaN   \n",
       "19728  GeoData Consultants Ltd               NaN                          NaN   \n",
       "\n",
       "      permit  construction_year extraction_type extraction_type_group  \\\n",
       "id                                                                      \n",
       "69572  False               1999         gravity               gravity   \n",
       "8776    True               2010         gravity               gravity   \n",
       "34310   True               2009         gravity               gravity   \n",
       "67743   True               1986     submersible           submersible   \n",
       "19728   True                  0         gravity               gravity   \n",
       "\n",
       "      extraction_type_class management management_group         payment  \\\n",
       "id                                                                        \n",
       "69572               gravity        vwc       user-group    pay annually   \n",
       "8776                gravity        wug       user-group       never pay   \n",
       "34310               gravity        vwc       user-group  pay per bucket   \n",
       "67743           submersible        vwc       user-group       never pay   \n",
       "19728               gravity      other            other       never pay   \n",
       "\n",
       "      payment_type water_quality quality_group      quantity quantity_group  \\\n",
       "id                                                                            \n",
       "69572     annually          soft          good        enough         enough   \n",
       "8776     never pay          soft          good  insufficient   insufficient   \n",
       "34310   per bucket          soft          good        enough         enough   \n",
       "67743    never pay          soft          good           dry            dry   \n",
       "19728    never pay          soft          good      seasonal       seasonal   \n",
       "\n",
       "                     source           source_type source_class  \\\n",
       "id                                                               \n",
       "69572                spring                spring  groundwater   \n",
       "8776   rainwater harvesting  rainwater harvesting      surface   \n",
       "34310                   dam                   dam      surface   \n",
       "67743           machine dbh              borehole  groundwater   \n",
       "19728  rainwater harvesting  rainwater harvesting      surface   \n",
       "\n",
       "                   waterpoint_type waterpoint_type_group  timestamp  \\\n",
       "id                                                                    \n",
       "69572           communal standpipe    communal standpipe   1.300061   \n",
       "8776            communal standpipe    communal standpipe   1.362528   \n",
       "34310  communal standpipe multiple    communal standpipe   1.361750   \n",
       "67743  communal standpipe multiple    communal standpipe   1.359331   \n",
       "19728           communal standpipe    communal standpipe   1.310515   \n",
       "\n",
       "      region_district  \n",
       "id                     \n",
       "69572        Iringa_5  \n",
       "8776           Mara_2  \n",
       "34310       Manyara_4  \n",
       "67743       Mtwara_63  \n",
       "19728        Kagera_1  "
      ]
     },
     "execution_count": 7,
     "metadata": {},
     "output_type": "execute_result"
    }
   ],
   "source": [
    "df['timestamp'] = df.date_recorded.apply(lambda d: d.timestamp()/ 10 ** 9)\n",
    "df_ = df.drop(['date_recorded', 'region_code', 'district_code', 'region'], inplace = False, axis=1)\n",
    "#df_ = df.drop(['date_recorded', 'district_code', 'region'], inplace = False, axis=1)\n",
    "df_['region_district'] = df.apply(lambda row: f'{row.region}_{row.district_code}' , axis=1)\n",
    "# df_ = df_.apply(lambda x: x.astype(str).str.lower())\n",
    "train_input_columns = list(df_.columns)\n",
    "train_numeric_columns = df_.select_dtypes(exclude=['object']).columns\n",
    "df_.head()"
   ]
  },
  {
   "cell_type": "code",
   "execution_count": 8,
   "metadata": {
    "ExecuteTime": {
     "end_time": "2019-02-12T21:00:25.869959Z",
     "start_time": "2019-02-12T21:00:25.861599Z"
    }
   },
   "outputs": [
    {
     "data": {
      "text/plain": [
       "(59400, 37)"
      ]
     },
     "execution_count": 8,
     "metadata": {},
     "output_type": "execute_result"
    }
   ],
   "source": [
    "df_.shape"
   ]
  },
  {
   "cell_type": "code",
   "execution_count": 9,
   "metadata": {
    "ExecuteTime": {
     "end_time": "2019-02-12T21:00:28.322126Z",
     "start_time": "2019-02-12T21:00:28.320332Z"
    }
   },
   "outputs": [],
   "source": [
    "dc = 'status_group'"
   ]
  },
  {
   "cell_type": "code",
   "execution_count": 10,
   "metadata": {
    "ExecuteTime": {
     "end_time": "2019-02-12T21:00:29.338236Z",
     "start_time": "2019-02-12T21:00:29.319348Z"
    }
   },
   "outputs": [],
   "source": [
    "yurl = 'unit-3/train_labels.csv'\n",
    "dfy = pd.read_csv(yurl, index_col='id' )\n",
    "dfy.shape\n",
    "y = dfy[dc]"
   ]
  },
  {
   "cell_type": "code",
   "execution_count": 11,
   "metadata": {
    "ExecuteTime": {
     "end_time": "2019-02-12T21:00:30.814812Z",
     "start_time": "2019-02-12T21:00:30.809988Z"
    }
   },
   "outputs": [
    {
     "data": {
      "text/plain": [
       "(59400,)"
      ]
     },
     "execution_count": 11,
     "metadata": {},
     "output_type": "execute_result"
    }
   ],
   "source": [
    "y.shape"
   ]
  },
  {
   "cell_type": "code",
   "execution_count": 12,
   "metadata": {
    "ExecuteTime": {
     "end_time": "2019-02-12T21:00:31.635399Z",
     "start_time": "2019-02-12T21:00:31.601739Z"
    }
   },
   "outputs": [
    {
     "data": {
      "text/plain": [
       "Index(['funder', 'installer', 'wpt_name', 'basin', 'subvillage', 'lga', 'ward',\n",
       "       'public_meeting', 'recorded_by', 'scheme_management', 'scheme_name',\n",
       "       'permit', 'extraction_type', 'extraction_type_group',\n",
       "       'extraction_type_class', 'management', 'management_group', 'payment',\n",
       "       'payment_type', 'water_quality', 'quality_group', 'quantity',\n",
       "       'quantity_group', 'source', 'source_type', 'source_class',\n",
       "       'waterpoint_type', 'waterpoint_type_group', 'region_district'],\n",
       "      dtype='object')"
      ]
     },
     "execution_count": 12,
     "metadata": {},
     "output_type": "execute_result"
    }
   ],
   "source": [
    "oc = df_.select_dtypes(include=['object']).columns\n",
    "oc"
   ]
  },
  {
   "cell_type": "code",
   "execution_count": 13,
   "metadata": {
    "ExecuteTime": {
     "end_time": "2019-02-12T21:00:33.700184Z",
     "start_time": "2019-02-12T21:00:33.595740Z"
    }
   },
   "outputs": [
    {
     "name": "stdout",
     "output_type": "stream",
     "text": [
      "1898 funder\n",
      "2146 installer\n",
      "37400 wpt_name\n",
      "19288 subvillage\n",
      "2092 ward\n",
      "2697 scheme_name\n",
      "132 region_district\n"
     ]
    }
   ],
   "source": [
    "hot = []\n",
    "binary = []\n",
    "for o in oc:\n",
    "    if df_[o].unique().shape[0] > 127:\n",
    "        print(df_[o].unique().shape[0], o)\n",
    "        binary.append(o)\n",
    "    else:\n",
    "        hot.append(o)"
   ]
  },
  {
   "cell_type": "code",
   "execution_count": 14,
   "metadata": {
    "ExecuteTime": {
     "end_time": "2019-02-12T21:00:36.708274Z",
     "start_time": "2019-02-12T21:00:36.174620Z"
    }
   },
   "outputs": [
    {
     "data": {
      "text/html": [
       "<div>\n",
       "<style scoped>\n",
       "    .dataframe tbody tr th:only-of-type {\n",
       "        vertical-align: middle;\n",
       "    }\n",
       "\n",
       "    .dataframe tbody tr th {\n",
       "        vertical-align: top;\n",
       "    }\n",
       "\n",
       "    .dataframe thead th {\n",
       "        text-align: right;\n",
       "    }\n",
       "</style>\n",
       "<table border=\"1\" class=\"dataframe\">\n",
       "  <thead>\n",
       "    <tr style=\"text-align: right;\">\n",
       "      <th></th>\n",
       "      <th>amount_tsh</th>\n",
       "      <th>funder</th>\n",
       "      <th>gps_height</th>\n",
       "      <th>installer</th>\n",
       "      <th>longitude</th>\n",
       "      <th>latitude</th>\n",
       "      <th>wpt_name</th>\n",
       "      <th>num_private</th>\n",
       "      <th>basin</th>\n",
       "      <th>subvillage</th>\n",
       "      <th>lga</th>\n",
       "      <th>ward</th>\n",
       "      <th>population</th>\n",
       "      <th>public_meeting</th>\n",
       "      <th>recorded_by</th>\n",
       "      <th>scheme_management</th>\n",
       "      <th>scheme_name</th>\n",
       "      <th>permit</th>\n",
       "      <th>construction_year</th>\n",
       "      <th>extraction_type</th>\n",
       "      <th>extraction_type_group</th>\n",
       "      <th>extraction_type_class</th>\n",
       "      <th>management</th>\n",
       "      <th>management_group</th>\n",
       "      <th>payment</th>\n",
       "      <th>payment_type</th>\n",
       "      <th>water_quality</th>\n",
       "      <th>quality_group</th>\n",
       "      <th>quantity</th>\n",
       "      <th>quantity_group</th>\n",
       "      <th>source</th>\n",
       "      <th>source_type</th>\n",
       "      <th>source_class</th>\n",
       "      <th>waterpoint_type</th>\n",
       "      <th>waterpoint_type_group</th>\n",
       "      <th>timestamp</th>\n",
       "      <th>region_district</th>\n",
       "    </tr>\n",
       "    <tr>\n",
       "      <th>id</th>\n",
       "      <th></th>\n",
       "      <th></th>\n",
       "      <th></th>\n",
       "      <th></th>\n",
       "      <th></th>\n",
       "      <th></th>\n",
       "      <th></th>\n",
       "      <th></th>\n",
       "      <th></th>\n",
       "      <th></th>\n",
       "      <th></th>\n",
       "      <th></th>\n",
       "      <th></th>\n",
       "      <th></th>\n",
       "      <th></th>\n",
       "      <th></th>\n",
       "      <th></th>\n",
       "      <th></th>\n",
       "      <th></th>\n",
       "      <th></th>\n",
       "      <th></th>\n",
       "      <th></th>\n",
       "      <th></th>\n",
       "      <th></th>\n",
       "      <th></th>\n",
       "      <th></th>\n",
       "      <th></th>\n",
       "      <th></th>\n",
       "      <th></th>\n",
       "      <th></th>\n",
       "      <th></th>\n",
       "      <th></th>\n",
       "      <th></th>\n",
       "      <th></th>\n",
       "      <th></th>\n",
       "      <th></th>\n",
       "      <th></th>\n",
       "    </tr>\n",
       "  </thead>\n",
       "  <tbody>\n",
       "    <tr>\n",
       "      <th>50785</th>\n",
       "      <td>0.0</td>\n",
       "      <td>Dmdd</td>\n",
       "      <td>1996</td>\n",
       "      <td>DMDD</td>\n",
       "      <td>35.290799</td>\n",
       "      <td>-4.059696</td>\n",
       "      <td>Dinamu Secondary School</td>\n",
       "      <td>0</td>\n",
       "      <td>Internal</td>\n",
       "      <td>Magoma</td>\n",
       "      <td>Mbulu</td>\n",
       "      <td>Bashay</td>\n",
       "      <td>321</td>\n",
       "      <td>True</td>\n",
       "      <td>GeoData Consultants Ltd</td>\n",
       "      <td>Parastatal</td>\n",
       "      <td>NaN</td>\n",
       "      <td>True</td>\n",
       "      <td>2012</td>\n",
       "      <td>other</td>\n",
       "      <td>other</td>\n",
       "      <td>other</td>\n",
       "      <td>parastatal</td>\n",
       "      <td>parastatal</td>\n",
       "      <td>never pay</td>\n",
       "      <td>never pay</td>\n",
       "      <td>soft</td>\n",
       "      <td>good</td>\n",
       "      <td>seasonal</td>\n",
       "      <td>seasonal</td>\n",
       "      <td>rainwater harvesting</td>\n",
       "      <td>rainwater harvesting</td>\n",
       "      <td>surface</td>\n",
       "      <td>other</td>\n",
       "      <td>other</td>\n",
       "      <td>1.359936</td>\n",
       "      <td>Manyara_3</td>\n",
       "    </tr>\n",
       "    <tr>\n",
       "      <th>51630</th>\n",
       "      <td>0.0</td>\n",
       "      <td>Government Of Tanzania</td>\n",
       "      <td>1569</td>\n",
       "      <td>DWE</td>\n",
       "      <td>36.656709</td>\n",
       "      <td>-3.309214</td>\n",
       "      <td>Kimnyak</td>\n",
       "      <td>0</td>\n",
       "      <td>Pangani</td>\n",
       "      <td>Kimnyak</td>\n",
       "      <td>Arusha Rural</td>\n",
       "      <td>Kimnyaki</td>\n",
       "      <td>300</td>\n",
       "      <td>True</td>\n",
       "      <td>GeoData Consultants Ltd</td>\n",
       "      <td>VWC</td>\n",
       "      <td>TPRI pipe line</td>\n",
       "      <td>True</td>\n",
       "      <td>2000</td>\n",
       "      <td>gravity</td>\n",
       "      <td>gravity</td>\n",
       "      <td>gravity</td>\n",
       "      <td>vwc</td>\n",
       "      <td>user-group</td>\n",
       "      <td>never pay</td>\n",
       "      <td>never pay</td>\n",
       "      <td>soft</td>\n",
       "      <td>good</td>\n",
       "      <td>insufficient</td>\n",
       "      <td>insufficient</td>\n",
       "      <td>spring</td>\n",
       "      <td>spring</td>\n",
       "      <td>groundwater</td>\n",
       "      <td>communal standpipe</td>\n",
       "      <td>communal standpipe</td>\n",
       "      <td>1.359936</td>\n",
       "      <td>Arusha_2</td>\n",
       "    </tr>\n",
       "    <tr>\n",
       "      <th>17168</th>\n",
       "      <td>0.0</td>\n",
       "      <td>NaN</td>\n",
       "      <td>1567</td>\n",
       "      <td>NaN</td>\n",
       "      <td>34.767863</td>\n",
       "      <td>-5.004344</td>\n",
       "      <td>Puma Secondary</td>\n",
       "      <td>0</td>\n",
       "      <td>Internal</td>\n",
       "      <td>Msatu</td>\n",
       "      <td>Singida Rural</td>\n",
       "      <td>Puma</td>\n",
       "      <td>500</td>\n",
       "      <td>True</td>\n",
       "      <td>GeoData Consultants Ltd</td>\n",
       "      <td>VWC</td>\n",
       "      <td>P</td>\n",
       "      <td>NaN</td>\n",
       "      <td>2010</td>\n",
       "      <td>other</td>\n",
       "      <td>other</td>\n",
       "      <td>other</td>\n",
       "      <td>vwc</td>\n",
       "      <td>user-group</td>\n",
       "      <td>never pay</td>\n",
       "      <td>never pay</td>\n",
       "      <td>soft</td>\n",
       "      <td>good</td>\n",
       "      <td>insufficient</td>\n",
       "      <td>insufficient</td>\n",
       "      <td>rainwater harvesting</td>\n",
       "      <td>rainwater harvesting</td>\n",
       "      <td>surface</td>\n",
       "      <td>other</td>\n",
       "      <td>other</td>\n",
       "      <td>1.359677</td>\n",
       "      <td>Singida_2</td>\n",
       "    </tr>\n",
       "    <tr>\n",
       "      <th>45559</th>\n",
       "      <td>0.0</td>\n",
       "      <td>Finn Water</td>\n",
       "      <td>267</td>\n",
       "      <td>FINN WATER</td>\n",
       "      <td>38.058046</td>\n",
       "      <td>-9.418672</td>\n",
       "      <td>Kwa Mzee Pange</td>\n",
       "      <td>0</td>\n",
       "      <td>Ruvuma / Southern Coast</td>\n",
       "      <td>Kipindimbi</td>\n",
       "      <td>Liwale</td>\n",
       "      <td>Mkutano</td>\n",
       "      <td>250</td>\n",
       "      <td>NaN</td>\n",
       "      <td>GeoData Consultants Ltd</td>\n",
       "      <td>VWC</td>\n",
       "      <td>NaN</td>\n",
       "      <td>True</td>\n",
       "      <td>1987</td>\n",
       "      <td>other</td>\n",
       "      <td>other</td>\n",
       "      <td>other</td>\n",
       "      <td>vwc</td>\n",
       "      <td>user-group</td>\n",
       "      <td>unknown</td>\n",
       "      <td>unknown</td>\n",
       "      <td>soft</td>\n",
       "      <td>good</td>\n",
       "      <td>dry</td>\n",
       "      <td>dry</td>\n",
       "      <td>shallow well</td>\n",
       "      <td>shallow well</td>\n",
       "      <td>groundwater</td>\n",
       "      <td>other</td>\n",
       "      <td>other</td>\n",
       "      <td>1.358813</td>\n",
       "      <td>Lindi_43</td>\n",
       "    </tr>\n",
       "    <tr>\n",
       "      <th>49871</th>\n",
       "      <td>500.0</td>\n",
       "      <td>Bruder</td>\n",
       "      <td>1260</td>\n",
       "      <td>BRUDER</td>\n",
       "      <td>35.006123</td>\n",
       "      <td>-10.950412</td>\n",
       "      <td>Kwa Mzee Turuka</td>\n",
       "      <td>0</td>\n",
       "      <td>Ruvuma / Southern Coast</td>\n",
       "      <td>Losonga</td>\n",
       "      <td>Mbinga</td>\n",
       "      <td>Mbinga Urban</td>\n",
       "      <td>60</td>\n",
       "      <td>NaN</td>\n",
       "      <td>GeoData Consultants Ltd</td>\n",
       "      <td>Water Board</td>\n",
       "      <td>BRUDER</td>\n",
       "      <td>True</td>\n",
       "      <td>2000</td>\n",
       "      <td>gravity</td>\n",
       "      <td>gravity</td>\n",
       "      <td>gravity</td>\n",
       "      <td>water board</td>\n",
       "      <td>user-group</td>\n",
       "      <td>pay monthly</td>\n",
       "      <td>monthly</td>\n",
       "      <td>soft</td>\n",
       "      <td>good</td>\n",
       "      <td>enough</td>\n",
       "      <td>enough</td>\n",
       "      <td>spring</td>\n",
       "      <td>spring</td>\n",
       "      <td>groundwater</td>\n",
       "      <td>communal standpipe</td>\n",
       "      <td>communal standpipe</td>\n",
       "      <td>1.364342</td>\n",
       "      <td>Ruvuma_3</td>\n",
       "    </tr>\n",
       "  </tbody>\n",
       "</table>\n",
       "</div>"
      ],
      "text/plain": [
       "       amount_tsh                  funder  gps_height   installer  longitude  \\\n",
       "id                                                                             \n",
       "50785         0.0                    Dmdd        1996        DMDD  35.290799   \n",
       "51630         0.0  Government Of Tanzania        1569         DWE  36.656709   \n",
       "17168         0.0                     NaN        1567         NaN  34.767863   \n",
       "45559         0.0              Finn Water         267  FINN WATER  38.058046   \n",
       "49871       500.0                  Bruder        1260      BRUDER  35.006123   \n",
       "\n",
       "        latitude                 wpt_name  num_private  \\\n",
       "id                                                       \n",
       "50785  -4.059696  Dinamu Secondary School            0   \n",
       "51630  -3.309214                  Kimnyak            0   \n",
       "17168  -5.004344           Puma Secondary            0   \n",
       "45559  -9.418672           Kwa Mzee Pange            0   \n",
       "49871 -10.950412          Kwa Mzee Turuka            0   \n",
       "\n",
       "                         basin  subvillage            lga          ward  \\\n",
       "id                                                                        \n",
       "50785                 Internal      Magoma          Mbulu        Bashay   \n",
       "51630                  Pangani     Kimnyak   Arusha Rural      Kimnyaki   \n",
       "17168                 Internal       Msatu  Singida Rural          Puma   \n",
       "45559  Ruvuma / Southern Coast  Kipindimbi         Liwale       Mkutano   \n",
       "49871  Ruvuma / Southern Coast     Losonga         Mbinga  Mbinga Urban   \n",
       "\n",
       "       population public_meeting              recorded_by scheme_management  \\\n",
       "id                                                                            \n",
       "50785         321           True  GeoData Consultants Ltd        Parastatal   \n",
       "51630         300           True  GeoData Consultants Ltd               VWC   \n",
       "17168         500           True  GeoData Consultants Ltd               VWC   \n",
       "45559         250            NaN  GeoData Consultants Ltd               VWC   \n",
       "49871          60            NaN  GeoData Consultants Ltd       Water Board   \n",
       "\n",
       "          scheme_name permit  construction_year extraction_type  \\\n",
       "id                                                                \n",
       "50785             NaN   True               2012           other   \n",
       "51630  TPRI pipe line   True               2000         gravity   \n",
       "17168               P    NaN               2010           other   \n",
       "45559             NaN   True               1987           other   \n",
       "49871          BRUDER   True               2000         gravity   \n",
       "\n",
       "      extraction_type_group extraction_type_class   management  \\\n",
       "id                                                               \n",
       "50785                 other                 other   parastatal   \n",
       "51630               gravity               gravity          vwc   \n",
       "17168                 other                 other          vwc   \n",
       "45559                 other                 other          vwc   \n",
       "49871               gravity               gravity  water board   \n",
       "\n",
       "      management_group      payment payment_type water_quality quality_group  \\\n",
       "id                                                                             \n",
       "50785       parastatal    never pay    never pay          soft          good   \n",
       "51630       user-group    never pay    never pay          soft          good   \n",
       "17168       user-group    never pay    never pay          soft          good   \n",
       "45559       user-group      unknown      unknown          soft          good   \n",
       "49871       user-group  pay monthly      monthly          soft          good   \n",
       "\n",
       "           quantity quantity_group                source  \\\n",
       "id                                                         \n",
       "50785      seasonal       seasonal  rainwater harvesting   \n",
       "51630  insufficient   insufficient                spring   \n",
       "17168  insufficient   insufficient  rainwater harvesting   \n",
       "45559           dry            dry          shallow well   \n",
       "49871        enough         enough                spring   \n",
       "\n",
       "                source_type source_class     waterpoint_type  \\\n",
       "id                                                             \n",
       "50785  rainwater harvesting      surface               other   \n",
       "51630                spring  groundwater  communal standpipe   \n",
       "17168  rainwater harvesting      surface               other   \n",
       "45559          shallow well  groundwater               other   \n",
       "49871                spring  groundwater  communal standpipe   \n",
       "\n",
       "      waterpoint_type_group  timestamp region_district  \n",
       "id                                                      \n",
       "50785                 other   1.359936       Manyara_3  \n",
       "51630    communal standpipe   1.359936        Arusha_2  \n",
       "17168                 other   1.359677       Singida_2  \n",
       "45559                 other   1.358813        Lindi_43  \n",
       "49871    communal standpipe   1.364342        Ruvuma_3  "
      ]
     },
     "execution_count": 14,
     "metadata": {},
     "output_type": "execute_result"
    }
   ],
   "source": [
    "test_url = \"unit-3/test_features.csv\"\n",
    "df = pd.read_csv(test_url, parse_dates=['date_recorded'],index_col='id' )\n",
    "df['timestamp'] = df.date_recorded.apply(lambda d: d.timestamp()/ 10 ** 9)\n",
    "dft = df.drop(['date_recorded', 'region_code', 'district_code', 'region'], inplace = False, axis=1)\n",
    "# dft = df.drop(['date_recorded', 'district_code', 'region'], inplace = False, axis=1)\n",
    "dft['region_district'] = df.apply(lambda row: f'{row.region}_{row.district_code}' , axis=1)\n",
    "# dft = dft.apply(lambda x: x.astype(str).str.lower())\n",
    "test_input_columns = list(dft.columns)\n",
    "# dft[dc] = ['fuctional'] * dft.shape[0]\n",
    "dft.head()"
   ]
  },
  {
   "cell_type": "code",
   "execution_count": 15,
   "metadata": {
    "ExecuteTime": {
     "end_time": "2019-02-12T21:00:37.808036Z",
     "start_time": "2019-02-12T21:00:37.802708Z"
    }
   },
   "outputs": [],
   "source": [
    "def regex_filter(val, regex):\n",
    "    #print(val,regex)\n",
    "    if str(type(val)) == \"<class 'str'>\":\n",
    "        mo = re.search(regex,val)\n",
    "        if mo:\n",
    "            return True\n",
    "        else:\n",
    "            return False\n",
    "    else:\n",
    "        return False\n",
    "def equal_filter(val, match):\n",
    "    if str(type(val)) == \"<class 'str'>\":\n",
    "        return val == match\n",
    "    else:\n",
    "        return False    "
   ]
  },
  {
   "cell_type": "code",
   "execution_count": 16,
   "metadata": {
    "ExecuteTime": {
     "end_time": "2019-02-12T21:00:41.076789Z",
     "start_time": "2019-02-12T21:00:41.074700Z"
    }
   },
   "outputs": [],
   "source": [
    "from IPython.core.interactiveshell import InteractiveShell\n",
    "InteractiveShell.ast_node_interactivity = \"all\"\n"
   ]
  },
  {
   "cell_type": "code",
   "execution_count": 17,
   "metadata": {
    "ExecuteTime": {
     "end_time": "2019-02-12T21:00:44.567862Z",
     "start_time": "2019-02-12T21:00:44.506291Z"
    }
   },
   "outputs": [
    {
     "data": {
      "text/plain": [
       "array(['Government Of Tanzania', 'Government/ World Bank', 'Go',\n",
       "       'Government/ Community', 'Government /tassaf', 'Goldfinder',\n",
       "       'Government/tassaf', 'Government/julius'], dtype=object)"
      ]
     },
     "execution_count": 17,
     "metadata": {},
     "output_type": "execute_result"
    },
    {
     "data": {
      "text/plain": [
       "array(['Tasaf', 'Tz Japan', 'Tanza', 'Tardo',\n",
       "       'Tanzania And Egypt Cooperat', 'Tassaf', 'Tanap', 'Tanapa',\n",
       "       'Tabora Municipal Council', 'Tado', 'Tacare', 'Tadepa', 'Ta',\n",
       "       'Tanzakesho', 'Tassaf/ Danida', 'Tassaf Ii', 'Tag Church Vi',\n",
       "       'Tambalizeni', 'Tassaf I', 'Tasaf/dmdd', 'Tanroad', 'Tasafu',\n",
       "       'Tahea', 'Tasaf/village Community', 'Tackle', 'Tag',\n",
       "       'Tanzania/australia', 'Tanzania Na Egypt', 'Tanzania',\n",
       "       'Tanzania Nea Egypt', 'Tanzania Christian Service', 'Tasmin',\n",
       "       'Tz/japan Embass'], dtype=object)"
      ]
     },
     "execution_count": 17,
     "metadata": {},
     "output_type": "execute_result"
    }
   ],
   "source": [
    "dft[dft.funder.apply(lambda f : regex_filter(f,  \"^G[o,v]\"))].funder.unique()\n",
    "dft[dft.funder.apply(lambda f : regex_filter(f,  \"^T[a,z]\"))].funder.unique()"
   ]
  },
  {
   "cell_type": "code",
   "execution_count": 18,
   "metadata": {
    "ExecuteTime": {
     "end_time": "2019-02-12T21:00:47.671675Z",
     "start_time": "2019-02-12T21:00:47.499735Z"
    }
   },
   "outputs": [
    {
     "data": {
      "text/plain": [
       "array(['Government Of Tanzania', 'Go', 'Government/ Community',\n",
       "       'Government /tassaf', 'Government/ World Bank', 'Government',\n",
       "       'Government /sda', 'Godii', 'Government And Community',\n",
       "       'Government Of Misri', 'Goldwill Foundation', 'Government/tassaf',\n",
       "       'Government/school', 'Government/tcrs', 'Government /world Vision',\n",
       "       'Goldmain'], dtype=object)"
      ]
     },
     "execution_count": 18,
     "metadata": {},
     "output_type": "execute_result"
    },
    {
     "data": {
      "text/plain": [
       "array(['Tasaf', 'Tanza', 'Tassaf', 'Tardo', 'Ta', 'Tado', 'Tanzania',\n",
       "       'Tabora Municipal Council', 'Tasaf And Lga', 'Tasaf Ii', 'Tanesco',\n",
       "       'Tz Japan', 'Tasae', 'Taboma', 'Tacare', 'Tassaf I', 'Tasafu',\n",
       "       'Tag', 'Tanapa', 'Tanzakesho', 'Tasaf/dmdd', 'Tahea',\n",
       "       'Tanz Egypt Technical Cooper', 'Tanroad', 'Taasaf', 'Tabraki',\n",
       "       'Tanap', 'Tanzania Compasion', 'Tag Church Ub', 'Tacri',\n",
       "       'Tag Church', 'Taes', 'Tassaf Ii', 'Tansi',\n",
       "       'Tanzania Egypt Technical Co Op', 'Tasf', 'Tareto', 'Tasad',\n",
       "       'Tanzaling', 'Tassaf/ Danida', 'Tajiri Jumbe Lila',\n",
       "       'Tasaf And Mmem', 'Tasaf 1', 'Tasef', \"Tag Patmo's\",\n",
       "       'Tanz/egypt Technical  Co-op', 'Tanedaps Society',\n",
       "       'Tanzania Journey', 'Tadepa', 'Tancro', 'Taipo', 'Tabea', 'Tadeo',\n",
       "       'Tanzania /egypt', 'Taees', 'Tancan', 'Tasaf/tlc',\n",
       "       'Tarangire Park', 'Tanga Cement', 'Tanload', 'Tasa', 'Tz As'],\n",
       "      dtype=object)"
      ]
     },
     "execution_count": 18,
     "metadata": {},
     "output_type": "execute_result"
    }
   ],
   "source": [
    "df_[df_.funder.apply(lambda f : regex_filter(f, \"^G[o,v]\"))].funder.unique()\n",
    "df_[df_.funder.apply(lambda f : regex_filter(f,  \"^T[a,z]\"))].funder.unique()"
   ]
  },
  {
   "cell_type": "code",
   "execution_count": 19,
   "metadata": {
    "ExecuteTime": {
     "end_time": "2019-02-12T21:00:49.497294Z",
     "start_time": "2019-02-12T21:00:49.458857Z"
    }
   },
   "outputs": [
    {
     "data": {
      "text/html": [
       "<div>\n",
       "<style scoped>\n",
       "    .dataframe tbody tr th:only-of-type {\n",
       "        vertical-align: middle;\n",
       "    }\n",
       "\n",
       "    .dataframe tbody tr th {\n",
       "        vertical-align: top;\n",
       "    }\n",
       "\n",
       "    .dataframe thead th {\n",
       "        text-align: right;\n",
       "    }\n",
       "</style>\n",
       "<table border=\"1\" class=\"dataframe\">\n",
       "  <thead>\n",
       "    <tr style=\"text-align: right;\">\n",
       "      <th></th>\n",
       "      <th>amount_tsh</th>\n",
       "      <th>funder</th>\n",
       "      <th>gps_height</th>\n",
       "      <th>installer</th>\n",
       "      <th>longitude</th>\n",
       "      <th>latitude</th>\n",
       "      <th>wpt_name</th>\n",
       "      <th>num_private</th>\n",
       "      <th>basin</th>\n",
       "      <th>subvillage</th>\n",
       "      <th>lga</th>\n",
       "      <th>ward</th>\n",
       "      <th>population</th>\n",
       "      <th>public_meeting</th>\n",
       "      <th>recorded_by</th>\n",
       "      <th>scheme_management</th>\n",
       "      <th>scheme_name</th>\n",
       "      <th>permit</th>\n",
       "      <th>construction_year</th>\n",
       "      <th>extraction_type</th>\n",
       "      <th>extraction_type_group</th>\n",
       "      <th>extraction_type_class</th>\n",
       "      <th>management</th>\n",
       "      <th>management_group</th>\n",
       "      <th>payment</th>\n",
       "      <th>payment_type</th>\n",
       "      <th>water_quality</th>\n",
       "      <th>quality_group</th>\n",
       "      <th>quantity</th>\n",
       "      <th>quantity_group</th>\n",
       "      <th>source</th>\n",
       "      <th>source_type</th>\n",
       "      <th>source_class</th>\n",
       "      <th>waterpoint_type</th>\n",
       "      <th>waterpoint_type_group</th>\n",
       "      <th>timestamp</th>\n",
       "      <th>region_district</th>\n",
       "    </tr>\n",
       "    <tr>\n",
       "      <th>id</th>\n",
       "      <th></th>\n",
       "      <th></th>\n",
       "      <th></th>\n",
       "      <th></th>\n",
       "      <th></th>\n",
       "      <th></th>\n",
       "      <th></th>\n",
       "      <th></th>\n",
       "      <th></th>\n",
       "      <th></th>\n",
       "      <th></th>\n",
       "      <th></th>\n",
       "      <th></th>\n",
       "      <th></th>\n",
       "      <th></th>\n",
       "      <th></th>\n",
       "      <th></th>\n",
       "      <th></th>\n",
       "      <th></th>\n",
       "      <th></th>\n",
       "      <th></th>\n",
       "      <th></th>\n",
       "      <th></th>\n",
       "      <th></th>\n",
       "      <th></th>\n",
       "      <th></th>\n",
       "      <th></th>\n",
       "      <th></th>\n",
       "      <th></th>\n",
       "      <th></th>\n",
       "      <th></th>\n",
       "      <th></th>\n",
       "      <th></th>\n",
       "      <th></th>\n",
       "      <th></th>\n",
       "      <th></th>\n",
       "      <th></th>\n",
       "    </tr>\n",
       "  </thead>\n",
       "  <tbody>\n",
       "    <tr>\n",
       "      <th>43366</th>\n",
       "      <td>0.0</td>\n",
       "      <td>Government/julius</td>\n",
       "      <td>1499</td>\n",
       "      <td>Government</td>\n",
       "      <td>37.960115</td>\n",
       "      <td>-4.443879</td>\n",
       "      <td>Kwa Julius</td>\n",
       "      <td>0</td>\n",
       "      <td>Pangani</td>\n",
       "      <td>Msasa</td>\n",
       "      <td>Same</td>\n",
       "      <td>Kirangare</td>\n",
       "      <td>50</td>\n",
       "      <td>True</td>\n",
       "      <td>GeoData Consultants Ltd</td>\n",
       "      <td>Water authority</td>\n",
       "      <td>Kilotweni water supply</td>\n",
       "      <td>True</td>\n",
       "      <td>2010</td>\n",
       "      <td>gravity</td>\n",
       "      <td>gravity</td>\n",
       "      <td>gravity</td>\n",
       "      <td>vwc</td>\n",
       "      <td>user-group</td>\n",
       "      <td>never pay</td>\n",
       "      <td>never pay</td>\n",
       "      <td>soft</td>\n",
       "      <td>good</td>\n",
       "      <td>insufficient</td>\n",
       "      <td>insufficient</td>\n",
       "      <td>spring</td>\n",
       "      <td>spring</td>\n",
       "      <td>groundwater</td>\n",
       "      <td>communal standpipe</td>\n",
       "      <td>communal standpipe</td>\n",
       "      <td>1.363738</td>\n",
       "      <td>Kilimanjaro_3</td>\n",
       "    </tr>\n",
       "  </tbody>\n",
       "</table>\n",
       "</div>"
      ],
      "text/plain": [
       "       amount_tsh             funder  gps_height   installer  longitude  \\\n",
       "id                                                                        \n",
       "43366         0.0  Government/julius        1499  Government  37.960115   \n",
       "\n",
       "       latitude    wpt_name  num_private    basin subvillage   lga       ward  \\\n",
       "id                                                                              \n",
       "43366 -4.443879  Kwa Julius            0  Pangani      Msasa  Same  Kirangare   \n",
       "\n",
       "       population public_meeting              recorded_by scheme_management  \\\n",
       "id                                                                            \n",
       "43366          50           True  GeoData Consultants Ltd   Water authority   \n",
       "\n",
       "                  scheme_name permit  construction_year extraction_type  \\\n",
       "id                                                                        \n",
       "43366  Kilotweni water supply   True               2010         gravity   \n",
       "\n",
       "      extraction_type_group extraction_type_class management management_group  \\\n",
       "id                                                                              \n",
       "43366               gravity               gravity        vwc       user-group   \n",
       "\n",
       "         payment payment_type water_quality quality_group      quantity  \\\n",
       "id                                                                        \n",
       "43366  never pay    never pay          soft          good  insufficient   \n",
       "\n",
       "      quantity_group  source source_type source_class     waterpoint_type  \\\n",
       "id                                                                          \n",
       "43366   insufficient  spring      spring  groundwater  communal standpipe   \n",
       "\n",
       "      waterpoint_type_group  timestamp region_district  \n",
       "id                                                      \n",
       "43366    communal standpipe   1.363738   Kilimanjaro_3  "
      ]
     },
     "execution_count": 19,
     "metadata": {},
     "output_type": "execute_result"
    }
   ],
   "source": [
    "dft[dft.funder.apply(lambda f : regex_filter(f,  \"julius\"))][0:5]"
   ]
  },
  {
   "cell_type": "code",
   "execution_count": 20,
   "metadata": {
    "ExecuteTime": {
     "end_time": "2019-02-12T21:00:52.048340Z",
     "start_time": "2019-02-12T21:00:51.770519Z"
    }
   },
   "outputs": [],
   "source": [
    "replacements = [\n",
    "    ('Go', 'Government Of Tanzania'),\n",
    "    ('Government', 'Government Of Tanzania'),\n",
    "    ('Government/tassaf', 'Government /tassaf'),\n",
    "    ('Government And Communty', 'Government/ community'),\n",
    "    ('Tanzania', 'Government Of Tanzania'),\n",
    "    ('Government/julius', 'Government Of Tanzania')\n",
    "]\n",
    "\n",
    "for r in replacements:\n",
    "    df_.loc[lambda d: d['funder'].apply(lambda f : equal_filter(f, r[0])), ['funder']] = r[1]\n",
    "    dft.loc[lambda d: d['funder'].apply(lambda f : equal_filter(f, r[0])), ['funder']] = r[1]\n",
    "\n",
    "            "
   ]
  },
  {
   "cell_type": "code",
   "execution_count": 21,
   "metadata": {
    "ExecuteTime": {
     "end_time": "2019-02-12T21:00:54.490254Z",
     "start_time": "2019-02-12T21:00:54.412133Z"
    }
   },
   "outputs": [
    {
     "data": {
      "text/plain": [
       "array(['Government Of Tanzania', 'Government/ Community',\n",
       "       'Government /tassaf', 'Government/ World Bank', 'Government /sda',\n",
       "       'Godii', 'Government And Community', 'Government Of Misri',\n",
       "       'Goldwill Foundation', 'Government/school', 'Government/tcrs',\n",
       "       'Government /world Vision', 'Goldmain'], dtype=object)"
      ]
     },
     "execution_count": 21,
     "metadata": {},
     "output_type": "execute_result"
    }
   ],
   "source": [
    "df_[df_.funder.apply(lambda f : regex_filter(f, \"^G[o,v]\"))].funder.unique()"
   ]
  },
  {
   "cell_type": "code",
   "execution_count": 22,
   "metadata": {
    "ExecuteTime": {
     "end_time": "2019-02-12T21:00:56.344067Z",
     "start_time": "2019-02-12T21:00:56.301773Z"
    }
   },
   "outputs": [
    {
     "data": {
      "text/plain": [
       "array(['Government Of Tanzania', 'Government/ World Bank',\n",
       "       'Government/ Community', 'Government /tassaf', 'Goldfinder'],\n",
       "      dtype=object)"
      ]
     },
     "execution_count": 22,
     "metadata": {},
     "output_type": "execute_result"
    },
    {
     "data": {
      "text/plain": [
       "array(['Tasaf', 'Tz Japan', 'Tanza', 'Tardo',\n",
       "       'Tanzania And Egypt Cooperat', 'Tassaf', 'Tanap', 'Tanapa',\n",
       "       'Tabora Municipal Council', 'Tado', 'Tacare', 'Tadepa', 'Ta',\n",
       "       'Tanzakesho', 'Tassaf/ Danida', 'Tassaf Ii', 'Tag Church Vi',\n",
       "       'Tambalizeni', 'Tassaf I', 'Tasaf/dmdd', 'Tanroad', 'Tasafu',\n",
       "       'Tahea', 'Tasaf/village Community', 'Tackle', 'Tag',\n",
       "       'Tanzania/australia', 'Tanzania Na Egypt', 'Tanzania Nea Egypt',\n",
       "       'Tanzania Christian Service', 'Tasmin', 'Tz/japan Embass'],\n",
       "      dtype=object)"
      ]
     },
     "execution_count": 22,
     "metadata": {},
     "output_type": "execute_result"
    }
   ],
   "source": [
    "dft[dft.funder.apply(lambda f : regex_filter(f,  \"^G[o,v]\"))].funder.unique()\n",
    "dft[dft.funder.apply(lambda f : regex_filter(f,  \"^T[a,z]\"))].funder.unique()"
   ]
  },
  {
   "cell_type": "code",
   "execution_count": 23,
   "metadata": {
    "ExecuteTime": {
     "end_time": "2019-02-12T21:00:58.124069Z",
     "start_time": "2019-02-12T21:00:58.113812Z"
    }
   },
   "outputs": [
    {
     "data": {
      "text/plain": [
       "0"
      ]
     },
     "execution_count": 23,
     "metadata": {},
     "output_type": "execute_result"
    },
    {
     "data": {
      "text/plain": [
       "0"
      ]
     },
     "execution_count": 23,
     "metadata": {},
     "output_type": "execute_result"
    },
    {
     "data": {
      "text/plain": [
       "array(['Dinamu Secondary School', 'Kimnyak', 'Puma Secondary', ...,\n",
       "       'Kwambwezi', 'Bonde La Mkondoa', 'Kwa Mzee Chagala'], dtype=object)"
      ]
     },
     "execution_count": 23,
     "metadata": {},
     "output_type": "execute_result"
    }
   ],
   "source": [
    "dft.wpt_name.isna().sum()\n",
    "df_.wpt_name.isna().sum()\n",
    "dft.wpt_name.unique()"
   ]
  },
  {
   "cell_type": "code",
   "execution_count": 24,
   "metadata": {
    "ExecuteTime": {
     "end_time": "2019-02-12T21:01:00.107521Z",
     "start_time": "2019-02-12T21:01:00.105233Z"
    }
   },
   "outputs": [],
   "source": [
    "# tfidf_vectorizer = TfidfVectorizer(\n",
    "#     min_df=1,  # min count for relevant vocabulary\n",
    "#     strip_accents='unicode',  # replace all accented unicode char \n",
    "#     # by their corresponding  ASCII char\n",
    "#     analyzer='word',  # features made of words\n",
    "#     use_idf=True,  # enable inverse-document-frequency reweighting\n",
    "#     smooth_idf=True,  # prevents zero division for unseen words\n",
    "#     sublinear_tf=False)\n",
    "\n",
    "# tfidf_df = tfidf_vectorizer.fit_transform(dft.wpt_name)\n",
    "# #dft.iloc[:,['wpt_name']] = tfidf_vectorizer.get_feature_names()\n",
    "# tfidf_vectorizer.vocabulary_"
   ]
  },
  {
   "cell_type": "code",
   "execution_count": 25,
   "metadata": {
    "ExecuteTime": {
     "end_time": "2019-02-12T21:01:01.229451Z",
     "start_time": "2019-02-12T21:01:01.224843Z"
    }
   },
   "outputs": [
    {
     "data": {
      "text/plain": [
       "array(['Dinamu Secondary School', 'Kimnyak', 'Puma Secondary', ...,\n",
       "       'Kwambwezi', 'Bonde La Mkondoa', 'Kwa Mzee Chagala'], dtype=object)"
      ]
     },
     "execution_count": 25,
     "metadata": {},
     "output_type": "execute_result"
    }
   ],
   "source": [
    "dft.wpt_name.unique()"
   ]
  },
  {
   "cell_type": "code",
   "execution_count": 26,
   "metadata": {
    "ExecuteTime": {
     "end_time": "2019-02-12T21:01:02.443541Z",
     "start_time": "2019-02-12T21:01:02.439088Z"
    }
   },
   "outputs": [
    {
     "data": {
      "text/plain": [
       "array(['Manyara_3', 'Arusha_2', 'Singida_2', 'Lindi_43', 'Ruvuma_3',\n",
       "       'Iringa_7', 'Mtwara_4', 'Mtwara_33', 'Kilimanjaro_7',\n",
       "       'Kilimanjaro_5', 'Manyara_4', 'Tabora_2', 'Mwanza_4', 'Ruvuma_2',\n",
       "       'Pwani_6', 'Tanga_1', 'Dar es Salaam_3', 'Iringa_4', 'Kigoma_3',\n",
       "       'Shinyanga_2', 'Dodoma_5', 'Shinyanga_1', 'Manyara_5', 'Arusha_30',\n",
       "       'Tabora_1', 'Tabora_3', 'Tanga_8', 'Kilimanjaro_2', 'Morogoro_6',\n",
       "       'Mbeya_2', 'Mtwara_1', 'Tanga_3', 'Shinyanga_3', 'Kilimanjaro_3',\n",
       "       'Mbeya_4', 'Ruvuma_1', 'Shinyanga_8', 'Lindi_13', 'Mwanza_6',\n",
       "       'Mwanza_1', 'Kilimanjaro_4', 'Ruvuma_5', 'Kagera_30', 'Mara_6',\n",
       "       'Iringa_2', 'Morogoro_4', 'Kilimanjaro_1', 'Kigoma_2', 'Mbeya_6',\n",
       "       'Manyara_2', 'Rukwa_2', 'Dodoma_6', 'Tabora_4', 'Kagera_7',\n",
       "       'Kagera_1', 'Arusha_7', 'Kagera_2', 'Dodoma_1', 'Morogoro_1',\n",
       "       'Pwani_2', 'Rukwa_1', 'Iringa_3', 'Kagera_3', 'Shinyanga_5',\n",
       "       'Tabora_6', 'Dar es Salaam_2', 'Iringa_1', 'Rukwa_4', 'Morogoro_2',\n",
       "       'Pwani_1', 'Iringa_5', 'Mara_4', 'Mwanza_8', 'Dodoma_4',\n",
       "       'Kagera_4', 'Kigoma_1', 'Mwanza_7', 'Mtwara_63', 'Shinyanga_6',\n",
       "       'Tanga_5', 'Mwanza_2', 'Mbeya_1', 'Lindi_3', 'Singida_1', 'Mara_3',\n",
       "       'Tanga_2', 'Kilimanjaro_6', 'Dodoma_3', 'Tanga_7', 'Pwani_53',\n",
       "       'Singida_4', 'Lindi_62', 'Kagera_8', 'Arusha_6', 'Shinyanga_7',\n",
       "       'Mbeya_7', 'Rukwa_3', 'Arusha_1', 'Morogoro_3', 'Pwani_63',\n",
       "       'Lindi_53', 'Tabora_5', 'Tanga_6', 'Mara_2', 'Arusha_3',\n",
       "       'Mtwara_5', 'Mbeya_3', 'Mwanza_5', 'Singida_3', 'Mara_1',\n",
       "       'Lindi_23', 'Mbeya_5', 'Dar es Salaam_1', 'Arusha_5', 'Pwani_43',\n",
       "       'Morogoro_5', 'Pwani_33', 'Pwani_4', 'Tanga_4', 'Pwani_60',\n",
       "       'Kigoma_4', 'Ruvuma_4', 'Kagera_6', 'Lindi_2', 'Shinyanga_4',\n",
       "       'Pwani_3', 'Mwanza_3', 'Pwani_67', 'Dodoma_0', 'Shinyanga_80'],\n",
       "      dtype=object)"
      ]
     },
     "execution_count": 26,
     "metadata": {},
     "output_type": "execute_result"
    }
   ],
   "source": [
    "dft.region_district.unique()"
   ]
  },
  {
   "cell_type": "code",
   "execution_count": 27,
   "metadata": {
    "ExecuteTime": {
     "end_time": "2019-02-12T21:01:03.508432Z",
     "start_time": "2019-02-12T21:01:03.502152Z"
    }
   },
   "outputs": [
    {
     "data": {
      "text/plain": [
       "array(['Iringa_5', 'Mara_2', 'Manyara_4', 'Mtwara_63', 'Kagera_1',\n",
       "       'Tanga_8', 'Shinyanga_3', 'Tabora_6', 'Pwani_43', 'Ruvuma_5',\n",
       "       'Shinyanga_2', 'Kilimanjaro_7', 'Shinyanga_6', 'Rukwa_2',\n",
       "       'Iringa_4', 'Mwanza_1', 'Shinyanga_1', 'Kilimanjaro_3', 'Kigoma_3',\n",
       "       'Kilimanjaro_4', 'Lindi_23', 'Kilimanjaro_1', 'Dodoma_4',\n",
       "       'Pwani_1', 'Pwani_63', 'Arusha_2', 'Mbeya_3', 'Dodoma_1',\n",
       "       'Iringa_7', 'Kigoma_1', 'Iringa_3', 'Singida_2', 'Mtwara_33',\n",
       "       'Mbeya_4', 'Kilimanjaro_6', 'Mwanza_6', 'Manyara_3', 'Kagera_2',\n",
       "       'Tanga_3', 'Tanga_1', 'Arusha_7', 'Singida_1', 'Kigoma_2',\n",
       "       'Morogoro_3', 'Mbeya_7', 'Kagera_6', 'Tanga_2', 'Shinyanga_5',\n",
       "       'Morogoro_2', 'Shinyanga_8', 'Mara_3', 'Mwanza_5', 'Iringa_1',\n",
       "       'Kagera_3', 'Dodoma_5', 'Lindi_53', 'Manyara_2', 'Kagera_7',\n",
       "       'Mwanza_7', 'Ruvuma_2', 'Tanga_4', 'Ruvuma_1', 'Kilimanjaro_5',\n",
       "       'Kilimanjaro_2', 'Kagera_8', 'Kagera_4', 'Mbeya_2', 'Morogoro_6',\n",
       "       'Mara_4', 'Manyara_5', 'Arusha_6', 'Tabora_4', 'Mbeya_6',\n",
       "       'Lindi_2', 'Tabora_5', 'Dar es Salaam_2', 'Lindi_62', 'Mara_1',\n",
       "       'Dar es Salaam_3', 'Mwanza_2', 'Singida_3', 'Tabora_2',\n",
       "       'Morogoro_1', 'Manyara_1', 'Pwani_60', 'Mbeya_1', 'Iringa_2',\n",
       "       'Mtwara_1', 'Kagera_30', 'Arusha_30', 'Rukwa_1', 'Mbeya_5',\n",
       "       'Pwani_2', 'Singida_4', 'Tabora_1', 'Pwani_4', 'Rukwa_3',\n",
       "       'Dodoma_6', 'Ruvuma_3', 'Morogoro_4', 'Rukwa_4', 'Morogoro_5',\n",
       "       'Mtwara_4', 'Pwani_33', 'Mtwara_5', 'Lindi_13', 'Lindi_43',\n",
       "       'Dodoma_3', 'Tabora_3', 'Pwani_53', 'Mwanza_4', 'Arusha_1',\n",
       "       'Shinyanga_7', 'Arusha_5', 'Tanga_6', 'Mara_6', 'Tanga_5',\n",
       "       'Lindi_3', 'Pwani_3', 'Dar es Salaam_1', 'Dodoma_0', 'Arusha_3',\n",
       "       'Kigoma_4', 'Mwanza_3', 'Ruvuma_4', 'Mwanza_8', 'Tanga_7',\n",
       "       'Lindi_1', 'Shinyanga_80', 'Pwani_6', 'Shinyanga_4', 'Pwani_67'],\n",
       "      dtype=object)"
      ]
     },
     "execution_count": 27,
     "metadata": {},
     "output_type": "execute_result"
    }
   ],
   "source": [
    "df_.region_district.unique()"
   ]
  },
  {
   "cell_type": "code",
   "execution_count": 28,
   "metadata": {
    "ExecuteTime": {
     "end_time": "2019-02-12T21:01:04.313645Z",
     "start_time": "2019-02-12T21:01:04.289874Z"
    }
   },
   "outputs": [
    {
     "data": {
      "text/plain": [
       "array(['communal standpipe', 'communal standpipe multiple', 'hand pump',\n",
       "       'other', 'improved spring', 'cattle trough', 'dam'], dtype=object)"
      ]
     },
     "execution_count": 28,
     "metadata": {},
     "output_type": "execute_result"
    }
   ],
   "source": [
    "df_.waterpoint_type.unique()"
   ]
  },
  {
   "cell_type": "code",
   "execution_count": 29,
   "metadata": {
    "ExecuteTime": {
     "end_time": "2019-02-12T21:01:05.796743Z",
     "start_time": "2019-02-12T21:01:05.784025Z"
    }
   },
   "outputs": [
    {
     "data": {
      "text/plain": [
       "array(['other', 'communal standpipe', 'hand pump',\n",
       "       'communal standpipe multiple', 'improved spring', 'cattle trough',\n",
       "       'dam'], dtype=object)"
      ]
     },
     "execution_count": 29,
     "metadata": {},
     "output_type": "execute_result"
    }
   ],
   "source": [
    "dft.waterpoint_type.unique()"
   ]
  },
  {
   "cell_type": "code",
   "execution_count": 30,
   "metadata": {
    "ExecuteTime": {
     "end_time": "2019-02-12T21:01:06.722917Z",
     "start_time": "2019-02-12T21:01:06.713116Z"
    }
   },
   "outputs": [
    {
     "data": {
      "text/plain": [
       "((14358, 37), (59400, 37))"
      ]
     },
     "execution_count": 30,
     "metadata": {},
     "output_type": "execute_result"
    }
   ],
   "source": [
    "dft.shape, df_.shape"
   ]
  },
  {
   "cell_type": "code",
   "execution_count": 31,
   "metadata": {
    "ExecuteTime": {
     "end_time": "2019-02-12T21:01:07.731810Z",
     "start_time": "2019-02-12T21:01:07.720186Z"
    }
   },
   "outputs": [
    {
     "name": "stdout",
     "output_type": "stream",
     "text": [
      "[]\n"
     ]
    }
   ],
   "source": [
    "# pd.set_option('display.max_columns', None)\n",
    "#train__ = copy.deepcopy(train_input_columns)\n",
    "# test_input_columns = df_.columns\n",
    "test__ = list(dft.columns)\n",
    "for c in train_input_columns:\n",
    "    if c not in test_input_columns:\n",
    "        print(f'{c} not in test')\n",
    "    else:\n",
    "        test__.remove(c)\n",
    "print(test__)\n",
    "        \n",
    "    "
   ]
  },
  {
   "cell_type": "code",
   "execution_count": 32,
   "metadata": {
    "ExecuteTime": {
     "end_time": "2019-02-12T21:01:16.143632Z",
     "start_time": "2019-02-12T21:01:10.118866Z"
    }
   },
   "outputs": [
    {
     "data": {
      "text/plain": [
       "(14028, 10988)"
      ]
     },
     "execution_count": 32,
     "metadata": {},
     "output_type": "execute_result"
    }
   ],
   "source": [
    "mc = 0\n",
    "nmc = 0\n",
    "for o in oc:\n",
    "    tru = df_[o].unique()\n",
    "    teu = dft[o].unique()\n",
    "    for v in teu:\n",
    "        if v in tru:\n",
    "            mc+=1\n",
    "        else:\n",
    "            nmc+=1\n",
    "mc, nmc"
   ]
  },
  {
   "cell_type": "code",
   "execution_count": 33,
   "metadata": {
    "ExecuteTime": {
     "end_time": "2019-02-12T21:01:17.356255Z",
     "start_time": "2019-02-12T21:01:16.922735Z"
    }
   },
   "outputs": [
    {
     "data": {
      "text/plain": [
       "(13325, 1033)"
      ]
     },
     "execution_count": 33,
     "metadata": {},
     "output_type": "execute_result"
    }
   ],
   "source": [
    "mc = 0\n",
    "nmc = 0\n",
    "tru = df_['funder'].unique()\n",
    "for v in dft.funder.values:\n",
    "    if v in tru:\n",
    "        mc+=1\n",
    "    else:\n",
    "        nmc+=1\n",
    "mc, nmc"
   ]
  },
  {
   "cell_type": "code",
   "execution_count": 34,
   "metadata": {
    "ExecuteTime": {
     "end_time": "2019-02-12T21:01:18.718705Z",
     "start_time": "2019-02-12T21:01:18.711743Z"
    }
   },
   "outputs": [
    {
     "data": {
      "text/plain": [
       "(1894, 957)"
      ]
     },
     "execution_count": 34,
     "metadata": {},
     "output_type": "execute_result"
    }
   ],
   "source": [
    "len(df_['funder'].unique()), len(dft['funder'].unique())"
   ]
  },
  {
   "cell_type": "code",
   "execution_count": 35,
   "metadata": {
    "ExecuteTime": {
     "end_time": "2019-02-12T21:01:20.239399Z",
     "start_time": "2019-02-12T21:01:20.146434Z"
    }
   },
   "outputs": [
    {
     "name": "stdout",
     "output_type": "stream",
     "text": [
      "59400\n"
     ]
    },
    {
     "data": {
      "text/html": [
       "<div>\n",
       "<style scoped>\n",
       "    .dataframe tbody tr th:only-of-type {\n",
       "        vertical-align: middle;\n",
       "    }\n",
       "\n",
       "    .dataframe tbody tr th {\n",
       "        vertical-align: top;\n",
       "    }\n",
       "\n",
       "    .dataframe thead th {\n",
       "        text-align: right;\n",
       "    }\n",
       "</style>\n",
       "<table border=\"1\" class=\"dataframe\">\n",
       "  <thead>\n",
       "    <tr style=\"text-align: right;\">\n",
       "      <th></th>\n",
       "      <th>amount_tsh</th>\n",
       "      <th>funder</th>\n",
       "      <th>gps_height</th>\n",
       "      <th>installer</th>\n",
       "      <th>longitude</th>\n",
       "      <th>latitude</th>\n",
       "      <th>wpt_name</th>\n",
       "      <th>num_private</th>\n",
       "      <th>basin</th>\n",
       "      <th>subvillage</th>\n",
       "      <th>lga</th>\n",
       "      <th>ward</th>\n",
       "      <th>population</th>\n",
       "      <th>public_meeting</th>\n",
       "      <th>recorded_by</th>\n",
       "      <th>scheme_management</th>\n",
       "      <th>scheme_name</th>\n",
       "      <th>permit</th>\n",
       "      <th>construction_year</th>\n",
       "      <th>extraction_type</th>\n",
       "      <th>extraction_type_group</th>\n",
       "      <th>extraction_type_class</th>\n",
       "      <th>management</th>\n",
       "      <th>management_group</th>\n",
       "      <th>payment</th>\n",
       "      <th>payment_type</th>\n",
       "      <th>water_quality</th>\n",
       "      <th>quality_group</th>\n",
       "      <th>quantity</th>\n",
       "      <th>quantity_group</th>\n",
       "      <th>source</th>\n",
       "      <th>source_type</th>\n",
       "      <th>source_class</th>\n",
       "      <th>waterpoint_type</th>\n",
       "      <th>waterpoint_type_group</th>\n",
       "      <th>timestamp</th>\n",
       "      <th>region_district</th>\n",
       "    </tr>\n",
       "    <tr>\n",
       "      <th>id</th>\n",
       "      <th></th>\n",
       "      <th></th>\n",
       "      <th></th>\n",
       "      <th></th>\n",
       "      <th></th>\n",
       "      <th></th>\n",
       "      <th></th>\n",
       "      <th></th>\n",
       "      <th></th>\n",
       "      <th></th>\n",
       "      <th></th>\n",
       "      <th></th>\n",
       "      <th></th>\n",
       "      <th></th>\n",
       "      <th></th>\n",
       "      <th></th>\n",
       "      <th></th>\n",
       "      <th></th>\n",
       "      <th></th>\n",
       "      <th></th>\n",
       "      <th></th>\n",
       "      <th></th>\n",
       "      <th></th>\n",
       "      <th></th>\n",
       "      <th></th>\n",
       "      <th></th>\n",
       "      <th></th>\n",
       "      <th></th>\n",
       "      <th></th>\n",
       "      <th></th>\n",
       "      <th></th>\n",
       "      <th></th>\n",
       "      <th></th>\n",
       "      <th></th>\n",
       "      <th></th>\n",
       "      <th></th>\n",
       "      <th></th>\n",
       "    </tr>\n",
       "  </thead>\n",
       "  <tbody>\n",
       "    <tr>\n",
       "      <th>69572</th>\n",
       "      <td>6000.0</td>\n",
       "      <td>Roman</td>\n",
       "      <td>1390</td>\n",
       "      <td>Roman</td>\n",
       "      <td>34.938093</td>\n",
       "      <td>-9.856322</td>\n",
       "      <td>none</td>\n",
       "      <td>0</td>\n",
       "      <td>Lake Nyasa</td>\n",
       "      <td>Mnyusi B</td>\n",
       "      <td>Ludewa</td>\n",
       "      <td>Mundindi</td>\n",
       "      <td>109</td>\n",
       "      <td>True</td>\n",
       "      <td>GeoData Consultants Ltd</td>\n",
       "      <td>VWC</td>\n",
       "      <td>Roman</td>\n",
       "      <td>False</td>\n",
       "      <td>1999</td>\n",
       "      <td>gravity</td>\n",
       "      <td>gravity</td>\n",
       "      <td>gravity</td>\n",
       "      <td>vwc</td>\n",
       "      <td>user-group</td>\n",
       "      <td>pay annually</td>\n",
       "      <td>annually</td>\n",
       "      <td>soft</td>\n",
       "      <td>good</td>\n",
       "      <td>enough</td>\n",
       "      <td>enough</td>\n",
       "      <td>spring</td>\n",
       "      <td>spring</td>\n",
       "      <td>groundwater</td>\n",
       "      <td>communal standpipe</td>\n",
       "      <td>communal standpipe</td>\n",
       "      <td>1.300061</td>\n",
       "      <td>Iringa_5</td>\n",
       "    </tr>\n",
       "    <tr>\n",
       "      <th>8776</th>\n",
       "      <td>0.0</td>\n",
       "      <td>Grumeti</td>\n",
       "      <td>1399</td>\n",
       "      <td>GRUMETI</td>\n",
       "      <td>34.698766</td>\n",
       "      <td>-2.147466</td>\n",
       "      <td>Zahanati</td>\n",
       "      <td>0</td>\n",
       "      <td>Lake Victoria</td>\n",
       "      <td>Nyamara</td>\n",
       "      <td>Serengeti</td>\n",
       "      <td>Natta</td>\n",
       "      <td>280</td>\n",
       "      <td>NaN</td>\n",
       "      <td>GeoData Consultants Ltd</td>\n",
       "      <td>Other</td>\n",
       "      <td>NaN</td>\n",
       "      <td>True</td>\n",
       "      <td>2010</td>\n",
       "      <td>gravity</td>\n",
       "      <td>gravity</td>\n",
       "      <td>gravity</td>\n",
       "      <td>wug</td>\n",
       "      <td>user-group</td>\n",
       "      <td>never pay</td>\n",
       "      <td>never pay</td>\n",
       "      <td>soft</td>\n",
       "      <td>good</td>\n",
       "      <td>insufficient</td>\n",
       "      <td>insufficient</td>\n",
       "      <td>rainwater harvesting</td>\n",
       "      <td>rainwater harvesting</td>\n",
       "      <td>surface</td>\n",
       "      <td>communal standpipe</td>\n",
       "      <td>communal standpipe</td>\n",
       "      <td>1.362528</td>\n",
       "      <td>Mara_2</td>\n",
       "    </tr>\n",
       "    <tr>\n",
       "      <th>34310</th>\n",
       "      <td>25.0</td>\n",
       "      <td>Lottery Club</td>\n",
       "      <td>686</td>\n",
       "      <td>World vision</td>\n",
       "      <td>37.460664</td>\n",
       "      <td>-3.821329</td>\n",
       "      <td>Kwa Mahundi</td>\n",
       "      <td>0</td>\n",
       "      <td>Pangani</td>\n",
       "      <td>Majengo</td>\n",
       "      <td>Simanjiro</td>\n",
       "      <td>Ngorika</td>\n",
       "      <td>250</td>\n",
       "      <td>True</td>\n",
       "      <td>GeoData Consultants Ltd</td>\n",
       "      <td>VWC</td>\n",
       "      <td>Nyumba ya mungu pipe scheme</td>\n",
       "      <td>True</td>\n",
       "      <td>2009</td>\n",
       "      <td>gravity</td>\n",
       "      <td>gravity</td>\n",
       "      <td>gravity</td>\n",
       "      <td>vwc</td>\n",
       "      <td>user-group</td>\n",
       "      <td>pay per bucket</td>\n",
       "      <td>per bucket</td>\n",
       "      <td>soft</td>\n",
       "      <td>good</td>\n",
       "      <td>enough</td>\n",
       "      <td>enough</td>\n",
       "      <td>dam</td>\n",
       "      <td>dam</td>\n",
       "      <td>surface</td>\n",
       "      <td>communal standpipe multiple</td>\n",
       "      <td>communal standpipe</td>\n",
       "      <td>1.361750</td>\n",
       "      <td>Manyara_4</td>\n",
       "    </tr>\n",
       "    <tr>\n",
       "      <th>67743</th>\n",
       "      <td>0.0</td>\n",
       "      <td>Unicef</td>\n",
       "      <td>263</td>\n",
       "      <td>UNICEF</td>\n",
       "      <td>38.486161</td>\n",
       "      <td>-11.155298</td>\n",
       "      <td>Zahanati Ya Nanyumbu</td>\n",
       "      <td>0</td>\n",
       "      <td>Ruvuma / Southern Coast</td>\n",
       "      <td>Mahakamani</td>\n",
       "      <td>Nanyumbu</td>\n",
       "      <td>Nanyumbu</td>\n",
       "      <td>58</td>\n",
       "      <td>True</td>\n",
       "      <td>GeoData Consultants Ltd</td>\n",
       "      <td>VWC</td>\n",
       "      <td>NaN</td>\n",
       "      <td>True</td>\n",
       "      <td>1986</td>\n",
       "      <td>submersible</td>\n",
       "      <td>submersible</td>\n",
       "      <td>submersible</td>\n",
       "      <td>vwc</td>\n",
       "      <td>user-group</td>\n",
       "      <td>never pay</td>\n",
       "      <td>never pay</td>\n",
       "      <td>soft</td>\n",
       "      <td>good</td>\n",
       "      <td>dry</td>\n",
       "      <td>dry</td>\n",
       "      <td>machine dbh</td>\n",
       "      <td>borehole</td>\n",
       "      <td>groundwater</td>\n",
       "      <td>communal standpipe multiple</td>\n",
       "      <td>communal standpipe</td>\n",
       "      <td>1.359331</td>\n",
       "      <td>Mtwara_63</td>\n",
       "    </tr>\n",
       "    <tr>\n",
       "      <th>19728</th>\n",
       "      <td>0.0</td>\n",
       "      <td>Action In A</td>\n",
       "      <td>0</td>\n",
       "      <td>Artisan</td>\n",
       "      <td>31.130847</td>\n",
       "      <td>-1.825359</td>\n",
       "      <td>Shuleni</td>\n",
       "      <td>0</td>\n",
       "      <td>Lake Victoria</td>\n",
       "      <td>Kyanyamisa</td>\n",
       "      <td>Karagwe</td>\n",
       "      <td>Nyakasimbi</td>\n",
       "      <td>0</td>\n",
       "      <td>True</td>\n",
       "      <td>GeoData Consultants Ltd</td>\n",
       "      <td>NaN</td>\n",
       "      <td>NaN</td>\n",
       "      <td>True</td>\n",
       "      <td>0</td>\n",
       "      <td>gravity</td>\n",
       "      <td>gravity</td>\n",
       "      <td>gravity</td>\n",
       "      <td>other</td>\n",
       "      <td>other</td>\n",
       "      <td>never pay</td>\n",
       "      <td>never pay</td>\n",
       "      <td>soft</td>\n",
       "      <td>good</td>\n",
       "      <td>seasonal</td>\n",
       "      <td>seasonal</td>\n",
       "      <td>rainwater harvesting</td>\n",
       "      <td>rainwater harvesting</td>\n",
       "      <td>surface</td>\n",
       "      <td>communal standpipe</td>\n",
       "      <td>communal standpipe</td>\n",
       "      <td>1.310515</td>\n",
       "      <td>Kagera_1</td>\n",
       "    </tr>\n",
       "  </tbody>\n",
       "</table>\n",
       "</div>"
      ],
      "text/plain": [
       "       amount_tsh        funder  gps_height     installer  longitude  \\\n",
       "id                                                                     \n",
       "69572      6000.0         Roman        1390         Roman  34.938093   \n",
       "8776          0.0       Grumeti        1399       GRUMETI  34.698766   \n",
       "34310        25.0  Lottery Club         686  World vision  37.460664   \n",
       "67743         0.0        Unicef         263        UNICEF  38.486161   \n",
       "19728         0.0   Action In A           0       Artisan  31.130847   \n",
       "\n",
       "        latitude              wpt_name  num_private                    basin  \\\n",
       "id                                                                             \n",
       "69572  -9.856322                  none            0               Lake Nyasa   \n",
       "8776   -2.147466              Zahanati            0            Lake Victoria   \n",
       "34310  -3.821329           Kwa Mahundi            0                  Pangani   \n",
       "67743 -11.155298  Zahanati Ya Nanyumbu            0  Ruvuma / Southern Coast   \n",
       "19728  -1.825359               Shuleni            0            Lake Victoria   \n",
       "\n",
       "       subvillage        lga        ward  population public_meeting  \\\n",
       "id                                                                    \n",
       "69572    Mnyusi B     Ludewa    Mundindi         109           True   \n",
       "8776      Nyamara  Serengeti       Natta         280            NaN   \n",
       "34310     Majengo  Simanjiro     Ngorika         250           True   \n",
       "67743  Mahakamani   Nanyumbu    Nanyumbu          58           True   \n",
       "19728  Kyanyamisa    Karagwe  Nyakasimbi           0           True   \n",
       "\n",
       "                   recorded_by scheme_management                  scheme_name  \\\n",
       "id                                                                              \n",
       "69572  GeoData Consultants Ltd               VWC                        Roman   \n",
       "8776   GeoData Consultants Ltd             Other                          NaN   \n",
       "34310  GeoData Consultants Ltd               VWC  Nyumba ya mungu pipe scheme   \n",
       "67743  GeoData Consultants Ltd               VWC                          NaN   \n",
       "19728  GeoData Consultants Ltd               NaN                          NaN   \n",
       "\n",
       "      permit  construction_year extraction_type extraction_type_group  \\\n",
       "id                                                                      \n",
       "69572  False               1999         gravity               gravity   \n",
       "8776    True               2010         gravity               gravity   \n",
       "34310   True               2009         gravity               gravity   \n",
       "67743   True               1986     submersible           submersible   \n",
       "19728   True                  0         gravity               gravity   \n",
       "\n",
       "      extraction_type_class management management_group         payment  \\\n",
       "id                                                                        \n",
       "69572               gravity        vwc       user-group    pay annually   \n",
       "8776                gravity        wug       user-group       never pay   \n",
       "34310               gravity        vwc       user-group  pay per bucket   \n",
       "67743           submersible        vwc       user-group       never pay   \n",
       "19728               gravity      other            other       never pay   \n",
       "\n",
       "      payment_type water_quality quality_group      quantity quantity_group  \\\n",
       "id                                                                            \n",
       "69572     annually          soft          good        enough         enough   \n",
       "8776     never pay          soft          good  insufficient   insufficient   \n",
       "34310   per bucket          soft          good        enough         enough   \n",
       "67743    never pay          soft          good           dry            dry   \n",
       "19728    never pay          soft          good      seasonal       seasonal   \n",
       "\n",
       "                     source           source_type source_class  \\\n",
       "id                                                               \n",
       "69572                spring                spring  groundwater   \n",
       "8776   rainwater harvesting  rainwater harvesting      surface   \n",
       "34310                   dam                   dam      surface   \n",
       "67743           machine dbh              borehole  groundwater   \n",
       "19728  rainwater harvesting  rainwater harvesting      surface   \n",
       "\n",
       "                   waterpoint_type waterpoint_type_group  timestamp  \\\n",
       "id                                                                    \n",
       "69572           communal standpipe    communal standpipe   1.300061   \n",
       "8776            communal standpipe    communal standpipe   1.362528   \n",
       "34310  communal standpipe multiple    communal standpipe   1.361750   \n",
       "67743  communal standpipe multiple    communal standpipe   1.359331   \n",
       "19728           communal standpipe    communal standpipe   1.310515   \n",
       "\n",
       "      region_district  \n",
       "id                     \n",
       "69572        Iringa_5  \n",
       "8776           Mara_2  \n",
       "34310       Manyara_4  \n",
       "67743       Mtwara_63  \n",
       "19728        Kagera_1  "
      ]
     },
     "execution_count": 35,
     "metadata": {},
     "output_type": "execute_result"
    }
   ],
   "source": [
    "tfidf = TfidfVectorizer(strip_accents=\"unicode\",\n",
    "                        lowercase=True,\n",
    "                       )\n",
    "#                 ('vect', tfidf),\n",
    "encoders = Pipeline([\n",
    "#                 ('tdidf', tfidf(cols=oc)),\n",
    "                ('binary', BinaryEncoder(cols=binary)),\n",
    "                ('onehot', ce.OneHotEncoder(use_cat_names=True,cols=hot))\n",
    "            ])\n",
    "df_l = df_.shape[0]\n",
    "both = pd.concat([df_,dft])\n",
    "print(df_l)\n",
    "both.head()\n"
   ]
  },
  {
   "cell_type": "code",
   "execution_count": 36,
   "metadata": {
    "ExecuteTime": {
     "end_time": "2019-02-12T21:01:22.730707Z",
     "start_time": "2019-02-12T21:01:22.721809Z"
    }
   },
   "outputs": [
    {
     "data": {
      "text/plain": [
       "(73758, 37)"
      ]
     },
     "execution_count": 36,
     "metadata": {},
     "output_type": "execute_result"
    }
   ],
   "source": [
    "both.shape"
   ]
  },
  {
   "cell_type": "code",
   "execution_count": 37,
   "metadata": {
    "ExecuteTime": {
     "end_time": "2019-02-12T21:01:28.003662Z",
     "start_time": "2019-02-12T21:01:24.757006Z"
    }
   },
   "outputs": [],
   "source": [
    "both_  = encoders.fit_transform(both)"
   ]
  },
  {
   "cell_type": "code",
   "execution_count": 38,
   "metadata": {
    "ExecuteTime": {
     "end_time": "2019-02-12T21:01:29.317373Z",
     "start_time": "2019-02-12T21:01:29.144816Z"
    }
   },
   "outputs": [
    {
     "data": {
      "text/plain": [
       "(59400, (73758, 404), (59400, 404), (14358, 404))"
      ]
     },
     "execution_count": 38,
     "metadata": {},
     "output_type": "execute_result"
    }
   ],
   "source": [
    "df__  = both_.iloc[0:df_l]\n",
    "dft_ = both_.iloc[df_l:]\n",
    "df_l, both_.shape, df__.shape, dft_.shape"
   ]
  },
  {
   "cell_type": "code",
   "execution_count": 39,
   "metadata": {
    "ExecuteTime": {
     "end_time": "2019-02-12T21:01:32.259811Z",
     "start_time": "2019-02-12T21:01:30.268178Z"
    }
   },
   "outputs": [
    {
     "name": "stdout",
     "output_type": "stream",
     "text": [
      "['basin_-1', 'lga_-1', 'public_meeting_-1', 'recorded_by_-1', 'scheme_management_-1', 'permit_-1', 'extraction_type_-1', 'extraction_type_group_-1', 'extraction_type_class_-1', 'management_-1', 'management_group_-1', 'payment_-1', 'payment_type_-1', 'water_quality_-1', 'quality_group_-1', 'quantity_-1', 'quantity_group_-1', 'source_-1', 'source_type_-1', 'source_class_-1', 'waterpoint_type_-1', 'waterpoint_type_group_-1', 'funder_0', 'installer_0', 'wpt_name_0', 'subvillage_0', 'ward_0', 'scheme_name_0', 'region_district_0']\n"
     ]
    }
   ],
   "source": [
    "de = df__.describe()\n",
    "de_test = dft_.describe()\n",
    "ex_oc = df__.columns\n",
    "drop = []\n",
    "for o in ex_oc:\n",
    "    if o in de.columns:\n",
    "        if de[o]['mean'] == 0 and de_test[o]['mean'] == 0:\n",
    "            drop.append(o)\n",
    "        # print(de[o].mean)\n",
    "X  = df__.drop(drop, axis=1)\n",
    "dfp = dft_.drop(drop, axis=1)\n",
    "print(drop)"
   ]
  },
  {
   "cell_type": "code",
   "execution_count": 40,
   "metadata": {
    "ExecuteTime": {
     "end_time": "2019-02-12T21:01:32.264730Z",
     "start_time": "2019-02-12T21:01:32.261581Z"
    }
   },
   "outputs": [],
   "source": [
    "def evalerror(preds, dtrain):\n",
    "    labels = dtrain.get_label()\n",
    "    '''\n",
    "    pred_exp = np.exp(preds)\n",
    "    labels_exp = np.exp(labels)\n",
    "    return 'error', np.sum(np.abs(pred_exp-labels_exp))/np.sum(labels_exp)\n",
    "    '''\n",
    "    return 'error', np.sum(np.abs(preds-labels))/np.sum(labels)"
   ]
  },
  {
   "cell_type": "code",
   "execution_count": 41,
   "metadata": {
    "ExecuteTime": {
     "end_time": "2019-02-12T21:04:13.449149Z",
     "start_time": "2019-02-12T21:01:37.371382Z"
    }
   },
   "outputs": [
    {
     "name": "stdout",
     "output_type": "stream",
     "text": [
      "functional needs repair 4317\n",
      "functional 32259\n",
      "non functional 22824\n",
      "num_col 375 X (59400, 375)\n"
     ]
    }
   ],
   "source": [
    "# read in data\n",
    "\n",
    "df_y = pd.DataFrame(y)\n",
    "print('functional needs repair', df_y[df_y.status_group == 'functional needs repair'].shape[0])\n",
    "print('functional', df_y[df_y.status_group == 'functional'].shape[0])\n",
    "print('non functional', df_y[df_y.status_group == 'non functional'].shape[0])\n",
    "y_true = [0 if s == 'functional needs repair' else (1 if s == 'functional' else 2) \n",
    "                              for s in df_y[dc].values]\n",
    "\n",
    "dtrain = xgb.DMatrix(X, label=y_true)\n",
    "print('num_col',dtrain.num_col(), 'X', X.shape)\n",
    "\n",
    "\n",
    "dtrain.set_weight([2.13 if s == 'functional needs repair' else (0.942 if s == 'functional' else 1.337) \n",
    "                              for s in df_y[dc].values])\n",
    "\n",
    "param = {}\n",
    "# use softmax multi-class classification\n",
    "param['objective'] = 'multi:softmax'\n",
    "param['eta'] = 0.1\n",
    "param['max_depth'] = 25\n",
    "param['silent'] = 1\n",
    "param['nthread'] = 4\n",
    "param['num_class'] = 3\n",
    "param['lambda'] = 1\n",
    "param['alpha'] = 1\n",
    "num_round = 50\n",
    "test = xgb.DMatrix(dfp)\n",
    "# watchlist = [(dtrain, 'train'), (test, 'test')]\n",
    "bst = xgb.train(param, dtrain, num_round)\n",
    "# make prediction\n",
    "preds = bst.predict(test)\n",
    "\n",
    "\n"
   ]
  },
  {
   "cell_type": "code",
   "execution_count": null,
   "metadata": {},
   "outputs": [],
   "source": [
    "dfp.shape"
   ]
  },
  {
   "cell_type": "code",
   "execution_count": null,
   "metadata": {},
   "outputs": [],
   "source": [
    "vpreds = bst.predict(xgb.DMatrix(X))\n",
    "vdf = pd.DataFrame(vpreds, columns=['v'])\n",
    "print('functional needs repair',vdf[vdf.v == 0.].shape[0])\n",
    "print('functional',vdf[vdf.v == 1.0].shape[0])\n",
    "print('non functional', vdf[vdf.v == 2.0].shape[0])\n",
    "print('r2', r2_score(y_true, vpreds))\n",
    "print('accuracy', accuracy_score(y_true, vpreds))"
   ]
  },
  {
   "cell_type": "code",
   "execution_count": null,
   "metadata": {},
   "outputs": [],
   "source": [
    "print(preds[0:50])\n",
    "print(type(preds))"
   ]
  },
  {
   "cell_type": "code",
   "execution_count": null,
   "metadata": {},
   "outputs": [],
   "source": [
    "with open('testxgb.csv', 'w') as f:\n",
    "    f.write('id,status_group\\n')\n",
    "    for f_,i in zip(preds, dfp.index):\n",
    "        index = int(f_)\n",
    "        d = 'non functional' if index == 2 else ('functional' if index == 1 else 'functional needs repair')\n",
    "        f.write(f\"{i},{d}\")\n",
    "        f.write('\\n')"
   ]
  },
  {
   "cell_type": "code",
   "execution_count": null,
   "metadata": {},
   "outputs": [],
   "source": [
    "# df[dc].iloc[0:5][8776]"
   ]
  },
  {
   "cell_type": "code",
   "execution_count": null,
   "metadata": {},
   "outputs": [],
   "source": [
    "independant_columns  = dfum.select_dtypes(exclude=['object']).columns\n",
    "one = 'functional needs repair'\n",
    "two = 'functional'\n",
    "three = 'non functional'\n",
    "for c in independant_columns:\n",
    "    fig, axs = plt.subplots(ncols=3)\n",
    "    fig.set_size_inches(15, 3)\n",
    "    axs[0].hist(dfum[dfum[dc] == one][c])\n",
    "    axs[1].hist(dfum[dfum[dc] == two][c])\n",
    "    axs[2].hist(dfum[dfum[dc] == three][c])\n",
    "    axs[0].set_xlabel(f'{c} for functional needs repair')\n",
    "    axs[1].set_xlabel(f\"{c} for functional\")\n",
    "    axs[2].set_xlabel(f\"{c} for non functional\")\n",
    "    plt.show()"
   ]
  },
  {
   "cell_type": "code",
   "execution_count": null,
   "metadata": {
    "scrolled": true
   },
   "outputs": [],
   "source": [
    "# !kaggle competitions download -c ds1-predictive-modeling-challenge"
   ]
  },
  {
   "cell_type": "code",
   "execution_count": null,
   "metadata": {},
   "outputs": [],
   "source": [
    "17109 + 38845, 14031 + 10989 , 2 * (14031 + 10989)\n"
   ]
  },
  {
   "cell_type": "code",
   "execution_count": null,
   "metadata": {},
   "outputs": [],
   "source": []
  }
 ],
 "metadata": {
  "kernelspec": {
   "display_name": "Python 3",
   "language": "python",
   "name": "python3"
  },
  "language_info": {
   "codemirror_mode": {
    "name": "ipython",
    "version": 3
   },
   "file_extension": ".py",
   "mimetype": "text/x-python",
   "name": "python",
   "nbconvert_exporter": "python",
   "pygments_lexer": "ipython3",
   "version": "3.7.3"
  },
  "latex_envs": {
   "LaTeX_envs_menu_present": true,
   "autoclose": false,
   "autocomplete": true,
   "bibliofile": "biblio.bib",
   "cite_by": "apalike",
   "current_citInitial": 1,
   "eqLabelWithNumbers": true,
   "eqNumInitial": 1,
   "hotkeys": {
    "equation": "Ctrl-E",
    "itemize": "Ctrl-I"
   },
   "labels_anchors": false,
   "latex_user_defs": false,
   "report_style_numbering": false,
   "user_envs_cfg": false
  }
 },
 "nbformat": 4,
 "nbformat_minor": 2
}
