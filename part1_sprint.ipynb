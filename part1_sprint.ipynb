{
 "cells": [
  {
   "cell_type": "code",
   "execution_count": 1,
   "metadata": {},
   "outputs": [
    {
     "name": "stdout",
     "output_type": "stream",
     "text": [
      "Youtube01-Psy.csv\t Youtube03-LMFAO.csv   Youtube05-Shakira.csv\r\n",
      "Youtube02-KatyPerry.csv  Youtube04-Eminem.csv\r\n"
     ]
    }
   ],
   "source": [
    "!ls *.csv"
   ]
  },
  {
   "cell_type": "code",
   "execution_count": 15,
   "metadata": {},
   "outputs": [],
   "source": [
    "import dask\n",
    "import dask.dataframe as dd"
   ]
  },
  {
   "cell_type": "code",
   "execution_count": 3,
   "metadata": {},
   "outputs": [],
   "source": [
    "dd = dd.read_csv('*.csv')"
   ]
  },
  {
   "cell_type": "code",
   "execution_count": 4,
   "metadata": {},
   "outputs": [
    {
     "data": {
      "text/plain": [
       "COMMENT_ID    1956\n",
       "AUTHOR        1956\n",
       "DATE          1711\n",
       "CONTENT       1956\n",
       "CLASS         1956\n",
       "dtype: int64"
      ]
     },
     "execution_count": 4,
     "metadata": {},
     "output_type": "execute_result"
    }
   ],
   "source": [
    "dd.count().compute()"
   ]
  },
  {
   "cell_type": "code",
   "execution_count": 5,
   "metadata": {},
   "outputs": [
    {
     "data": {
      "text/html": [
       "<div>\n",
       "<style scoped>\n",
       "    .dataframe tbody tr th:only-of-type {\n",
       "        vertical-align: middle;\n",
       "    }\n",
       "\n",
       "    .dataframe tbody tr th {\n",
       "        vertical-align: top;\n",
       "    }\n",
       "\n",
       "    .dataframe thead th {\n",
       "        text-align: right;\n",
       "    }\n",
       "</style>\n",
       "<table border=\"1\" class=\"dataframe\">\n",
       "  <thead>\n",
       "    <tr style=\"text-align: right;\">\n",
       "      <th></th>\n",
       "      <th>CLASS</th>\n",
       "      <th>0</th>\n",
       "    </tr>\n",
       "  </thead>\n",
       "  <tbody>\n",
       "    <tr>\n",
       "      <th>count</th>\n",
       "      <td>1956.000000</td>\n",
       "      <td>NaN</td>\n",
       "    </tr>\n",
       "    <tr>\n",
       "      <th>mean</th>\n",
       "      <td>0.513804</td>\n",
       "      <td>NaN</td>\n",
       "    </tr>\n",
       "    <tr>\n",
       "      <th>std</th>\n",
       "      <td>0.499937</td>\n",
       "      <td>NaN</td>\n",
       "    </tr>\n",
       "    <tr>\n",
       "      <th>min</th>\n",
       "      <td>0.000000</td>\n",
       "      <td>NaN</td>\n",
       "    </tr>\n",
       "    <tr>\n",
       "      <th>25%</th>\n",
       "      <td>NaN</td>\n",
       "      <td>0.0</td>\n",
       "    </tr>\n",
       "    <tr>\n",
       "      <th>50%</th>\n",
       "      <td>NaN</td>\n",
       "      <td>1.0</td>\n",
       "    </tr>\n",
       "    <tr>\n",
       "      <th>75%</th>\n",
       "      <td>NaN</td>\n",
       "      <td>1.0</td>\n",
       "    </tr>\n",
       "    <tr>\n",
       "      <th>max</th>\n",
       "      <td>1.000000</td>\n",
       "      <td>NaN</td>\n",
       "    </tr>\n",
       "  </tbody>\n",
       "</table>\n",
       "</div>"
      ],
      "text/plain": [
       "             CLASS    0\n",
       "count  1956.000000  NaN\n",
       "mean      0.513804  NaN\n",
       "std       0.499937  NaN\n",
       "min       0.000000  NaN\n",
       "25%            NaN  0.0\n",
       "50%            NaN  1.0\n",
       "75%            NaN  1.0\n",
       "max       1.000000  NaN"
      ]
     },
     "execution_count": 5,
     "metadata": {},
     "output_type": "execute_result"
    }
   ],
   "source": [
    "dd.describe().compute()"
   ]
  },
  {
   "cell_type": "code",
   "execution_count": 6,
   "metadata": {},
   "outputs": [
    {
     "data": {
      "text/plain": [
       "1    1005\n",
       "0     951\n",
       "Name: CLASS, dtype: int64"
      ]
     },
     "execution_count": 6,
     "metadata": {},
     "output_type": "execute_result"
    }
   ],
   "source": [
    "dd['CLASS'].value_counts().compute()"
   ]
  },
  {
   "cell_type": "code",
   "execution_count": 7,
   "metadata": {},
   "outputs": [
    {
     "data": {
      "text/plain": [
       "0      huh, anyway check out this you[tube] channel: ...\n",
       "1      hey guys check out my new channel and our firs...\n",
       "2                 just for test i have to say murdev.com\n",
       "3       me shaking my sexy ass on my channel enjoy ^_^ ﻿\n",
       "4                watch?v=vtarggvgtwq   check this out .﻿\n",
       "5      hey, check out my new website!! this site is a...\n",
       "6                              subscribe to my channel ﻿\n",
       "7      i turned it on mute as soon is i came on i jus...\n",
       "8        you should check my channel for funny videos!!﻿\n",
       "9      and u should.d check my channel and tell me wh...\n",
       "10                                  hey subscribe to me﻿\n",
       "11      once you have started reading do not stop. if...\n",
       "12                  https://twitter.com/gbphotographygb﻿\n",
       "13                               subscribe like comment﻿\n",
       "14     please like :d https://premium.easypromosapp.c...\n",
       "15     hello! do you like gaming, art videos, scienti...\n",
       "16                          i'm only checking the views﻿\n",
       "17     http://www.ebay.com/itm/171183229277?sspagenam...\n",
       "18          http://ubuntuone.com/40beuutvu2zkxk4utgpz8k﻿\n",
       "19     we are an edm apparel company dedicated to bri...\n",
       "20     i think about 100 millions of the views come f...\n",
       "21                    subscribe to my channel people :d﻿\n",
       "22     show your auburn pride here: http://www.teespr...\n",
       "23                              just checking the views﻿\n",
       "24                                  check out my channel\n",
       "25     marketglory . com/strategygame/andrijamatf ear...\n",
       "26     hey guys! im a 12 yr old music producer. i mak...\n",
       "27               check me out! i'm kyle. i rap so yeah ﻿\n",
       "28     i dont even watch it anymore i just come here ...\n",
       "29      subscribe to me for free android games, apps.. ﻿\n",
       "                             ...                        \n",
       "340                               check out my new video\n",
       "341    hey music fans i really appreciate all of you ...\n",
       "342    hello everyone, it is not my intention to spam...\n",
       "343    ******* facebook is lame and so 2004! check ou...\n",
       "344    please check out and send to others freedom an...\n",
       "345    nice to meet you - this is johnny: 1. if you a...\n",
       "346     hey you ! check out the channel of alvar lake !!\n",
       "347    hi -this is johnny: 1. if you already know my ...\n",
       "348                                                  wow\n",
       "349                                    love this song!!!\n",
       "350                                love this song !!!!!!\n",
       "351    check out this video on youtube:<br />&quot;th...\n",
       "352    i watched this because of the large amount of ...\n",
       "353    o peoples of the earth, i have seen how you pe...\n",
       "354                 this song always gives me chills! :)\n",
       "355                                  i love dis song!! 3\n",
       "356    i will never forget this song in my life like ...\n",
       "357    ********omg facebook is old! check out  ------...\n",
       "358    hey music fans i really appreciate all of you ...\n",
       "359    **check out my new mixtape**** **check out my ...\n",
       "360    **check out my new mixtape**** **check out my ...\n",
       "361    **check out my new mixtape**** **check out my ...\n",
       "362                                  waka waka she rules\n",
       "363                             she is sooooo beautiful!\n",
       "364                                    well done shakira\n",
       "365    i love this song because we sing it at camp al...\n",
       "366    i love this song for two reasons: 1.it is abou...\n",
       "367                                                  wow\n",
       "368                              shakira u are so wiredo\n",
       "369                           shakira is the best dancer\n",
       "Name: CONTENT, Length: 1956, dtype: object"
      ]
     },
     "execution_count": 7,
     "metadata": {},
     "output_type": "execute_result"
    }
   ],
   "source": [
    "dd['CONTENT'].str.lower().compute()"
   ]
  },
  {
   "cell_type": "code",
   "execution_count": 8,
   "metadata": {},
   "outputs": [],
   "source": [
    "is_spam = dd[(dd['CLASS']==1)].compute()"
   ]
  },
  {
   "cell_type": "code",
   "execution_count": 9,
   "metadata": {},
   "outputs": [
    {
     "data": {
      "text/plain": [
       "COMMENT_ID    1005\n",
       "AUTHOR        1005\n",
       "DATE           760\n",
       "CONTENT       1005\n",
       "CLASS         1005\n",
       "dtype: int64"
      ]
     },
     "execution_count": 9,
     "metadata": {},
     "output_type": "execute_result"
    }
   ],
   "source": [
    "dd[(dd['CLASS']==1)].count().compute()"
   ]
  },
  {
   "cell_type": "code",
   "execution_count": 11,
   "metadata": {},
   "outputs": [
    {
     "data": {
      "text/plain": [
       "False    544\n",
       "True     461\n",
       "Name: CONTENT, dtype: int64"
      ]
     },
     "execution_count": 11,
     "metadata": {},
     "output_type": "execute_result"
    }
   ],
   "source": [
    "is_spam['CONTENT'].str.lower().str.contains('check').value_counts()"
   ]
  },
  {
   "cell_type": "code",
   "execution_count": 12,
   "metadata": {},
   "outputs": [],
   "source": [
    "not_spam = dd[(dd['CLASS']==0)].compute()"
   ]
  },
  {
   "cell_type": "code",
   "execution_count": 14,
   "metadata": {},
   "outputs": [
    {
     "data": {
      "text/plain": [
       "False    932\n",
       "True      19\n",
       "Name: CONTENT, dtype: int64"
      ]
     },
     "execution_count": 14,
     "metadata": {},
     "output_type": "execute_result"
    }
   ],
   "source": [
    "not_spam['CONTENT'].str.lower().str.contains('check').value_counts()"
   ]
  },
  {
   "cell_type": "markdown",
   "metadata": {},
   "source": [
    "# Part 2\n",
    "\n",
    "## Platforms\n",
    "\n",
    "As far as the platforms go, I would prefer to work with AWS SageMaker if and when I am working at X company, and just looking to use the rest of the AWS tools to leverage the work that I would be doing. If you have a lot of money to burn on some projects then SageMaker is probably the way to go. But for learning purposes, DataBricks is powerful enough to do some interesting things with Big Data, especially if you're learning enough Scala for Apache Spark. \n",
    "\n",
    "## Languages\n",
    "\n",
    "My personal preference for languages has been **Python > SQL > Scala > anything else > Java**. So without considering my personal bias, Python is very useful for just accessing many different data science libraries, and to create easy to read reproducible code. SQL is important for communicating with the database and letting her know what you want from her, but also important in asking her if she's talking to any other databases. Scala has an advantage over Python when it comes to processing data from databases, and communicating with databases, and connecting your pipeline to her. Honestly Java is cool and all and probably extremely useful because why else is it mandatory that every CS major have to learn Java during their undergrad? \n",
    "\n",
    "## Libraries\n",
    "\n",
    "Libraries is the fun stuff, and where the meat (languages) meets the sauce (libraires). Because without these already prebuilt libraries, we'd be sitting here coding RandomForest. And nobody wants to reproduce RandomForest. My current preference for libraries is **Spark > Dask > Reduce > Numba**. I say current, because I know that this will change in a few months to a year when Dask becomes more popular and most companies will switch up their DataBase processing to use Dask tech instead of Spark. Shoutout to Dimitry for showing me the pycon talk about how Dask can be better and faster (also Python)."
   ]
  },
  {
   "cell_type": "code",
   "execution_count": null,
   "metadata": {},
   "outputs": [],
   "source": []
  }
 ],
 "metadata": {
  "kernelspec": {
   "display_name": "conda_python3",
   "language": "python",
   "name": "conda_python3"
  },
  "language_info": {
   "codemirror_mode": {
    "name": "ipython",
    "version": 3
   },
   "file_extension": ".py",
   "mimetype": "text/x-python",
   "name": "python",
   "nbconvert_exporter": "python",
   "pygments_lexer": "ipython3",
   "version": "3.6.5"
  }
 },
 "nbformat": 4,
 "nbformat_minor": 2
}
