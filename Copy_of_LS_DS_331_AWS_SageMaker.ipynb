{
  "nbformat": 4,
  "nbformat_minor": 0,
  "metadata": {
    "colab": {
      "name": "Copy of LS_DS_331_AWS_SageMaker.ipynb",
      "version": "0.3.2",
      "provenance": [],
      "include_colab_link": true
    },
    "kernelspec": {
      "display_name": "conda_python3",
      "language": "python",
      "name": "conda_python3"
    }
  },
  "cells": [
    {
      "cell_type": "markdown",
      "metadata": {
        "id": "view-in-github",
        "colab_type": "text"
      },
      "source": [
        "<a href=\"https://colab.research.google.com/github/veritaem/DS-Unit-3-Sprint-3-Big-Data/blob/master/Copy_of_LS_DS_331_AWS_SageMaker.ipynb\" target=\"_parent\"><img src=\"https://colab.research.google.com/assets/colab-badge.svg\" alt=\"Open In Colab\"/></a>"
      ]
    },
    {
      "metadata": {
        "id": "PEUOlShkkJ3q",
        "colab_type": "text"
      },
      "cell_type": "markdown",
      "source": [
        "_Lambda School Data Science — Big Data_\n",
        "\n",
        "# AWS SageMaker\n",
        "\n",
        "### Links\n",
        "\n",
        "#### AWS\n",
        "- The Open Guide to Amazon Web Services: EC2 Basics _(just this one short section!)_ https://github.com/open-guides/og-aws#ec2-basics\n",
        "- AWS in Plain English https://www.expeditedssl.com/aws-in-plain-english\n",
        "- Amazon SageMaker » Create an Amazon SageMaker Notebook Instance https://docs.aws.amazon.com/sagemaker/latest/dg/gs-setup-working-env.html\n",
        "- Amazon SageMaker » Install External Libraries https://docs.aws.amazon.com/sagemaker/latest/dg/nbi-add-external.html\n",
        "\n",
        "#### Dask\n",
        "- Why Dask? https://docs.dask.org/en/latest/why.html\n",
        "- Use Cases https://docs.dask.org/en/latest/use-cases.html\n",
        "- User Interfaces https://docs.dask.org/en/latest/user-interfaces.html\n",
        "\n",
        "#### Numba\n",
        "- A ~5 minute guide http://numba.pydata.org/numba-doc/latest/user/5minguide.html"
      ]
    },
    {
      "metadata": {
        "id": "-K3MbZulkJ31",
        "colab_type": "text"
      },
      "cell_type": "markdown",
      "source": [
        "## 1. Estimate pi\n",
        "https://en.wikipedia.org/wiki/Approximations_of_π#Summing_a_circle's_area"
      ]
    },
    {
      "metadata": {
        "id": "G1PwHC7FkJ35",
        "colab_type": "text"
      },
      "cell_type": "markdown",
      "source": [
        "### With plain Python"
      ]
    },
    {
      "metadata": {
        "id": "chaolGL5kJ3-",
        "colab_type": "code",
        "colab": {}
      },
      "cell_type": "code",
      "source": [
        "import random\n",
        "\n",
        "def monte_carlo_pi(nsamples):\n",
        "    acc = 0\n",
        "    for _ in range(int(nsamples)):\n",
        "        x = random.random()\n",
        "        y = random.random()\n",
        "        if (x**2 + y**2) < 1.0:\n",
        "            acc += 1\n",
        "    return 4.0 * acc / nsamples"
      ],
      "execution_count": 0,
      "outputs": []
    },
    {
      "metadata": {
        "id": "0OnGULUYkJ4M",
        "colab_type": "code",
        "colab": {
          "base_uri": "https://localhost:8080/",
          "height": 72
        },
        "outputId": "3bfdbe06-89d4-4420-91d9-e74df2caa0cb"
      },
      "cell_type": "code",
      "source": [
        "%%time\n",
        "monte_carlo_pi(1e7)"
      ],
      "execution_count": 2,
      "outputs": [
        {
          "output_type": "stream",
          "text": [
            "CPU times: user 3.76 s, sys: 233 ms, total: 3.99 s\n",
            "Wall time: 3.99 s\n"
          ],
          "name": "stdout"
        },
        {
          "output_type": "execute_result",
          "data": {
            "text/plain": [
              "3.1418684"
            ]
          },
          "metadata": {
            "tags": []
          },
          "execution_count": 2
        }
      ]
    },
    {
      "metadata": {
        "id": "lbwqo0HPkJ4W",
        "colab_type": "text"
      },
      "cell_type": "markdown",
      "source": [
        "### With Numba\n",
        "http://numba.pydata.org/"
      ]
    },
    {
      "metadata": {
        "id": "Kw3WLaOHkJ4Z",
        "colab_type": "code",
        "colab": {}
      },
      "cell_type": "code",
      "source": [
        "from numba import njit"
      ],
      "execution_count": 0,
      "outputs": []
    },
    {
      "metadata": {
        "id": "d6D6-DX1kJ4f",
        "colab_type": "code",
        "colab": {}
      },
      "cell_type": "code",
      "source": [
        ""
      ],
      "execution_count": 0,
      "outputs": []
    },
    {
      "metadata": {
        "id": "TwpUOEU5kJ4k",
        "colab_type": "text"
      },
      "cell_type": "markdown",
      "source": [
        "## 2. Loop a slow function"
      ]
    },
    {
      "metadata": {
        "id": "EWYuzfyekJ4m",
        "colab_type": "text"
      },
      "cell_type": "markdown",
      "source": [
        "### With plain Python"
      ]
    },
    {
      "metadata": {
        "id": "BJlufeLQkJ4p",
        "colab_type": "code",
        "colab": {}
      },
      "cell_type": "code",
      "source": [
        "from time import sleep\n",
        "\n",
        "def slow_square(x):\n",
        "    sleep(1)\n",
        "    return x**2"
      ],
      "execution_count": 0,
      "outputs": []
    },
    {
      "metadata": {
        "id": "zosEAk5qkJ4z",
        "colab_type": "code",
        "colab": {}
      },
      "cell_type": "code",
      "source": [
        "%%time\n",
        "[slow_square(n) for n in range(16)]"
      ],
      "execution_count": 0,
      "outputs": []
    },
    {
      "metadata": {
        "id": "8OzZmJkMkJ49",
        "colab_type": "text"
      },
      "cell_type": "markdown",
      "source": [
        "### With Dask\n",
        "- https://examples.dask.org/delayed.html\n",
        "- http://docs.dask.org/en/latest/setup/single-distributed.html"
      ]
    },
    {
      "metadata": {
        "id": "tOr5fLbHkJ4-",
        "colab_type": "code",
        "colab": {}
      },
      "cell_type": "code",
      "source": [
        "from dask import compute, delayed"
      ],
      "execution_count": 0,
      "outputs": []
    },
    {
      "metadata": {
        "id": "jTu2EmY3kJ5I",
        "colab_type": "code",
        "colab": {}
      },
      "cell_type": "code",
      "source": [
        ""
      ],
      "execution_count": 0,
      "outputs": []
    },
    {
      "metadata": {
        "id": "tICuxdxtkJ5S",
        "colab_type": "text"
      },
      "cell_type": "markdown",
      "source": [
        "## 3. Analyze millions of Instacart orders"
      ]
    },
    {
      "metadata": {
        "id": "ga_UZNxfkJ5T",
        "colab_type": "text"
      },
      "cell_type": "markdown",
      "source": [
        "### Download data\n",
        "https://tech.instacart.com/3-million-instacart-orders-open-sourced-d40d29ead6f2"
      ]
    },
    {
      "metadata": {
        "id": "eF29BrQdkJ5U",
        "colab_type": "code",
        "colab": {}
      },
      "cell_type": "code",
      "source": [
        "!wget https://s3.amazonaws.com/instacart-datasets/instacart_online_grocery_shopping_2017_05_01.tar.gz"
      ],
      "execution_count": 0,
      "outputs": []
    },
    {
      "metadata": {
        "id": "Dr-ov0lakJ5c",
        "colab_type": "code",
        "colab": {}
      },
      "cell_type": "code",
      "source": [
        "!tar --gunzip --extract --verbose --file=instacart_online_grocery_shopping_2017_05_01.tar.gz"
      ],
      "execution_count": 0,
      "outputs": []
    },
    {
      "metadata": {
        "id": "0aDZDJJHkJ5j",
        "colab_type": "code",
        "colab": {}
      },
      "cell_type": "code",
      "source": [
        "%cd instacart_2017_05_01"
      ],
      "execution_count": 0,
      "outputs": []
    },
    {
      "metadata": {
        "id": "9q4afxpYkJ5u",
        "colab_type": "code",
        "colab": {}
      },
      "cell_type": "code",
      "source": [
        "!ls -lh *.csv"
      ],
      "execution_count": 0,
      "outputs": []
    },
    {
      "metadata": {
        "id": "97hEfY_ikJ5y",
        "colab_type": "text"
      },
      "cell_type": "markdown",
      "source": [
        "### With Pandas"
      ]
    },
    {
      "metadata": {
        "id": "YQFkL5iUkJ51",
        "colab_type": "text"
      },
      "cell_type": "markdown",
      "source": [
        "#### Load & merge data"
      ]
    },
    {
      "metadata": {
        "id": "FWMRDoKqkJ52",
        "colab_type": "code",
        "colab": {}
      },
      "cell_type": "code",
      "source": [
        "import pandas as pd"
      ],
      "execution_count": 0,
      "outputs": []
    },
    {
      "metadata": {
        "id": "lMY_Cm7fkJ5-",
        "colab_type": "code",
        "colab": {}
      },
      "cell_type": "code",
      "source": [
        "%%time\n",
        "order_products = pd.concat([\n",
        "    pd.read_csv('order_products__prior.csv'), \n",
        "    pd.read_csv('order_products__train.csv')])\n",
        "\n",
        "order_products.info()"
      ],
      "execution_count": 0,
      "outputs": []
    },
    {
      "metadata": {
        "id": "qeBH3JBtkJ6G",
        "colab_type": "code",
        "colab": {}
      },
      "cell_type": "code",
      "source": [
        "order_products.head()"
      ],
      "execution_count": 0,
      "outputs": []
    },
    {
      "metadata": {
        "id": "8fNIGKuxkJ6R",
        "colab_type": "code",
        "colab": {}
      },
      "cell_type": "code",
      "source": [
        "products = pd.read_csv('products.csv')\n",
        "products.info()"
      ],
      "execution_count": 0,
      "outputs": []
    },
    {
      "metadata": {
        "id": "qLJlXEfukJ6Z",
        "colab_type": "code",
        "colab": {}
      },
      "cell_type": "code",
      "source": [
        "products.head()"
      ],
      "execution_count": 0,
      "outputs": []
    },
    {
      "metadata": {
        "id": "MNPHlubokJ6k",
        "colab_type": "code",
        "colab": {}
      },
      "cell_type": "code",
      "source": [
        "%%time\n",
        "order_products = pd.merge(order_products, products[['product_id', 'product_name']])"
      ],
      "execution_count": 0,
      "outputs": []
    },
    {
      "metadata": {
        "id": "fQYKq7FbkJ6z",
        "colab_type": "code",
        "colab": {}
      },
      "cell_type": "code",
      "source": [
        "order_products.head()"
      ],
      "execution_count": 0,
      "outputs": []
    },
    {
      "metadata": {
        "id": "-JjiEvXykJ65",
        "colab_type": "text"
      },
      "cell_type": "markdown",
      "source": [
        "#### Most popular products?"
      ]
    },
    {
      "metadata": {
        "id": "lPWe2lljkJ67",
        "colab_type": "code",
        "colab": {}
      },
      "cell_type": "code",
      "source": [
        ""
      ],
      "execution_count": 0,
      "outputs": []
    },
    {
      "metadata": {
        "id": "Gd1ziD1SkJ7C",
        "colab_type": "text"
      },
      "cell_type": "markdown",
      "source": [
        "#### Organic?"
      ]
    },
    {
      "metadata": {
        "id": "07PPQ_WNkJ7D",
        "colab_type": "code",
        "colab": {}
      },
      "cell_type": "code",
      "source": [
        ""
      ],
      "execution_count": 0,
      "outputs": []
    },
    {
      "metadata": {
        "id": "YWO20Bt_kJ7R",
        "colab_type": "code",
        "colab": {}
      },
      "cell_type": "code",
      "source": [
        ""
      ],
      "execution_count": 0,
      "outputs": []
    },
    {
      "metadata": {
        "id": "WsaqTZWakJ7Z",
        "colab_type": "text"
      },
      "cell_type": "markdown",
      "source": [
        "### With Dask\n",
        "https://examples.dask.org/dataframe.html"
      ]
    },
    {
      "metadata": {
        "id": "CX6bJAlFkJ7f",
        "colab_type": "code",
        "colab": {}
      },
      "cell_type": "code",
      "source": [
        "import dask.dataframe as dd\n",
        "from dask.distributed import Client"
      ],
      "execution_count": 0,
      "outputs": []
    },
    {
      "metadata": {
        "id": "1uPu3D3ikJ7i",
        "colab_type": "text"
      },
      "cell_type": "markdown",
      "source": [
        "#### Load & merge data\n",
        "https://examples.dask.org/dataframes/01-data-access.html#Read-CSV-files"
      ]
    },
    {
      "metadata": {
        "id": "alCYcdegkJ7i",
        "colab_type": "code",
        "colab": {}
      },
      "cell_type": "code",
      "source": [
        ""
      ],
      "execution_count": 0,
      "outputs": []
    },
    {
      "metadata": {
        "id": "1uDeQ92RkJ7m",
        "colab_type": "code",
        "colab": {}
      },
      "cell_type": "code",
      "source": [
        ""
      ],
      "execution_count": 0,
      "outputs": []
    },
    {
      "metadata": {
        "id": "44GcGSIjkJ7u",
        "colab_type": "text"
      },
      "cell_type": "markdown",
      "source": [
        "http://docs.dask.org/en/latest/dataframe-performance.html#persist-intelligently"
      ]
    },
    {
      "metadata": {
        "id": "-aCP1E5fkJ7v",
        "colab_type": "code",
        "colab": {}
      },
      "cell_type": "code",
      "source": [
        ""
      ],
      "execution_count": 0,
      "outputs": []
    },
    {
      "metadata": {
        "id": "pXLKP90QkJ8B",
        "colab_type": "text"
      },
      "cell_type": "markdown",
      "source": [
        "#### Most popular products?"
      ]
    },
    {
      "metadata": {
        "id": "IsSXOQ6ukJ8C",
        "colab_type": "code",
        "colab": {}
      },
      "cell_type": "code",
      "source": [
        ""
      ],
      "execution_count": 0,
      "outputs": []
    },
    {
      "metadata": {
        "id": "1k4ql3OIkJ8E",
        "colab_type": "text"
      },
      "cell_type": "markdown",
      "source": [
        "#### Organic?"
      ]
    },
    {
      "metadata": {
        "id": "rqSbfSvIkJ8F",
        "colab_type": "code",
        "colab": {}
      },
      "cell_type": "code",
      "source": [
        ""
      ],
      "execution_count": 0,
      "outputs": []
    },
    {
      "metadata": {
        "id": "CwiV7bvRkJ8H",
        "colab_type": "code",
        "colab": {}
      },
      "cell_type": "code",
      "source": [
        ""
      ],
      "execution_count": 0,
      "outputs": []
    },
    {
      "metadata": {
        "id": "91r-vlgukJ8J",
        "colab_type": "text"
      },
      "cell_type": "markdown",
      "source": [
        "## 4. Fit a machine learning model"
      ]
    },
    {
      "metadata": {
        "id": "kuoSUOtdkJ8K",
        "colab_type": "text"
      },
      "cell_type": "markdown",
      "source": [
        "### Load data"
      ]
    },
    {
      "metadata": {
        "id": "kEkcuQl2kJ8M",
        "colab_type": "code",
        "colab": {}
      },
      "cell_type": "code",
      "source": [
        "%cd ../ds1-predictive-modeling-challenge"
      ],
      "execution_count": 0,
      "outputs": []
    },
    {
      "metadata": {
        "id": "3xXbFqGZkJ8R",
        "colab_type": "code",
        "colab": {}
      },
      "cell_type": "code",
      "source": [
        "import numpy as np\n",
        "import pandas as pd\n",
        "from sklearn.ensemble import RandomForestClassifier\n",
        "\n",
        "train_features = pd.read_csv('train_features.csv')\n",
        "train_labels = pd.read_csv('train_labels.csv')\n",
        "\n",
        "X_train_numeric = train_features.select_dtypes(np.number)\n",
        "y_train = train_labels['status_group']"
      ],
      "execution_count": 0,
      "outputs": []
    },
    {
      "metadata": {
        "id": "IvzgT4C-kJ8U",
        "colab_type": "text"
      },
      "cell_type": "markdown",
      "source": [
        "### With 2 cores (like Google Colab)\n",
        "https://scikit-learn.org/stable/modules/generated/sklearn.ensemble.RandomForestClassifier.html"
      ]
    },
    {
      "metadata": {
        "id": "iEBxqH0lkJ8W",
        "colab_type": "code",
        "colab": {}
      },
      "cell_type": "code",
      "source": [
        "model = RandomForestClassifier(n_estimators=200, oob_score=True, n_jobs=2, random_state=42, verbose=1)\n",
        "model.fit(X_train_numeric, y_train)\n",
        "print('Out-of-bag score:', model.oob_score_)"
      ],
      "execution_count": 0,
      "outputs": []
    },
    {
      "metadata": {
        "id": "YZhfBTPHkJ8e",
        "colab_type": "text"
      },
      "cell_type": "markdown",
      "source": [
        "### With 16 cores (on AWS m4.4xlarge)"
      ]
    },
    {
      "metadata": {
        "id": "A8vqfA_AkJ8e",
        "colab_type": "code",
        "colab": {}
      },
      "cell_type": "code",
      "source": [
        ""
      ],
      "execution_count": 0,
      "outputs": []
    },
    {
      "metadata": {
        "id": "KbxB4VOfkJ8i",
        "colab_type": "text"
      },
      "cell_type": "markdown",
      "source": [
        "## ASSIGNMENT\n",
        "\n",
        "Revisit a previous assignment or project that had slow speeds or big data.\n",
        "\n",
        "Make it better with what you've learned today!\n",
        "\n",
        "You can use `wget` or Kaggle API to get data. Some possibilities include:\n",
        "\n",
        "- https://www.kaggle.com/c/ds1-predictive-modeling-challenge\n",
        "- https://www.kaggle.com/ntnu-testimon/paysim1\n",
        "- https://github.com/mdeff/fma\n",
        "- https://tech.instacart.com/3-million-instacart-orders-open-sourced-d40d29ead6f2 \n",
        "\n",
        "\n",
        "\n",
        "Also, you can play with [Datashader](http://datashader.org/) and its [example datasets](https://github.com/pyviz/datashader/blob/master/examples/datasets.yml)!"
      ]
    },
    {
      "metadata": {
        "id": "UYRy14JgmqLZ",
        "colab_type": "code",
        "colab": {}
      },
      "cell_type": "code",
      "source": [
        ""
      ],
      "execution_count": 0,
      "outputs": []
    },
    {
      "metadata": {
        "id": "PIv_aE8omp_O",
        "colab_type": "code",
        "colab": {}
      },
      "cell_type": "code",
      "source": [
        ""
      ],
      "execution_count": 0,
      "outputs": []
    }
  ]
}