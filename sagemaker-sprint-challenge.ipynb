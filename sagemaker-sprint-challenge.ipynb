{
 "cells": [
  {
   "cell_type": "code",
   "execution_count": 3,
   "metadata": {},
   "outputs": [],
   "source": [
    "import pandas as pd\n",
    "import dask.dataframe as dd"
   ]
  },
  {
   "cell_type": "code",
   "execution_count": 5,
   "metadata": {},
   "outputs": [
    {
     "name": "stdout",
     "output_type": "stream",
     "text": [
      "--2019-03-01 16:30:15--  https://archive.ics.uci.edu/ml/machine-learning-databases/00380/YouTube-Spam-Collection-v1.zip\n",
      "Resolving archive.ics.uci.edu (archive.ics.uci.edu)... 128.195.10.249\n",
      "Connecting to archive.ics.uci.edu (archive.ics.uci.edu)|128.195.10.249|:443... connected.\n",
      "HTTP request sent, awaiting response... 200 OK\n",
      "Length: 163567 (160K) [application/zip]\n",
      "Saving to: ‘YouTube-Spam-Collection-v1.zip’\n",
      "\n",
      "YouTube-Spam-Collec 100%[===================>] 159.73K   788KB/s    in 0.2s    \n",
      "\n",
      "2019-03-01 16:30:16 (788 KB/s) - ‘YouTube-Spam-Collection-v1.zip’ saved [163567/163567]\n",
      "\n"
     ]
    }
   ],
   "source": [
    "!wget 'https://archive.ics.uci.edu/ml/machine-learning-databases/00380/YouTube-Spam-Collection-v1.zip'"
   ]
  },
  {
   "cell_type": "code",
   "execution_count": 7,
   "metadata": {},
   "outputs": [
    {
     "name": "stdout",
     "output_type": "stream",
     "text": [
      "Archive:  YouTube-Spam-Collection-v1.zip\r\n",
      "  inflating: Youtube01-Psy.csv       \r\n",
      "   creating: __MACOSX/\r\n",
      "  inflating: __MACOSX/._Youtube01-Psy.csv  \r\n",
      "  inflating: Youtube02-KatyPerry.csv  \r\n",
      "  inflating: __MACOSX/._Youtube02-KatyPerry.csv  \r\n",
      "  inflating: Youtube03-LMFAO.csv     \r\n",
      "  inflating: __MACOSX/._Youtube03-LMFAO.csv  \r\n",
      "  inflating: Youtube04-Eminem.csv    \r\n",
      "  inflating: __MACOSX/._Youtube04-Eminem.csv  \r\n",
      "  inflating: Youtube05-Shakira.csv   \r\n",
      "  inflating: __MACOSX/._Youtube05-Shakira.csv  \r\n"
     ]
    }
   ],
   "source": [
    "!unzip YouTube-Spam-Collection-v1.zip"
   ]
  },
  {
   "cell_type": "code",
   "execution_count": 9,
   "metadata": {},
   "outputs": [],
   "source": [
    "!cd __MACOSX/"
   ]
  },
  {
   "cell_type": "code",
   "execution_count": 10,
   "metadata": {},
   "outputs": [
    {
     "name": "stdout",
     "output_type": "stream",
     "text": [
      "Youtube01-Psy.csv\t Youtube03-LMFAO.csv   Youtube05-Shakira.csv\r\n",
      "Youtube02-KatyPerry.csv  Youtube04-Eminem.csv\r\n"
     ]
    }
   ],
   "source": [
    "!ls *.csv"
   ]
  },
  {
   "cell_type": "code",
   "execution_count": 16,
   "metadata": {},
   "outputs": [],
   "source": [
    "filelist = ['Youtube01-Psy.csv', 'Youtube02-KatyPerry.csv',\n",
    "            'Youtube03-LMFAO.csv', 'Youtube04-Eminem.csv', 'Youtube05-Shakira.csv']\n",
    "df = dd.read_csv(filelist)"
   ]
  },
  {
   "cell_type": "code",
   "execution_count": 19,
   "metadata": {},
   "outputs": [
    {
     "data": {
      "text/html": [
       "<div>\n",
       "<style scoped>\n",
       "    .dataframe tbody tr th:only-of-type {\n",
       "        vertical-align: middle;\n",
       "    }\n",
       "\n",
       "    .dataframe tbody tr th {\n",
       "        vertical-align: top;\n",
       "    }\n",
       "\n",
       "    .dataframe thead th {\n",
       "        text-align: right;\n",
       "    }\n",
       "</style>\n",
       "<table border=\"1\" class=\"dataframe\">\n",
       "  <thead>\n",
       "    <tr style=\"text-align: right;\">\n",
       "      <th></th>\n",
       "      <th>COMMENT_ID</th>\n",
       "      <th>AUTHOR</th>\n",
       "      <th>DATE</th>\n",
       "      <th>CONTENT</th>\n",
       "      <th>CLASS</th>\n",
       "    </tr>\n",
       "  </thead>\n",
       "  <tbody>\n",
       "    <tr>\n",
       "      <th>0</th>\n",
       "      <td>LZQPQhLyRh80UYxNuaDWhIGQYNQ96IuCg-AYWqNPjpU</td>\n",
       "      <td>Julius NM</td>\n",
       "      <td>2013-11-07T06:20:48</td>\n",
       "      <td>Huh, anyway check out this you[tube] channel: ...</td>\n",
       "      <td>1</td>\n",
       "    </tr>\n",
       "    <tr>\n",
       "      <th>1</th>\n",
       "      <td>LZQPQhLyRh_C2cTtd9MvFRJedxydaVW-2sNg5Diuo4A</td>\n",
       "      <td>adam riyati</td>\n",
       "      <td>2013-11-07T12:37:15</td>\n",
       "      <td>Hey guys check out my new channel and our firs...</td>\n",
       "      <td>1</td>\n",
       "    </tr>\n",
       "    <tr>\n",
       "      <th>2</th>\n",
       "      <td>LZQPQhLyRh9MSZYnf8djyk0gEF9BHDPYrrK-qCczIY8</td>\n",
       "      <td>Evgeny Murashkin</td>\n",
       "      <td>2013-11-08T17:34:21</td>\n",
       "      <td>just for test I have to say murdev.com</td>\n",
       "      <td>1</td>\n",
       "    </tr>\n",
       "    <tr>\n",
       "      <th>3</th>\n",
       "      <td>z13jhp0bxqncu512g22wvzkasxmvvzjaz04</td>\n",
       "      <td>ElNino Melendez</td>\n",
       "      <td>2013-11-09T08:28:43</td>\n",
       "      <td>me shaking my sexy ass on my channel enjoy ^_^ ﻿</td>\n",
       "      <td>1</td>\n",
       "    </tr>\n",
       "    <tr>\n",
       "      <th>4</th>\n",
       "      <td>z13fwbwp1oujthgqj04chlngpvzmtt3r3dw</td>\n",
       "      <td>GsMega</td>\n",
       "      <td>2013-11-10T16:05:38</td>\n",
       "      <td>watch?v=vtaRGgvGtWQ   Check this out .﻿</td>\n",
       "      <td>1</td>\n",
       "    </tr>\n",
       "  </tbody>\n",
       "</table>\n",
       "</div>"
      ],
      "text/plain": [
       "                                    COMMENT_ID            AUTHOR  \\\n",
       "0  LZQPQhLyRh80UYxNuaDWhIGQYNQ96IuCg-AYWqNPjpU         Julius NM   \n",
       "1  LZQPQhLyRh_C2cTtd9MvFRJedxydaVW-2sNg5Diuo4A       adam riyati   \n",
       "2  LZQPQhLyRh9MSZYnf8djyk0gEF9BHDPYrrK-qCczIY8  Evgeny Murashkin   \n",
       "3          z13jhp0bxqncu512g22wvzkasxmvvzjaz04   ElNino Melendez   \n",
       "4          z13fwbwp1oujthgqj04chlngpvzmtt3r3dw            GsMega   \n",
       "\n",
       "                  DATE                                            CONTENT  \\\n",
       "0  2013-11-07T06:20:48  Huh, anyway check out this you[tube] channel: ...   \n",
       "1  2013-11-07T12:37:15  Hey guys check out my new channel and our firs...   \n",
       "2  2013-11-08T17:34:21             just for test I have to say murdev.com   \n",
       "3  2013-11-09T08:28:43   me shaking my sexy ass on my channel enjoy ^_^ ﻿   \n",
       "4  2013-11-10T16:05:38            watch?v=vtaRGgvGtWQ   Check this out .﻿   \n",
       "\n",
       "   CLASS  \n",
       "0      1  \n",
       "1      1  \n",
       "2      1  \n",
       "3      1  \n",
       "4      1  "
      ]
     },
     "execution_count": 19,
     "metadata": {},
     "output_type": "execute_result"
    }
   ],
   "source": [
    "df.head(5)"
   ]
  },
  {
   "cell_type": "code",
   "execution_count": 27,
   "metadata": {},
   "outputs": [
    {
     "data": {
      "text/html": [
       "<div><strong>Dask DataFrame Structure:</strong></div>\n",
       "<div>\n",
       "<style scoped>\n",
       "    .dataframe tbody tr th:only-of-type {\n",
       "        vertical-align: middle;\n",
       "    }\n",
       "\n",
       "    .dataframe tbody tr th {\n",
       "        vertical-align: top;\n",
       "    }\n",
       "\n",
       "    .dataframe thead th {\n",
       "        text-align: right;\n",
       "    }\n",
       "</style>\n",
       "<table border=\"1\" class=\"dataframe\">\n",
       "  <thead>\n",
       "    <tr style=\"text-align: right;\">\n",
       "      <th></th>\n",
       "      <th>x</th>\n",
       "      <th>y</th>\n",
       "    </tr>\n",
       "    <tr>\n",
       "      <th>npartitions=5</th>\n",
       "      <th></th>\n",
       "      <th></th>\n",
       "    </tr>\n",
       "  </thead>\n",
       "  <tbody>\n",
       "    <tr>\n",
       "      <th></th>\n",
       "      <td>float64</td>\n",
       "      <td>float64</td>\n",
       "    </tr>\n",
       "    <tr>\n",
       "      <th></th>\n",
       "      <td>...</td>\n",
       "      <td>...</td>\n",
       "    </tr>\n",
       "    <tr>\n",
       "      <th>...</th>\n",
       "      <td>...</td>\n",
       "      <td>...</td>\n",
       "    </tr>\n",
       "    <tr>\n",
       "      <th></th>\n",
       "      <td>...</td>\n",
       "      <td>...</td>\n",
       "    </tr>\n",
       "    <tr>\n",
       "      <th></th>\n",
       "      <td>...</td>\n",
       "      <td>...</td>\n",
       "    </tr>\n",
       "  </tbody>\n",
       "</table>\n",
       "</div>\n",
       "<div>Dask Name: apply, 20 tasks</div>"
      ],
      "text/plain": [
       "Dask DataFrame Structure:\n",
       "                     x        y\n",
       "npartitions=5                  \n",
       "               float64  float64\n",
       "                   ...      ...\n",
       "...                ...      ...\n",
       "                   ...      ...\n",
       "                   ...      ...\n",
       "Dask Name: apply, 20 tasks"
      ]
     },
     "execution_count": 27,
     "metadata": {},
     "output_type": "execute_result"
    }
   ],
   "source": [
    "# df.apply(lambda row: row.astype(str).str.contains('check').any(), axis=1)\n",
    "df.apply(lambda row: row.astype(str).str.contains('check').any(),\n",
    "         meta={'x': 'f8', 'y': 'f8'}, axis=1)"
   ]
  },
  {
   "cell_type": "code",
   "execution_count": 31,
   "metadata": {},
   "outputs": [
    {
     "name": "stdout",
     "output_type": "stream",
     "text": [
      "Help on method count in module dask.dataframe.core:\n",
      "\n",
      "count(axis=None, split_every=False) method of dask.dataframe.core.DataFrame instance\n",
      "    Return Series with number of non-NA/null observations over requested\n",
      "    axis. Works with non-floating point data as well (detects NaN and None)\n",
      "    \n",
      "    Parameters\n",
      "    ----------\n",
      "    axis : {0 or 'index', 1 or 'columns'}, default 0\n",
      "        0 or 'index' for row-wise, 1 or 'columns' for column-wise\n",
      "    level : int or level name, default None\n",
      "        If the axis is a MultiIndex (hierarchical), count along a\n",
      "        particular level, collapsing into a DataFrame\n",
      "    numeric_only : boolean, default False\n",
      "        Include only float, int, boolean data\n",
      "    \n",
      "    Returns\n",
      "    -------\n",
      "    count : Series (or DataFrame if level specified)\n",
      "    \n",
      "    Notes\n",
      "    -----\n",
      "    Dask doesn't support the following argument(s).\n",
      "    \n",
      "    * level\n",
      "    * numeric_only\n",
      "\n"
     ]
    }
   ],
   "source": [
    "help(df.count)"
   ]
  },
  {
   "cell_type": "code",
   "execution_count": 33,
   "metadata": {},
   "outputs": [
    {
     "name": "stdout",
     "output_type": "stream",
     "text": [
      "Help on method isin in module dask.dataframe.core:\n",
      "\n",
      "isin(values) method of dask.dataframe.core.DataFrame instance\n",
      "    Return boolean DataFrame showing whether each element in the\n",
      "    DataFrame is contained in values.\n",
      "    \n",
      "    Parameters\n",
      "    ----------\n",
      "    values : iterable, Series, DataFrame or dictionary\n",
      "        The result will only be true at a location if all the\n",
      "        labels match. If `values` is a Series, that's the index. If\n",
      "        `values` is a dictionary, the keys must be the column names,\n",
      "        which must match. If `values` is a DataFrame,\n",
      "        then both the index and column labels must match.\n",
      "    \n",
      "    Returns\n",
      "    -------\n",
      "    \n",
      "    DataFrame of booleans\n",
      "    \n",
      "    Examples\n",
      "    --------\n",
      "    When ``values`` is a list:\n",
      "    \n",
      "    >>> df = DataFrame({'A': [1, 2, 3], 'B': ['a', 'b', 'f']})  # doctest: +SKIP\n",
      "    >>> df.isin([1, 3, 12, 'a'])  # doctest: +SKIP\n",
      "           A      B\n",
      "    0   True   True\n",
      "    1  False  False\n",
      "    2   True  False\n",
      "    \n",
      "    When ``values`` is a dict:\n",
      "    \n",
      "    >>> df = DataFrame({'A': [1, 2, 3], 'B': [1, 4, 7]})  # doctest: +SKIP\n",
      "    >>> df.isin({'A': [1, 3], 'B': [4, 7, 12]})  # doctest: +SKIP\n",
      "           A      B\n",
      "    0   True  False  # Note that B didn't match the 1 here.\n",
      "    1  False   True\n",
      "    2   True   True\n",
      "    \n",
      "    When ``values`` is a Series or DataFrame:\n",
      "    \n",
      "    >>> df = DataFrame({'A': [1, 2, 3], 'B': ['a', 'b', 'f']})  # doctest: +SKIP\n",
      "    >>> other = DataFrame({'A': [1, 3, 3, 2], 'B': ['e', 'f', 'f', 'e']})  # doctest: +SKIP\n",
      "    >>> df.isin(other)  # doctest: +SKIP\n",
      "           A      B\n",
      "    0   True  False\n",
      "    1  False  False  # Column A in `other` has a 3, but not at index 1.\n",
      "    2   True   True\n",
      "\n"
     ]
    }
   ],
   "source": [
    "help(df.isin)"
   ]
  },
  {
   "cell_type": "code",
   "execution_count": 36,
   "metadata": {},
   "outputs": [
    {
     "data": {
      "text/plain": [
       "Dask Series Structure:\n",
       "npartitions=1\n",
       "AUTHOR    int64\n",
       "DATE        ...\n",
       "dtype: int64\n",
       "Dask Name: dataframe-count-agg, 26 tasks"
      ]
     },
     "execution_count": 36,
     "metadata": {},
     "output_type": "execute_result"
    }
   ],
   "source": [
    "df.isin({'CONTENT': ['check']}).count()"
   ]
  },
  {
   "cell_type": "markdown",
   "metadata": {},
   "source": [
    "\"You've been introduced to a variety of platforms (AWS SageMaker, AWS EMR, Databricks), libraries (Numba, Dask, MapReduce, Spark), and languages (Python, SQL, Scala, Java) that can \"scale up\" or \"scale out\" for faster processing of big data.\n",
    "\n",
    "Write a paragraph comparing some of these technology options. For example, you could describe which technology you may personally prefer to use, in what circumstances, for what reasons.\n",
    "\n",
    "(You can add your paragraph as a Markdown cell at the bottom of your SageMaker Notebook.)\"\n",
    "\n",
    "**Response to Question**\n",
    "To answer this question, will take as heuristics these: optimized processing speed, and ease of use.\n",
    "The raw processing power of AWS is very attractive, as it delivers impressively decreased/optimized\n",
    "speeds. The tradeoff, however, comes in that AWS can be somewhat cumbersome, and sometimes expensive, to use.\n",
    "In such cases, I hope to use DataBricks as an alternative solution. Numba's jit functionality offers\n",
    "C language processing speed on raw numeric computation, so would/will choose it over pure Python as\n",
    "appropriate in future. But Numba is clearly not intended to 'decorate all the computational functions',\n",
    "so to speak. Thus, Python, retains its clear general utility over that of Numba's."
   ]
  },
  {
   "cell_type": "code",
   "execution_count": null,
   "metadata": {},
   "outputs": [],
   "source": []
  }
 ],
 "metadata": {
  "kernelspec": {
   "display_name": "conda_python3",
   "language": "python",
   "name": "conda_python3"
  },
  "language_info": {
   "codemirror_mode": {
    "name": "ipython",
    "version": 3
   },
   "file_extension": ".py",
   "mimetype": "text/x-python",
   "name": "python",
   "nbconvert_exporter": "python",
   "pygments_lexer": "ipython3",
   "version": "3.6.5"
  }
 },
 "nbformat": 4,
 "nbformat_minor": 2
}
