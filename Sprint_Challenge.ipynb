{
 "cells": [
  {
   "cell_type": "code",
   "execution_count": 1,
   "metadata": {},
   "outputs": [
    {
     "name": "stdout",
     "output_type": "stream",
     "text": [
      "/home/ec2-user/SageMaker\r\n"
     ]
    }
   ],
   "source": [
    "!pwd"
   ]
  },
  {
   "cell_type": "markdown",
   "metadata": {},
   "source": [
    "### Let's Download the data"
   ]
  },
  {
   "cell_type": "code",
   "execution_count": 2,
   "metadata": {},
   "outputs": [
    {
     "name": "stdout",
     "output_type": "stream",
     "text": [
      "--2019-03-01 16:11:51--  https://archive.ics.uci.edu/ml/machine-learning-databases/00380/YouTube-Spam-Collection-v1.zip\n",
      "Resolving archive.ics.uci.edu (archive.ics.uci.edu)... 128.195.10.249\n",
      "Connecting to archive.ics.uci.edu (archive.ics.uci.edu)|128.195.10.249|:443... connected.\n",
      "HTTP request sent, awaiting response... 200 OK\n",
      "Length: 163567 (160K) [application/zip]\n",
      "Saving to: ‘YouTube-Spam-Collection-v1.zip’\n",
      "\n",
      "YouTube-Spam-Collec 100%[===================>] 159.73K   530KB/s    in 0.3s    \n",
      "\n",
      "2019-03-01 16:11:52 (530 KB/s) - ‘YouTube-Spam-Collection-v1.zip’ saved [163567/163567]\n",
      "\n"
     ]
    }
   ],
   "source": [
    "!wget https://archive.ics.uci.edu/ml/machine-learning-databases/00380/YouTube-Spam-Collection-v1.zip"
   ]
  },
  {
   "cell_type": "markdown",
   "metadata": {},
   "source": [
    "### Unzip Data"
   ]
  },
  {
   "cell_type": "code",
   "execution_count": 3,
   "metadata": {},
   "outputs": [
    {
     "name": "stdout",
     "output_type": "stream",
     "text": [
      "Archive:  YouTube-Spam-Collection-v1.zip\r\n",
      "  inflating: Youtube01-Psy.csv       \r\n",
      "   creating: __MACOSX/\r\n",
      "  inflating: __MACOSX/._Youtube01-Psy.csv  \r\n",
      "  inflating: Youtube02-KatyPerry.csv  \r\n",
      "  inflating: __MACOSX/._Youtube02-KatyPerry.csv  \r\n",
      "  inflating: Youtube03-LMFAO.csv     \r\n",
      "  inflating: __MACOSX/._Youtube03-LMFAO.csv  \r\n",
      "  inflating: Youtube04-Eminem.csv    \r\n",
      "  inflating: __MACOSX/._Youtube04-Eminem.csv  \r\n",
      "  inflating: Youtube05-Shakira.csv   \r\n",
      "  inflating: __MACOSX/._Youtube05-Shakira.csv  \r\n"
     ]
    }
   ],
   "source": [
    "!unzip YouTube-Spam-Collection-v1.zip"
   ]
  },
  {
   "cell_type": "code",
   "execution_count": 12,
   "metadata": {},
   "outputs": [
    {
     "name": "stdout",
     "output_type": "stream",
     "text": [
      "Youtube01-Psy.csv        Youtube03-LMFAO.csv   Youtube05-Shakira.csv\r\n",
      "Youtube02-KatyPerry.csv  Youtube04-Eminem.csv\r\n"
     ]
    }
   ],
   "source": [
    "ls *.csv"
   ]
  },
  {
   "cell_type": "code",
   "execution_count": 10,
   "metadata": {},
   "outputs": [],
   "source": [
    "import dask.dataframe as dd\n",
    "from dask.distributed import Client\n"
   ]
  },
  {
   "cell_type": "code",
   "execution_count": 11,
   "metadata": {},
   "outputs": [
    {
     "name": "stderr",
     "output_type": "stream",
     "text": [
      "/home/ec2-user/anaconda3/envs/python3/lib/python3.6/site-packages/distributed/bokeh/core.py:57: UserWarning: \n",
      "Port 8787 is already in use. \n",
      "Perhaps you already have a cluster running?\n",
      "Hosting the diagnostics dashboard on a random port instead.\n",
      "  warnings.warn('\\n' + msg)\n"
     ]
    },
    {
     "data": {
      "text/html": [
       "<table style=\"border: 2px solid white;\">\n",
       "<tr>\n",
       "<td style=\"vertical-align: top; border: 0px solid white\">\n",
       "<h3>Client</h3>\n",
       "<ul>\n",
       "  <li><b>Scheduler: </b>tcp://127.0.0.1:37583\n",
       "  <li><b>Dashboard: </b><a href='http://127.0.0.1:43931/status' target='_blank'>http://127.0.0.1:43931/status</a>\n",
       "</ul>\n",
       "</td>\n",
       "<td style=\"vertical-align: top; border: 0px solid white\">\n",
       "<h3>Cluster</h3>\n",
       "<ul>\n",
       "  <li><b>Workers: </b>16</li>\n",
       "  <li><b>Cores: </b>16</li>\n",
       "  <li><b>Memory: </b>67.53 GB</li>\n",
       "</ul>\n",
       "</td>\n",
       "</tr>\n",
       "</table>"
      ],
      "text/plain": [
       "<Client: scheduler='tcp://127.0.0.1:37583' processes=16 cores=16>"
      ]
     },
     "execution_count": 11,
     "metadata": {},
     "output_type": "execute_result"
    }
   ],
   "source": [
    "client = Client(n_workers=16)\n",
    "client"
   ]
  },
  {
   "cell_type": "markdown",
   "metadata": {},
   "source": [
    "## Load all five files as one single file "
   ]
  },
  {
   "cell_type": "code",
   "execution_count": 14,
   "metadata": {},
   "outputs": [],
   "source": [
    "df_youtube = dd.read_csv('*.csv')\n"
   ]
  },
  {
   "cell_type": "markdown",
   "metadata": {},
   "source": [
    "### See if it's correctly done"
   ]
  },
  {
   "cell_type": "code",
   "execution_count": 15,
   "metadata": {},
   "outputs": [
    {
     "data": {
      "text/html": [
       "<div><strong>Dask DataFrame Structure:</strong></div>\n",
       "<div>\n",
       "<style scoped>\n",
       "    .dataframe tbody tr th:only-of-type {\n",
       "        vertical-align: middle;\n",
       "    }\n",
       "\n",
       "    .dataframe tbody tr th {\n",
       "        vertical-align: top;\n",
       "    }\n",
       "\n",
       "    .dataframe thead th {\n",
       "        text-align: right;\n",
       "    }\n",
       "</style>\n",
       "<table border=\"1\" class=\"dataframe\">\n",
       "  <thead>\n",
       "    <tr style=\"text-align: right;\">\n",
       "      <th></th>\n",
       "      <th>COMMENT_ID</th>\n",
       "      <th>AUTHOR</th>\n",
       "      <th>DATE</th>\n",
       "      <th>CONTENT</th>\n",
       "      <th>CLASS</th>\n",
       "    </tr>\n",
       "    <tr>\n",
       "      <th>npartitions=5</th>\n",
       "      <th></th>\n",
       "      <th></th>\n",
       "      <th></th>\n",
       "      <th></th>\n",
       "      <th></th>\n",
       "    </tr>\n",
       "  </thead>\n",
       "  <tbody>\n",
       "    <tr>\n",
       "      <th></th>\n",
       "      <td>object</td>\n",
       "      <td>object</td>\n",
       "      <td>object</td>\n",
       "      <td>object</td>\n",
       "      <td>int64</td>\n",
       "    </tr>\n",
       "    <tr>\n",
       "      <th></th>\n",
       "      <td>...</td>\n",
       "      <td>...</td>\n",
       "      <td>...</td>\n",
       "      <td>...</td>\n",
       "      <td>...</td>\n",
       "    </tr>\n",
       "    <tr>\n",
       "      <th>...</th>\n",
       "      <td>...</td>\n",
       "      <td>...</td>\n",
       "      <td>...</td>\n",
       "      <td>...</td>\n",
       "      <td>...</td>\n",
       "    </tr>\n",
       "    <tr>\n",
       "      <th></th>\n",
       "      <td>...</td>\n",
       "      <td>...</td>\n",
       "      <td>...</td>\n",
       "      <td>...</td>\n",
       "      <td>...</td>\n",
       "    </tr>\n",
       "    <tr>\n",
       "      <th></th>\n",
       "      <td>...</td>\n",
       "      <td>...</td>\n",
       "      <td>...</td>\n",
       "      <td>...</td>\n",
       "      <td>...</td>\n",
       "    </tr>\n",
       "  </tbody>\n",
       "</table>\n",
       "</div>\n",
       "<div>Dask Name: from-delayed, 15 tasks</div>"
      ],
      "text/plain": [
       "Dask DataFrame Structure:\n",
       "              COMMENT_ID  AUTHOR    DATE CONTENT  CLASS\n",
       "npartitions=5                                          \n",
       "                  object  object  object  object  int64\n",
       "                     ...     ...     ...     ...    ...\n",
       "...                  ...     ...     ...     ...    ...\n",
       "                     ...     ...     ...     ...    ...\n",
       "                     ...     ...     ...     ...    ...\n",
       "Dask Name: from-delayed, 15 tasks"
      ]
     },
     "execution_count": 15,
     "metadata": {},
     "output_type": "execute_result"
    }
   ],
   "source": [
    "df_youtube"
   ]
  },
  {
   "cell_type": "code",
   "execution_count": 21,
   "metadata": {},
   "outputs": [
    {
     "data": {
      "text/html": [
       "<div>\n",
       "<style scoped>\n",
       "    .dataframe tbody tr th:only-of-type {\n",
       "        vertical-align: middle;\n",
       "    }\n",
       "\n",
       "    .dataframe tbody tr th {\n",
       "        vertical-align: top;\n",
       "    }\n",
       "\n",
       "    .dataframe thead th {\n",
       "        text-align: right;\n",
       "    }\n",
       "</style>\n",
       "<table border=\"1\" class=\"dataframe\">\n",
       "  <thead>\n",
       "    <tr style=\"text-align: right;\">\n",
       "      <th></th>\n",
       "      <th>COMMENT_ID</th>\n",
       "      <th>AUTHOR</th>\n",
       "      <th>DATE</th>\n",
       "      <th>CONTENT</th>\n",
       "      <th>CLASS</th>\n",
       "    </tr>\n",
       "  </thead>\n",
       "  <tbody>\n",
       "    <tr>\n",
       "      <th>0</th>\n",
       "      <td>LZQPQhLyRh80UYxNuaDWhIGQYNQ96IuCg-AYWqNPjpU</td>\n",
       "      <td>Julius NM</td>\n",
       "      <td>2013-11-07T06:20:48</td>\n",
       "      <td>Huh, anyway check out this you[tube] channel: ...</td>\n",
       "      <td>1</td>\n",
       "    </tr>\n",
       "    <tr>\n",
       "      <th>1</th>\n",
       "      <td>LZQPQhLyRh_C2cTtd9MvFRJedxydaVW-2sNg5Diuo4A</td>\n",
       "      <td>adam riyati</td>\n",
       "      <td>2013-11-07T12:37:15</td>\n",
       "      <td>Hey guys check out my new channel and our firs...</td>\n",
       "      <td>1</td>\n",
       "    </tr>\n",
       "    <tr>\n",
       "      <th>2</th>\n",
       "      <td>LZQPQhLyRh9MSZYnf8djyk0gEF9BHDPYrrK-qCczIY8</td>\n",
       "      <td>Evgeny Murashkin</td>\n",
       "      <td>2013-11-08T17:34:21</td>\n",
       "      <td>just for test I have to say murdev.com</td>\n",
       "      <td>1</td>\n",
       "    </tr>\n",
       "    <tr>\n",
       "      <th>3</th>\n",
       "      <td>z13jhp0bxqncu512g22wvzkasxmvvzjaz04</td>\n",
       "      <td>ElNino Melendez</td>\n",
       "      <td>2013-11-09T08:28:43</td>\n",
       "      <td>me shaking my sexy ass on my channel enjoy ^_^ ﻿</td>\n",
       "      <td>1</td>\n",
       "    </tr>\n",
       "    <tr>\n",
       "      <th>4</th>\n",
       "      <td>z13fwbwp1oujthgqj04chlngpvzmtt3r3dw</td>\n",
       "      <td>GsMega</td>\n",
       "      <td>2013-11-10T16:05:38</td>\n",
       "      <td>watch?v=vtaRGgvGtWQ   Check this out .﻿</td>\n",
       "      <td>1</td>\n",
       "    </tr>\n",
       "    <tr>\n",
       "      <th>5</th>\n",
       "      <td>LZQPQhLyRh9-wNRtlZDM90f1k0BrdVdJyN_YsaSwfxc</td>\n",
       "      <td>Jason Haddad</td>\n",
       "      <td>2013-11-26T02:55:11</td>\n",
       "      <td>Hey, check out my new website!! This site is a...</td>\n",
       "      <td>1</td>\n",
       "    </tr>\n",
       "    <tr>\n",
       "      <th>6</th>\n",
       "      <td>z13lfzdo5vmdi1cm123te5uz2mqig1brz04</td>\n",
       "      <td>ferleck ferles</td>\n",
       "      <td>2013-11-27T21:39:24</td>\n",
       "      <td>Subscribe to my channel ﻿</td>\n",
       "      <td>1</td>\n",
       "    </tr>\n",
       "    <tr>\n",
       "      <th>7</th>\n",
       "      <td>z122wfnzgt30fhubn04cdn3xfx2mxzngsl40k</td>\n",
       "      <td>Bob Kanowski</td>\n",
       "      <td>2013-11-28T12:33:27</td>\n",
       "      <td>i turned it on mute as soon is i came on i jus...</td>\n",
       "      <td>0</td>\n",
       "    </tr>\n",
       "    <tr>\n",
       "      <th>8</th>\n",
       "      <td>z13ttt1jcraqexk2o234ghbgzxymz1zzi04</td>\n",
       "      <td>Cony</td>\n",
       "      <td>2013-11-28T16:01:47</td>\n",
       "      <td>You should check my channel for Funny VIDEOS!!﻿</td>\n",
       "      <td>1</td>\n",
       "    </tr>\n",
       "    <tr>\n",
       "      <th>9</th>\n",
       "      <td>z12avveb4xqiirsix04chxviiljryduwxg0</td>\n",
       "      <td>BeBe Burkey</td>\n",
       "      <td>2013-11-28T16:30:13</td>\n",
       "      <td>and u should.d check my channel and tell me wh...</td>\n",
       "      <td>1</td>\n",
       "    </tr>\n",
       "    <tr>\n",
       "      <th>10</th>\n",
       "      <td>z13auhww3oufjn1qo04ci3grqqjmfjexxuo0k</td>\n",
       "      <td>Huckyduck</td>\n",
       "      <td>2013-11-28T17:06:17</td>\n",
       "      <td>Hey subscribe to me﻿</td>\n",
       "      <td>1</td>\n",
       "    </tr>\n",
       "    <tr>\n",
       "      <th>11</th>\n",
       "      <td>z13xit5agm2zyh4f523rst2gowmbx5bml</td>\n",
       "      <td>Lone Twistt</td>\n",
       "      <td>2013-11-28T17:34:55</td>\n",
       "      <td>Once you have started reading do not stop. If...</td>\n",
       "      <td>1</td>\n",
       "    </tr>\n",
       "    <tr>\n",
       "      <th>12</th>\n",
       "      <td>z13pejoiuozwxtdu323dspopnri4xts0f</td>\n",
       "      <td>Archie Lewis</td>\n",
       "      <td>2013-11-28T17:54:39</td>\n",
       "      <td>https://twitter.com/GBphotographyGB﻿</td>\n",
       "      <td>1</td>\n",
       "    </tr>\n",
       "    <tr>\n",
       "      <th>13</th>\n",
       "      <td>z121zxaxsq25z5k5o04ch1o5jqqfij3gtm40k</td>\n",
       "      <td>TheUploadaddict</td>\n",
       "      <td>2013-11-28T18:12:12</td>\n",
       "      <td>subscribe like comment﻿</td>\n",
       "      <td>1</td>\n",
       "    </tr>\n",
       "    <tr>\n",
       "      <th>14</th>\n",
       "      <td>z12oglnpoq3gjh4om04cfdlbgp2uepyytpw0k</td>\n",
       "      <td>Francisco Nora</td>\n",
       "      <td>2013-11-28T19:52:35</td>\n",
       "      <td>please like :D https://premium.easypromosapp.c...</td>\n",
       "      <td>1</td>\n",
       "    </tr>\n",
       "    <tr>\n",
       "      <th>15</th>\n",
       "      <td>z13phrmwrkfisn5er22eyrbpbvaiwfvwf04</td>\n",
       "      <td>Gaming and Stuff PRO</td>\n",
       "      <td>2013-11-28T21:14:13</td>\n",
       "      <td>Hello! Do you like gaming, art videos, scienti...</td>\n",
       "      <td>1</td>\n",
       "    </tr>\n",
       "    <tr>\n",
       "      <th>16</th>\n",
       "      <td>z13bgdvyluihfv11i22rgxwhuvabzz1os04</td>\n",
       "      <td>Zielimeek21</td>\n",
       "      <td>2013-11-28T21:49:00</td>\n",
       "      <td>I'm only checking the views﻿</td>\n",
       "      <td>0</td>\n",
       "    </tr>\n",
       "    <tr>\n",
       "      <th>17</th>\n",
       "      <td>z13vxpnoxsyeuv2jr04cctprprb1slnxdf4</td>\n",
       "      <td>OutrightIgnite</td>\n",
       "      <td>2013-11-28T21:55:02</td>\n",
       "      <td>http://www.ebay.com/itm/171183229277?ssPageNam...</td>\n",
       "      <td>1</td>\n",
       "    </tr>\n",
       "    <tr>\n",
       "      <th>18</th>\n",
       "      <td>z12qth5j0ob1fx3q404chvy4fz32tbkpllk0k</td>\n",
       "      <td>Tony K Frazier</td>\n",
       "      <td>2013-11-28T23:57:13</td>\n",
       "      <td>http://ubuntuone.com/40beUutVu2ZKxK4uTgPZ8K﻿</td>\n",
       "      <td>1</td>\n",
       "    </tr>\n",
       "    <tr>\n",
       "      <th>19</th>\n",
       "      <td>z13etj0bclzfztuwc04cgfvrgmf3fvjor1g</td>\n",
       "      <td>Jose Renteria</td>\n",
       "      <td>2013-11-29T00:22:01</td>\n",
       "      <td>We are an EDM apparel company dedicated to bri...</td>\n",
       "      <td>1</td>\n",
       "    </tr>\n",
       "  </tbody>\n",
       "</table>\n",
       "</div>"
      ],
      "text/plain": [
       "                                     COMMENT_ID                AUTHOR  \\\n",
       "0   LZQPQhLyRh80UYxNuaDWhIGQYNQ96IuCg-AYWqNPjpU             Julius NM   \n",
       "1   LZQPQhLyRh_C2cTtd9MvFRJedxydaVW-2sNg5Diuo4A           adam riyati   \n",
       "2   LZQPQhLyRh9MSZYnf8djyk0gEF9BHDPYrrK-qCczIY8      Evgeny Murashkin   \n",
       "3           z13jhp0bxqncu512g22wvzkasxmvvzjaz04       ElNino Melendez   \n",
       "4           z13fwbwp1oujthgqj04chlngpvzmtt3r3dw                GsMega   \n",
       "5   LZQPQhLyRh9-wNRtlZDM90f1k0BrdVdJyN_YsaSwfxc          Jason Haddad   \n",
       "6           z13lfzdo5vmdi1cm123te5uz2mqig1brz04        ferleck ferles   \n",
       "7         z122wfnzgt30fhubn04cdn3xfx2mxzngsl40k          Bob Kanowski   \n",
       "8           z13ttt1jcraqexk2o234ghbgzxymz1zzi04                  Cony   \n",
       "9           z12avveb4xqiirsix04chxviiljryduwxg0           BeBe Burkey   \n",
       "10        z13auhww3oufjn1qo04ci3grqqjmfjexxuo0k             Huckyduck   \n",
       "11            z13xit5agm2zyh4f523rst2gowmbx5bml           Lone Twistt   \n",
       "12            z13pejoiuozwxtdu323dspopnri4xts0f          Archie Lewis   \n",
       "13        z121zxaxsq25z5k5o04ch1o5jqqfij3gtm40k       TheUploadaddict   \n",
       "14        z12oglnpoq3gjh4om04cfdlbgp2uepyytpw0k        Francisco Nora   \n",
       "15          z13phrmwrkfisn5er22eyrbpbvaiwfvwf04  Gaming and Stuff PRO   \n",
       "16          z13bgdvyluihfv11i22rgxwhuvabzz1os04           Zielimeek21   \n",
       "17          z13vxpnoxsyeuv2jr04cctprprb1slnxdf4        OutrightIgnite   \n",
       "18        z12qth5j0ob1fx3q404chvy4fz32tbkpllk0k        Tony K Frazier   \n",
       "19          z13etj0bclzfztuwc04cgfvrgmf3fvjor1g         Jose Renteria   \n",
       "\n",
       "                   DATE                                            CONTENT  \\\n",
       "0   2013-11-07T06:20:48  Huh, anyway check out this you[tube] channel: ...   \n",
       "1   2013-11-07T12:37:15  Hey guys check out my new channel and our firs...   \n",
       "2   2013-11-08T17:34:21             just for test I have to say murdev.com   \n",
       "3   2013-11-09T08:28:43   me shaking my sexy ass on my channel enjoy ^_^ ﻿   \n",
       "4   2013-11-10T16:05:38            watch?v=vtaRGgvGtWQ   Check this out .﻿   \n",
       "5   2013-11-26T02:55:11  Hey, check out my new website!! This site is a...   \n",
       "6   2013-11-27T21:39:24                          Subscribe to my channel ﻿   \n",
       "7   2013-11-28T12:33:27  i turned it on mute as soon is i came on i jus...   \n",
       "8   2013-11-28T16:01:47    You should check my channel for Funny VIDEOS!!﻿   \n",
       "9   2013-11-28T16:30:13  and u should.d check my channel and tell me wh...   \n",
       "10  2013-11-28T17:06:17                               Hey subscribe to me﻿   \n",
       "11  2013-11-28T17:34:55   Once you have started reading do not stop. If...   \n",
       "12  2013-11-28T17:54:39               https://twitter.com/GBphotographyGB﻿   \n",
       "13  2013-11-28T18:12:12                            subscribe like comment﻿   \n",
       "14  2013-11-28T19:52:35  please like :D https://premium.easypromosapp.c...   \n",
       "15  2013-11-28T21:14:13  Hello! Do you like gaming, art videos, scienti...   \n",
       "16  2013-11-28T21:49:00                       I'm only checking the views﻿   \n",
       "17  2013-11-28T21:55:02  http://www.ebay.com/itm/171183229277?ssPageNam...   \n",
       "18  2013-11-28T23:57:13       http://ubuntuone.com/40beUutVu2ZKxK4uTgPZ8K﻿   \n",
       "19  2013-11-29T00:22:01  We are an EDM apparel company dedicated to bri...   \n",
       "\n",
       "    CLASS  \n",
       "0       1  \n",
       "1       1  \n",
       "2       1  \n",
       "3       1  \n",
       "4       1  \n",
       "5       1  \n",
       "6       1  \n",
       "7       0  \n",
       "8       1  \n",
       "9       1  \n",
       "10      1  \n",
       "11      1  \n",
       "12      1  \n",
       "13      1  \n",
       "14      1  \n",
       "15      1  \n",
       "16      0  \n",
       "17      1  \n",
       "18      1  \n",
       "19      1  "
      ]
     },
     "execution_count": 21,
     "metadata": {},
     "output_type": "execute_result"
    }
   ],
   "source": [
    "df_youtube.head(20)"
   ]
  },
  {
   "cell_type": "markdown",
   "metadata": {},
   "source": [
    "### Shap eof the DF"
   ]
  },
  {
   "cell_type": "markdown",
   "metadata": {},
   "source": [
    "#### Number of rows"
   ]
  },
  {
   "cell_type": "code",
   "execution_count": 17,
   "metadata": {},
   "outputs": [
    {
     "data": {
      "text/plain": [
       "1956"
      ]
     },
     "execution_count": 17,
     "metadata": {},
     "output_type": "execute_result"
    }
   ],
   "source": [
    "len(df_youtube)"
   ]
  },
  {
   "cell_type": "markdown",
   "metadata": {},
   "source": [
    "#### Number of columns"
   ]
  },
  {
   "cell_type": "code",
   "execution_count": 18,
   "metadata": {},
   "outputs": [
    {
     "data": {
      "text/plain": [
       "5"
      ]
     },
     "execution_count": 18,
     "metadata": {},
     "output_type": "execute_result"
    }
   ],
   "source": [
    "len(df_youtube.columns)"
   ]
  },
  {
   "cell_type": "markdown",
   "metadata": {},
   "source": [
    "### Use the Dask Dataframe to compute the counts of spam (1005 comments) versus the counts of legitimate comments (951)."
   ]
  },
  {
   "cell_type": "code",
   "execution_count": 19,
   "metadata": {},
   "outputs": [],
   "source": [
    "from dask import delayed, compute"
   ]
  },
  {
   "cell_type": "code",
   "execution_count": 22,
   "metadata": {},
   "outputs": [],
   "source": [
    "df_youtube['content_lowercase'] = df_youtube.CONTENT.astype(str).str.lower()\n",
    "\n",
    "# df['my_col'] = df.my_col.astype(str).str.lower()"
   ]
  },
  {
   "cell_type": "code",
   "execution_count": 25,
   "metadata": {},
   "outputs": [
    {
     "data": {
      "text/plain": [
       "0    huh, anyway check out this you[tube] channel: ...\n",
       "1    hey guys check out my new channel and our firs...\n",
       "2               just for test i have to say murdev.com\n",
       "3     me shaking my sexy ass on my channel enjoy ^_^ ﻿\n",
       "4              watch?v=vtarggvgtwq   check this out .﻿\n",
       "Name: content_lowercase, dtype: object"
      ]
     },
     "execution_count": 25,
     "metadata": {},
     "output_type": "execute_result"
    }
   ],
   "source": [
    "df_youtube.content_lowercase.head()"
   ]
  },
  {
   "cell_type": "code",
   "execution_count": 26,
   "metadata": {
    "scrolled": true
   },
   "outputs": [
    {
     "data": {
      "text/html": [
       "<div>\n",
       "<style scoped>\n",
       "    .dataframe tbody tr th:only-of-type {\n",
       "        vertical-align: middle;\n",
       "    }\n",
       "\n",
       "    .dataframe tbody tr th {\n",
       "        vertical-align: top;\n",
       "    }\n",
       "\n",
       "    .dataframe thead th {\n",
       "        text-align: right;\n",
       "    }\n",
       "</style>\n",
       "<table border=\"1\" class=\"dataframe\">\n",
       "  <thead>\n",
       "    <tr style=\"text-align: right;\">\n",
       "      <th></th>\n",
       "      <th>COMMENT_ID</th>\n",
       "      <th>AUTHOR</th>\n",
       "      <th>DATE</th>\n",
       "      <th>CONTENT</th>\n",
       "      <th>CLASS</th>\n",
       "      <th>content_lowercase</th>\n",
       "    </tr>\n",
       "  </thead>\n",
       "  <tbody>\n",
       "    <tr>\n",
       "      <th>0</th>\n",
       "      <td>LZQPQhLyRh80UYxNuaDWhIGQYNQ96IuCg-AYWqNPjpU</td>\n",
       "      <td>Julius NM</td>\n",
       "      <td>2013-11-07T06:20:48</td>\n",
       "      <td>Huh, anyway check out this you[tube] channel: ...</td>\n",
       "      <td>1</td>\n",
       "      <td>huh, anyway check out this you[tube] channel: ...</td>\n",
       "    </tr>\n",
       "    <tr>\n",
       "      <th>1</th>\n",
       "      <td>LZQPQhLyRh_C2cTtd9MvFRJedxydaVW-2sNg5Diuo4A</td>\n",
       "      <td>adam riyati</td>\n",
       "      <td>2013-11-07T12:37:15</td>\n",
       "      <td>Hey guys check out my new channel and our firs...</td>\n",
       "      <td>1</td>\n",
       "      <td>hey guys check out my new channel and our firs...</td>\n",
       "    </tr>\n",
       "    <tr>\n",
       "      <th>2</th>\n",
       "      <td>LZQPQhLyRh9MSZYnf8djyk0gEF9BHDPYrrK-qCczIY8</td>\n",
       "      <td>Evgeny Murashkin</td>\n",
       "      <td>2013-11-08T17:34:21</td>\n",
       "      <td>just for test I have to say murdev.com</td>\n",
       "      <td>1</td>\n",
       "      <td>just for test i have to say murdev.com</td>\n",
       "    </tr>\n",
       "    <tr>\n",
       "      <th>3</th>\n",
       "      <td>z13jhp0bxqncu512g22wvzkasxmvvzjaz04</td>\n",
       "      <td>ElNino Melendez</td>\n",
       "      <td>2013-11-09T08:28:43</td>\n",
       "      <td>me shaking my sexy ass on my channel enjoy ^_^ ﻿</td>\n",
       "      <td>1</td>\n",
       "      <td>me shaking my sexy ass on my channel enjoy ^_^ ﻿</td>\n",
       "    </tr>\n",
       "    <tr>\n",
       "      <th>4</th>\n",
       "      <td>z13fwbwp1oujthgqj04chlngpvzmtt3r3dw</td>\n",
       "      <td>GsMega</td>\n",
       "      <td>2013-11-10T16:05:38</td>\n",
       "      <td>watch?v=vtaRGgvGtWQ   Check this out .﻿</td>\n",
       "      <td>1</td>\n",
       "      <td>watch?v=vtarggvgtwq   check this out .﻿</td>\n",
       "    </tr>\n",
       "    <tr>\n",
       "      <th>5</th>\n",
       "      <td>LZQPQhLyRh9-wNRtlZDM90f1k0BrdVdJyN_YsaSwfxc</td>\n",
       "      <td>Jason Haddad</td>\n",
       "      <td>2013-11-26T02:55:11</td>\n",
       "      <td>Hey, check out my new website!! This site is a...</td>\n",
       "      <td>1</td>\n",
       "      <td>hey, check out my new website!! this site is a...</td>\n",
       "    </tr>\n",
       "    <tr>\n",
       "      <th>6</th>\n",
       "      <td>z13lfzdo5vmdi1cm123te5uz2mqig1brz04</td>\n",
       "      <td>ferleck ferles</td>\n",
       "      <td>2013-11-27T21:39:24</td>\n",
       "      <td>Subscribe to my channel ﻿</td>\n",
       "      <td>1</td>\n",
       "      <td>subscribe to my channel ﻿</td>\n",
       "    </tr>\n",
       "    <tr>\n",
       "      <th>7</th>\n",
       "      <td>z122wfnzgt30fhubn04cdn3xfx2mxzngsl40k</td>\n",
       "      <td>Bob Kanowski</td>\n",
       "      <td>2013-11-28T12:33:27</td>\n",
       "      <td>i turned it on mute as soon is i came on i jus...</td>\n",
       "      <td>0</td>\n",
       "      <td>i turned it on mute as soon is i came on i jus...</td>\n",
       "    </tr>\n",
       "    <tr>\n",
       "      <th>8</th>\n",
       "      <td>z13ttt1jcraqexk2o234ghbgzxymz1zzi04</td>\n",
       "      <td>Cony</td>\n",
       "      <td>2013-11-28T16:01:47</td>\n",
       "      <td>You should check my channel for Funny VIDEOS!!﻿</td>\n",
       "      <td>1</td>\n",
       "      <td>you should check my channel for funny videos!!﻿</td>\n",
       "    </tr>\n",
       "    <tr>\n",
       "      <th>9</th>\n",
       "      <td>z12avveb4xqiirsix04chxviiljryduwxg0</td>\n",
       "      <td>BeBe Burkey</td>\n",
       "      <td>2013-11-28T16:30:13</td>\n",
       "      <td>and u should.d check my channel and tell me wh...</td>\n",
       "      <td>1</td>\n",
       "      <td>and u should.d check my channel and tell me wh...</td>\n",
       "    </tr>\n",
       "    <tr>\n",
       "      <th>10</th>\n",
       "      <td>z13auhww3oufjn1qo04ci3grqqjmfjexxuo0k</td>\n",
       "      <td>Huckyduck</td>\n",
       "      <td>2013-11-28T17:06:17</td>\n",
       "      <td>Hey subscribe to me﻿</td>\n",
       "      <td>1</td>\n",
       "      <td>hey subscribe to me﻿</td>\n",
       "    </tr>\n",
       "    <tr>\n",
       "      <th>11</th>\n",
       "      <td>z13xit5agm2zyh4f523rst2gowmbx5bml</td>\n",
       "      <td>Lone Twistt</td>\n",
       "      <td>2013-11-28T17:34:55</td>\n",
       "      <td>Once you have started reading do not stop. If...</td>\n",
       "      <td>1</td>\n",
       "      <td>once you have started reading do not stop. if...</td>\n",
       "    </tr>\n",
       "    <tr>\n",
       "      <th>12</th>\n",
       "      <td>z13pejoiuozwxtdu323dspopnri4xts0f</td>\n",
       "      <td>Archie Lewis</td>\n",
       "      <td>2013-11-28T17:54:39</td>\n",
       "      <td>https://twitter.com/GBphotographyGB﻿</td>\n",
       "      <td>1</td>\n",
       "      <td>https://twitter.com/gbphotographygb﻿</td>\n",
       "    </tr>\n",
       "    <tr>\n",
       "      <th>13</th>\n",
       "      <td>z121zxaxsq25z5k5o04ch1o5jqqfij3gtm40k</td>\n",
       "      <td>TheUploadaddict</td>\n",
       "      <td>2013-11-28T18:12:12</td>\n",
       "      <td>subscribe like comment﻿</td>\n",
       "      <td>1</td>\n",
       "      <td>subscribe like comment﻿</td>\n",
       "    </tr>\n",
       "    <tr>\n",
       "      <th>14</th>\n",
       "      <td>z12oglnpoq3gjh4om04cfdlbgp2uepyytpw0k</td>\n",
       "      <td>Francisco Nora</td>\n",
       "      <td>2013-11-28T19:52:35</td>\n",
       "      <td>please like :D https://premium.easypromosapp.c...</td>\n",
       "      <td>1</td>\n",
       "      <td>please like :d https://premium.easypromosapp.c...</td>\n",
       "    </tr>\n",
       "    <tr>\n",
       "      <th>15</th>\n",
       "      <td>z13phrmwrkfisn5er22eyrbpbvaiwfvwf04</td>\n",
       "      <td>Gaming and Stuff PRO</td>\n",
       "      <td>2013-11-28T21:14:13</td>\n",
       "      <td>Hello! Do you like gaming, art videos, scienti...</td>\n",
       "      <td>1</td>\n",
       "      <td>hello! do you like gaming, art videos, scienti...</td>\n",
       "    </tr>\n",
       "    <tr>\n",
       "      <th>16</th>\n",
       "      <td>z13bgdvyluihfv11i22rgxwhuvabzz1os04</td>\n",
       "      <td>Zielimeek21</td>\n",
       "      <td>2013-11-28T21:49:00</td>\n",
       "      <td>I'm only checking the views﻿</td>\n",
       "      <td>0</td>\n",
       "      <td>i'm only checking the views﻿</td>\n",
       "    </tr>\n",
       "    <tr>\n",
       "      <th>17</th>\n",
       "      <td>z13vxpnoxsyeuv2jr04cctprprb1slnxdf4</td>\n",
       "      <td>OutrightIgnite</td>\n",
       "      <td>2013-11-28T21:55:02</td>\n",
       "      <td>http://www.ebay.com/itm/171183229277?ssPageNam...</td>\n",
       "      <td>1</td>\n",
       "      <td>http://www.ebay.com/itm/171183229277?sspagenam...</td>\n",
       "    </tr>\n",
       "    <tr>\n",
       "      <th>18</th>\n",
       "      <td>z12qth5j0ob1fx3q404chvy4fz32tbkpllk0k</td>\n",
       "      <td>Tony K Frazier</td>\n",
       "      <td>2013-11-28T23:57:13</td>\n",
       "      <td>http://ubuntuone.com/40beUutVu2ZKxK4uTgPZ8K﻿</td>\n",
       "      <td>1</td>\n",
       "      <td>http://ubuntuone.com/40beuutvu2zkxk4utgpz8k﻿</td>\n",
       "    </tr>\n",
       "    <tr>\n",
       "      <th>19</th>\n",
       "      <td>z13etj0bclzfztuwc04cgfvrgmf3fvjor1g</td>\n",
       "      <td>Jose Renteria</td>\n",
       "      <td>2013-11-29T00:22:01</td>\n",
       "      <td>We are an EDM apparel company dedicated to bri...</td>\n",
       "      <td>1</td>\n",
       "      <td>we are an edm apparel company dedicated to bri...</td>\n",
       "    </tr>\n",
       "  </tbody>\n",
       "</table>\n",
       "</div>"
      ],
      "text/plain": [
       "                                     COMMENT_ID                AUTHOR  \\\n",
       "0   LZQPQhLyRh80UYxNuaDWhIGQYNQ96IuCg-AYWqNPjpU             Julius NM   \n",
       "1   LZQPQhLyRh_C2cTtd9MvFRJedxydaVW-2sNg5Diuo4A           adam riyati   \n",
       "2   LZQPQhLyRh9MSZYnf8djyk0gEF9BHDPYrrK-qCczIY8      Evgeny Murashkin   \n",
       "3           z13jhp0bxqncu512g22wvzkasxmvvzjaz04       ElNino Melendez   \n",
       "4           z13fwbwp1oujthgqj04chlngpvzmtt3r3dw                GsMega   \n",
       "5   LZQPQhLyRh9-wNRtlZDM90f1k0BrdVdJyN_YsaSwfxc          Jason Haddad   \n",
       "6           z13lfzdo5vmdi1cm123te5uz2mqig1brz04        ferleck ferles   \n",
       "7         z122wfnzgt30fhubn04cdn3xfx2mxzngsl40k          Bob Kanowski   \n",
       "8           z13ttt1jcraqexk2o234ghbgzxymz1zzi04                  Cony   \n",
       "9           z12avveb4xqiirsix04chxviiljryduwxg0           BeBe Burkey   \n",
       "10        z13auhww3oufjn1qo04ci3grqqjmfjexxuo0k             Huckyduck   \n",
       "11            z13xit5agm2zyh4f523rst2gowmbx5bml           Lone Twistt   \n",
       "12            z13pejoiuozwxtdu323dspopnri4xts0f          Archie Lewis   \n",
       "13        z121zxaxsq25z5k5o04ch1o5jqqfij3gtm40k       TheUploadaddict   \n",
       "14        z12oglnpoq3gjh4om04cfdlbgp2uepyytpw0k        Francisco Nora   \n",
       "15          z13phrmwrkfisn5er22eyrbpbvaiwfvwf04  Gaming and Stuff PRO   \n",
       "16          z13bgdvyluihfv11i22rgxwhuvabzz1os04           Zielimeek21   \n",
       "17          z13vxpnoxsyeuv2jr04cctprprb1slnxdf4        OutrightIgnite   \n",
       "18        z12qth5j0ob1fx3q404chvy4fz32tbkpllk0k        Tony K Frazier   \n",
       "19          z13etj0bclzfztuwc04cgfvrgmf3fvjor1g         Jose Renteria   \n",
       "\n",
       "                   DATE                                            CONTENT  \\\n",
       "0   2013-11-07T06:20:48  Huh, anyway check out this you[tube] channel: ...   \n",
       "1   2013-11-07T12:37:15  Hey guys check out my new channel and our firs...   \n",
       "2   2013-11-08T17:34:21             just for test I have to say murdev.com   \n",
       "3   2013-11-09T08:28:43   me shaking my sexy ass on my channel enjoy ^_^ ﻿   \n",
       "4   2013-11-10T16:05:38            watch?v=vtaRGgvGtWQ   Check this out .﻿   \n",
       "5   2013-11-26T02:55:11  Hey, check out my new website!! This site is a...   \n",
       "6   2013-11-27T21:39:24                          Subscribe to my channel ﻿   \n",
       "7   2013-11-28T12:33:27  i turned it on mute as soon is i came on i jus...   \n",
       "8   2013-11-28T16:01:47    You should check my channel for Funny VIDEOS!!﻿   \n",
       "9   2013-11-28T16:30:13  and u should.d check my channel and tell me wh...   \n",
       "10  2013-11-28T17:06:17                               Hey subscribe to me﻿   \n",
       "11  2013-11-28T17:34:55   Once you have started reading do not stop. If...   \n",
       "12  2013-11-28T17:54:39               https://twitter.com/GBphotographyGB﻿   \n",
       "13  2013-11-28T18:12:12                            subscribe like comment﻿   \n",
       "14  2013-11-28T19:52:35  please like :D https://premium.easypromosapp.c...   \n",
       "15  2013-11-28T21:14:13  Hello! Do you like gaming, art videos, scienti...   \n",
       "16  2013-11-28T21:49:00                       I'm only checking the views﻿   \n",
       "17  2013-11-28T21:55:02  http://www.ebay.com/itm/171183229277?ssPageNam...   \n",
       "18  2013-11-28T23:57:13       http://ubuntuone.com/40beUutVu2ZKxK4uTgPZ8K﻿   \n",
       "19  2013-11-29T00:22:01  We are an EDM apparel company dedicated to bri...   \n",
       "\n",
       "    CLASS                                  content_lowercase  \n",
       "0       1  huh, anyway check out this you[tube] channel: ...  \n",
       "1       1  hey guys check out my new channel and our firs...  \n",
       "2       1             just for test i have to say murdev.com  \n",
       "3       1   me shaking my sexy ass on my channel enjoy ^_^ ﻿  \n",
       "4       1            watch?v=vtarggvgtwq   check this out .﻿  \n",
       "5       1  hey, check out my new website!! this site is a...  \n",
       "6       1                          subscribe to my channel ﻿  \n",
       "7       0  i turned it on mute as soon is i came on i jus...  \n",
       "8       1    you should check my channel for funny videos!!﻿  \n",
       "9       1  and u should.d check my channel and tell me wh...  \n",
       "10      1                               hey subscribe to me﻿  \n",
       "11      1   once you have started reading do not stop. if...  \n",
       "12      1               https://twitter.com/gbphotographygb﻿  \n",
       "13      1                            subscribe like comment﻿  \n",
       "14      1  please like :d https://premium.easypromosapp.c...  \n",
       "15      1  hello! do you like gaming, art videos, scienti...  \n",
       "16      0                       i'm only checking the views﻿  \n",
       "17      1  http://www.ebay.com/itm/171183229277?sspagenam...  \n",
       "18      1       http://ubuntuone.com/40beuutvu2zkxk4utgpz8k﻿  \n",
       "19      1  we are an edm apparel company dedicated to bri...  "
      ]
     },
     "execution_count": 26,
     "metadata": {},
     "output_type": "execute_result"
    }
   ],
   "source": [
    "df_youtube.head(20)"
   ]
  },
  {
   "cell_type": "code",
   "execution_count": 67,
   "metadata": {},
   "outputs": [],
   "source": [
    "df_youtube['has_check'] = df_youtube['content_lowercase'].str.contains('check')\n",
    "df_youtube['has_subscribe'] = df_youtube['content_lowercase'].str.contains('subscribe')\n",
    "df_youtube['has_badword'] = df_youtube['content_lowercase'].str.contains('regret')\n",
    "\n",
    "df_youtube['spam'] = df_youtube['has_check'] \n",
    "# | df_youtube['has_subscribe'] | df_youtube['has_badword']"
   ]
  },
  {
   "cell_type": "code",
   "execution_count": 68,
   "metadata": {},
   "outputs": [
    {
     "data": {
      "text/plain": [
       "False    1476\n",
       "True      480\n",
       "Name: spam, dtype: int64"
      ]
     },
     "execution_count": 68,
     "metadata": {},
     "output_type": "execute_result"
    }
   ],
   "source": [
    "df_youtube.spam.value_counts().compute()"
   ]
  },
  {
   "cell_type": "code",
   "execution_count": 35,
   "metadata": {},
   "outputs": [
    {
     "data": {
      "text/plain": [
       "check out this video on youtube:﻿                                                                                                                                                                                                                                                                                                                                                                                                                                                                                                                  97\n",
       "check out this playlist on youtube:﻿                                                                                                                                                                                                                                                                                                                                                                                                                                                                                                               21\n",
       "wow                                                                                                                                                                                                                                                                                                                                                                                                                                                                                                                                                 6\n",
       "check out the new hot video by dante b called riled up                                                                                                                                                                                                                                                                                                                                                                                                                                                                                              6\n",
       "awesome﻿                                                                                                                                                                                                                                                                                                                                                                                                                                                                                                                                            4\n",
       "hi. check out and share our songs.                                                                                                                                                                                                                                                                                                                                                                                                                                                                                                                  4\n",
       "like﻿                                                                                                                                                                                                                                                                                                                                                                                                                                                                                                                                               4\n",
       "hey music fans i really appreciate any of you who will take the time to read this, and check my music out! i&#39;m just a 15 year old boy dreaming of being a successful musician in the music world. i do lots of covers, and piano covers. but i don&#39;t have money to advertise. a simple thumbs up to my comment, a comment on my videos or a subscription would be a step forward! it will only be a few seconds of your life that you won&#39;t regret!!! thank u to all the people who just give me a chance! :)                           4\n",
       "hey its m.e.s here i&#39;m a young up and coming rapper and i wanna get my music heard i know spam wont get me fame. but at the moment i got no way of getting a little attention so please do me a favour and check out my channel and drop a sub if you enjoy yourself. im just getting started so i really appreciate those who take time to leave constructive criticism i already got 200 subscribers and 4000 views on my first vid ive been told i have potential                                                                            4\n",
       "nice song﻿                                                                                                                                                                                                                                                                                                                                                                                                                                                                                                                                          4\n",
       "shakira :-*                                                                                                                                                                                                                                                                                                                                                                                                                                                                                                                                         4\n",
       "i love this song﻿                                                                                                                                                                                                                                                                                                                                                                                                                                                                                                                                   3\n",
       "waka waka﻿                                                                                                                                                                                                                                                                                                                                                                                                                                                                                                                                          3\n",
       "**check out my new mixtape**** **check out my new mixtape**** **check out my new mixtape*** ***check out my new mixtape******check out my new mixtape**** **check out my new mixtape**** **check out my new mixtape*** ***check out my new mixtape******check out my new mixtape**** **check out my new mixtape**** **check out my new mixtape*** ***check out my new mixtape******check out my new mixtape**** **check out my new mixtape**** **check out my new mixtape*** ***check out my new mixtape****                                        3\n",
       "love this song﻿                                                                                                                                                                                                                                                                                                                                                                                                                                                                                                                                     3\n",
       "love this song makes me wanna dance! ﻿                                                                                                                                                                                                                                                                                                                                                                                                                                                                                                              3\n",
       "hello everyone :) i know most of you probably pass up these kind of comments, but for those who are still reading this, thanks! i don’t have any money for advertisements, no chance of getting heard, nothing. i live in such a small town... if this comes off as spam, sorry. i’m an instrumental songwriter from columbus, mississippi. please go to my channel and check out my original music. it would be highly appreciated if you thumbs up this comment so my music can be heard! thank you, adam whitney                                 3\n",
       "katy perry - roar (official): http://youtu.be/cevxzvsjlk8﻿                                                                                                                                                                                                                                                                                                                                                                                                                                                                                          3\n",
       "cool﻿                                                                                                                                                                                                                                                                                                                                                                                                                                                                                                                                               3\n",
       "hello guys...i found a way to make money online you can get paid to mess around on facebook and twitter! get paid upto $25 to $35 an hour...only at 4netjobs.com work from the comfort of your home... they are currently hiring people from all over the world, for a wide range of social media jobs on sites such as facebook,twitter and youtube you don&#39;t need any prior skills or experience and you can begin work immediately! you can easily make $4000 to $5000+ monthly income…only at 4netjobs.com                                  3\n",
       "amazing song﻿                                                                                                                                                                                                                                                                                                                                                                                                                                                                                                                                       3\n",
       "i know that maybe no one will read this but please type in &quot;deazy99&quot; i&#39;m a rapper with a dream. i know you must see like millions of those on here everyday but please check out my music and subscribe if you&#39;d like thank you, i would love nothing more than to have a decent following on youtube from people if anyone reading this could give it a &quot;thumbs up&quot; because what some might see as just a simple button press could make my dream come true..thank you again for your time &amp; may god bless you     3\n",
       "like this comment then type 1337                                                                                                                                                                                                                                                                                                                                                                                                                                                                                                                    2\n",
       ":d subscribe to me for daily vines                                                                                                                                                                                                                                                                                                                                                                                                                                                                                                                  2\n",
       "adf.ly / kld3y                                                                                                                                                                                                                                                                                                                                                                                                                                                                                                                                      2\n",
       "check out this playlist on youtube:<br /><br />﻿                                                                                                                                                                                                                                                                                                                                                                                                                                                                                                    2\n",
       "like this comment for no reason﻿                                                                                                                                                                                                                                                                                                                                                                                                                                                                                                                    2\n",
       "best song﻿                                                                                                                                                                                                                                                                                                                                                                                                                                                                                                                                          2\n",
       "love song﻿                                                                                                                                                                                                                                                                                                                                                                                                                                                                                                                                          2\n",
       "check out daneja good girl                                                                                                                                                                                                                                                                                                                                                                                                                                                                                                                          2\n",
       "                                                                                                                                                                                                                                                                                                                                                                                                                                                                                                                                                   ..\n",
       "perfect! &lt;3﻿                                                                                                                                                                                                                                                                                                                                                                                                                                                                                                                                     1\n",
       "pleas subscribe gamezz mta my channel<br />﻿                                                                                                                                                                                                                                                                                                                                                                                                                                                                                                        1\n",
       "pleas subscribe my channel gamezzmta﻿                                                                                                                                                                                                                                                                                                                                                                                                                                                                                                               1\n",
       "one of the best songs in music history﻿                                                                                                                                                                                                                                                                                                                                                                                                                                                                                                             1\n",
       "one of the best song of all the time﻿                                                                                                                                                                                                                                                                                                                                                                                                                                                                                                               1\n",
       "on 0:02 u can see the camera man on his glasses....﻿                                                                                                                                                                                                                                                                                                                                                                                                                                                                                                1\n",
       "okay trust me i&#39;m doing a favor. you need to check out this guy named columbus nelson on youtube.                                                                                                                                                                                                                                                                                                                                                                                                                                               1\n",
       "no where near one of eminems actual best songs, real fans know what im talking about: untitled, cold wind blows, welcome 2 hell, elevator, business, wtp, almost famous, 25 to life, rock bottom, no apologies, same song and dance, without me, way i am, toy soldiers, mosh and insane &lt; songs off the top of my head that&#39;s better﻿                                                                                                                                                                                                       1\n",
       "no-i hate the way u lie!!﻿                                                                                                                                                                                                                                                                                                                                                                                                                                                                                                                          1\n",
       "nokia spotted﻿                                                                                                                                                                                                                                                                                                                                                                                                                                                                                                                                      1\n",
       "northland paranormal society is now on youtube! check out our channel of real paranormal evidence!! facebook/ northland paranormal society!!!                                                                                                                                                                                                                                                                                                                                                                                                       1\n",
       "not 2 million view anymore :))﻿                                                                                                                                                                                                                                                                                                                                                                                                                                                                                                                     1\n",
       "not bad﻿                                                                                                                                                                                                                                                                                                                                                                                                                                                                                                                                            1\n",
       "now its 1,884,034,783 views! pls. comment the view count the next hour :p﻿                                                                                                                                                                                                                                                                                                                                                                                                                                                                          1\n",
       "o peoples of the earth, i have seen how you perform every form of evil at your leisure! you cease not from reveling in that which i hate! behold, you murder the innocent day and night and plot evil against your neighbor! you stand up for the rights of those who commit abomination and clap your hands as wickedness is celebrated openly in the streets!... o most perverse and abominable generation, shall i not repay?!  hear the word of the lord - trumpetcallofgodonline.  co m                                                        1\n",
       "oh my god go to 1 billion of replay i love shakira﻿                                                                                                                                                                                                                                                                                                                                                                                                                                                                                                 1\n",
       "oh shit this was uploaded on my birthday, finally my birthday isnt a curse, because on this day maylaysia airlines went missing, so i thought my birthday was a curse xd﻿                                                                                                                                                                                                                                                                                                                                                                           1\n",
       "okay, this should cover me for some time... thumbs up if you&#39;re watching while youtube still exists.﻿                                                                                                                                                                                                                                                                                                                                                                                                                                           1\n",
       "omg! this guy sounds like an american professor green﻿                                                                                                                                                                                                                                                                                                                                                                                                                                                                                              1\n",
       "old and good song﻿                                                                                                                                                                                                                                                                                                                                                                                                                                                                                                                                  1\n",
       "omg 2/7 people watched this video because there are 7 billion people in the  world and 2 billion watched this﻿                                                                                                                                                                                                                                                                                                                                                                                                                                      1\n",
       "omg can this be the first video on youtube to hit 1 billion views like this comment of you agree.﻿                                                                                                                                                                                                                                                                                                                                                                                                                                                  1\n",
       "omg i love you katy parry your songs rock!!!!!!!!!!!!!!!!! thats a total  subscribe﻿                                                                                                                                                                                                                                                                                                                                                                                                                                                                1\n",
       "omg it&#39;s going to have 1bi views!﻿                                                                                                                                                                                                                                                                                                                                                                                                                                                                                                              1\n",
       "omg listen to this its soo good!! :d﻿                                                                                                                                                                                                                                                                                                                                                                                                                                                                                                               1\n",
       "omg love this!                                                                                                                                                                                                                                                                                                                                                                                                                                                                                                                                      1\n",
       "omg over 2 billion views!﻿                                                                                                                                                                                                                                                                                                                                                                                                                                                                                                                          1\n",
       "omg that looks just like a piece of the mirror of harry potter and the deathly hallows.<br />either that house. (sirius black)﻿                                                                                                                                                                                                                                                                                                                                                                                                                     1\n",
       "omg this oldspice spraytan party commercial omg....i'm sitting here \"no  this isn't a real thing is it? omg\" ﻿                                                                                                                                                                                                                                                                                                                                                                                                                                      1\n",
       "i'd rather hear some propa explicit gangsta rap insted of this garbage.  this song is trash !﻿                                                                                                                                                                                                                                                                                                                                                                                                                                                      1\n",
       "Name: content_lowercase, Length: 1742, dtype: int64"
      ]
     },
     "execution_count": 35,
     "metadata": {},
     "output_type": "execute_result"
    }
   ],
   "source": [
    "df_youtube['content_lowercase'].value_counts().compute()"
   ]
  },
  {
   "cell_type": "code",
   "execution_count": 44,
   "metadata": {},
   "outputs": [],
   "source": [
    "\n",
    "df = df_youtube[~df_youtube['has_check']]['content_lowercase']\n",
    "# df = df[(df.A > 3) & (df.A <= 1000)]"
   ]
  },
  {
   "cell_type": "code",
   "execution_count": 45,
   "metadata": {},
   "outputs": [
    {
     "data": {
      "text/plain": [
       "2                just for test i have to say murdev.com\n",
       "3      me shaking my sexy ass on my channel enjoy ^_^ ﻿\n",
       "6                             subscribe to my channel ﻿\n",
       "10                                 hey subscribe to me﻿\n",
       "11     once you have started reading do not stop. if...\n",
       "12                 https://twitter.com/gbphotographygb﻿\n",
       "13                              subscribe like comment﻿\n",
       "14    please like :d https://premium.easypromosapp.c...\n",
       "17    http://www.ebay.com/itm/171183229277?sspagenam...\n",
       "18         http://ubuntuone.com/40beuutvu2zkxk4utgpz8k﻿\n",
       "19    we are an edm apparel company dedicated to bri...\n",
       "21                   subscribe to my channel people :d﻿\n",
       "22    show your auburn pride here: http://www.teespr...\n",
       "25    marketglory . com/strategygame/andrijamatf ear...\n",
       "29     subscribe to me for free android games, apps.. ﻿\n",
       "32                    sub my channel for no reason -_-﻿\n",
       "34                            2 billion....coming soon﻿\n",
       "37    sub 4 sub please like this comment i want a su...\n",
       "39    the projects after effects, music, foto, web s...\n",
       "40    youtube/codytolleson for awesome videos i'll s...\n",
       "Name: content_lowercase, dtype: object"
      ]
     },
     "execution_count": 45,
     "metadata": {},
     "output_type": "execute_result"
    }
   ],
   "source": [
    "df.head(20)"
   ]
  },
  {
   "cell_type": "markdown",
   "metadata": {},
   "source": [
    "\n",
    "#### Big Data Options\n",
    "\n",
    "You've been introduced to a variety of platforms (AWS SageMaker, AWS EMR, Databricks), libraries (Numba, Dask, MapReduce, Spark), and languages (Python, SQL, Scala, Java) that can \"scale up\" or \"scale out\" for faster processing of big data.\n",
    "\n",
    "Write a paragraph comparing some of these technology options. For example, you could describe which technology you may personally prefer to use, in what circumstances, for what reasons.\n",
    "\n",
    "(You can add your paragraph as a Markdown cell at the bottom of your SageMaker Notebook.)"
   ]
  },
  {
   "cell_type": "markdown",
   "metadata": {},
   "source": [
    "### My opinion:\n",
    "I personally feel great to know about available technology when it comes to big data. These options are wide in variety and depends on your need:\n",
    "\n",
    "Scaling up vs Scaling out:\n",
    "\n",
    "### Scaling up:\n",
    "\n",
    "ASW SageMaker is a good example of scaling up: Scaling up is necessary and recommended when the data is big for your local machine but a relativley one single big machine can handle it. In this case, we dont' need to make huge changes to our codes and it works perfectly without complicating the computation and the code. \n",
    "For scaling up: Numba(same as numpy), Dask (same as pandas)and SageMaker are your friends.\n",
    "\n",
    "### Scaling out:\n",
    "\n",
    "Scaling out is when the data is significantly big and cannot be handled by one big machine. In this case, AWS EMR and Databricks can begreat options. This is custer computing when multiple computers are used to store the data and the maniputaions can be done seamlessly. However, this might need a great change. \n",
    "AWS ERM, Dataricks are the options and Spark and Scala are the best way to do it.\n",
    "\n",
    "\n",
    "\n"
   ]
  },
  {
   "cell_type": "code",
   "execution_count": null,
   "metadata": {},
   "outputs": [],
   "source": []
  },
  {
   "cell_type": "code",
   "execution_count": null,
   "metadata": {},
   "outputs": [],
   "source": []
  },
  {
   "cell_type": "code",
   "execution_count": null,
   "metadata": {},
   "outputs": [],
   "source": []
  },
  {
   "cell_type": "code",
   "execution_count": null,
   "metadata": {},
   "outputs": [],
   "source": []
  },
  {
   "cell_type": "code",
   "execution_count": null,
   "metadata": {},
   "outputs": [],
   "source": []
  }
 ],
 "metadata": {
  "kernelspec": {
   "display_name": "conda_python3",
   "language": "python",
   "name": "conda_python3"
  },
  "language_info": {
   "codemirror_mode": {
    "name": "ipython",
    "version": 3
   },
   "file_extension": ".py",
   "mimetype": "text/x-python",
   "name": "python",
   "nbconvert_exporter": "python",
   "pygments_lexer": "ipython3",
   "version": "3.6.5"
  }
 },
 "nbformat": 4,
 "nbformat_minor": 2
}
