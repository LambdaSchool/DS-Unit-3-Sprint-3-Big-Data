{
 "cells": [
  {
   "cell_type": "code",
   "execution_count": 1,
   "metadata": {},
   "outputs": [
    {
     "name": "stdout",
     "output_type": "stream",
     "text": [
      "Collecting pip\n",
      "\u001b[?25l  Downloading https://files.pythonhosted.org/packages/5c/e0/be401c003291b56efc55aeba6a80ab790d3d4cece2778288d65323009420/pip-19.1.1-py2.py3-none-any.whl (1.4MB)\n",
      "\u001b[K    100% |████████████████████████████████| 1.4MB 20.7MB/s ta 0:00:01\n",
      "\u001b[?25hInstalling collected packages: pip\n",
      "  Found existing installation: pip 10.0.1\n",
      "    Uninstalling pip-10.0.1:\n",
      "      Successfully uninstalled pip-10.0.1\n",
      "Successfully installed pip-19.1.1\n"
     ]
    }
   ],
   "source": [
    "# This needed to be installed for some reason\n",
    "!pip install --upgrade pip"
   ]
  },
  {
   "cell_type": "code",
   "execution_count": 2,
   "metadata": {},
   "outputs": [],
   "source": [
    "# Importing Dask and Visualizations\n",
    "import dask.dataframe as dd\n",
    "import matplotlib.pyplot as plt\n"
   ]
  },
  {
   "cell_type": "code",
   "execution_count": 3,
   "metadata": {},
   "outputs": [],
   "source": [
    "# Reading in the data from the terminal and the AWS SM instance\n",
    "data = dd.read_csv(\"*.csv\")"
   ]
  },
  {
   "cell_type": "code",
   "execution_count": 4,
   "metadata": {},
   "outputs": [
    {
     "data": {
      "text/html": [
       "<div>\n",
       "<style scoped>\n",
       "    .dataframe tbody tr th:only-of-type {\n",
       "        vertical-align: middle;\n",
       "    }\n",
       "\n",
       "    .dataframe tbody tr th {\n",
       "        vertical-align: top;\n",
       "    }\n",
       "\n",
       "    .dataframe thead th {\n",
       "        text-align: right;\n",
       "    }\n",
       "</style>\n",
       "<table border=\"1\" class=\"dataframe\">\n",
       "  <thead>\n",
       "    <tr style=\"text-align: right;\">\n",
       "      <th></th>\n",
       "      <th>COMMENT_ID</th>\n",
       "      <th>AUTHOR</th>\n",
       "      <th>DATE</th>\n",
       "      <th>CONTENT</th>\n",
       "      <th>CLASS</th>\n",
       "    </tr>\n",
       "  </thead>\n",
       "  <tbody>\n",
       "    <tr>\n",
       "      <th>0</th>\n",
       "      <td>LZQPQhLyRh80UYxNuaDWhIGQYNQ96IuCg-AYWqNPjpU</td>\n",
       "      <td>Julius NM</td>\n",
       "      <td>2013-11-07T06:20:48</td>\n",
       "      <td>Huh, anyway check out this you[tube] channel: ...</td>\n",
       "      <td>1</td>\n",
       "    </tr>\n",
       "    <tr>\n",
       "      <th>1</th>\n",
       "      <td>LZQPQhLyRh_C2cTtd9MvFRJedxydaVW-2sNg5Diuo4A</td>\n",
       "      <td>adam riyati</td>\n",
       "      <td>2013-11-07T12:37:15</td>\n",
       "      <td>Hey guys check out my new channel and our firs...</td>\n",
       "      <td>1</td>\n",
       "    </tr>\n",
       "    <tr>\n",
       "      <th>2</th>\n",
       "      <td>LZQPQhLyRh9MSZYnf8djyk0gEF9BHDPYrrK-qCczIY8</td>\n",
       "      <td>Evgeny Murashkin</td>\n",
       "      <td>2013-11-08T17:34:21</td>\n",
       "      <td>just for test I have to say murdev.com</td>\n",
       "      <td>1</td>\n",
       "    </tr>\n",
       "    <tr>\n",
       "      <th>3</th>\n",
       "      <td>z13jhp0bxqncu512g22wvzkasxmvvzjaz04</td>\n",
       "      <td>ElNino Melendez</td>\n",
       "      <td>2013-11-09T08:28:43</td>\n",
       "      <td>me shaking my sexy ass on my channel enjoy ^_^ ﻿</td>\n",
       "      <td>1</td>\n",
       "    </tr>\n",
       "    <tr>\n",
       "      <th>4</th>\n",
       "      <td>z13fwbwp1oujthgqj04chlngpvzmtt3r3dw</td>\n",
       "      <td>GsMega</td>\n",
       "      <td>2013-11-10T16:05:38</td>\n",
       "      <td>watch?v=vtaRGgvGtWQ   Check this out .﻿</td>\n",
       "      <td>1</td>\n",
       "    </tr>\n",
       "  </tbody>\n",
       "</table>\n",
       "</div>"
      ],
      "text/plain": [
       "                                    COMMENT_ID            AUTHOR  \\\n",
       "0  LZQPQhLyRh80UYxNuaDWhIGQYNQ96IuCg-AYWqNPjpU         Julius NM   \n",
       "1  LZQPQhLyRh_C2cTtd9MvFRJedxydaVW-2sNg5Diuo4A       adam riyati   \n",
       "2  LZQPQhLyRh9MSZYnf8djyk0gEF9BHDPYrrK-qCczIY8  Evgeny Murashkin   \n",
       "3          z13jhp0bxqncu512g22wvzkasxmvvzjaz04   ElNino Melendez   \n",
       "4          z13fwbwp1oujthgqj04chlngpvzmtt3r3dw            GsMega   \n",
       "\n",
       "                  DATE                                            CONTENT  \\\n",
       "0  2013-11-07T06:20:48  Huh, anyway check out this you[tube] channel: ...   \n",
       "1  2013-11-07T12:37:15  Hey guys check out my new channel and our firs...   \n",
       "2  2013-11-08T17:34:21             just for test I have to say murdev.com   \n",
       "3  2013-11-09T08:28:43   me shaking my sexy ass on my channel enjoy ^_^ ﻿   \n",
       "4  2013-11-10T16:05:38            watch?v=vtaRGgvGtWQ   Check this out .﻿   \n",
       "\n",
       "   CLASS  \n",
       "0      1  \n",
       "1      1  \n",
       "2      1  \n",
       "3      1  \n",
       "4      1  "
      ]
     },
     "execution_count": 4,
     "metadata": {},
     "output_type": "execute_result"
    }
   ],
   "source": [
    "# Verifying that it worked\n",
    "data.head()"
   ]
  },
  {
   "cell_type": "code",
   "execution_count": 5,
   "metadata": {},
   "outputs": [
    {
     "name": "stdout",
     "output_type": "stream",
     "text": [
      "Total Number of Rows: 1956\n",
      "Total Number of Columns: 5\n"
     ]
    }
   ],
   "source": [
    "#Do the Rows and Colums Match JCs MD file....? Yep\n",
    "print('Total Number of Rows: %d' % len(data.index))\n",
    "print('Total Number of Columns: %d' % len(data.columns))\n"
   ]
  },
  {
   "cell_type": "code",
   "execution_count": 9,
   "metadata": {},
   "outputs": [],
   "source": [
    "#SPAM SPAM SPAM SPAM ... or Not SPAM SPAM SPAM SPAM\n",
    "spammy = len(data[data.CLASS == 1])\n",
    "not_spammy = len(data[data.CLASS == 0])"
   ]
  },
  {
   "cell_type": "code",
   "execution_count": 10,
   "metadata": {},
   "outputs": [
    {
     "name": "stdout",
     "output_type": "stream",
     "text": [
      "SPAM SPAM SPAM SPAM: 1005\n",
      "NOT NOT NOT NOT... SPAM: 951\n"
     ]
    }
   ],
   "source": [
    "print('SPAM SPAM SPAM SPAM: %d' % spammy)\n",
    "print('NOT NOT NOT NOT... SPAM: %d' % not_spammy)"
   ]
  },
  {
   "cell_type": "code",
   "execution_count": 12,
   "metadata": {},
   "outputs": [
    {
     "name": "stdout",
     "output_type": "stream",
     "text": [
      "Total times the word \"check\" appeared as spam: 461\n",
      "Total times the word \"check\" was not spam: 19\n"
     ]
    }
   ],
   "source": [
    "#Microphone 'Check' (oh I am so freaking tired)\n",
    "# All the \"checks\"\n",
    "check = data[data.CONTENT.str.lower().str.contains('check')]\n",
    "# Spam\n",
    "spammy = check.CLASS.sum().compute()\n",
    "# Not Spam\n",
    "not_spammy = len(check.index) - spammy\n",
    "\n",
    "print ('Total times the word \"check\" appeared as spam: %d' % spammy)\n",
    "print ('Total times the word \"check\" was not spam: %d' % not_spammy)"
   ]
  },
  {
   "cell_type": "code",
   "execution_count": 19,
   "metadata": {},
   "outputs": [
    {
     "data": {
      "text/plain": [
       "<matplotlib.collections.PathCollection at 0x7fe56f2b2ba8>"
      ]
     },
     "execution_count": 19,
     "metadata": {},
     "output_type": "execute_result"
    },
    {
     "data": {
      "image/png": "[encoded data removed]",
      "text/plain": [
       "<Figure size 432x288 with 1 Axes>"
      ]
     },
     "metadata": {},
     "output_type": "display_data"
    }
   ],
   "source": [
    "#Visualization for the 3-pointer\n",
    "plt.scatter(spammy, not_spammy)\n",
    "#Annnnnnnnd AIR BALL (What did I do wrong?)"
   ]
  },
  {
   "cell_type": "markdown",
   "metadata": {},
   "source": [
    "# OK PART 2- Not really sure what to do but speak what I know on each... \n",
    "\n",
    "##### We have learned about AWS Sagemaker, Elastic Map Reduce, and Data Bricks as well as Dask.  Each of these platforms does different tasks for us as Data Scientists.  Some better than others.  Below is a breakdown of what each one does followed by my preference regarding each:\n",
    "\n",
    "\n",
    "##### AWS SageMaker: Sage Maker allows us to build, train, and deploy machine learning models at scale. It was, by design, created to have a very small learning curve for Data Scientists and those engineers already using machine learning. It helps bring these models full cycle from creation to deployment. The fact that it is built using python and Jupyter Notebook just makes it that more familiar and easy to use.  I personally like Sage Maker but think that Auto ML from Google is far more advanced. Yesterday I spent two sessions at DevFest testing out Google Auto ML and with its seemless integration into TF 2.0 and Keras, as well as into Jupyter, I think it will give Sage Maker a run for its money.  Google cloud - Now Anthos, is designed with the Data Scientist in mind which is a very smart move for Google. \n",
    "\n",
    "##### AWS EMR: Elastic Map Reduce Is another tool for Big Data Processing. However, while it offers the infrastructure to run Apache Hadoopas it is quite cumbersome.  This is probably not a system that I would use if I had the choice. Again, from my hands on experience from yesterday I think that Google's DataProc is a better system than AWS EMR, and it was interesting because had this not been big data week at Lambda I wouldnt have even known what to look for in comparison. \n",
    "\n",
    "##### Databricks: Databricks is a cloud based service specifically for data scientists and engineers.  It allows you to build models and deploy them.  If it werent for their parent being Microsoft Id say this is an excellent service. Just kidding, It is quick and interactive and easy to use.  Its fast, collaborative and easy to create virtual cluseters.  This is probably a system that I will use in the future quite a bit when dealing with big Data. \n",
    "\n",
    "##### Dask: I know that a lot of people didnt like DASK but my experience was a positive one.  I feel like if you are comfortable with Pandas DFs and Numpy Arrays (Which I am)then the fact that you can use DASK to scale up your projects within those constructs is fantastic. I know it does not have the same capabilities as Spark but I do really think that it is an excellent service. It is still a viabile parallel computing Library. \n",
    "\n",
    "\n",
    "##### Numba: Numba is a just-in-time compiler for Python that works best on code that uses NumPy arrays and functions, and loops. The most common way to use Numba is through its collection of decorators that can be applied to your functions to instruct Numba to compile them. I really find the concept of Numba interseting because it compiles the python code down to C.  Again, I learned something new yesterday at the DevFest.  Tensor Flow 2.0 is 100% python based but it has 1 particular function that is `@tf.function` which does the same thing.  It allows you to take all your ML/DL code in Tensor Flow (Coded in Python and Jupyter Notebooks) and that one method call compiles the whole thing and runs it just in time format. \n",
    "\n",
    "\n",
    "##### MapReduce: What can I say about Map Reduce.  While it is the centerpoint of the HDFS and is a system in which parallelising and distrubting algrotithms is made easier, its also sort of OG.  Not necessarily the best player on the block anymore but certainly has the history to have 'street cred'. \n",
    "\n",
    "##### Spark:  Apache Spark is open source,its general-purpose and its a distributed computing engine used for processing and analyzing alarge amount of data. It is the new kid on the block so to speak and  it works with Hadoop  system to distribute data across the cluster parallelizing data. I particularly like the fact, contrary to DASK, that the data is stored in Memory which would make it faster to run for ML models.  It is becoming an industry standard across all cloud systems as well.\n",
    "\n",
    "##### Python: Tis a very silly language. Its mother was a hamster and its father smelled of elderberries... Ok enough silliness. But alas it is what Gaven Van Rossum named the language for Month Python. And he did it for good reason. He was looking to build a less serious language.  Something that could be appreciated by its high level or productivity and its simple, nearly declarative, syntax, readability, and commands. It has made for a world class code that is very functional.  Thats the sales pitch.  Again, referencing my program I was at yesterday Josh Gordon talked about how even though Python is Fantasic, wonderful, and everones favorite language, there are newer languages, such as Swift, that are coming into the ML/DL framewokr that can get jobs done faster.  Swift for example is catching fire so quickly Tensor Flow is creating an entire library based on swift in addition to python. Intersting stuff.\n",
    "\n",
    "##### SQL: What can I say about IBMs SEQUEL. It arrived it the 70's.  Its relativley easy.  They changed the name to SQL because SEQUEL was already trademarked. oops.  It is a language for RDBM Systems.  There are a LOT of dialects in SQL.  I dont really understand why but it is strange that such a unified language has so many dialects.  I saw one of those cartoons Aaron always references.  It talks about how there are 114 dialects and the character is going to unify them all-- ONE SQL to rule them all.... punchline.... Now there are 115 dialects. \n",
    "\n",
    "##### Scala: Scala is the language of scalability.  It is realitivley easy to learn and use.  It is a JVM functional programming language. It is ultimately easier to use and increases productivity. Scala is faster than python because it is interpereted and not compiled .\n",
    "\n",
    "##### Java: I honestly dont have much experience with Java and dont know much about Java except that it, like python is an OOP, and is supposed to have the feel of C languages.  I also know that with the advent of JavaScript Java became a bit obsolete except for running JVM machines which other languages like Scala can run on in terms of environment. \n"
   ]
  },
  {
   "cell_type": "code",
   "execution_count": 20,
   "metadata": {},
   "outputs": [],
   "source": []
  },
  {
   "cell_type": "code",
   "execution_count": null,
   "metadata": {},
   "outputs": [],
   "source": []
  }
 ],
 "metadata": {
  "kernelspec": {
   "display_name": "conda_python3",
   "language": "python",
   "name": "conda_python3"
  },
  "language_info": {
   "codemirror_mode": {
    "name": "ipython",
    "version": 3
   },
   "file_extension": ".py",
   "mimetype": "text/x-python",
   "name": "python",
   "nbconvert_exporter": "python",
   "pygments_lexer": "ipython3",
   "version": "3.6.5"
  }
 },
 "nbformat": 4,
 "nbformat_minor": 2
}
