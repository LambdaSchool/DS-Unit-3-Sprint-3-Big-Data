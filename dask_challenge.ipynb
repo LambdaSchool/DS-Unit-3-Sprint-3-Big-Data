{
 "cells": [
  {
   "cell_type": "code",
   "execution_count": 84,
   "metadata": {},
   "outputs": [],
   "source": [
    "import dask.dataframe as dd"
   ]
  },
  {
   "cell_type": "code",
   "execution_count": 85,
   "metadata": {},
   "outputs": [],
   "source": [
    "dd = dd.read_csv(\"*.csv\")"
   ]
  },
  {
   "cell_type": "code",
   "execution_count": 86,
   "metadata": {},
   "outputs": [
    {
     "data": {
      "text/plain": [
       "COMMENT_ID    1956\n",
       "AUTHOR        1956\n",
       "DATE          1711\n",
       "CONTENT       1956\n",
       "CLASS         1956\n",
       "dtype: int64"
      ]
     },
     "execution_count": 86,
     "metadata": {},
     "output_type": "execute_result"
    }
   ],
   "source": [
    "dd.count().compute()"
   ]
  },
  {
   "cell_type": "code",
   "execution_count": 87,
   "metadata": {},
   "outputs": [
    {
     "data": {
      "text/html": [
       "<div>\n",
       "<style scoped>\n",
       "    .dataframe tbody tr th:only-of-type {\n",
       "        vertical-align: middle;\n",
       "    }\n",
       "\n",
       "    .dataframe tbody tr th {\n",
       "        vertical-align: top;\n",
       "    }\n",
       "\n",
       "    .dataframe thead th {\n",
       "        text-align: right;\n",
       "    }\n",
       "</style>\n",
       "<table border=\"1\" class=\"dataframe\">\n",
       "  <thead>\n",
       "    <tr style=\"text-align: right;\">\n",
       "      <th></th>\n",
       "      <th>CLASS</th>\n",
       "      <th>0</th>\n",
       "    </tr>\n",
       "  </thead>\n",
       "  <tbody>\n",
       "    <tr>\n",
       "      <th>count</th>\n",
       "      <td>1956.000000</td>\n",
       "      <td>NaN</td>\n",
       "    </tr>\n",
       "    <tr>\n",
       "      <th>mean</th>\n",
       "      <td>0.513804</td>\n",
       "      <td>NaN</td>\n",
       "    </tr>\n",
       "    <tr>\n",
       "      <th>std</th>\n",
       "      <td>0.499937</td>\n",
       "      <td>NaN</td>\n",
       "    </tr>\n",
       "    <tr>\n",
       "      <th>min</th>\n",
       "      <td>0.000000</td>\n",
       "      <td>NaN</td>\n",
       "    </tr>\n",
       "    <tr>\n",
       "      <th>25%</th>\n",
       "      <td>NaN</td>\n",
       "      <td>0.0</td>\n",
       "    </tr>\n",
       "    <tr>\n",
       "      <th>50%</th>\n",
       "      <td>NaN</td>\n",
       "      <td>1.0</td>\n",
       "    </tr>\n",
       "    <tr>\n",
       "      <th>75%</th>\n",
       "      <td>NaN</td>\n",
       "      <td>1.0</td>\n",
       "    </tr>\n",
       "    <tr>\n",
       "      <th>max</th>\n",
       "      <td>1.000000</td>\n",
       "      <td>NaN</td>\n",
       "    </tr>\n",
       "  </tbody>\n",
       "</table>\n",
       "</div>"
      ],
      "text/plain": [
       "             CLASS    0\n",
       "count  1956.000000  NaN\n",
       "mean      0.513804  NaN\n",
       "std       0.499937  NaN\n",
       "min       0.000000  NaN\n",
       "25%            NaN  0.0\n",
       "50%            NaN  1.0\n",
       "75%            NaN  1.0\n",
       "max       1.000000  NaN"
      ]
     },
     "execution_count": 87,
     "metadata": {},
     "output_type": "execute_result"
    }
   ],
   "source": [
    "dd.describe().compute()"
   ]
  },
  {
   "cell_type": "code",
   "execution_count": 88,
   "metadata": {},
   "outputs": [
    {
     "data": {
      "text/plain": [
       "1    1005\n",
       "0     951\n",
       "Name: CLASS, dtype: int64"
      ]
     },
     "execution_count": 88,
     "metadata": {},
     "output_type": "execute_result"
    }
   ],
   "source": [
    "dd[\"CLASS\"].value_counts().compute()"
   ]
  },
  {
   "cell_type": "code",
   "execution_count": 91,
   "metadata": {},
   "outputs": [
    {
     "data": {
      "text/plain": [
       "0      huh, anyway check out this you[tube] channel: ...\n",
       "1      hey guys check out my new channel and our firs...\n",
       "2                 just for test i have to say murdev.com\n",
       "3       me shaking my sexy ass on my channel enjoy ^_^ ﻿\n",
       "4                watch?v=vtarggvgtwq   check this out .﻿\n",
       "5      hey, check out my new website!! this site is a...\n",
       "6                              subscribe to my channel ﻿\n",
       "7      i turned it on mute as soon is i came on i jus...\n",
       "8        you should check my channel for funny videos!!﻿\n",
       "9      and u should.d check my channel and tell me wh...\n",
       "10                                  hey subscribe to me﻿\n",
       "11      once you have started reading do not stop. if...\n",
       "12                  https://twitter.com/gbphotographygb﻿\n",
       "13                               subscribe like comment﻿\n",
       "14     please like :d https://premium.easypromosapp.c...\n",
       "15     hello! do you like gaming, art videos, scienti...\n",
       "16                          i'm only checking the views﻿\n",
       "17     http://www.ebay.com/itm/171183229277?sspagenam...\n",
       "18          http://ubuntuone.com/40beuutvu2zkxk4utgpz8k﻿\n",
       "19     we are an edm apparel company dedicated to bri...\n",
       "20     i think about 100 millions of the views come f...\n",
       "21                    subscribe to my channel people :d﻿\n",
       "22     show your auburn pride here: http://www.teespr...\n",
       "23                              just checking the views﻿\n",
       "24                                  check out my channel\n",
       "25     marketglory . com/strategygame/andrijamatf ear...\n",
       "26     hey guys! im a 12 yr old music producer. i mak...\n",
       "27               check me out! i'm kyle. i rap so yeah ﻿\n",
       "28     i dont even watch it anymore i just come here ...\n",
       "29      subscribe to me for free android games, apps.. ﻿\n",
       "                             ...                        \n",
       "340                               check out my new video\n",
       "341    hey music fans i really appreciate all of you ...\n",
       "342    hello everyone, it is not my intention to spam...\n",
       "343    ******* facebook is lame and so 2004! check ou...\n",
       "344    please check out and send to others freedom an...\n",
       "345    nice to meet you - this is johnny: 1. if you a...\n",
       "346     hey you ! check out the channel of alvar lake !!\n",
       "347    hi -this is johnny: 1. if you already know my ...\n",
       "348                                                  wow\n",
       "349                                    love this song!!!\n",
       "350                                love this song !!!!!!\n",
       "351    check out this video on youtube:<br />&quot;th...\n",
       "352    i watched this because of the large amount of ...\n",
       "353    o peoples of the earth, i have seen how you pe...\n",
       "354                 this song always gives me chills! :)\n",
       "355                                  i love dis song!! 3\n",
       "356    i will never forget this song in my life like ...\n",
       "357    ********omg facebook is old! check out  ------...\n",
       "358    hey music fans i really appreciate all of you ...\n",
       "359    **check out my new mixtape**** **check out my ...\n",
       "360    **check out my new mixtape**** **check out my ...\n",
       "361    **check out my new mixtape**** **check out my ...\n",
       "362                                  waka waka she rules\n",
       "363                             she is sooooo beautiful!\n",
       "364                                    well done shakira\n",
       "365    i love this song because we sing it at camp al...\n",
       "366    i love this song for two reasons: 1.it is abou...\n",
       "367                                                  wow\n",
       "368                              shakira u are so wiredo\n",
       "369                           shakira is the best dancer\n",
       "Name: CONTENT, Length: 1956, dtype: object"
      ]
     },
     "execution_count": 91,
     "metadata": {},
     "output_type": "execute_result"
    }
   ],
   "source": [
    "dd[\"CONTENT\"].str.lower().compute()"
   ]
  },
  {
   "cell_type": "code",
   "execution_count": null,
   "metadata": {},
   "outputs": [],
   "source": []
  },
  {
   "cell_type": "code",
   "execution_count": null,
   "metadata": {},
   "outputs": [],
   "source": []
  },
  {
   "cell_type": "code",
   "execution_count": 70,
   "metadata": {},
   "outputs": [],
   "source": [
    "is_spam = dd[(dd[\"CLASS\"]==1)].compute()"
   ]
  },
  {
   "cell_type": "code",
   "execution_count": 94,
   "metadata": {},
   "outputs": [
    {
     "data": {
      "text/plain": [
       "COMMENT_ID    1005\n",
       "AUTHOR        1005\n",
       "DATE           760\n",
       "CONTENT       1005\n",
       "CLASS         1005\n",
       "dtype: int64"
      ]
     },
     "execution_count": 94,
     "metadata": {},
     "output_type": "execute_result"
    }
   ],
   "source": [
    "dd[(dd[\"CLASS\"]==1)].count().compute()"
   ]
  },
  {
   "cell_type": "code",
   "execution_count": 97,
   "metadata": {},
   "outputs": [
    {
     "ename": "AttributeError",
     "evalue": "'DataFrame' object has no attribute 'str'",
     "output_type": "error",
     "traceback": [
      "\u001b[0;31m---------------------------------------------------------------------------\u001b[0m",
      "\u001b[0;31mAttributeError\u001b[0m                            Traceback (most recent call last)",
      "\u001b[0;32m<ipython-input-97-7c92b46774ec>\u001b[0m in \u001b[0;36m<module>\u001b[0;34m()\u001b[0m\n\u001b[0;32m----> 1\u001b[0;31m \u001b[0mdd\u001b[0m\u001b[0;34m[\u001b[0m\u001b[0;34m(\u001b[0m\u001b[0mdd\u001b[0m\u001b[0;34m[\u001b[0m\u001b[0;34m\"CLASS\"\u001b[0m\u001b[0;34m]\u001b[0m\u001b[0;34m==\u001b[0m\u001b[0;36m1\u001b[0m\u001b[0;34m)\u001b[0m\u001b[0;34m]\u001b[0m\u001b[0;34m.\u001b[0m\u001b[0mstr\u001b[0m\u001b[0;34m.\u001b[0m\u001b[0mlower\u001b[0m\u001b[0;34m(\u001b[0m\u001b[0;34m)\u001b[0m\u001b[0;34m.\u001b[0m\u001b[0mstr\u001b[0m\u001b[0;34m.\u001b[0m\u001b[0mcontains\u001b[0m\u001b[0;34m(\u001b[0m\u001b[0;34m\"check\"\u001b[0m\u001b[0;34m)\u001b[0m\u001b[0;34m.\u001b[0m\u001b[0mvalue_counts\u001b[0m\u001b[0;34m(\u001b[0m\u001b[0;34m)\u001b[0m\u001b[0;34m\u001b[0m\u001b[0m\n\u001b[0m",
      "\u001b[0;32m~/anaconda3/envs/python3/lib/python3.6/site-packages/dask/dataframe/core.py\u001b[0m in \u001b[0;36m__getattr__\u001b[0;34m(self, key)\u001b[0m\n\u001b[1;32m   2558\u001b[0m             \u001b[0;32mreturn\u001b[0m \u001b[0mself\u001b[0m\u001b[0;34m[\u001b[0m\u001b[0mkey\u001b[0m\u001b[0;34m]\u001b[0m\u001b[0;34m\u001b[0m\u001b[0m\n\u001b[1;32m   2559\u001b[0m         \u001b[0;32melse\u001b[0m\u001b[0;34m:\u001b[0m\u001b[0;34m\u001b[0m\u001b[0m\n\u001b[0;32m-> 2560\u001b[0;31m             \u001b[0;32mraise\u001b[0m \u001b[0mAttributeError\u001b[0m\u001b[0;34m(\u001b[0m\u001b[0;34m\"'DataFrame' object has no attribute %r\"\u001b[0m \u001b[0;34m%\u001b[0m \u001b[0mkey\u001b[0m\u001b[0;34m)\u001b[0m\u001b[0;34m\u001b[0m\u001b[0m\n\u001b[0m\u001b[1;32m   2561\u001b[0m \u001b[0;34m\u001b[0m\u001b[0m\n\u001b[1;32m   2562\u001b[0m     \u001b[0;32mdef\u001b[0m \u001b[0m__dir__\u001b[0m\u001b[0;34m(\u001b[0m\u001b[0mself\u001b[0m\u001b[0;34m)\u001b[0m\u001b[0;34m:\u001b[0m\u001b[0;34m\u001b[0m\u001b[0m\n",
      "\u001b[0;31mAttributeError\u001b[0m: 'DataFrame' object has no attribute 'str'"
     ]
    }
   ],
   "source": [
    "dd[(dd[\"CLASS\"]==1)].str.lower().str.contains(\"check\").value_counts()"
   ]
  },
  {
   "cell_type": "code",
   "execution_count": 92,
   "metadata": {},
   "outputs": [
    {
     "data": {
      "text/plain": [
       "False    544\n",
       "True     461\n",
       "Name: CONTENT, dtype: int64"
      ]
     },
     "execution_count": 92,
     "metadata": {},
     "output_type": "execute_result"
    }
   ],
   "source": [
    "is_spam[\"CONTENT\"].str.lower().str.contains(\"check\").value_counts()"
   ]
  },
  {
   "cell_type": "code",
   "execution_count": 73,
   "metadata": {},
   "outputs": [],
   "source": [
    "is_not_spam = dd[(dd[\"CLASS\"]==0)].compute()"
   ]
  },
  {
   "cell_type": "code",
   "execution_count": 93,
   "metadata": {},
   "outputs": [
    {
     "data": {
      "text/plain": [
       "False    932\n",
       "True      19\n",
       "Name: CONTENT, dtype: int64"
      ]
     },
     "execution_count": 93,
     "metadata": {},
     "output_type": "execute_result"
    }
   ],
   "source": [
    "is_not_spam[\"CONTENT\"].str.lower().str.contains(\"check\").value_counts()"
   ]
  },
  {
   "cell_type": "code",
   "execution_count": 75,
   "metadata": {},
   "outputs": [],
   "source": [
    "import dask\n",
    "dd1 = dask.dataframe.read_csv(\"*.csv\")"
   ]
  },
  {
   "cell_type": "code",
   "execution_count": 76,
   "metadata": {},
   "outputs": [
    {
     "name": "stdout",
     "output_type": "stream",
     "text": [
      "CPU times: user 63.9 ms, sys: 0 ns, total: 63.9 ms\n",
      "Wall time: 69.1 ms\n"
     ]
    },
    {
     "data": {
      "text/plain": [
       "0      huh, anyway check out this you[tube] channel: ...\n",
       "1      hey guys check out my new channel and our firs...\n",
       "2                 just for test i have to say murdev.com\n",
       "3       me shaking my sexy ass on my channel enjoy ^_^ ﻿\n",
       "4                watch?v=vtarggvgtwq   check this out .﻿\n",
       "5      hey, check out my new website!! this site is a...\n",
       "6                              subscribe to my channel ﻿\n",
       "7      i turned it on mute as soon is i came on i jus...\n",
       "8        you should check my channel for funny videos!!﻿\n",
       "9      and u should.d check my channel and tell me wh...\n",
       "10                                  hey subscribe to me﻿\n",
       "11      once you have started reading do not stop. if...\n",
       "12                  https://twitter.com/gbphotographygb﻿\n",
       "13                               subscribe like comment﻿\n",
       "14     please like :d https://premium.easypromosapp.c...\n",
       "15     hello! do you like gaming, art videos, scienti...\n",
       "16                          i'm only checking the views﻿\n",
       "17     http://www.ebay.com/itm/171183229277?sspagenam...\n",
       "18          http://ubuntuone.com/40beuutvu2zkxk4utgpz8k﻿\n",
       "19     we are an edm apparel company dedicated to bri...\n",
       "20     i think about 100 millions of the views come f...\n",
       "21                    subscribe to my channel people :d﻿\n",
       "22     show your auburn pride here: http://www.teespr...\n",
       "23                              just checking the views﻿\n",
       "24                                  check out my channel\n",
       "25     marketglory . com/strategygame/andrijamatf ear...\n",
       "26     hey guys! im a 12 yr old music producer. i mak...\n",
       "27               check me out! i'm kyle. i rap so yeah ﻿\n",
       "28     i dont even watch it anymore i just come here ...\n",
       "29      subscribe to me for free android games, apps.. ﻿\n",
       "                             ...                        \n",
       "340                               check out my new video\n",
       "341    hey music fans i really appreciate all of you ...\n",
       "342    hello everyone, it is not my intention to spam...\n",
       "343    ******* facebook is lame and so 2004! check ou...\n",
       "344    please check out and send to others freedom an...\n",
       "345    nice to meet you - this is johnny: 1. if you a...\n",
       "346     hey you ! check out the channel of alvar lake !!\n",
       "347    hi -this is johnny: 1. if you already know my ...\n",
       "348                                                  wow\n",
       "349                                    love this song!!!\n",
       "350                                love this song !!!!!!\n",
       "351    check out this video on youtube:<br />&quot;th...\n",
       "352    i watched this because of the large amount of ...\n",
       "353    o peoples of the earth, i have seen how you pe...\n",
       "354                 this song always gives me chills! :)\n",
       "355                                  i love dis song!! 3\n",
       "356    i will never forget this song in my life like ...\n",
       "357    ********omg facebook is old! check out  ------...\n",
       "358    hey music fans i really appreciate all of you ...\n",
       "359    **check out my new mixtape**** **check out my ...\n",
       "360    **check out my new mixtape**** **check out my ...\n",
       "361    **check out my new mixtape**** **check out my ...\n",
       "362                                  waka waka she rules\n",
       "363                             she is sooooo beautiful!\n",
       "364                                    well done shakira\n",
       "365    i love this song because we sing it at camp al...\n",
       "366    i love this song for two reasons: 1.it is abou...\n",
       "367                                                  wow\n",
       "368                              shakira u are so wiredo\n",
       "369                           shakira is the best dancer\n",
       "Name: CONTENT, Length: 1956, dtype: object"
      ]
     },
     "execution_count": 76,
     "metadata": {},
     "output_type": "execute_result"
    }
   ],
   "source": [
    "%%time\n",
    "dd1[\"CONTENT\"].str.lower().compute()"
   ]
  },
  {
   "cell_type": "code",
   "execution_count": 53,
   "metadata": {},
   "outputs": [
    {
     "name": "stdout",
     "output_type": "stream",
     "text": [
      "CPU times: user 73 ms, sys: 0 ns, total: 73 ms\n",
      "Wall time: 60.2 ms\n"
     ]
    },
    {
     "data": {
      "text/plain": [
       "COMMENT_ID    1005\n",
       "AUTHOR        1005\n",
       "DATE           760\n",
       "CONTENT       1005\n",
       "CLASS         1005\n",
       "dtype: int64"
      ]
     },
     "execution_count": 53,
     "metadata": {},
     "output_type": "execute_result"
    }
   ],
   "source": [
    "%%time\n",
    "dd1[(dd1[\"CLASS\"]==1)].count().compute()"
   ]
  },
  {
   "cell_type": "code",
   "execution_count": 60,
   "metadata": {},
   "outputs": [
    {
     "name": "stderr",
     "output_type": "stream",
     "text": [
      "/home/ec2-user/anaconda3/envs/python3/lib/python3.6/site-packages/distributed/bokeh/core.py:57: UserWarning: \n",
      "Port 8787 is already in use. \n",
      "Perhaps you already have a cluster running?\n",
      "Hosting the diagnostics dashboard on a random port instead.\n",
      "  warnings.warn('\\n' + msg)\n"
     ]
    }
   ],
   "source": [
    "from dask.distributed import Client\n",
    "client = Client(n_workers=16)"
   ]
  },
  {
   "cell_type": "code",
   "execution_count": 61,
   "metadata": {},
   "outputs": [
    {
     "data": {
      "text/html": [
       "<table style=\"border: 2px solid white;\">\n",
       "<tr>\n",
       "<td style=\"vertical-align: top; border: 0px solid white\">\n",
       "<h3>Client</h3>\n",
       "<ul>\n",
       "  <li><b>Scheduler: </b>tcp://127.0.0.1:44609\n",
       "  <li><b>Dashboard: </b><a href='http://127.0.0.1:43869/status' target='_blank'>http://127.0.0.1:43869/status</a>\n",
       "</ul>\n",
       "</td>\n",
       "<td style=\"vertical-align: top; border: 0px solid white\">\n",
       "<h3>Cluster</h3>\n",
       "<ul>\n",
       "  <li><b>Workers: </b>16</li>\n",
       "  <li><b>Cores: </b>16</li>\n",
       "  <li><b>Memory: </b>67.53 GB</li>\n",
       "</ul>\n",
       "</td>\n",
       "</tr>\n",
       "</table>"
      ],
      "text/plain": [
       "<Client: scheduler='tcp://127.0.0.1:44609' processes=16 cores=16>"
      ]
     },
     "execution_count": 61,
     "metadata": {},
     "output_type": "execute_result"
    }
   ],
   "source": [
    "client"
   ]
  },
  {
   "cell_type": "code",
   "execution_count": 62,
   "metadata": {},
   "outputs": [
    {
     "name": "stdout",
     "output_type": "stream",
     "text": [
      "CPU times: user 92.1 ms, sys: 3.98 ms, total: 96 ms\n",
      "Wall time: 214 ms\n"
     ]
    },
    {
     "data": {
      "text/plain": [
       "COMMENT_ID    1005\n",
       "AUTHOR        1005\n",
       "DATE           760\n",
       "CONTENT       1005\n",
       "CLASS         1005\n",
       "dtype: int64"
      ]
     },
     "execution_count": 62,
     "metadata": {},
     "output_type": "execute_result"
    }
   ],
   "source": [
    "%%time\n",
    "dd1[(dd1[\"CLASS\"]==1)].count().compute()"
   ]
  },
  {
   "cell_type": "markdown",
   "metadata": {},
   "source": [
    "# options"
   ]
  },
  {
   "cell_type": "markdown",
   "metadata": {},
   "source": [
    "As much as I want to make dask work, I just can't figure it out.\n",
    "So far i prefer to use scala/spark. I like the fact a lot of computation/distribution happens under the hood. While I am not as fluent in scala I have worked with some statically typed languages before.\n",
    "Writing fizzbuzz program i liked that there was type safety specfying the output although a union type would have been nice. \n",
    "Spark seems to always be fast, while dask seems to run slower on smaller datasets."
   ]
  }
 ],
 "metadata": {
  "kernelspec": {
   "display_name": "conda_python3",
   "language": "python",
   "name": "conda_python3"
  },
  "language_info": {
   "codemirror_mode": {
    "name": "ipython",
    "version": 3
   },
   "file_extension": ".py",
   "mimetype": "text/x-python",
   "name": "python",
   "nbconvert_exporter": "python",
   "pygments_lexer": "ipython3",
   "version": "3.6.5"
  }
 },
 "nbformat": 4,
 "nbformat_minor": 2
}
