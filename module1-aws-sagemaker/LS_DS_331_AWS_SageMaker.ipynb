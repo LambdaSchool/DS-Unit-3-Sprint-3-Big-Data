{
 "cells": [
  {
   "cell_type": "markdown",
   "metadata": {},
   "source": [
    "_Lambda School Data Science — Big Data_\n",
    "\n",
    "# AWS SageMaker\n",
    "\n",
    "### Links\n",
    "\n",
    "#### AWS\n",
    "- The Open Guide to Amazon Web Services: EC2 Basics _(just this one short section!)_ https://github.com/open-guides/og-aws#ec2-basics\n",
    "- AWS in Plain English https://www.expeditedssl.com/aws-in-plain-english\n",
    "- Amazon SageMaker » Create an Amazon SageMaker Notebook Instance https://docs.aws.amazon.com/sagemaker/latest/dg/gs-setup-working-env.html\n",
    "- Amazon SageMaker » Install External Libraries https://docs.aws.amazon.com/sagemaker/latest/dg/nbi-add-external.html \n",
    "\n",
    "`conda install -n python3 bokeh dask datashader fastparquet numba python-snappy`\n",
    "\n",
    "#### Dask\n",
    "- Why Dask? https://docs.dask.org/en/latest/why.html\n",
    "- Use Cases https://docs.dask.org/en/latest/use-cases.html\n",
    "- User Interfaces https://docs.dask.org/en/latest/user-interfaces.html\n",
    "\n",
    "#### Numba\n",
    "- A ~5 minute guide http://numba.pydata.org/numba-doc/latest/user/5minguide.html"
   ]
  },
  {
   "cell_type": "markdown",
   "metadata": {},
   "source": [
    "## 1. Estimate pi\n",
    "https://en.wikipedia.org/wiki/Approximations_of_π#Summing_a_circle's_area"
   ]
  },
  {
   "cell_type": "markdown",
   "metadata": {},
   "source": [
    "### With plain Python"
   ]
  },
  {
   "cell_type": "code",
   "execution_count": 1,
   "metadata": {},
   "outputs": [],
   "source": [
    "import random\n",
    "\n",
    "def monte_carlo_pi(nsamples):\n",
    "    acc = 0\n",
    "    for _ in range(int(nsamples)):\n",
    "        x = random.random()\n",
    "        y = random.random()\n",
    "        if (x**2 + y**2) < 1.0:\n",
    "            acc += 1\n",
    "    return 4.0 * acc / nsamples"
   ]
  },
  {
   "cell_type": "code",
   "execution_count": 2,
   "metadata": {},
   "outputs": [
    {
     "name": "stdout",
     "output_type": "stream",
     "text": [
      "CPU times: user 4.22 s, sys: 0 ns, total: 4.22 s\n",
      "Wall time: 4.22 s\n"
     ]
    },
    {
     "data": {
      "text/plain": [
       "3.142204"
      ]
     },
     "execution_count": 2,
     "metadata": {},
     "output_type": "execute_result"
    }
   ],
   "source": [
    "%%time\n",
    "monte_carlo_pi(1e7)"
   ]
  },
  {
   "cell_type": "markdown",
   "metadata": {},
   "source": [
    "### With Numba\n",
    "http://numba.pydata.org/"
   ]
  },
  {
   "cell_type": "code",
   "execution_count": 3,
   "metadata": {},
   "outputs": [],
   "source": [
    "from numba import jit"
   ]
  },
  {
   "cell_type": "code",
   "execution_count": 4,
   "metadata": {},
   "outputs": [],
   "source": [
    "@jit(nopython=True) \n",
    "def monte_carlo_pi(nsamples):\n",
    "    acc = 0\n",
    "    for _ in range(int(nsamples)):\n",
    "        x = random.random()\n",
    "        y = random.random()\n",
    "        if (x**2 + y**2) < 1.0:\n",
    "            acc += 1\n",
    "    return 4.0 * acc / nsamples"
   ]
  },
  {
   "cell_type": "code",
   "execution_count": 5,
   "metadata": {},
   "outputs": [
    {
     "name": "stdout",
     "output_type": "stream",
     "text": [
      "CPU times: user 289 ms, sys: 3.33 ms, total: 293 ms\n",
      "Wall time: 482 ms\n"
     ]
    },
    {
     "data": {
      "text/plain": [
       "3.1412664"
      ]
     },
     "execution_count": 5,
     "metadata": {},
     "output_type": "execute_result"
    }
   ],
   "source": [
    "%%time\n",
    "monte_carlo_pi(1e7)"
   ]
  },
  {
   "cell_type": "markdown",
   "metadata": {},
   "source": [
    "## 2. Loop a slow function"
   ]
  },
  {
   "cell_type": "markdown",
   "metadata": {},
   "source": [
    "### With plain Python"
   ]
  },
  {
   "cell_type": "code",
   "execution_count": 6,
   "metadata": {},
   "outputs": [],
   "source": [
    "from time import sleep\n",
    "\n",
    "def slow_square(x):\n",
    "    sleep(1)\n",
    "    return x**2"
   ]
  },
  {
   "cell_type": "code",
   "execution_count": 7,
   "metadata": {},
   "outputs": [
    {
     "name": "stdout",
     "output_type": "stream",
     "text": [
      "CPU times: user 1.38 ms, sys: 256 µs, total: 1.64 ms\n",
      "Wall time: 16 s\n"
     ]
    },
    {
     "data": {
      "text/plain": [
       "[0, 1, 4, 9, 16, 25, 36, 49, 64, 81, 100, 121, 144, 169, 196, 225]"
      ]
     },
     "execution_count": 7,
     "metadata": {},
     "output_type": "execute_result"
    }
   ],
   "source": [
    "%%time\n",
    "[slow_square(n) for n in range(16)]"
   ]
  },
  {
   "cell_type": "markdown",
   "metadata": {},
   "source": [
    "### With Dask\n",
    "- https://examples.dask.org/delayed.html\n",
    "- http://docs.dask.org/en/latest/setup/single-distributed.html"
   ]
  },
  {
   "cell_type": "code",
   "execution_count": 8,
   "metadata": {},
   "outputs": [],
   "source": [
    "from dask import compute, delayed"
   ]
  },
  {
   "cell_type": "code",
   "execution_count": 9,
   "metadata": {},
   "outputs": [
    {
     "name": "stdout",
     "output_type": "stream",
     "text": [
      "CPU times: user 3 µs, sys: 1e+03 ns, total: 4 µs\n",
      "Wall time: 7.15 µs\n"
     ]
    },
    {
     "data": {
      "text/plain": [
       "([0, 1, 4, 9, 16, 25, 36, 49, 64, 81, 100, 121, 144, 169, 196, 225],)"
      ]
     },
     "execution_count": 9,
     "metadata": {},
     "output_type": "execute_result"
    }
   ],
   "source": [
    "%time \n",
    "compute(delayed(slow_square)(n) for n in range(16))"
   ]
  },
  {
   "cell_type": "markdown",
   "metadata": {},
   "source": [
    "## 3. Analyze millions of Instacart orders"
   ]
  },
  {
   "cell_type": "markdown",
   "metadata": {},
   "source": [
    "### Download data\n",
    "https://tech.instacart.com/3-million-instacart-orders-open-sourced-d40d29ead6f2"
   ]
  },
  {
   "cell_type": "code",
   "execution_count": 10,
   "metadata": {},
   "outputs": [
    {
     "name": "stdout",
     "output_type": "stream",
     "text": [
      "--2019-06-10 22:43:28--  https://s3.amazonaws.com/instacart-datasets/instacart_online_grocery_shopping_2017_05_01.tar.gz\n",
      "Resolving s3.amazonaws.com (s3.amazonaws.com)... 52.216.186.5\n",
      "Connecting to s3.amazonaws.com (s3.amazonaws.com)|52.216.186.5|:443... connected.\n",
      "HTTP request sent, awaiting response... 200 OK\n",
      "Length: 205548478 (196M) [application/x-gzip]\n",
      "Saving to: ‘instacart_online_grocery_shopping_2017_05_01.tar.gz.1’\n",
      "\n",
      "instacart_online_gr 100%[===================>] 196.03M  57.9MB/s    in 3.4s    \n",
      "\n",
      "2019-06-10 22:43:32 (57.9 MB/s) - ‘instacart_online_grocery_shopping_2017_05_01.tar.gz.1’ saved [205548478/205548478]\n",
      "\n"
     ]
    }
   ],
   "source": [
    "!wget https://s3.amazonaws.com/instacart-datasets/instacart_online_grocery_shopping_2017_05_01.tar.gz"
   ]
  },
  {
   "cell_type": "code",
   "execution_count": 11,
   "metadata": {},
   "outputs": [
    {
     "name": "stdout",
     "output_type": "stream",
     "text": [
      "instacart_2017_05_01/\n",
      "instacart_2017_05_01/._aisles.csv\n",
      "instacart_2017_05_01/aisles.csv\n",
      "instacart_2017_05_01/._departments.csv\n",
      "instacart_2017_05_01/departments.csv\n",
      "instacart_2017_05_01/._order_products__prior.csv\n",
      "instacart_2017_05_01/order_products__prior.csv\n",
      "instacart_2017_05_01/._order_products__train.csv\n",
      "instacart_2017_05_01/order_products__train.csv\n",
      "instacart_2017_05_01/._orders.csv\n",
      "instacart_2017_05_01/orders.csv\n",
      "instacart_2017_05_01/._products.csv\n",
      "instacart_2017_05_01/products.csv\n"
     ]
    }
   ],
   "source": [
    "!tar --gunzip --extract --verbose --file=instacart_online_grocery_shopping_2017_05_01.tar.gz"
   ]
  },
  {
   "cell_type": "code",
   "execution_count": 14,
   "metadata": {},
   "outputs": [
    {
     "name": "stdout",
     "output_type": "stream",
     "text": [
      "/home/ec2-user/SageMaker/DS-Unit-3-Sprint-3-Big-Data/module1-aws-sagemaker/instacart_2017_05_01\n"
     ]
    }
   ],
   "source": [
    "%cd instacart_2017_05_01"
   ]
  },
  {
   "cell_type": "code",
   "execution_count": 15,
   "metadata": {},
   "outputs": [
    {
     "name": "stdout",
     "output_type": "stream",
     "text": [
      "-rw-r--r-- 1 ec2-user ec2-user 2.6K May  2  2017 aisles.csv\n",
      "-rw-r--r-- 1 ec2-user ec2-user  270 May  2  2017 departments.csv\n",
      "-rw-r--r-- 1 ec2-user ec2-user 551M May  2  2017 order_products__prior.csv\n",
      "-rw-r--r-- 1 ec2-user ec2-user  24M May  2  2017 order_products__train.csv\n",
      "-rw-r--r-- 1 ec2-user ec2-user 104M May  2  2017 orders.csv\n",
      "-rw-r--r-- 1 ec2-user ec2-user 2.1M May  2  2017 products.csv\n"
     ]
    }
   ],
   "source": [
    "!ls -lh *.csv"
   ]
  },
  {
   "cell_type": "markdown",
   "metadata": {},
   "source": [
    "### With Pandas"
   ]
  },
  {
   "cell_type": "markdown",
   "metadata": {},
   "source": [
    "#### Load & merge data"
   ]
  },
  {
   "cell_type": "code",
   "execution_count": 16,
   "metadata": {},
   "outputs": [],
   "source": [
    "import pandas as pd"
   ]
  },
  {
   "cell_type": "code",
   "execution_count": 17,
   "metadata": {},
   "outputs": [
    {
     "name": "stdout",
     "output_type": "stream",
     "text": [
      "<class 'pandas.core.frame.DataFrame'>\n",
      "Int64Index: 33819106 entries, 0 to 1384616\n",
      "Data columns (total 4 columns):\n",
      "order_id             int64\n",
      "product_id           int64\n",
      "add_to_cart_order    int64\n",
      "reordered            int64\n",
      "dtypes: int64(4)\n",
      "memory usage: 1.3 GB\n",
      "CPU times: user 10.5 s, sys: 2.25 s, total: 12.7 s\n",
      "Wall time: 16.9 s\n"
     ]
    }
   ],
   "source": [
    "%%time\n",
    "order_products = pd.concat([\n",
    "    pd.read_csv('order_products__prior.csv'), \n",
    "    pd.read_csv('order_products__train.csv')])\n",
    "\n",
    "order_products.info()"
   ]
  },
  {
   "cell_type": "code",
   "execution_count": 18,
   "metadata": {},
   "outputs": [
    {
     "data": {
      "text/html": [
       "<div>\n",
       "<style scoped>\n",
       "    .dataframe tbody tr th:only-of-type {\n",
       "        vertical-align: middle;\n",
       "    }\n",
       "\n",
       "    .dataframe tbody tr th {\n",
       "        vertical-align: top;\n",
       "    }\n",
       "\n",
       "    .dataframe thead th {\n",
       "        text-align: right;\n",
       "    }\n",
       "</style>\n",
       "<table border=\"1\" class=\"dataframe\">\n",
       "  <thead>\n",
       "    <tr style=\"text-align: right;\">\n",
       "      <th></th>\n",
       "      <th>order_id</th>\n",
       "      <th>product_id</th>\n",
       "      <th>add_to_cart_order</th>\n",
       "      <th>reordered</th>\n",
       "    </tr>\n",
       "  </thead>\n",
       "  <tbody>\n",
       "    <tr>\n",
       "      <th>0</th>\n",
       "      <td>2</td>\n",
       "      <td>33120</td>\n",
       "      <td>1</td>\n",
       "      <td>1</td>\n",
       "    </tr>\n",
       "    <tr>\n",
       "      <th>1</th>\n",
       "      <td>2</td>\n",
       "      <td>28985</td>\n",
       "      <td>2</td>\n",
       "      <td>1</td>\n",
       "    </tr>\n",
       "    <tr>\n",
       "      <th>2</th>\n",
       "      <td>2</td>\n",
       "      <td>9327</td>\n",
       "      <td>3</td>\n",
       "      <td>0</td>\n",
       "    </tr>\n",
       "    <tr>\n",
       "      <th>3</th>\n",
       "      <td>2</td>\n",
       "      <td>45918</td>\n",
       "      <td>4</td>\n",
       "      <td>1</td>\n",
       "    </tr>\n",
       "    <tr>\n",
       "      <th>4</th>\n",
       "      <td>2</td>\n",
       "      <td>30035</td>\n",
       "      <td>5</td>\n",
       "      <td>0</td>\n",
       "    </tr>\n",
       "  </tbody>\n",
       "</table>\n",
       "</div>"
      ],
      "text/plain": [
       "   order_id  product_id  add_to_cart_order  reordered\n",
       "0         2       33120                  1          1\n",
       "1         2       28985                  2          1\n",
       "2         2        9327                  3          0\n",
       "3         2       45918                  4          1\n",
       "4         2       30035                  5          0"
      ]
     },
     "execution_count": 18,
     "metadata": {},
     "output_type": "execute_result"
    }
   ],
   "source": [
    "order_products.head()"
   ]
  },
  {
   "cell_type": "code",
   "execution_count": 19,
   "metadata": {},
   "outputs": [
    {
     "name": "stdout",
     "output_type": "stream",
     "text": [
      "<class 'pandas.core.frame.DataFrame'>\n",
      "RangeIndex: 49688 entries, 0 to 49687\n",
      "Data columns (total 4 columns):\n",
      "product_id       49688 non-null int64\n",
      "product_name     49688 non-null object\n",
      "aisle_id         49688 non-null int64\n",
      "department_id    49688 non-null int64\n",
      "dtypes: int64(3), object(1)\n",
      "memory usage: 1.5+ MB\n"
     ]
    }
   ],
   "source": [
    "products = pd.read_csv('products.csv')\n",
    "products.info()"
   ]
  },
  {
   "cell_type": "code",
   "execution_count": 20,
   "metadata": {},
   "outputs": [
    {
     "data": {
      "text/html": [
       "<div>\n",
       "<style scoped>\n",
       "    .dataframe tbody tr th:only-of-type {\n",
       "        vertical-align: middle;\n",
       "    }\n",
       "\n",
       "    .dataframe tbody tr th {\n",
       "        vertical-align: top;\n",
       "    }\n",
       "\n",
       "    .dataframe thead th {\n",
       "        text-align: right;\n",
       "    }\n",
       "</style>\n",
       "<table border=\"1\" class=\"dataframe\">\n",
       "  <thead>\n",
       "    <tr style=\"text-align: right;\">\n",
       "      <th></th>\n",
       "      <th>product_id</th>\n",
       "      <th>product_name</th>\n",
       "      <th>aisle_id</th>\n",
       "      <th>department_id</th>\n",
       "    </tr>\n",
       "  </thead>\n",
       "  <tbody>\n",
       "    <tr>\n",
       "      <th>0</th>\n",
       "      <td>1</td>\n",
       "      <td>Chocolate Sandwich Cookies</td>\n",
       "      <td>61</td>\n",
       "      <td>19</td>\n",
       "    </tr>\n",
       "    <tr>\n",
       "      <th>1</th>\n",
       "      <td>2</td>\n",
       "      <td>All-Seasons Salt</td>\n",
       "      <td>104</td>\n",
       "      <td>13</td>\n",
       "    </tr>\n",
       "    <tr>\n",
       "      <th>2</th>\n",
       "      <td>3</td>\n",
       "      <td>Robust Golden Unsweetened Oolong Tea</td>\n",
       "      <td>94</td>\n",
       "      <td>7</td>\n",
       "    </tr>\n",
       "    <tr>\n",
       "      <th>3</th>\n",
       "      <td>4</td>\n",
       "      <td>Smart Ones Classic Favorites Mini Rigatoni Wit...</td>\n",
       "      <td>38</td>\n",
       "      <td>1</td>\n",
       "    </tr>\n",
       "    <tr>\n",
       "      <th>4</th>\n",
       "      <td>5</td>\n",
       "      <td>Green Chile Anytime Sauce</td>\n",
       "      <td>5</td>\n",
       "      <td>13</td>\n",
       "    </tr>\n",
       "  </tbody>\n",
       "</table>\n",
       "</div>"
      ],
      "text/plain": [
       "   product_id                                       product_name  aisle_id  \\\n",
       "0           1                         Chocolate Sandwich Cookies        61   \n",
       "1           2                                   All-Seasons Salt       104   \n",
       "2           3               Robust Golden Unsweetened Oolong Tea        94   \n",
       "3           4  Smart Ones Classic Favorites Mini Rigatoni Wit...        38   \n",
       "4           5                          Green Chile Anytime Sauce         5   \n",
       "\n",
       "   department_id  \n",
       "0             19  \n",
       "1             13  \n",
       "2              7  \n",
       "3              1  \n",
       "4             13  "
      ]
     },
     "execution_count": 20,
     "metadata": {},
     "output_type": "execute_result"
    }
   ],
   "source": [
    "products.head()"
   ]
  },
  {
   "cell_type": "code",
   "execution_count": 21,
   "metadata": {},
   "outputs": [
    {
     "name": "stdout",
     "output_type": "stream",
     "text": [
      "CPU times: user 6.16 s, sys: 1.83 s, total: 8 s\n",
      "Wall time: 7.99 s\n"
     ]
    }
   ],
   "source": [
    "%%time\n",
    "order_products = pd.merge(order_products, products[['product_id', 'product_name']])"
   ]
  },
  {
   "cell_type": "code",
   "execution_count": 22,
   "metadata": {},
   "outputs": [
    {
     "data": {
      "text/html": [
       "<div>\n",
       "<style scoped>\n",
       "    .dataframe tbody tr th:only-of-type {\n",
       "        vertical-align: middle;\n",
       "    }\n",
       "\n",
       "    .dataframe tbody tr th {\n",
       "        vertical-align: top;\n",
       "    }\n",
       "\n",
       "    .dataframe thead th {\n",
       "        text-align: right;\n",
       "    }\n",
       "</style>\n",
       "<table border=\"1\" class=\"dataframe\">\n",
       "  <thead>\n",
       "    <tr style=\"text-align: right;\">\n",
       "      <th></th>\n",
       "      <th>order_id</th>\n",
       "      <th>product_id</th>\n",
       "      <th>add_to_cart_order</th>\n",
       "      <th>reordered</th>\n",
       "      <th>product_name</th>\n",
       "    </tr>\n",
       "  </thead>\n",
       "  <tbody>\n",
       "    <tr>\n",
       "      <th>0</th>\n",
       "      <td>2</td>\n",
       "      <td>33120</td>\n",
       "      <td>1</td>\n",
       "      <td>1</td>\n",
       "      <td>Organic Egg Whites</td>\n",
       "    </tr>\n",
       "    <tr>\n",
       "      <th>1</th>\n",
       "      <td>26</td>\n",
       "      <td>33120</td>\n",
       "      <td>5</td>\n",
       "      <td>0</td>\n",
       "      <td>Organic Egg Whites</td>\n",
       "    </tr>\n",
       "    <tr>\n",
       "      <th>2</th>\n",
       "      <td>120</td>\n",
       "      <td>33120</td>\n",
       "      <td>13</td>\n",
       "      <td>0</td>\n",
       "      <td>Organic Egg Whites</td>\n",
       "    </tr>\n",
       "    <tr>\n",
       "      <th>3</th>\n",
       "      <td>327</td>\n",
       "      <td>33120</td>\n",
       "      <td>5</td>\n",
       "      <td>1</td>\n",
       "      <td>Organic Egg Whites</td>\n",
       "    </tr>\n",
       "    <tr>\n",
       "      <th>4</th>\n",
       "      <td>390</td>\n",
       "      <td>33120</td>\n",
       "      <td>28</td>\n",
       "      <td>1</td>\n",
       "      <td>Organic Egg Whites</td>\n",
       "    </tr>\n",
       "  </tbody>\n",
       "</table>\n",
       "</div>"
      ],
      "text/plain": [
       "   order_id  product_id  add_to_cart_order  reordered        product_name\n",
       "0         2       33120                  1          1  Organic Egg Whites\n",
       "1        26       33120                  5          0  Organic Egg Whites\n",
       "2       120       33120                 13          0  Organic Egg Whites\n",
       "3       327       33120                  5          1  Organic Egg Whites\n",
       "4       390       33120                 28          1  Organic Egg Whites"
      ]
     },
     "execution_count": 22,
     "metadata": {},
     "output_type": "execute_result"
    }
   ],
   "source": [
    "order_products.head()"
   ]
  },
  {
   "cell_type": "markdown",
   "metadata": {},
   "source": [
    "#### Most popular products?"
   ]
  },
  {
   "cell_type": "code",
   "execution_count": 23,
   "metadata": {},
   "outputs": [
    {
     "name": "stdout",
     "output_type": "stream",
     "text": [
      "CPU times: user 3 µs, sys: 0 ns, total: 3 µs\n",
      "Wall time: 7.39 µs\n"
     ]
    },
    {
     "data": {
      "text/plain": [
       "Banana                    491291\n",
       "Bag of Organic Bananas    394930\n",
       "Organic Strawberries      275577\n",
       "Organic Baby Spinach      251705\n",
       "Organic Hass Avocado      220877\n",
       "Organic Avocado           184224\n",
       "Large Lemon               160792\n",
       "Strawberries              149445\n",
       "Limes                     146660\n",
       "Organic Whole Milk        142813\n",
       "Name: product_name, dtype: int64"
      ]
     },
     "execution_count": 23,
     "metadata": {},
     "output_type": "execute_result"
    }
   ],
   "source": [
    "%time\n",
    "order_products['product_name'].value_counts().head(10)"
   ]
  },
  {
   "cell_type": "markdown",
   "metadata": {},
   "source": [
    "#### Organic?"
   ]
  },
  {
   "cell_type": "code",
   "execution_count": 24,
   "metadata": {},
   "outputs": [
    {
     "name": "stdout",
     "output_type": "stream",
     "text": [
      "CPU times: user 3 µs, sys: 1 µs, total: 4 µs\n",
      "Wall time: 8.58 µs\n"
     ]
    }
   ],
   "source": [
    "%time\n",
    "order_products['organic'] = order_products['product_name'] .str.contains('Organic')"
   ]
  },
  {
   "cell_type": "code",
   "execution_count": 25,
   "metadata": {},
   "outputs": [
    {
     "name": "stdout",
     "output_type": "stream",
     "text": [
      "CPU times: user 3 µs, sys: 0 ns, total: 3 µs\n",
      "Wall time: 8.34 µs\n"
     ]
    },
    {
     "data": {
      "text/plain": [
       "False    23163118\n",
       "True     10655988\n",
       "Name: organic, dtype: int64"
      ]
     },
     "execution_count": 25,
     "metadata": {},
     "output_type": "execute_result"
    }
   ],
   "source": [
    "%time\n",
    "order_products['organic'].value_counts()"
   ]
  },
  {
   "cell_type": "markdown",
   "metadata": {},
   "source": [
    "### With Dask\n",
    "https://examples.dask.org/dataframe.html"
   ]
  },
  {
   "cell_type": "code",
   "execution_count": 26,
   "metadata": {},
   "outputs": [],
   "source": [
    "import dask.dataframe as dd\n",
    "from dask.distributed import Client"
   ]
  },
  {
   "cell_type": "markdown",
   "metadata": {},
   "source": [
    "#### Load & merge data\n",
    "https://examples.dask.org/dataframes/01-data-access.html#Read-CSV-files"
   ]
  },
  {
   "cell_type": "code",
   "execution_count": 27,
   "metadata": {},
   "outputs": [
    {
     "name": "stdout",
     "output_type": "stream",
     "text": [
      "CPU times: user 4 µs, sys: 1e+03 ns, total: 5 µs\n",
      "Wall time: 9.78 µs\n"
     ]
    }
   ],
   "source": [
    "%time\n",
    "order_products = dd.read_csv('order_products*.csv')"
   ]
  },
  {
   "cell_type": "code",
   "execution_count": 28,
   "metadata": {},
   "outputs": [
    {
     "name": "stdout",
     "output_type": "stream",
     "text": [
      "CPU times: user 4 µs, sys: 1 µs, total: 5 µs\n",
      "Wall time: 8.58 µs\n"
     ]
    }
   ],
   "source": [
    "%time\n",
    "order_products = dd.merge(order_products, products[['product_id','product_name']])"
   ]
  },
  {
   "cell_type": "markdown",
   "metadata": {},
   "source": [
    "http://docs.dask.org/en/latest/dataframe-performance.html#persist-intelligently"
   ]
  },
  {
   "cell_type": "code",
   "execution_count": 29,
   "metadata": {},
   "outputs": [
    {
     "data": {
      "text/html": [
       "<div>\n",
       "<style scoped>\n",
       "    .dataframe tbody tr th:only-of-type {\n",
       "        vertical-align: middle;\n",
       "    }\n",
       "\n",
       "    .dataframe tbody tr th {\n",
       "        vertical-align: top;\n",
       "    }\n",
       "\n",
       "    .dataframe thead th {\n",
       "        text-align: right;\n",
       "    }\n",
       "</style>\n",
       "<table border=\"1\" class=\"dataframe\">\n",
       "  <thead>\n",
       "    <tr style=\"text-align: right;\">\n",
       "      <th></th>\n",
       "      <th>order_id</th>\n",
       "      <th>product_id</th>\n",
       "      <th>add_to_cart_order</th>\n",
       "      <th>reordered</th>\n",
       "      <th>product_name</th>\n",
       "    </tr>\n",
       "  </thead>\n",
       "  <tbody>\n",
       "    <tr>\n",
       "      <th>0</th>\n",
       "      <td>2</td>\n",
       "      <td>33120</td>\n",
       "      <td>1</td>\n",
       "      <td>1</td>\n",
       "      <td>Organic Egg Whites</td>\n",
       "    </tr>\n",
       "    <tr>\n",
       "      <th>1</th>\n",
       "      <td>26</td>\n",
       "      <td>33120</td>\n",
       "      <td>5</td>\n",
       "      <td>0</td>\n",
       "      <td>Organic Egg Whites</td>\n",
       "    </tr>\n",
       "    <tr>\n",
       "      <th>2</th>\n",
       "      <td>120</td>\n",
       "      <td>33120</td>\n",
       "      <td>13</td>\n",
       "      <td>0</td>\n",
       "      <td>Organic Egg Whites</td>\n",
       "    </tr>\n",
       "    <tr>\n",
       "      <th>3</th>\n",
       "      <td>327</td>\n",
       "      <td>33120</td>\n",
       "      <td>5</td>\n",
       "      <td>1</td>\n",
       "      <td>Organic Egg Whites</td>\n",
       "    </tr>\n",
       "    <tr>\n",
       "      <th>4</th>\n",
       "      <td>390</td>\n",
       "      <td>33120</td>\n",
       "      <td>28</td>\n",
       "      <td>1</td>\n",
       "      <td>Organic Egg Whites</td>\n",
       "    </tr>\n",
       "  </tbody>\n",
       "</table>\n",
       "</div>"
      ],
      "text/plain": [
       "   order_id  product_id  add_to_cart_order  reordered        product_name\n",
       "0         2       33120                  1          1  Organic Egg Whites\n",
       "1        26       33120                  5          0  Organic Egg Whites\n",
       "2       120       33120                 13          0  Organic Egg Whites\n",
       "3       327       33120                  5          1  Organic Egg Whites\n",
       "4       390       33120                 28          1  Organic Egg Whites"
      ]
     },
     "execution_count": 29,
     "metadata": {},
     "output_type": "execute_result"
    }
   ],
   "source": [
    "order_products.head()"
   ]
  },
  {
   "cell_type": "markdown",
   "metadata": {},
   "source": [
    "#### Most popular products?"
   ]
  },
  {
   "cell_type": "code",
   "execution_count": 30,
   "metadata": {},
   "outputs": [
    {
     "name": "stdout",
     "output_type": "stream",
     "text": [
      "CPU times: user 21.4 s, sys: 3.99 s, total: 25.4 s\n",
      "Wall time: 8.88 s\n"
     ]
    },
    {
     "data": {
      "text/plain": [
       "Banana                                                       491291\n",
       "Bag of Organic Bananas                                       394930\n",
       "Organic Strawberries                                         275577\n",
       "Organic Baby Spinach                                         251705\n",
       "Organic Hass Avocado                                         220877\n",
       "Organic Avocado                                              184224\n",
       "Large Lemon                                                  160792\n",
       "Strawberries                                                 149445\n",
       "Limes                                                        146660\n",
       "Organic Whole Milk                                           142813\n",
       "Organic Raspberries                                          142603\n",
       "Organic Yellow Onion                                         117716\n",
       "Organic Garlic                                               113936\n",
       "Organic Zucchini                                             109412\n",
       "Organic Blueberries                                          105026\n",
       "Cucumber Kirby                                                99728\n",
       "Organic Fuji Apple                                            92889\n",
       "Organic Lemon                                                 91251\n",
       "Organic Grape Tomatoes                                        88078\n",
       "Apple Honeycrisp Organic                                      87272\n",
       "Seedless Red Grapes                                           86748\n",
       "Organic Cucumber                                              85005\n",
       "Honeycrisp Apple                                              83320\n",
       "Organic Baby Carrots                                          80493\n",
       "Sparkling Water Grapefruit                                    79245\n",
       "Organic Half & Half                                           79006\n",
       "Organic Large Extra Fancy Fuji Apple                          78056\n",
       "Yellow Onions                                                 76929\n",
       "Organic Baby Arugula                                          75752\n",
       "Organic Gala Apples                                           75655\n",
       "                                                              ...  \n",
       "Frittata, Farmer's Market                                         1\n",
       "Vanilla Bean Sheep Milk Ice Cream                                 1\n",
       "Pure Peppermint Extract                                           1\n",
       "Pure Performance Restorative Shampoo Chamomile & Honey            1\n",
       "Pumpkin Spice Almond Nog                                          1\n",
       "Tangerine Melon Bubble Bath                                       1\n",
       "Organic Aleppo Pepper                                             1\n",
       "Hennepin Farmhouse Ale                                            1\n",
       "Indian Wells Merlot                                               1\n",
       "Coconut Bliss Pineapple Coconut                                   1\n",
       "Coconut Cardamom Almond Butter                                    1\n",
       "Pasta Shapes In Tomato Sauce                                      1\n",
       "Hot Oatmeal Multigrain Raisin                                     1\n",
       "Water With Electrolytes                                           1\n",
       "Sweetart Jelly Beans                                              1\n",
       "Cinnamon Rice Pudding Snacks                                      1\n",
       "Citronge Extra Fine Orange Liqueur                                1\n",
       "Lowfat Cherry Lime Supernova Kefir Cultured Milk Smoothie         1\n",
       "Lindor Peppermint White Chocolate Truffles                        1\n",
       "Organic Better Rest Tea Blend                                     1\n",
       "Aged Parmesan Cheese Sticks                                       1\n",
       "Molasses, Bead                                                    1\n",
       "Orange Recharge                                                   1\n",
       "Pasta & Enchilada Sauce, Organic, 7 Veggie                        1\n",
       "Ultra Sun Blossom Liquid 90 loads Fabric Enhancers                1\n",
       "Organic Ice Cream Birthday Cake                                   1\n",
       "11.3 Oz. Oreo Fudge Creme Double Chocolate                        1\n",
       "Cld/Flu Van Chrry                                                 1\n",
       "12 Inch Taper Candle White                                        1\n",
       "All Natural Stevia Liquid Extract Sweetener                       1\n",
       "Name: product_name, Length: 49685, dtype: int64"
      ]
     },
     "execution_count": 30,
     "metadata": {},
     "output_type": "execute_result"
    }
   ],
   "source": [
    "%%time\n",
    "order_products['product_name'].value_counts().compute()"
   ]
  },
  {
   "cell_type": "markdown",
   "metadata": {},
   "source": [
    "#### Organic?"
   ]
  },
  {
   "cell_type": "code",
   "execution_count": 31,
   "metadata": {},
   "outputs": [
    {
     "name": "stdout",
     "output_type": "stream",
     "text": [
      "CPU times: user 3.95 ms, sys: 0 ns, total: 3.95 ms\n",
      "Wall time: 3.6 ms\n"
     ]
    }
   ],
   "source": [
    "%%time\n",
    "order_products['organic'] = order_products['product_name'].str.contains('Organic')"
   ]
  },
  {
   "cell_type": "code",
   "execution_count": 32,
   "metadata": {},
   "outputs": [
    {
     "name": "stdout",
     "output_type": "stream",
     "text": [
      "CPU times: user 35.4 s, sys: 3.72 s, total: 39.2 s\n",
      "Wall time: 21.6 s\n"
     ]
    },
    {
     "data": {
      "text/plain": [
       "False    23163118\n",
       "True     10655988\n",
       "Name: organic, dtype: int64"
      ]
     },
     "execution_count": 32,
     "metadata": {},
     "output_type": "execute_result"
    }
   ],
   "source": [
    "%%time\n",
    "order_products['organic'].value_counts().compute()"
   ]
  },
  {
   "cell_type": "markdown",
   "metadata": {},
   "source": [
    "## 4. Fit a machine learning model"
   ]
  },
  {
   "cell_type": "markdown",
   "metadata": {},
   "source": [
    "### Load data"
   ]
  },
  {
   "cell_type": "code",
   "execution_count": 33,
   "metadata": {},
   "outputs": [
    {
     "name": "stdout",
     "output_type": "stream",
     "text": [
      "/home/ec2-user/SageMaker/DS-Unit-3-Sprint-3-Big-Data/module1-aws-sagemaker/ds-predictive-modeling-challenge-data\n"
     ]
    }
   ],
   "source": [
    "%cd ../ds-predictive-modeling-challenge-data"
   ]
  },
  {
   "cell_type": "code",
   "execution_count": 34,
   "metadata": {},
   "outputs": [],
   "source": [
    "import numpy as np\n",
    "import pandas as pd\n",
    "from sklearn.ensemble import RandomForestClassifier\n",
    "\n",
    "train_features = pd.read_csv('train_features.csv')\n",
    "train_labels = pd.read_csv('train_labels.csv')\n",
    "\n",
    "X_train_numeric = train_features.select_dtypes(np.number)\n",
    "y_train = train_labels['status_group']"
   ]
  },
  {
   "cell_type": "markdown",
   "metadata": {},
   "source": [
    "### With 2 cores (like Google Colab)\n",
    "https://scikit-learn.org/stable/modules/generated/sklearn.ensemble.RandomForestClassifier.html"
   ]
  },
  {
   "cell_type": "code",
   "execution_count": 35,
   "metadata": {},
   "outputs": [
    {
     "name": "stderr",
     "output_type": "stream",
     "text": [
      "[Parallel(n_jobs=2)]: Using backend ThreadingBackend with 2 concurrent workers.\n",
      "[Parallel(n_jobs=2)]: Done  46 tasks      | elapsed:    2.7s\n",
      "[Parallel(n_jobs=2)]: Done 196 tasks      | elapsed:   11.6s\n",
      "[Parallel(n_jobs=2)]: Done 200 out of 200 | elapsed:   11.8s finished\n"
     ]
    },
    {
     "name": "stdout",
     "output_type": "stream",
     "text": [
      "Out-of-bag score: 0.7206228956228956\n"
     ]
    }
   ],
   "source": [
    "model = RandomForestClassifier(n_estimators=200, oob_score=True, n_jobs=2, random_state=42, verbose=1)\n",
    "model.fit(X_train_numeric, y_train)\n",
    "print('Out-of-bag score:', model.oob_score_)"
   ]
  },
  {
   "cell_type": "markdown",
   "metadata": {},
   "source": [
    "### With 16 cores (on AWS m4.4xlarge)"
   ]
  },
  {
   "cell_type": "code",
   "execution_count": 36,
   "metadata": {},
   "outputs": [
    {
     "name": "stderr",
     "output_type": "stream",
     "text": [
      "[Parallel(n_jobs=-1)]: Using backend ThreadingBackend with 16 concurrent workers.\n",
      "[Parallel(n_jobs=-1)]: Done  18 tasks      | elapsed:    0.4s\n",
      "[Parallel(n_jobs=-1)]: Done 168 tasks      | elapsed:    2.1s\n",
      "[Parallel(n_jobs=-1)]: Done 200 out of 200 | elapsed:    2.4s finished\n"
     ]
    },
    {
     "name": "stdout",
     "output_type": "stream",
     "text": [
      "Out-of-bag score: 0.7206228956228956\n"
     ]
    }
   ],
   "source": [
    "model = RandomForestClassifier(n_estimators=200, oob_score=True, n_jobs=-1, random_state=42, verbose=1)\n",
    "model.fit(X_train_numeric, y_train)\n",
    "print('Out-of-bag score:', model.oob_score_)"
   ]
  },
  {
   "cell_type": "markdown",
   "metadata": {},
   "source": [
    "## ASSIGNMENT\n",
    "\n",
    "Revisit a previous assignment or project that had slow speeds or big data.\n",
    "\n",
    "Make it better with what you've learned today!\n",
    "\n",
    "You can use `wget` or Kaggle API to get data. Some possibilities include:\n",
    "\n",
    "- https://www.kaggle.com/c/ds1-predictive-modeling-challenge\n",
    "- https://www.kaggle.com/ntnu-testimon/paysim1\n",
    "- https://github.com/mdeff/fma\n",
    "- https://tech.instacart.com/3-million-instacart-orders-open-sourced-d40d29ead6f2 \n",
    "\n",
    "\n",
    "\n",
    "Also, you can play with [Datashader](http://datashader.org/) and its [example datasets](https://github.com/pyviz/datashader/blob/master/examples/datasets.yml)!"
   ]
  },
  {
   "cell_type": "code",
   "execution_count": 37,
   "metadata": {},
   "outputs": [
    {
     "name": "stdout",
     "output_type": "stream",
     "text": [
      "/home/ec2-user/SageMaker/DS-Unit-3-Sprint-3-Big-Data/module1-aws-sagemaker/taxicab\n"
     ]
    }
   ],
   "source": [
    "%cd ../taxicab"
   ]
  },
  {
   "cell_type": "code",
   "execution_count": 36,
   "metadata": {},
   "outputs": [
    {
     "name": "stdout",
     "output_type": "stream",
     "text": [
      "--2019-06-10 22:45:29--  https://s3.amazonaws.com/nyc-tlc/trip+data/yellow_tripdata_2018-01.csv\n",
      "Resolving s3.amazonaws.com (s3.amazonaws.com)... 52.216.109.61\n",
      "Connecting to s3.amazonaws.com (s3.amazonaws.com)|52.216.109.61|:443... connected.\n",
      "HTTP request sent, awaiting response... 200 OK\n",
      "Length: 772098307 (736M) [text/csv]\n",
      "Saving to: ‘yellow_tripdata_2018-01.csv’\n",
      "\n",
      "yellow_tripdata_201 100%[===================>] 736.33M  95.4MB/s    in 7.7s    \n",
      "\n",
      "2019-06-10 22:45:36 (95.3 MB/s) - ‘yellow_tripdata_2018-01.csv’ saved [772098307/772098307]\n",
      "\n",
      "--2019-06-10 22:45:37--  https://s3.amazonaws.com/nyc-tlc/trip+data/yellow_tripdata_2018-02.csv\n",
      "Resolving s3.amazonaws.com (s3.amazonaws.com)... 52.216.115.61\n",
      "Connecting to s3.amazonaws.com (s3.amazonaws.com)|52.216.115.61|:443... connected.\n",
      "HTTP request sent, awaiting response... 200 OK\n",
      "Length: 748827487 (714M) [text/csv]\n",
      "Saving to: ‘yellow_tripdata_2018-02.csv’\n",
      "\n",
      "yellow_tripdata_201 100%[===================>] 714.14M  93.7MB/s    in 8.3s    \n",
      "\n",
      "2019-06-10 22:45:45 (86.2 MB/s) - ‘yellow_tripdata_2018-02.csv’ saved [748827487/748827487]\n",
      "\n",
      "--2019-06-10 22:45:45--  https://s3.amazonaws.com/nyc-tlc/trip+data/yellow_tripdata_2018-03.csv\n",
      "Resolving s3.amazonaws.com (s3.amazonaws.com)... 52.216.184.197\n",
      "Connecting to s3.amazonaws.com (s3.amazonaws.com)|52.216.184.197|:443... connected.\n",
      "HTTP request sent, awaiting response... 200 OK\n",
      "Length: 831623580 (793M) [text/csv]\n",
      "Saving to: ‘yellow_tripdata_2018-03.csv’\n",
      "\n",
      "yellow_tripdata_201 100%[===================>] 793.10M  97.6MB/s    in 8.3s    \n",
      "\n",
      "2019-06-10 22:45:53 (95.6 MB/s) - ‘yellow_tripdata_2018-03.csv’ saved [831623580/831623580]\n",
      "\n",
      "--2019-06-10 22:45:54--  https://s3.amazonaws.com/nyc-tlc/trip+data/yellow_tripdata_2018-04.csv\n",
      "Resolving s3.amazonaws.com (s3.amazonaws.com)... 52.216.128.181\n",
      "Connecting to s3.amazonaws.com (s3.amazonaws.com)|52.216.128.181|:443... connected.\n",
      "HTTP request sent, awaiting response... 200 OK\n",
      "Length: 821249453 (783M) [text/csv]\n",
      "Saving to: ‘yellow_tripdata_2018-04.csv’\n",
      "\n",
      "yellow_tripdata_201 100%[===================>] 783.20M  96.2MB/s    in 8.2s    \n",
      "\n",
      "2019-06-10 22:46:02 (95.6 MB/s) - ‘yellow_tripdata_2018-04.csv’ saved [821249453/821249453]\n",
      "\n",
      "--2019-06-10 22:46:02--  https://s3.amazonaws.com/nyc-tlc/trip+data/yellow_tripdata_2018-05.csv\n",
      "Resolving s3.amazonaws.com (s3.amazonaws.com)... 52.216.162.45\n",
      "Connecting to s3.amazonaws.com (s3.amazonaws.com)|52.216.162.45|:443... connected.\n",
      "HTTP request sent, awaiting response... 200 OK\n",
      "Length: 814368922 (777M) [text/csv]\n",
      "Saving to: ‘yellow_tripdata_2018-05.csv’\n",
      "\n",
      "yellow_tripdata_201 100%[===================>] 776.64M  95.4MB/s    in 8.1s    \n",
      "\n",
      "2019-06-10 22:46:10 (95.6 MB/s) - ‘yellow_tripdata_2018-05.csv’ saved [814368922/814368922]\n",
      "\n",
      "--2019-06-10 22:46:10--  https://s3.amazonaws.com/nyc-tlc/trip+data/yellow_tripdata_2018-06.csv\n",
      "Resolving s3.amazonaws.com (s3.amazonaws.com)... 52.216.100.229\n",
      "Connecting to s3.amazonaws.com (s3.amazonaws.com)|52.216.100.229|:443... connected.\n",
      "HTTP request sent, awaiting response... 200 OK\n",
      "Length: 769389923 (734M) [text/csv]\n",
      "Saving to: ‘yellow_tripdata_2018-06.csv’\n",
      "\n",
      "yellow_tripdata_201 100%[===================>] 733.75M  95.4MB/s    in 7.7s    \n",
      "\n",
      "2019-06-10 22:46:18 (95.6 MB/s) - ‘yellow_tripdata_2018-06.csv’ saved [769389923/769389923]\n",
      "\n",
      "--2019-06-10 22:46:18--  https://s3.amazonaws.com/nyc-tlc/trip+data/yellow_tripdata_2018-07.csv\n",
      "Resolving s3.amazonaws.com (s3.amazonaws.com)... 52.216.136.206\n",
      "Connecting to s3.amazonaws.com (s3.amazonaws.com)|52.216.136.206|:443... connected.\n",
      "HTTP request sent, awaiting response... 200 OK\n",
      "Length: 692301759 (660M) [text/csv]\n",
      "Saving to: ‘yellow_tripdata_2018-07.csv’\n",
      "\n",
      "yellow_tripdata_201 100%[===================>] 660.23M  95.4MB/s    in 6.9s    \n",
      "\n",
      "2019-06-10 22:46:25 (95.7 MB/s) - ‘yellow_tripdata_2018-07.csv’ saved [692301759/692301759]\n",
      "\n",
      "--2019-06-10 22:46:26--  https://s3.amazonaws.com/nyc-tlc/trip+data/yellow_tripdata_2018-08.csv\n",
      "Resolving s3.amazonaws.com (s3.amazonaws.com)... 52.216.97.205\n",
      "Connecting to s3.amazonaws.com (s3.amazonaws.com)|52.216.97.205|:443... connected.\n",
      "HTTP request sent, awaiting response... 200 OK\n",
      "Length: 692396254 (660M) [text/csv]\n",
      "Saving to: ‘yellow_tripdata_2018-08.csv’\n",
      "\n",
      "yellow_tripdata_201 100%[===================>] 660.32M  95.4MB/s    in 6.9s    \n",
      "\n",
      "2019-06-10 22:46:32 (95.6 MB/s) - ‘yellow_tripdata_2018-08.csv’ saved [692396254/692396254]\n",
      "\n",
      "--2019-06-10 22:46:33--  https://s3.amazonaws.com/nyc-tlc/trip+data/yellow_tripdata_2018-09.csv\n",
      "Resolving s3.amazonaws.com (s3.amazonaws.com)... 52.216.107.134\n",
      "Connecting to s3.amazonaws.com (s3.amazonaws.com)|52.216.107.134|:443... connected.\n",
      "HTTP request sent, awaiting response... 200 OK\n",
      "Length: 709978544 (677M) [text/csv]\n",
      "Saving to: ‘yellow_tripdata_2018-09.csv’\n",
      "\n",
      "yellow_tripdata_201 100%[===================>] 677.09M  96.3MB/s    in 7.1s    \n",
      "\n",
      "2019-06-10 22:46:40 (95.6 MB/s) - ‘yellow_tripdata_2018-09.csv’ saved [709978544/709978544]\n",
      "\n",
      "--2019-06-10 22:46:40--  https://s3.amazonaws.com/nyc-tlc/trip+data/yellow_tripdata_2018-10.csv\n",
      "Resolving s3.amazonaws.com (s3.amazonaws.com)... 52.216.161.85\n",
      "Connecting to s3.amazonaws.com (s3.amazonaws.com)|52.216.161.85|:443... connected.\n",
      "HTTP request sent, awaiting response... 200 OK\n",
      "Length: 779465756 (743M) [text/csv]\n",
      "Saving to: ‘yellow_tripdata_2018-10.csv’\n",
      "\n",
      "yellow_tripdata_201 100%[===================>] 743.36M  96.1MB/s    in 7.8s    \n",
      "\n",
      "2019-06-10 22:46:48 (95.6 MB/s) - ‘yellow_tripdata_2018-10.csv’ saved [779465756/779465756]\n",
      "\n",
      "--2019-06-10 22:46:48--  https://s3.amazonaws.com/nyc-tlc/trip+data/yellow_tripdata_2018-11.csv\n",
      "Resolving s3.amazonaws.com (s3.amazonaws.com)... 52.216.105.245\n",
      "Connecting to s3.amazonaws.com (s3.amazonaws.com)|52.216.105.245|:443... connected.\n",
      "HTTP request sent, awaiting response... 200 OK\n",
      "Length: 719444578 (686M) [text/csv]\n",
      "Saving to: ‘yellow_tripdata_2018-11.csv’\n",
      "\n",
      "yellow_tripdata_201 100%[===================>] 686.12M  94.4MB/s    in 7.2s    \n",
      "\n",
      "2019-06-10 22:46:55 (95.0 MB/s) - ‘yellow_tripdata_2018-11.csv’ saved [719444578/719444578]\n",
      "\n",
      "--2019-06-10 22:46:56--  https://s3.amazonaws.com/nyc-tlc/trip+data/yellow_tripdata_2018-12.csv\n",
      "Resolving s3.amazonaws.com (s3.amazonaws.com)... 52.216.184.229\n",
      "Connecting to s3.amazonaws.com (s3.amazonaws.com)|52.216.184.229|:443... connected.\n",
      "HTTP request sent, awaiting response... 200 OK\n",
      "Length: 721522221 (688M) [text/csv]\n",
      "Saving to: ‘yellow_tripdata_2018-12.csv’\n",
      "\n",
      "yellow_tripdata_201 100%[===================>] 688.10M  95.6MB/s    in 7.2s    \n",
      "\n",
      "2019-06-10 22:47:03 (95.1 MB/s) - ‘yellow_tripdata_2018-12.csv’ saved [721522221/721522221]\n",
      "\n"
     ]
    }
   ],
   "source": [
    "!wget https://s3.amazonaws.com/nyc-tlc/trip+data/yellow_tripdata_2018-01.csv\n",
    "!wget https://s3.amazonaws.com/nyc-tlc/trip+data/yellow_tripdata_2018-02.csv\n",
    "!wget https://s3.amazonaws.com/nyc-tlc/trip+data/yellow_tripdata_2018-03.csv\n",
    "!wget https://s3.amazonaws.com/nyc-tlc/trip+data/yellow_tripdata_2018-04.csv\n",
    "!wget https://s3.amazonaws.com/nyc-tlc/trip+data/yellow_tripdata_2018-05.csv\n",
    "!wget https://s3.amazonaws.com/nyc-tlc/trip+data/yellow_tripdata_2018-06.csv\n",
    "!wget https://s3.amazonaws.com/nyc-tlc/trip+data/yellow_tripdata_2018-07.csv\n",
    "!wget https://s3.amazonaws.com/nyc-tlc/trip+data/yellow_tripdata_2018-08.csv\n",
    "!wget https://s3.amazonaws.com/nyc-tlc/trip+data/yellow_tripdata_2018-09.csv\n",
    "!wget https://s3.amazonaws.com/nyc-tlc/trip+data/yellow_tripdata_2018-10.csv\n",
    "!wget https://s3.amazonaws.com/nyc-tlc/trip+data/yellow_tripdata_2018-11.csv\n",
    "!wget https://s3.amazonaws.com/nyc-tlc/trip+data/yellow_tripdata_2018-12.csv    \n"
   ]
  },
  {
   "cell_type": "code",
   "execution_count": 38,
   "metadata": {},
   "outputs": [],
   "source": [
    "df = dd.read_csv('yellow_tripdata_2018*.csv')"
   ]
  },
  {
   "cell_type": "code",
   "execution_count": 39,
   "metadata": {},
   "outputs": [
    {
     "data": {
      "text/plain": [
       "VendorID                 0\n",
       "tpep_pickup_datetime     0\n",
       "tpep_dropoff_datetime    0\n",
       "passenger_count          0\n",
       "trip_distance            0\n",
       "RatecodeID               0\n",
       "store_and_fwd_flag       0\n",
       "PULocationID             0\n",
       "DOLocationID             0\n",
       "payment_type             0\n",
       "fare_amount              0\n",
       "extra                    0\n",
       "mta_tax                  0\n",
       "tip_amount               0\n",
       "tolls_amount             0\n",
       "improvement_surcharge    0\n",
       "total_amount             0\n",
       "dtype: int64"
      ]
     },
     "execution_count": 39,
     "metadata": {},
     "output_type": "execute_result"
    }
   ],
   "source": [
    "df.isnull().sum().compute()"
   ]
  },
  {
   "cell_type": "code",
   "execution_count": 40,
   "metadata": {},
   "outputs": [
    {
     "data": {
      "text/plain": [
       "102804250"
      ]
     },
     "execution_count": 40,
     "metadata": {},
     "output_type": "execute_result"
    }
   ],
   "source": [
    "len(df['VendorID'])"
   ]
  },
  {
   "cell_type": "code",
   "execution_count": 41,
   "metadata": {},
   "outputs": [
    {
     "data": {
      "text/html": [
       "<div>\n",
       "<style scoped>\n",
       "    .dataframe tbody tr th:only-of-type {\n",
       "        vertical-align: middle;\n",
       "    }\n",
       "\n",
       "    .dataframe tbody tr th {\n",
       "        vertical-align: top;\n",
       "    }\n",
       "\n",
       "    .dataframe thead th {\n",
       "        text-align: right;\n",
       "    }\n",
       "</style>\n",
       "<table border=\"1\" class=\"dataframe\">\n",
       "  <thead>\n",
       "    <tr style=\"text-align: right;\">\n",
       "      <th></th>\n",
       "      <th>VendorID</th>\n",
       "      <th>tpep_pickup_datetime</th>\n",
       "      <th>tpep_dropoff_datetime</th>\n",
       "      <th>passenger_count</th>\n",
       "      <th>trip_distance</th>\n",
       "      <th>RatecodeID</th>\n",
       "      <th>store_and_fwd_flag</th>\n",
       "      <th>PULocationID</th>\n",
       "      <th>DOLocationID</th>\n",
       "      <th>payment_type</th>\n",
       "      <th>fare_amount</th>\n",
       "      <th>extra</th>\n",
       "      <th>mta_tax</th>\n",
       "      <th>tip_amount</th>\n",
       "      <th>tolls_amount</th>\n",
       "      <th>improvement_surcharge</th>\n",
       "      <th>total_amount</th>\n",
       "    </tr>\n",
       "  </thead>\n",
       "  <tbody>\n",
       "    <tr>\n",
       "      <th>0</th>\n",
       "      <td>1</td>\n",
       "      <td>2018-01-01 00:21:05</td>\n",
       "      <td>2018-01-01 00:24:23</td>\n",
       "      <td>1</td>\n",
       "      <td>0.5</td>\n",
       "      <td>1</td>\n",
       "      <td>N</td>\n",
       "      <td>41</td>\n",
       "      <td>24</td>\n",
       "      <td>2</td>\n",
       "      <td>4.5</td>\n",
       "      <td>0.5</td>\n",
       "      <td>0.5</td>\n",
       "      <td>0.00</td>\n",
       "      <td>0.0</td>\n",
       "      <td>0.3</td>\n",
       "      <td>5.80</td>\n",
       "    </tr>\n",
       "    <tr>\n",
       "      <th>1</th>\n",
       "      <td>1</td>\n",
       "      <td>2018-01-01 00:44:55</td>\n",
       "      <td>2018-01-01 01:03:05</td>\n",
       "      <td>1</td>\n",
       "      <td>2.7</td>\n",
       "      <td>1</td>\n",
       "      <td>N</td>\n",
       "      <td>239</td>\n",
       "      <td>140</td>\n",
       "      <td>2</td>\n",
       "      <td>14.0</td>\n",
       "      <td>0.5</td>\n",
       "      <td>0.5</td>\n",
       "      <td>0.00</td>\n",
       "      <td>0.0</td>\n",
       "      <td>0.3</td>\n",
       "      <td>15.30</td>\n",
       "    </tr>\n",
       "    <tr>\n",
       "      <th>2</th>\n",
       "      <td>1</td>\n",
       "      <td>2018-01-01 00:08:26</td>\n",
       "      <td>2018-01-01 00:14:21</td>\n",
       "      <td>2</td>\n",
       "      <td>0.8</td>\n",
       "      <td>1</td>\n",
       "      <td>N</td>\n",
       "      <td>262</td>\n",
       "      <td>141</td>\n",
       "      <td>1</td>\n",
       "      <td>6.0</td>\n",
       "      <td>0.5</td>\n",
       "      <td>0.5</td>\n",
       "      <td>1.00</td>\n",
       "      <td>0.0</td>\n",
       "      <td>0.3</td>\n",
       "      <td>8.30</td>\n",
       "    </tr>\n",
       "    <tr>\n",
       "      <th>3</th>\n",
       "      <td>1</td>\n",
       "      <td>2018-01-01 00:20:22</td>\n",
       "      <td>2018-01-01 00:52:51</td>\n",
       "      <td>1</td>\n",
       "      <td>10.2</td>\n",
       "      <td>1</td>\n",
       "      <td>N</td>\n",
       "      <td>140</td>\n",
       "      <td>257</td>\n",
       "      <td>2</td>\n",
       "      <td>33.5</td>\n",
       "      <td>0.5</td>\n",
       "      <td>0.5</td>\n",
       "      <td>0.00</td>\n",
       "      <td>0.0</td>\n",
       "      <td>0.3</td>\n",
       "      <td>34.80</td>\n",
       "    </tr>\n",
       "    <tr>\n",
       "      <th>4</th>\n",
       "      <td>1</td>\n",
       "      <td>2018-01-01 00:09:18</td>\n",
       "      <td>2018-01-01 00:27:06</td>\n",
       "      <td>2</td>\n",
       "      <td>2.5</td>\n",
       "      <td>1</td>\n",
       "      <td>N</td>\n",
       "      <td>246</td>\n",
       "      <td>239</td>\n",
       "      <td>1</td>\n",
       "      <td>12.5</td>\n",
       "      <td>0.5</td>\n",
       "      <td>0.5</td>\n",
       "      <td>2.75</td>\n",
       "      <td>0.0</td>\n",
       "      <td>0.3</td>\n",
       "      <td>16.55</td>\n",
       "    </tr>\n",
       "  </tbody>\n",
       "</table>\n",
       "</div>"
      ],
      "text/plain": [
       "   VendorID tpep_pickup_datetime tpep_dropoff_datetime  passenger_count  \\\n",
       "0         1  2018-01-01 00:21:05   2018-01-01 00:24:23                1   \n",
       "1         1  2018-01-01 00:44:55   2018-01-01 01:03:05                1   \n",
       "2         1  2018-01-01 00:08:26   2018-01-01 00:14:21                2   \n",
       "3         1  2018-01-01 00:20:22   2018-01-01 00:52:51                1   \n",
       "4         1  2018-01-01 00:09:18   2018-01-01 00:27:06                2   \n",
       "\n",
       "   trip_distance  RatecodeID store_and_fwd_flag  PULocationID  DOLocationID  \\\n",
       "0            0.5           1                  N            41            24   \n",
       "1            2.7           1                  N           239           140   \n",
       "2            0.8           1                  N           262           141   \n",
       "3           10.2           1                  N           140           257   \n",
       "4            2.5           1                  N           246           239   \n",
       "\n",
       "   payment_type  fare_amount  extra  mta_tax  tip_amount  tolls_amount  \\\n",
       "0             2          4.5    0.5      0.5        0.00           0.0   \n",
       "1             2         14.0    0.5      0.5        0.00           0.0   \n",
       "2             1          6.0    0.5      0.5        1.00           0.0   \n",
       "3             2         33.5    0.5      0.5        0.00           0.0   \n",
       "4             1         12.5    0.5      0.5        2.75           0.0   \n",
       "\n",
       "   improvement_surcharge  total_amount  \n",
       "0                    0.3          5.80  \n",
       "1                    0.3         15.30  \n",
       "2                    0.3          8.30  \n",
       "3                    0.3         34.80  \n",
       "4                    0.3         16.55  "
      ]
     },
     "execution_count": 41,
     "metadata": {},
     "output_type": "execute_result"
    }
   ],
   "source": [
    "df.head()"
   ]
  },
  {
   "cell_type": "code",
   "execution_count": 42,
   "metadata": {},
   "outputs": [],
   "source": [
    "def ride_length(df):\n",
    "    df['tpep_pickup_datetime'] = pd.to_datetime(df['tpep_pickup_datetime'], infer_datetime_format=True )\n",
    "    df['tpep_dropoff_datetime'] = pd.to_datetime(df['tpep_dropoff_datetime'], infer_datetime_format=True )\n",
    "    \n",
    "    df['trip_length_in_time'] = df['tpep_dropoff_datetime'] - df['tpep_pickup_datetime']\n",
    "    \n",
    "    return df"
   ]
  },
  {
   "cell_type": "code",
   "execution_count": 43,
   "metadata": {},
   "outputs": [],
   "source": [
    "rl = delayed(ride_length)"
   ]
  },
  {
   "cell_type": "code",
   "execution_count": 44,
   "metadata": {},
   "outputs": [],
   "source": [
    "rl = rl(df)"
   ]
  },
  {
   "cell_type": "code",
   "execution_count": 45,
   "metadata": {},
   "outputs": [],
   "source": [
    "df_2 = compute(rl)"
   ]
  },
  {
   "cell_type": "code",
   "execution_count": 47,
   "metadata": {},
   "outputs": [
    {
     "data": {
      "text/plain": [
       "(        VendorID tpep_pickup_datetime tpep_dropoff_datetime  passenger_count  \\\n",
       " 0              1  2018-01-01 00:21:05   2018-01-01 00:24:23                1   \n",
       " 1              1  2018-01-01 00:44:55   2018-01-01 01:03:05                1   \n",
       " 2              1  2018-01-01 00:08:26   2018-01-01 00:14:21                2   \n",
       " 3              1  2018-01-01 00:20:22   2018-01-01 00:52:51                1   \n",
       " 4              1  2018-01-01 00:09:18   2018-01-01 00:27:06                2   \n",
       " 5              1  2018-01-01 00:29:29   2018-01-01 00:32:48                3   \n",
       " 6              1  2018-01-01 00:38:08   2018-01-01 00:48:24                2   \n",
       " 7              1  2018-01-01 00:49:29   2018-01-01 00:51:53                1   \n",
       " 8              1  2018-01-01 00:56:38   2018-01-01 01:01:05                1   \n",
       " 9              1  2018-01-01 00:17:04   2018-01-01 00:22:24                1   \n",
       " 10             1  2018-01-01 00:41:03   2018-01-01 00:46:49                1   \n",
       " 11             1  2018-01-01 00:52:54   2018-01-01 01:17:33                1   \n",
       " 12             2  2018-01-01 00:17:54   2018-01-01 00:22:05                1   \n",
       " 13             2  2018-01-01 00:24:47   2018-01-01 00:34:20                1   \n",
       " 14             2  2018-01-01 00:37:57   2018-01-01 00:53:43                1   \n",
       " 15             1  2018-01-01 00:35:53   2018-01-01 00:52:59                1   \n",
       " 16             2  2018-01-01 00:30:47   2018-01-01 01:13:20                1   \n",
       " 17             1  2018-01-01 00:21:45   2018-01-01 00:25:58                2   \n",
       " 18             1  2018-01-01 00:31:11   2018-01-01 01:07:56                1   \n",
       " 19             2  2018-01-01 00:15:42   2018-01-01 00:21:38                5   \n",
       " 20             2  2018-01-01 00:25:19   2018-01-01 00:45:02                5   \n",
       " 21             2  2018-01-01 00:51:36   2018-01-01 01:04:13                5   \n",
       " 22             2  2018-01-01 00:09:11   2018-01-01 00:30:24                1   \n",
       " 23             2  2018-01-01 00:32:00   2018-01-01 00:58:50                1   \n",
       " 24             1  2018-01-01 00:41:49   2018-01-01 00:54:44                4   \n",
       " 25             2  2018-01-01 00:17:15   2018-01-01 00:21:49                5   \n",
       " 26             2  2018-01-01 00:24:54   2018-01-01 00:46:55                5   \n",
       " 27             2  2018-01-01 00:48:40   2018-01-01 00:51:30                5   \n",
       " 28             1  2018-01-01 00:24:42   2018-01-01 00:31:56                2   \n",
       " 29             1  2018-01-01 00:36:09   2018-01-01 00:43:06                1   \n",
       " ...          ...                  ...                   ...              ...   \n",
       " 199835         1  2018-12-31 23:36:05   2018-12-31 23:54:08                2   \n",
       " 199836         1  2018-12-31 23:15:29   2018-12-31 23:29:42                1   \n",
       " 199837         1  2018-12-31 23:28:39   2018-12-31 23:35:25                1   \n",
       " 199838         2  2018-12-31 23:30:07   2018-12-31 23:42:38                1   \n",
       " 199839         1  2018-12-31 23:08:36   2018-12-31 23:35:21                2   \n",
       " 199840         1  2018-12-31 23:43:54   2019-01-01 00:14:59                3   \n",
       " 199841         2  2018-12-31 23:20:29   2018-12-31 23:34:54                1   \n",
       " 199842         2  2018-12-31 23:20:37   2018-12-31 23:40:04                1   \n",
       " 199843         2  2018-12-31 23:47:30   2019-01-01 00:11:28                1   \n",
       " 199844         1  2018-12-31 23:00:17   2018-12-31 23:16:57                2   \n",
       " 199845         1  2018-12-31 23:26:33   2018-12-31 23:33:22                1   \n",
       " 199846         2  2018-12-31 23:00:21   2018-12-31 23:03:03                1   \n",
       " 199847         2  2018-12-31 23:05:53   2018-12-31 23:12:13                1   \n",
       " 199848         2  2018-12-31 23:24:03   2018-12-31 23:39:17                1   \n",
       " 199849         2  2018-12-31 23:56:05   2018-12-31 23:57:51                1   \n",
       " 199850         1  2018-12-31 23:09:16   2018-12-31 23:21:13                1   \n",
       " 199851         1  2018-12-31 23:33:23   2018-12-31 23:54:43                1   \n",
       " 199852         2  2018-12-31 23:04:04   2018-12-31 23:07:14                1   \n",
       " 199853         2  2018-12-31 23:24:35   2018-12-31 23:34:35                1   \n",
       " 199854         2  2018-12-31 23:36:41   2018-12-31 23:39:35                1   \n",
       " 199855         2  2018-12-31 22:57:26   2018-12-31 23:27:04                1   \n",
       " 199856         2  2018-12-31 23:23:45   2018-12-31 23:41:44                1   \n",
       " 199857         2  2018-12-31 19:32:08   2018-12-31 19:35:00                1   \n",
       " 199858         2  2018-12-31 20:05:51   2019-01-01 19:13:26                1   \n",
       " 199859         2  2018-12-31 23:45:18   2018-12-31 23:51:59                1   \n",
       " 199860         2  2018-12-31 23:40:45   2018-12-31 23:49:52                3   \n",
       " 199861         2  2018-12-31 23:16:46   2018-12-31 23:28:09                2   \n",
       " 199862         2  2018-12-31 23:29:01   2018-12-31 23:33:39                1   \n",
       " 199863         2  2018-12-31 23:55:39   2018-12-31 23:59:15                1   \n",
       " 199864         2  2018-12-31 23:13:26   2018-12-31 23:13:31                1   \n",
       " \n",
       "         trip_distance  RatecodeID store_and_fwd_flag  PULocationID  \\\n",
       " 0                0.50           1                  N            41   \n",
       " 1                2.70           1                  N           239   \n",
       " 2                0.80           1                  N           262   \n",
       " 3               10.20           1                  N           140   \n",
       " 4                2.50           1                  N           246   \n",
       " 5                0.50           1                  N           143   \n",
       " 6                1.70           1                  N            50   \n",
       " 7                0.70           1                  N           239   \n",
       " 8                1.00           1                  N           238   \n",
       " 9                0.70           1                  N           170   \n",
       " 10               0.60           1                  N           162   \n",
       " 11               3.50           1                  N           141   \n",
       " 12               1.04           1                  N           137   \n",
       " 13               1.22           1                  N           224   \n",
       " 14               1.92           1                  N           234   \n",
       " 15               5.70           1                  N            13   \n",
       " 16               3.74           1                  N            48   \n",
       " 17               0.60           1                  N           163   \n",
       " 18              10.90           1                  N           229   \n",
       " 19               1.22           1                  N           236   \n",
       " 20               3.13           1                  N           263   \n",
       " 21               2.22           1                  N           239   \n",
       " 22               2.93           1                  N            90   \n",
       " 23               3.52           1                  N           233   \n",
       " 24               3.00           1                  N           161   \n",
       " 25               0.25           1                  N           234   \n",
       " 26               3.31           1                  N           234   \n",
       " 27               0.57           1                  N           142   \n",
       " 28               0.70           1                  N           170   \n",
       " 29               1.80           1                  N           233   \n",
       " ...               ...         ...                ...           ...   \n",
       " 199835           2.10           1                  N           164   \n",
       " 199836           2.10           1                  N           186   \n",
       " 199837           1.00           1                  N           234   \n",
       " 199838           2.14           1                  N            90   \n",
       " 199839           5.20           1                  N            48   \n",
       " 199840          17.40           1                  N           132   \n",
       " 199841           2.39           1                  N           234   \n",
       " 199842           2.96           1                  N           263   \n",
       " 199843           4.77           1                  N           142   \n",
       " 199844           3.60           1                  N           264   \n",
       " 199845           0.70           1                  N           264   \n",
       " 199846           0.89           1                  N           170   \n",
       " 199847           0.93           1                  N           229   \n",
       " 199848           3.55           1                  N           151   \n",
       " 199849           0.41           1                  N            41   \n",
       " 199850           2.20           1                  N           237   \n",
       " 199851           3.60           1                  N           164   \n",
       " 199852           0.51           1                  N           237   \n",
       " 199853           1.55           1                  N           239   \n",
       " 199854           0.37           1                  N            48   \n",
       " 199855           7.09           1                  N            43   \n",
       " 199856           5.83           1                  N           114   \n",
       " 199857           0.40           1                  N            41   \n",
       " 199858           1.51           1                  N           243   \n",
       " 199859           1.98           1                  N           132   \n",
       " 199860           1.08           1                  N           161   \n",
       " 199861           2.68           1                  N           263   \n",
       " 199862           0.75           1                  N            41   \n",
       " 199863           0.92           1                  N           263   \n",
       " 199864           0.00           1                  N           264   \n",
       " \n",
       "         DOLocationID  payment_type  fare_amount  extra  mta_tax  tip_amount  \\\n",
       " 0                 24             2          4.5    0.5      0.5        0.00   \n",
       " 1                140             2         14.0    0.5      0.5        0.00   \n",
       " 2                141             1          6.0    0.5      0.5        1.00   \n",
       " 3                257             2         33.5    0.5      0.5        0.00   \n",
       " 4                239             1         12.5    0.5      0.5        2.75   \n",
       " 5                143             2          4.5    0.5      0.5        0.00   \n",
       " 6                239             1          9.0    0.5      0.5        2.05   \n",
       " 7                238             1          4.0    0.5      0.5        1.00   \n",
       " 8                 24             1          5.5    0.5      0.5        1.70   \n",
       " 9                170             2          5.5    0.5      0.5        0.00   \n",
       " 10               229             1          5.5    0.5      0.5        1.35   \n",
       " 11               113             2         16.5    0.5      0.5        0.00   \n",
       " 12               224             2          5.5    0.5      0.5        0.00   \n",
       " 13                79             2          7.5    0.5      0.5        0.00   \n",
       " 14               100             2         10.0    0.5      0.5        0.00   \n",
       " 15               189             1         19.0    0.5      0.5        4.05   \n",
       " 16               236             1         25.5    0.5      0.5        6.70   \n",
       " 17               162             1          4.5    0.5      0.5        1.70   \n",
       " 18                61             2         35.0    0.5      0.5        0.00   \n",
       " 19                75             2          6.0    0.5      0.5        0.00   \n",
       " 20               143             2         13.0    0.5      0.5        0.00   \n",
       " 21                24             2          9.5    0.5      0.5        0.00   \n",
       " 22               233             1         14.5    0.5      0.5        2.00   \n",
       " 23               125             2         18.0    0.5      0.5        0.00   \n",
       " 24               146             1         12.0    0.5      0.5        2.65   \n",
       " 25               234             2          4.5    0.5      0.5        0.00   \n",
       " 26               143             1         16.0    0.5      0.5        3.46   \n",
       " 27               239             1          4.0    0.5      0.5        1.06   \n",
       " 28               162             2          6.0    0.5      0.5        0.00   \n",
       " 29               263             2          7.5    0.5      0.5        0.00   \n",
       " ...              ...           ...          ...    ...      ...         ...   \n",
       " 199835            68             1         12.5    0.5      0.5        2.75   \n",
       " 199836           143             1         11.0    0.5      0.5        2.00   \n",
       " 199837            68             2          6.0    0.5      0.5        0.00   \n",
       " 199838            48             1         10.0    0.5      0.5        2.26   \n",
       " 199839            87             1         20.5    0.5      0.5        3.27   \n",
       " 199840           265             2         48.0    0.5      0.5        0.00   \n",
       " 199841            48             2         10.5    0.5      0.5        0.00   \n",
       " 199842           239             2         14.5    0.5      0.5        0.00   \n",
       " 199843           231             1         18.5    0.5      0.5        3.96   \n",
       " 199844           264             1         14.0    0.5      0.5        3.80   \n",
       " 199845           264             2          6.0    0.5      0.5        0.00   \n",
       " 199846           229             1          4.5    0.5      0.5        1.74   \n",
       " 199847           163             1          6.0    0.5      0.5        1.08   \n",
       " 199848           168             1         14.0    0.5      0.5        4.59   \n",
       " 199849            42             1          3.5    0.5      0.5        3.30   \n",
       " 199850           170             2         10.5    0.5      0.5        0.00   \n",
       " 199851           239             1         15.5    0.5      0.5        5.00   \n",
       " 199852           163             1          4.0    0.5      0.5        1.32   \n",
       " 199853            48             2          8.5    0.5      0.5        0.00   \n",
       " 199854            48             1          4.0    0.5      0.5        1.32   \n",
       " 199855           231             1         26.0    0.5      0.5        5.46   \n",
       " 199856           263             1         19.5    0.5      0.5        4.16   \n",
       " 199857            41             2          4.0    0.5      0.5        0.00   \n",
       " 199858           119             2          7.5    0.5      0.5        0.00   \n",
       " 199859            10             1          8.0    0.5      0.5        2.32   \n",
       " 199860           237             2          7.5    0.5      0.5        0.00   \n",
       " 199861            24             1         11.0    0.5      0.5        4.92   \n",
       " 199862            43             2          5.0    0.5      0.5        0.00   \n",
       " 199863            75             1          5.0    0.5      0.5        1.26   \n",
       " 199864           193             2          0.0    0.0      0.0        0.00   \n",
       " \n",
       "         tolls_amount  improvement_surcharge  total_amount trip_length_in_time  \n",
       " 0                0.0                    0.3          5.80            00:03:18  \n",
       " 1                0.0                    0.3         15.30            00:18:10  \n",
       " 2                0.0                    0.3          8.30            00:05:55  \n",
       " 3                0.0                    0.3         34.80            00:32:29  \n",
       " 4                0.0                    0.3         16.55            00:17:48  \n",
       " 5                0.0                    0.3          5.80            00:03:19  \n",
       " 6                0.0                    0.3         12.35            00:10:16  \n",
       " 7                0.0                    0.3          6.30            00:02:24  \n",
       " 8                0.0                    0.3          8.50            00:04:27  \n",
       " 9                0.0                    0.3          6.80            00:05:20  \n",
       " 10               0.0                    0.3          8.15            00:05:46  \n",
       " 11               0.0                    0.3         17.80            00:24:39  \n",
       " 12               0.0                    0.3          6.80            00:04:11  \n",
       " 13               0.0                    0.3          8.80            00:09:33  \n",
       " 14               0.0                    0.3         11.30            00:15:46  \n",
       " 15               0.0                    0.3         24.35            00:17:06  \n",
       " 16               0.0                    0.3         33.50            00:42:33  \n",
       " 17               0.0                    0.3          7.50            00:04:13  \n",
       " 18               0.0                    0.3         36.30            00:36:45  \n",
       " 19               0.0                    0.3          7.30            00:05:56  \n",
       " 20               0.0                    0.3         14.30            00:19:43  \n",
       " 21               0.0                    0.3         10.80            00:12:37  \n",
       " 22               0.0                    0.3         17.80            00:21:13  \n",
       " 23               0.0                    0.3         19.30            00:26:50  \n",
       " 24               0.0                    0.3         15.95            00:12:55  \n",
       " 25               0.0                    0.3          5.80            00:04:34  \n",
       " 26               0.0                    0.3         20.76            00:22:01  \n",
       " 27               0.0                    0.3          6.36            00:02:50  \n",
       " 28               0.0                    0.3          7.30            00:07:14  \n",
       " 29               0.0                    0.3          8.80            00:06:57  \n",
       " ...              ...                    ...           ...                 ...  \n",
       " 199835           0.0                    0.3         16.55            00:18:03  \n",
       " 199836           0.0                    0.3         14.30            00:14:13  \n",
       " 199837           0.0                    0.3          7.30            00:06:46  \n",
       " 199838           0.0                    0.3         13.56            00:12:31  \n",
       " 199839           0.0                    0.3         25.07            00:26:45  \n",
       " 199840           0.0                    0.3         49.30            00:31:05  \n",
       " 199841           0.0                    0.3         11.80            00:14:25  \n",
       " 199842           0.0                    0.3         15.80            00:19:27  \n",
       " 199843           0.0                    0.3         23.76            00:23:58  \n",
       " 199844           0.0                    0.3         19.10            00:16:40  \n",
       " 199845           0.0                    0.3          7.30            00:06:49  \n",
       " 199846           0.0                    0.3          7.54            00:02:42  \n",
       " 199847           0.0                    0.3          8.38            00:06:20  \n",
       " 199848           0.0                    0.3         19.89            00:15:14  \n",
       " 199849           0.0                    0.3          8.10            00:01:46  \n",
       " 199850           0.0                    0.3         11.80            00:11:57  \n",
       " 199851           0.0                    0.3         21.80            00:21:20  \n",
       " 199852           0.0                    0.3          6.62            00:03:10  \n",
       " 199853           0.0                    0.3          9.80            00:10:00  \n",
       " 199854           0.0                    0.3          6.62            00:02:54  \n",
       " 199855           0.0                    0.3         32.76            00:29:38  \n",
       " 199856           0.0                    0.3         24.96            00:17:59  \n",
       " 199857           0.0                    0.3          5.30            00:02:52  \n",
       " 199858           0.0                    0.3          8.80            23:07:35  \n",
       " 199859           0.0                    0.3         11.62            00:06:41  \n",
       " 199860           0.0                    0.3          8.80            00:09:07  \n",
       " 199861           0.0                    0.3         17.22            00:11:23  \n",
       " 199862           0.0                    0.3          6.30            00:04:38  \n",
       " 199863           0.0                    0.3          7.56            00:03:36  \n",
       " 199864           0.0                    0.0          0.00            00:00:05  \n",
       " \n",
       " [102804250 rows x 18 columns],)"
      ]
     },
     "execution_count": 47,
     "metadata": {},
     "output_type": "execute_result"
    }
   ],
   "source": [
    "df_2"
   ]
  },
  {
   "cell_type": "code",
   "execution_count": 49,
   "metadata": {},
   "outputs": [
    {
     "data": {
      "text/plain": [
       "102804250"
      ]
     },
     "execution_count": 49,
     "metadata": {},
     "output_type": "execute_result"
    }
   ],
   "source": [
    "len(df_2[0])"
   ]
  },
  {
   "cell_type": "code",
   "execution_count": 50,
   "metadata": {},
   "outputs": [],
   "source": [
    "from sys import getsizeof"
   ]
  },
  {
   "cell_type": "code",
   "execution_count": 51,
   "metadata": {},
   "outputs": [
    {
     "data": {
      "text/plain": [
       "56"
      ]
     },
     "execution_count": 51,
     "metadata": {},
     "output_type": "execute_result"
    }
   ],
   "source": [
    "getsizeof(df_2)"
   ]
  },
  {
   "cell_type": "code",
   "execution_count": null,
   "metadata": {},
   "outputs": [],
   "source": []
  },
  {
   "cell_type": "code",
   "execution_count": null,
   "metadata": {},
   "outputs": [],
   "source": []
  },
  {
   "cell_type": "code",
   "execution_count": null,
   "metadata": {},
   "outputs": [],
   "source": []
  },
  {
   "cell_type": "code",
   "execution_count": null,
   "metadata": {},
   "outputs": [],
   "source": []
  },
  {
   "cell_type": "code",
   "execution_count": null,
   "metadata": {},
   "outputs": [],
   "source": []
  },
  {
   "cell_type": "code",
   "execution_count": null,
   "metadata": {},
   "outputs": [],
   "source": []
  },
  {
   "cell_type": "code",
   "execution_count": null,
   "metadata": {},
   "outputs": [],
   "source": []
  },
  {
   "cell_type": "code",
   "execution_count": 51,
   "metadata": {},
   "outputs": [],
   "source": [
    "test = pd.read_csv('yellow_tripdata_2018-01.csv')"
   ]
  },
  {
   "cell_type": "code",
   "execution_count": 54,
   "metadata": {},
   "outputs": [],
   "source": [
    "test['tpep_pickup_datetime'] = pd.to_datetime(test['tpep_pickup_datetime'], infer_datetime_format=True )\n",
    "test['tpep_dropoff_datetime'] = pd.to_datetime(test['tpep_dropoff_datetime'], infer_datetime_format=True )"
   ]
  },
  {
   "cell_type": "code",
   "execution_count": 56,
   "metadata": {},
   "outputs": [
    {
     "name": "stdout",
     "output_type": "stream",
     "text": [
      "CPU times: user 158 ms, sys: 168 ms, total: 327 ms\n",
      "Wall time: 325 ms\n"
     ]
    },
    {
     "data": {
      "text/plain": [
       "0         00:03:18\n",
       "1         00:18:10\n",
       "2         00:05:55\n",
       "3         00:32:29\n",
       "4         00:17:48\n",
       "5         00:03:19\n",
       "6         00:10:16\n",
       "7         00:02:24\n",
       "8         00:04:27\n",
       "9         00:05:20\n",
       "10        00:05:46\n",
       "11        00:24:39\n",
       "12        00:04:11\n",
       "13        00:09:33\n",
       "14        00:15:46\n",
       "15        00:17:06\n",
       "16        00:42:33\n",
       "17        00:04:13\n",
       "18        00:36:45\n",
       "19        00:05:56\n",
       "20        00:19:43\n",
       "21        00:12:37\n",
       "22        00:21:13\n",
       "23        00:26:50\n",
       "24        00:12:55\n",
       "25        00:04:34\n",
       "26        00:22:01\n",
       "27        00:02:50\n",
       "28        00:07:14\n",
       "29        00:06:57\n",
       "            ...   \n",
       "8759844   00:03:12\n",
       "8759845   00:16:19\n",
       "8759846   00:12:23\n",
       "8759847   00:11:34\n",
       "8759848   00:07:30\n",
       "8759849   00:13:49\n",
       "8759850   00:07:07\n",
       "8759851   00:22:58\n",
       "8759852   00:28:38\n",
       "8759853   00:21:52\n",
       "8759854   00:14:16\n",
       "8759855   00:04:22\n",
       "8759856   00:30:31\n",
       "8759857   00:07:37\n",
       "8759858   00:03:42\n",
       "8759859   00:19:34\n",
       "8759860   00:34:59\n",
       "8759861   00:01:57\n",
       "8759862   00:06:11\n",
       "8759863   00:15:29\n",
       "8759864   00:08:42\n",
       "8759865   00:04:11\n",
       "8759866   00:04:39\n",
       "8759867   00:10:00\n",
       "8759868   00:10:11\n",
       "8759869   00:12:45\n",
       "8759870   00:03:06\n",
       "8759871   00:09:09\n",
       "8759872   00:00:48\n",
       "8759873   00:00:22\n",
       "Length: 8759874, dtype: timedelta64[ns]"
      ]
     },
     "execution_count": 56,
     "metadata": {},
     "output_type": "execute_result"
    }
   ],
   "source": [
    "%%time\n",
    "test['tpep_dropoff_datetime'] - test['tpep_pickup_datetime']"
   ]
  },
  {
   "cell_type": "code",
   "execution_count": null,
   "metadata": {},
   "outputs": [],
   "source": []
  }
 ],
 "metadata": {
  "kernelspec": {
   "display_name": "conda_python3",
   "language": "python",
   "name": "conda_python3"
  },
  "language_info": {
   "codemirror_mode": {
    "name": "ipython",
    "version": 3
   },
   "file_extension": ".py",
   "mimetype": "text/x-python",
   "name": "python",
   "nbconvert_exporter": "python",
   "pygments_lexer": "ipython3",
   "version": "3.6.5"
  }
 },
 "nbformat": 4,
 "nbformat_minor": 2
}
