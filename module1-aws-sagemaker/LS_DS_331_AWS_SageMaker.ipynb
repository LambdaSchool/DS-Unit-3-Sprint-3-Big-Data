{
  "nbformat": 4,
  "nbformat_minor": 0,
  "metadata": {
    "colab": {
      "name": "LS_DS_331_AWS_SageMaker.ipynb",
      "version": "0.3.2",
      "provenance": [],
      "toc_visible": true
    },
    "language_info": {
      "codemirror_mode": {
        "name": "ipython",
        "version": 3
      },
      "file_extension": ".py",
      "mimetype": "text/x-python",
      "name": "python",
      "nbconvert_exporter": "python",
      "pygments_lexer": "ipython3",
      "version": "3.7.3"
    },
    "kernelspec": {
      "display_name": "Python 3",
      "language": "python",
      "name": "python3"
    }
  },
  "cells": [
    {
      "cell_type": "markdown",
      "metadata": {
        "id": "OGelIhWDaYv8",
        "colab_type": "text"
      },
      "source": [
        "_Lambda School Data Science — Big Data_\n",
        "\n",
        "# AWS SageMaker\n",
        "\n",
        "### Links\n",
        "\n",
        "#### AWS\n",
        "- The Open Guide to Amazon Web Services: EC2 Basics _(just this one short section!)_ https://github.com/open-guides/og-aws#ec2-basics\n",
        "- AWS in Plain English https://www.expeditedssl.com/aws-in-plain-english\n",
        "- Amazon SageMaker » Create an Amazon SageMaker Notebook Instance https://docs.aws.amazon.com/sagemaker/latest/dg/gs-setup-working-env.html\n",
        "- Amazon SageMaker » Install External Libraries https://docs.aws.amazon.com/sagemaker/latest/dg/nbi-add-external.html \n",
        "\n",
        "`conda install -n python3 bokeh dask datashader fastparquet numba python-snappy`\n",
        "\n",
        "#### Dask\n",
        "- Why Dask? https://docs.dask.org/en/latest/why.html\n",
        "- Use Cases https://docs.dask.org/en/latest/use-cases.html\n",
        "- User Interfaces https://docs.dask.org/en/latest/user-interfaces.html\n",
        "\n",
        "#### Numba\n",
        "- A ~5 minute guide http://numba.pydata.org/numba-doc/latest/user/5minguide.html"
      ]
    },
    {
      "cell_type": "markdown",
      "metadata": {
        "id": "DkuIFqxraYwB",
        "colab_type": "text"
      },
      "source": [
        "## 1. Estimate pi\n",
        "https://en.wikipedia.org/wiki/Approximations_of_π#Summing_a_circle's_area"
      ]
    },
    {
      "cell_type": "markdown",
      "metadata": {
        "id": "0XfccgejaYwE",
        "colab_type": "text"
      },
      "source": [
        "### With plain Python"
      ]
    },
    {
      "cell_type": "code",
      "metadata": {
        "id": "mQDdho3baYwI",
        "colab_type": "code",
        "colab": {}
      },
      "source": [
        "import random\n",
        "\n",
        "def monte_carlo_pi(nsamples):\n",
        "    acc = 0\n",
        "    for _ in range(int(nsamples)):\n",
        "        x = random.random()\n",
        "        y = random.random()\n",
        "        if (x**2 + y**2) < 1.0:\n",
        "            acc += 1\n",
        "    return 4.0 * acc / nsamples"
      ],
      "execution_count": 0,
      "outputs": []
    },
    {
      "cell_type": "code",
      "metadata": {
        "id": "VZCRBHi_aYwT",
        "colab_type": "code",
        "colab": {}
      },
      "source": [
        "%%time\n",
        "monte_carlo_pi(1e7)"
      ],
      "execution_count": 0,
      "outputs": []
    },
    {
      "cell_type": "markdown",
      "metadata": {
        "id": "6qBk2fz9aYwb",
        "colab_type": "text"
      },
      "source": [
        "### With Numba\n",
        "http://numba.pydata.org/"
      ]
    },
    {
      "cell_type": "code",
      "metadata": {
        "id": "Ans91NM9aYwf",
        "colab_type": "code",
        "colab": {}
      },
      "source": [
        "from numba import jit"
      ],
      "execution_count": 0,
      "outputs": []
    },
    {
      "cell_type": "code",
      "metadata": {
        "id": "2wTZ4x5XaYwk",
        "colab_type": "code",
        "colab": {}
      },
      "source": [
        ""
      ],
      "execution_count": 0,
      "outputs": []
    },
    {
      "cell_type": "markdown",
      "metadata": {
        "id": "VzaZkNxvaYw4",
        "colab_type": "text"
      },
      "source": [
        "## 2. Loop a slow function"
      ]
    },
    {
      "cell_type": "markdown",
      "metadata": {
        "id": "Q1d0k-DIaYw6",
        "colab_type": "text"
      },
      "source": [
        "### With plain Python"
      ]
    },
    {
      "cell_type": "code",
      "metadata": {
        "id": "9-k4P3LmaYw8",
        "colab_type": "code",
        "colab": {}
      },
      "source": [
        "from time import sleep\n",
        "\n",
        "def slow_square(x):\n",
        "    sleep(1)\n",
        "    return x**2"
      ],
      "execution_count": 0,
      "outputs": []
    },
    {
      "cell_type": "code",
      "metadata": {
        "id": "_lxccvUSaYxV",
        "colab_type": "code",
        "colab": {}
      },
      "source": [
        "%%time\n",
        "[slow_square(n) for n in range(16)]"
      ],
      "execution_count": 0,
      "outputs": []
    },
    {
      "cell_type": "markdown",
      "metadata": {
        "id": "q6e5B2M2aYxf",
        "colab_type": "text"
      },
      "source": [
        "### With Dask\n",
        "- https://examples.dask.org/delayed.html\n",
        "- http://docs.dask.org/en/latest/setup/single-distributed.html"
      ]
    },
    {
      "cell_type": "code",
      "metadata": {
        "id": "NbuSPBmGaYxh",
        "colab_type": "code",
        "colab": {}
      },
      "source": [
        "from dask import compute, delayed"
      ],
      "execution_count": 0,
      "outputs": []
    },
    {
      "cell_type": "code",
      "metadata": {
        "id": "bVlhbXKAaYxk",
        "colab_type": "code",
        "colab": {}
      },
      "source": [
        ""
      ],
      "execution_count": 0,
      "outputs": []
    },
    {
      "cell_type": "markdown",
      "metadata": {
        "id": "MlhD-BZraYxp",
        "colab_type": "text"
      },
      "source": [
        "## 3. Analyze millions of Instacart orders"
      ]
    },
    {
      "cell_type": "markdown",
      "metadata": {
        "id": "WjAVdwcWaYxq",
        "colab_type": "text"
      },
      "source": [
        "### Download data\n",
        "https://tech.instacart.com/3-million-instacart-orders-open-sourced-d40d29ead6f2"
      ]
    },
    {
      "cell_type": "code",
      "metadata": {
        "id": "IpHOBzRGaYxs",
        "colab_type": "code",
        "colab": {}
      },
      "source": [
        "!wget https://s3.amazonaws.com/instacart-datasets/instacart_online_grocery_shopping_2017_05_01.tar.gz"
      ],
      "execution_count": 0,
      "outputs": []
    },
    {
      "cell_type": "code",
      "metadata": {
        "id": "RX22RVl1aYx1",
        "colab_type": "code",
        "colab": {}
      },
      "source": [
        "!tar --gunzip --extract --verbose --file=instacart_online_grocery_shopping_2017_05_01.tar.gz"
      ],
      "execution_count": 0,
      "outputs": []
    },
    {
      "cell_type": "code",
      "metadata": {
        "id": "SYjiZyZZaYx4",
        "colab_type": "code",
        "colab": {}
      },
      "source": [
        "%cd instacart_2017_05_01"
      ],
      "execution_count": 0,
      "outputs": []
    },
    {
      "cell_type": "code",
      "metadata": {
        "id": "ULYyCfniaYx8",
        "colab_type": "code",
        "colab": {}
      },
      "source": [
        "!ls -lh *.csv"
      ],
      "execution_count": 0,
      "outputs": []
    },
    {
      "cell_type": "markdown",
      "metadata": {
        "id": "C1tOK1dyaYyC",
        "colab_type": "text"
      },
      "source": [
        "### With Pandas"
      ]
    },
    {
      "cell_type": "markdown",
      "metadata": {
        "id": "9BYueCiKaYyD",
        "colab_type": "text"
      },
      "source": [
        "#### Load & merge data"
      ]
    },
    {
      "cell_type": "code",
      "metadata": {
        "id": "xo_N1qypaYyF",
        "colab_type": "code",
        "colab": {}
      },
      "source": [
        "import pandas as pd"
      ],
      "execution_count": 0,
      "outputs": []
    },
    {
      "cell_type": "code",
      "metadata": {
        "id": "2FUX70QoaYyI",
        "colab_type": "code",
        "colab": {}
      },
      "source": [
        "%%time\n",
        "order_products = pd.concat([\n",
        "    pd.read_csv('order_products__prior.csv'), \n",
        "    pd.read_csv('order_products__train.csv')])\n",
        "\n",
        "order_products.info()"
      ],
      "execution_count": 0,
      "outputs": []
    },
    {
      "cell_type": "code",
      "metadata": {
        "id": "2__YxajvaYyL",
        "colab_type": "code",
        "colab": {}
      },
      "source": [
        "order_products.head()"
      ],
      "execution_count": 0,
      "outputs": []
    },
    {
      "cell_type": "code",
      "metadata": {
        "id": "48MrnxeUaYyP",
        "colab_type": "code",
        "colab": {}
      },
      "source": [
        "products = pd.read_csv('products.csv')\n",
        "products.info()"
      ],
      "execution_count": 0,
      "outputs": []
    },
    {
      "cell_type": "code",
      "metadata": {
        "id": "oN5eIvA3aYyV",
        "colab_type": "code",
        "colab": {}
      },
      "source": [
        "products.head()"
      ],
      "execution_count": 0,
      "outputs": []
    },
    {
      "cell_type": "code",
      "metadata": {
        "id": "QuczpCzkaYyZ",
        "colab_type": "code",
        "colab": {}
      },
      "source": [
        "%%time\n",
        "order_products = pd.merge(order_products, products[['product_id', 'product_name']])"
      ],
      "execution_count": 0,
      "outputs": []
    },
    {
      "cell_type": "code",
      "metadata": {
        "id": "hx-VkVVIaYyc",
        "colab_type": "code",
        "colab": {}
      },
      "source": [
        "order_products.head()"
      ],
      "execution_count": 0,
      "outputs": []
    },
    {
      "cell_type": "markdown",
      "metadata": {
        "id": "fhx3E0QhaYye",
        "colab_type": "text"
      },
      "source": [
        "#### Most popular products?"
      ]
    },
    {
      "cell_type": "code",
      "metadata": {
        "id": "A9xzilvyaYyf",
        "colab_type": "code",
        "colab": {}
      },
      "source": [
        ""
      ],
      "execution_count": 0,
      "outputs": []
    },
    {
      "cell_type": "markdown",
      "metadata": {
        "id": "HLaW-S0naYyi",
        "colab_type": "text"
      },
      "source": [
        "#### Organic?"
      ]
    },
    {
      "cell_type": "code",
      "metadata": {
        "id": "m1uh_SsBaYyk",
        "colab_type": "code",
        "colab": {}
      },
      "source": [
        ""
      ],
      "execution_count": 0,
      "outputs": []
    },
    {
      "cell_type": "code",
      "metadata": {
        "id": "sakVD6ywaYyr",
        "colab_type": "code",
        "colab": {}
      },
      "source": [
        ""
      ],
      "execution_count": 0,
      "outputs": []
    },
    {
      "cell_type": "markdown",
      "metadata": {
        "id": "GL8_CcjVaYyt",
        "colab_type": "text"
      },
      "source": [
        "### With Dask\n",
        "https://examples.dask.org/dataframe.html"
      ]
    },
    {
      "cell_type": "code",
      "metadata": {
        "id": "kxn6YZXAaYyu",
        "colab_type": "code",
        "colab": {}
      },
      "source": [
        "import dask.dataframe as dd\n",
        "from dask.distributed import Client"
      ],
      "execution_count": 0,
      "outputs": []
    },
    {
      "cell_type": "markdown",
      "metadata": {
        "id": "3LhujLduaYyx",
        "colab_type": "text"
      },
      "source": [
        "#### Load & merge data\n",
        "https://examples.dask.org/dataframes/01-data-access.html#Read-CSV-files"
      ]
    },
    {
      "cell_type": "code",
      "metadata": {
        "id": "r-0IzjmvaYyy",
        "colab_type": "code",
        "colab": {}
      },
      "source": [
        ""
      ],
      "execution_count": 0,
      "outputs": []
    },
    {
      "cell_type": "code",
      "metadata": {
        "id": "6ENiOcb4aYy2",
        "colab_type": "code",
        "colab": {}
      },
      "source": [
        ""
      ],
      "execution_count": 0,
      "outputs": []
    },
    {
      "cell_type": "markdown",
      "metadata": {
        "id": "3VsLrkAiaYy-",
        "colab_type": "text"
      },
      "source": [
        "http://docs.dask.org/en/latest/dataframe-performance.html#persist-intelligently"
      ]
    },
    {
      "cell_type": "code",
      "metadata": {
        "id": "KmOmOQrCaYy_",
        "colab_type": "code",
        "colab": {}
      },
      "source": [
        ""
      ],
      "execution_count": 0,
      "outputs": []
    },
    {
      "cell_type": "markdown",
      "metadata": {
        "id": "eXW1JqXpaYzB",
        "colab_type": "text"
      },
      "source": [
        "#### Most popular products?"
      ]
    },
    {
      "cell_type": "code",
      "metadata": {
        "id": "H3zO0SvgaYzC",
        "colab_type": "code",
        "colab": {}
      },
      "source": [
        ""
      ],
      "execution_count": 0,
      "outputs": []
    },
    {
      "cell_type": "markdown",
      "metadata": {
        "id": "6fGEgZHDaYzH",
        "colab_type": "text"
      },
      "source": [
        "#### Organic?"
      ]
    },
    {
      "cell_type": "code",
      "metadata": {
        "id": "0sv9waf-aYzI",
        "colab_type": "code",
        "colab": {}
      },
      "source": [
        ""
      ],
      "execution_count": 0,
      "outputs": []
    },
    {
      "cell_type": "code",
      "metadata": {
        "id": "1ZxPj9raaYzK",
        "colab_type": "code",
        "colab": {}
      },
      "source": [
        ""
      ],
      "execution_count": 0,
      "outputs": []
    },
    {
      "cell_type": "markdown",
      "metadata": {
        "id": "FZmv6aLjaYzN",
        "colab_type": "text"
      },
      "source": [
        "## 4. Fit a machine learning model"
      ]
    },
    {
      "cell_type": "markdown",
      "metadata": {
        "id": "CkGRGCXDaYzU",
        "colab_type": "text"
      },
      "source": [
        "### Load data"
      ]
    },
    {
      "cell_type": "code",
      "metadata": {
        "id": "Fky6rPusaYzV",
        "colab_type": "code",
        "colab": {}
      },
      "source": [
        "%cd ../ds-predictive-modeling-challenge"
      ],
      "execution_count": 0,
      "outputs": []
    },
    {
      "cell_type": "code",
      "metadata": {
        "id": "DzeY98YkaYzZ",
        "colab_type": "code",
        "colab": {}
      },
      "source": [
        "import numpy as np\n",
        "import pandas as pd\n",
        "from sklearn.ensemble import RandomForestClassifier\n",
        "\n",
        "train_features = pd.read_csv('train_features.csv')\n",
        "train_labels = pd.read_csv('train_labels.csv')\n",
        "\n",
        "X_train_numeric = train_features.select_dtypes(np.number)\n",
        "y_train = train_labels['status_group']"
      ],
      "execution_count": 0,
      "outputs": []
    },
    {
      "cell_type": "markdown",
      "metadata": {
        "id": "Wx2JtSNxaYzc",
        "colab_type": "text"
      },
      "source": [
        "### With 2 cores (like Google Colab)\n",
        "https://scikit-learn.org/stable/modules/generated/sklearn.ensemble.RandomForestClassifier.html"
      ]
    },
    {
      "cell_type": "code",
      "metadata": {
        "id": "MsljRUfcaYzd",
        "colab_type": "code",
        "colab": {}
      },
      "source": [
        "model = RandomForestClassifier(n_estimators=200, oob_score=True, n_jobs=2, random_state=42, verbose=1)\n",
        "model.fit(X_train_numeric, y_train)\n",
        "print('Out-of-bag score:', model.oob_score_)"
      ],
      "execution_count": 0,
      "outputs": []
    },
    {
      "cell_type": "markdown",
      "metadata": {
        "id": "AyckfvJNaYzi",
        "colab_type": "text"
      },
      "source": [
        "### With 16 cores (on AWS m4.4xlarge)"
      ]
    },
    {
      "cell_type": "markdown",
      "metadata": {
        "id": "MgRq3TiuaYzs",
        "colab_type": "text"
      },
      "source": [
        "## ASSIGNMENT\n",
        "\n",
        "Revisit a previous assignment or project that had slow speeds or big data.\n",
        "\n",
        "Make it better with what you've learned today!\n",
        "\n",
        "You can use `wget` or Kaggle API to get data. Some possibilities include:\n",
        "\n",
        "- https://www.kaggle.com/c/ds1-predictive-modeling-challenge\n",
        "- https://www.kaggle.com/ntnu-testimon/paysim1\n",
        "- https://github.com/mdeff/fma\n",
        "- https://tech.instacart.com/3-million-instacart-orders-open-sourced-d40d29ead6f2 \n",
        "\n",
        "\n",
        "\n",
        "Also, you can play with [Datashader](http://datashader.org/) and its [example datasets](https://github.com/pyviz/datashader/blob/master/examples/datasets.yml)!"
      ]
    },
    {
      "cell_type": "code",
      "metadata": {
        "id": "f34X2eyaUFv2",
        "colab_type": "code",
        "colab": {}
      },
      "source": [
        "import dask.dataframe as dd"
      ],
      "execution_count": 0,
      "outputs": []
    },
    {
      "cell_type": "code",
      "metadata": {
        "id": "K3rpvtgVaYzn",
        "colab_type": "code",
        "colab": {}
      },
      "source": [
        "import pandas as pd"
      ],
      "execution_count": 0,
      "outputs": []
    },
    {
      "cell_type": "code",
      "metadata": {
        "id": "frv9Qh6HT5_s",
        "colab_type": "code",
        "colab": {}
      },
      "source": [
        "df = pd.read_csv('SpeedDating.csv', encoding = 'unicode_escape')"
      ],
      "execution_count": 0,
      "outputs": []
    },
    {
      "cell_type": "code",
      "metadata": {
        "id": "L_yrjSIjXDR6",
        "colab_type": "code",
        "colab": {}
      },
      "source": [
        "gender = df['gender']"
      ],
      "execution_count": 0,
      "outputs": []
    },
    {
      "cell_type": "code",
      "metadata": {
        "id": "ZmBqXN8TT7qF",
        "colab_type": "code",
        "colab": {
          "base_uri": "https://localhost:8080/",
          "height": 615
        },
        "outputId": "b0588229-299c-4ec2-ab94-4e9f6624a2a7"
      },
      "source": [
        "gender.plot(kind='barh', figsize=(20,10));"
      ],
      "execution_count": 39,
      "outputs": [
        {
          "output_type": "display_data",
          "data": {
            "image/png": "[encoded data removed]",
            "text/plain": [
              "<Figure size 1440x720 with 1 Axes>"
            ]
          },
          "metadata": {
            "tags": []
          }
        }
      ]
    },
    {
      "cell_type": "code",
      "metadata": {
        "id": "oUcUtd14Uz9m",
        "colab_type": "code",
        "colab": {}
      },
      "source": [
        "ddf = dd.from_pandas(df, npartitions=1)\n"
      ],
      "execution_count": 0,
      "outputs": []
    },
    {
      "cell_type": "code",
      "metadata": {
        "id": "jSDMRC3ldOQ2",
        "colab_type": "code",
        "colab": {
          "base_uri": "https://localhost:8080/",
          "height": 269
        },
        "outputId": "55fe1376-39e0-4da5-fddc-a40bacab2c20"
      },
      "source": [
        "df2 = df['gender'].plot(kind='barh');\n"
      ],
      "execution_count": 51,
      "outputs": [
        {
          "output_type": "display_data",
          "data": {
            "image/png": "[encoded data removed]",
            "text/plain": [
              "<Figure size 432x288 with 1 Axes>"
            ]
          },
          "metadata": {
            "tags": []
          }
        }
      ]
    },
    {
      "cell_type": "code",
      "metadata": {
        "id": "R2vB6bSsd1x6",
        "colab_type": "code",
        "colab": {}
      },
      "source": [
        "import dask.dataframe as dd\n",
        "from dask.distributed import Client"
      ],
      "execution_count": 0,
      "outputs": []
    },
    {
      "cell_type": "code",
      "metadata": {
        "id": "A8qgBdR4dziP",
        "colab_type": "code",
        "colab": {
          "base_uri": "https://localhost:8080/",
          "height": 164
        },
        "outputId": "2bdadbf7-ecd7-4bf9-8464-ee1d5eee52c8"
      },
      "source": [
        "df2.compute()"
      ],
      "execution_count": 52,
      "outputs": [
        {
          "output_type": "error",
          "ename": "AttributeError",
          "evalue": "ignored",
          "traceback": [
            "\u001b[0;31m---------------------------------------------------------------------------\u001b[0m",
            "\u001b[0;31mAttributeError\u001b[0m                            Traceback (most recent call last)",
            "\u001b[0;32m<ipython-input-52-a8eb713bc07c>\u001b[0m in \u001b[0;36m<module>\u001b[0;34m()\u001b[0m\n\u001b[0;32m----> 1\u001b[0;31m \u001b[0mdf2\u001b[0m\u001b[0;34m.\u001b[0m\u001b[0mcompute\u001b[0m\u001b[0;34m(\u001b[0m\u001b[0;34m)\u001b[0m\u001b[0;34m\u001b[0m\u001b[0;34m\u001b[0m\u001b[0m\n\u001b[0m",
            "\u001b[0;31mAttributeError\u001b[0m: 'AxesSubplot' object has no attribute 'compute'"
          ]
        }
      ]
    },
    {
      "cell_type": "code",
      "metadata": {
        "id": "dGVQdu6Jet9N",
        "colab_type": "code",
        "colab": {
          "base_uri": "https://localhost:8080/",
          "height": 51
        },
        "outputId": "804a53e3-ed56-405b-9935-eaa0d765ee8d"
      },
      "source": [
        "import dask.dataframe as dd\n",
        "%time\n",
        "df = dd.read_csv('CausesOfDeath_France_2001-2008.csv')\n",
        "\n"
      ],
      "execution_count": 83,
      "outputs": [
        {
          "output_type": "stream",
          "text": [
            "CPU times: user 3 µs, sys: 0 ns, total: 3 µs\n",
            "Wall time: 7.15 µs\n"
          ],
          "name": "stdout"
        }
      ]
    },
    {
      "cell_type": "code",
      "metadata": {
        "id": "WkRHj7P4hkev",
        "colab_type": "code",
        "colab": {
          "base_uri": "https://localhost:8080/",
          "height": 51
        },
        "outputId": "3cd8bb6e-781c-4fb7-ec71-61de5b0bd44d"
      },
      "source": [
        "%time\n",
        "ddf = pd.read_csv('CausesOfDeath_France_2001-2008.csv')"
      ],
      "execution_count": 84,
      "outputs": [
        {
          "output_type": "stream",
          "text": [
            "CPU times: user 4 µs, sys: 0 ns, total: 4 µs\n",
            "Wall time: 10 µs\n"
          ],
          "name": "stdout"
        }
      ]
    },
    {
      "cell_type": "code",
      "metadata": {
        "id": "CDX9EOaJhxBt",
        "colab_type": "code",
        "colab": {
          "base_uri": "https://localhost:8080/",
          "height": 303
        },
        "outputId": "4aed9d12-75b1-44fb-ed75-ac9a8819d708"
      },
      "source": [
        "%time\n",
        "ddf['TIME'].plot();"
      ],
      "execution_count": 81,
      "outputs": [
        {
          "output_type": "stream",
          "text": [
            "CPU times: user 4 µs, sys: 0 ns, total: 4 µs\n",
            "Wall time: 8.82 µs\n"
          ],
          "name": "stdout"
        },
        {
          "output_type": "display_data",
          "data": {
            "image/png": "[encoded data removed]",
            "text/plain": [
              "<Figure size 432x288 with 1 Axes>"
            ]
          },
          "metadata": {
            "tags": []
          }
        }
      ]
    },
    {
      "cell_type": "code",
      "metadata": {
        "id": "qskY-FpUh37m",
        "colab_type": "code",
        "colab": {
          "base_uri": "https://localhost:8080/",
          "height": 204
        },
        "outputId": "b04ce777-f216-40cd-a125-c786b1d1eb44"
      },
      "source": [
        "%time\n",
        "df['TIME'].value_counts().compute()"
      ],
      "execution_count": 86,
      "outputs": [
        {
          "output_type": "stream",
          "text": [
            "CPU times: user 4 µs, sys: 0 ns, total: 4 µs\n",
            "Wall time: 8.58 µs\n"
          ],
          "name": "stdout"
        },
        {
          "output_type": "execute_result",
          "data": {
            "text/plain": [
              "2008    132\n",
              "2007    132\n",
              "2006    132\n",
              "2005    132\n",
              "2004    132\n",
              "2003    132\n",
              "2002    132\n",
              "2001    132\n",
              "Name: TIME, dtype: int64"
            ]
          },
          "metadata": {
            "tags": []
          },
          "execution_count": 86
        }
      ]
    },
    {
      "cell_type": "code",
      "metadata": {
        "id": "0FiJ90I6ichN",
        "colab_type": "code",
        "colab": {
          "base_uri": "https://localhost:8080/",
          "height": 204
        },
        "outputId": "f438c94a-b5be-423d-ba4f-7095346cde3a"
      },
      "source": [
        "%time\n",
        "ddf['TIME'].value_counts()"
      ],
      "execution_count": 87,
      "outputs": [
        {
          "output_type": "stream",
          "text": [
            "CPU times: user 2 µs, sys: 0 ns, total: 2 µs\n",
            "Wall time: 7.15 µs\n"
          ],
          "name": "stdout"
        },
        {
          "output_type": "execute_result",
          "data": {
            "text/plain": [
              "2008    132\n",
              "2007    132\n",
              "2006    132\n",
              "2005    132\n",
              "2004    132\n",
              "2003    132\n",
              "2002    132\n",
              "2001    132\n",
              "Name: TIME, dtype: int64"
            ]
          },
          "metadata": {
            "tags": []
          },
          "execution_count": 87
        }
      ]
    },
    {
      "cell_type": "code",
      "metadata": {
        "id": "uc66AZ4KilzA",
        "colab_type": "code",
        "colab": {}
      },
      "source": [
        ""
      ],
      "execution_count": 0,
      "outputs": []
    }
  ]
}