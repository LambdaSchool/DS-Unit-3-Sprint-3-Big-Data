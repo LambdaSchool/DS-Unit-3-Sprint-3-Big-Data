{
  "nbformat": 4,
  "nbformat_minor": 0,
  "metadata": {
    "colab": {
      "name": "LS_DS_331_AWS_SageMaker.ipynb",
      "version": "0.3.2",
      "provenance": []
    },
    "kernelspec": {
      "display_name": "Python 3",
      "language": "python",
      "name": "python3"
    }
  },
  "cells": [
    {
      "metadata": {
        "id": "yM9oDCinvSuW",
        "colab_type": "text"
      },
      "cell_type": "markdown",
      "source": [
        "_Lambda School Data Science — Big Data_\n",
        "\n",
        "# AWS SageMaker\n",
        "\n",
        "### Links\n",
        "\n",
        "#### AWS\n",
        "- The Open Guide to Amazon Web Services: EC2 Basics _(just this one short section!)_ https://github.com/open-guides/og-aws#ec2-basics\n",
        "- AWS in Plain English https://www.expeditedssl.com/aws-in-plain-english\n",
        "- Amazon SageMaker » Create an Amazon SageMaker Notebook Instance https://docs.aws.amazon.com/sagemaker/latest/dg/gs-setup-working-env.html\n",
        "- Amazon SageMaker » Install External Libraries https://docs.aws.amazon.com/sagemaker/latest/dg/nbi-add-external.html \n",
        "\n",
        "`conda install -n python3 bokeh dask datashader fastparquet numba python-snappy`\n",
        "\n",
        "#### Dask\n",
        "- Why Dask? https://docs.dask.org/en/latest/why.html\n",
        "- Use Cases https://docs.dask.org/en/latest/use-cases.html\n",
        "- User Interfaces https://docs.dask.org/en/latest/user-interfaces.html\n",
        "\n",
        "#### Numba\n",
        "- A ~5 minute guide http://numba.pydata.org/numba-doc/latest/user/5minguide.html"
      ]
    },
    {
      "metadata": {
        "id": "GTDSU3wpvSuY",
        "colab_type": "text"
      },
      "cell_type": "markdown",
      "source": [
        "## 1. Estimate pi\n",
        "https://en.wikipedia.org/wiki/Approximations_of_π#Summing_a_circle's_area"
      ]
    },
    {
      "metadata": {
        "id": "Sr8QNEKGvSuZ",
        "colab_type": "text"
      },
      "cell_type": "markdown",
      "source": [
        "### With plain Python"
      ]
    },
    {
      "metadata": {
        "id": "_-jevaPYvSub",
        "colab_type": "code",
        "colab": {}
      },
      "cell_type": "code",
      "source": [
        "import random\n",
        "\n",
        "def monte_carlo_pi(nsamples):\n",
        "    acc = 0\n",
        "    for _ in range(int(nsamples)):\n",
        "        x = random.random()\n",
        "        y = random.random()\n",
        "        if (x**2 + y**2) < 1.0:\n",
        "            acc += 1\n",
        "    return 4.0 * acc / nsamples"
      ],
      "execution_count": 0,
      "outputs": []
    },
    {
      "metadata": {
        "id": "7MfCYPqOvSuf",
        "colab_type": "code",
        "colab": {}
      },
      "cell_type": "code",
      "source": [
        "%%time\n",
        "monte_carlo_pi(1e7)"
      ],
      "execution_count": 0,
      "outputs": []
    },
    {
      "metadata": {
        "id": "IlItmP6XvSuk",
        "colab_type": "text"
      },
      "cell_type": "markdown",
      "source": [
        "### With Numba\n",
        "http://numba.pydata.org/"
      ]
    },
    {
      "metadata": {
        "id": "26mqZdfUvSul",
        "colab_type": "code",
        "colab": {}
      },
      "cell_type": "code",
      "source": [
        "from numba import njit"
      ],
      "execution_count": 0,
      "outputs": []
    },
    {
      "metadata": {
        "id": "p9xBN8YSvSuq",
        "colab_type": "code",
        "colab": {}
      },
      "cell_type": "code",
      "source": [
        ""
      ],
      "execution_count": 0,
      "outputs": []
    },
    {
      "metadata": {
        "id": "SfndwTJuvSuv",
        "colab_type": "text"
      },
      "cell_type": "markdown",
      "source": [
        "## 2. Loop a slow function"
      ]
    },
    {
      "metadata": {
        "id": "tUNxItUwvSuw",
        "colab_type": "text"
      },
      "cell_type": "markdown",
      "source": [
        "### With plain Python"
      ]
    },
    {
      "metadata": {
        "id": "I4Mf-HtOvSuz",
        "colab_type": "code",
        "colab": {}
      },
      "cell_type": "code",
      "source": [
        "from time import sleep\n",
        "\n",
        "def slow_square(x):\n",
        "    sleep(1)\n",
        "    return x**2"
      ],
      "execution_count": 0,
      "outputs": []
    },
    {
      "metadata": {
        "id": "f-jhWtQ_vSu4",
        "colab_type": "code",
        "colab": {}
      },
      "cell_type": "code",
      "source": [
        "%%time\n",
        "[slow_square(n) for n in range(16)]"
      ],
      "execution_count": 0,
      "outputs": []
    },
    {
      "metadata": {
        "id": "Y5Shlre5vSu9",
        "colab_type": "text"
      },
      "cell_type": "markdown",
      "source": [
        "### With Dask\n",
        "- https://examples.dask.org/delayed.html\n",
        "- http://docs.dask.org/en/latest/setup/single-distributed.html"
      ]
    },
    {
      "metadata": {
        "id": "iujFOLcbvSu9",
        "colab_type": "code",
        "colab": {}
      },
      "cell_type": "code",
      "source": [
        "from dask import compute, delayed"
      ],
      "execution_count": 0,
      "outputs": []
    },
    {
      "metadata": {
        "id": "RJHKQfy6vSvB",
        "colab_type": "code",
        "colab": {}
      },
      "cell_type": "code",
      "source": [
        ""
      ],
      "execution_count": 0,
      "outputs": []
    },
    {
      "metadata": {
        "id": "rRwv5JqVvSvE",
        "colab_type": "text"
      },
      "cell_type": "markdown",
      "source": [
        "## 3. Analyze millions of Instacart orders"
      ]
    },
    {
      "metadata": {
        "id": "I5JBlquLvSvG",
        "colab_type": "text"
      },
      "cell_type": "markdown",
      "source": [
        "### Download data\n",
        "https://tech.instacart.com/3-million-instacart-orders-open-sourced-d40d29ead6f2"
      ]
    },
    {
      "metadata": {
        "id": "-z-y9d8tvSvI",
        "colab_type": "code",
        "colab": {}
      },
      "cell_type": "code",
      "source": [
        "!wget https://s3.amazonaws.com/instacart-datasets/instacart_online_grocery_shopping_2017_05_01.tar.gz"
      ],
      "execution_count": 0,
      "outputs": []
    },
    {
      "metadata": {
        "id": "MZ7TK8P3vSvK",
        "colab_type": "code",
        "colab": {}
      },
      "cell_type": "code",
      "source": [
        "!tar --gunzip --extract --verbose --file=instacart_online_grocery_shopping_2017_05_01.tar.gz"
      ],
      "execution_count": 0,
      "outputs": []
    },
    {
      "metadata": {
        "id": "3fokDPy-vSvR",
        "colab_type": "code",
        "colab": {}
      },
      "cell_type": "code",
      "source": [
        "%cd instacart_2017_05_01"
      ],
      "execution_count": 0,
      "outputs": []
    },
    {
      "metadata": {
        "id": "HJRea_tAvSvc",
        "colab_type": "code",
        "colab": {}
      },
      "cell_type": "code",
      "source": [
        "!ls -lh *.csv"
      ],
      "execution_count": 0,
      "outputs": []
    },
    {
      "metadata": {
        "id": "jZ9EQU8gvSvg",
        "colab_type": "text"
      },
      "cell_type": "markdown",
      "source": [
        "### With Pandas"
      ]
    },
    {
      "metadata": {
        "id": "WHb1ExIbvSvi",
        "colab_type": "text"
      },
      "cell_type": "markdown",
      "source": [
        "#### Load & merge data"
      ]
    },
    {
      "metadata": {
        "id": "5OTyCJGQvSvj",
        "colab_type": "code",
        "colab": {}
      },
      "cell_type": "code",
      "source": [
        "import pandas as pd"
      ],
      "execution_count": 0,
      "outputs": []
    },
    {
      "metadata": {
        "id": "wvgE7fapvSvm",
        "colab_type": "code",
        "colab": {}
      },
      "cell_type": "code",
      "source": [
        "%%time\n",
        "order_products = pd.concat([\n",
        "    pd.read_csv('order_products__prior.csv'), \n",
        "    pd.read_csv('order_products__train.csv')])\n",
        "\n",
        "order_products.info()"
      ],
      "execution_count": 0,
      "outputs": []
    },
    {
      "metadata": {
        "id": "V_WfryHZvSvq",
        "colab_type": "code",
        "colab": {}
      },
      "cell_type": "code",
      "source": [
        "order_products.head()"
      ],
      "execution_count": 0,
      "outputs": []
    },
    {
      "metadata": {
        "id": "5WlBAPjivSvt",
        "colab_type": "code",
        "colab": {}
      },
      "cell_type": "code",
      "source": [
        "products = pd.read_csv('products.csv')\n",
        "products.info()"
      ],
      "execution_count": 0,
      "outputs": []
    },
    {
      "metadata": {
        "id": "m7ExlGRpvSvx",
        "colab_type": "code",
        "colab": {}
      },
      "cell_type": "code",
      "source": [
        "products.head()"
      ],
      "execution_count": 0,
      "outputs": []
    },
    {
      "metadata": {
        "id": "YSX_da5EvSv1",
        "colab_type": "code",
        "colab": {}
      },
      "cell_type": "code",
      "source": [
        "%%time\n",
        "order_products = pd.merge(order_products, products[['product_id', 'product_name']])"
      ],
      "execution_count": 0,
      "outputs": []
    },
    {
      "metadata": {
        "id": "IqEA0mqTvSv5",
        "colab_type": "code",
        "colab": {}
      },
      "cell_type": "code",
      "source": [
        "order_products.head()"
      ],
      "execution_count": 0,
      "outputs": []
    },
    {
      "metadata": {
        "id": "vgKsrykrvSv-",
        "colab_type": "text"
      },
      "cell_type": "markdown",
      "source": [
        "#### Most popular products?"
      ]
    },
    {
      "metadata": {
        "id": "EBeGbxF3vSwA",
        "colab_type": "code",
        "colab": {}
      },
      "cell_type": "code",
      "source": [
        ""
      ],
      "execution_count": 0,
      "outputs": []
    },
    {
      "metadata": {
        "id": "UwgQAWrZvSwG",
        "colab_type": "text"
      },
      "cell_type": "markdown",
      "source": [
        "#### Organic?"
      ]
    },
    {
      "metadata": {
        "id": "N7Azot0AvSwG",
        "colab_type": "code",
        "colab": {}
      },
      "cell_type": "code",
      "source": [
        ""
      ],
      "execution_count": 0,
      "outputs": []
    },
    {
      "metadata": {
        "id": "Wn01c3d9vSwK",
        "colab_type": "code",
        "colab": {}
      },
      "cell_type": "code",
      "source": [
        ""
      ],
      "execution_count": 0,
      "outputs": []
    },
    {
      "metadata": {
        "id": "yKd1wAyovSwS",
        "colab_type": "text"
      },
      "cell_type": "markdown",
      "source": [
        "### With Dask\n",
        "https://examples.dask.org/dataframe.html"
      ]
    },
    {
      "metadata": {
        "id": "BpVZ_utSvSwg",
        "colab_type": "code",
        "colab": {}
      },
      "cell_type": "code",
      "source": [
        "import dask.dataframe as dd\n",
        "from dask.distributed import Client"
      ],
      "execution_count": 0,
      "outputs": []
    },
    {
      "metadata": {
        "id": "skeABYwVvSwn",
        "colab_type": "text"
      },
      "cell_type": "markdown",
      "source": [
        "#### Load & merge data\n",
        "https://examples.dask.org/dataframes/01-data-access.html#Read-CSV-files"
      ]
    },
    {
      "metadata": {
        "id": "B2fC22j8vSwr",
        "colab_type": "code",
        "colab": {}
      },
      "cell_type": "code",
      "source": [
        ""
      ],
      "execution_count": 0,
      "outputs": []
    },
    {
      "metadata": {
        "id": "mE4HpceJvSww",
        "colab_type": "code",
        "colab": {}
      },
      "cell_type": "code",
      "source": [
        ""
      ],
      "execution_count": 0,
      "outputs": []
    },
    {
      "metadata": {
        "id": "YaVu-VnHvSwz",
        "colab_type": "text"
      },
      "cell_type": "markdown",
      "source": [
        "http://docs.dask.org/en/latest/dataframe-performance.html#persist-intelligently"
      ]
    },
    {
      "metadata": {
        "id": "RKAwVJyhvSw0",
        "colab_type": "code",
        "colab": {}
      },
      "cell_type": "code",
      "source": [
        ""
      ],
      "execution_count": 0,
      "outputs": []
    },
    {
      "metadata": {
        "id": "G_B7gTT5vSw4",
        "colab_type": "text"
      },
      "cell_type": "markdown",
      "source": [
        "#### Most popular products?"
      ]
    },
    {
      "metadata": {
        "id": "KI89W09hvSw5",
        "colab_type": "code",
        "colab": {}
      },
      "cell_type": "code",
      "source": [
        ""
      ],
      "execution_count": 0,
      "outputs": []
    },
    {
      "metadata": {
        "id": "-t9Zc3dmvSxC",
        "colab_type": "text"
      },
      "cell_type": "markdown",
      "source": [
        "#### Organic?"
      ]
    },
    {
      "metadata": {
        "id": "sdefSeZHvSxD",
        "colab_type": "code",
        "colab": {}
      },
      "cell_type": "code",
      "source": [
        ""
      ],
      "execution_count": 0,
      "outputs": []
    },
    {
      "metadata": {
        "id": "83GkLtY8vSxH",
        "colab_type": "code",
        "colab": {}
      },
      "cell_type": "code",
      "source": [
        ""
      ],
      "execution_count": 0,
      "outputs": []
    },
    {
      "metadata": {
        "id": "_CnYVhWyvSxL",
        "colab_type": "text"
      },
      "cell_type": "markdown",
      "source": [
        "## 4. Fit a machine learning model"
      ]
    },
    {
      "metadata": {
        "id": "-z2dHatMvSxM",
        "colab_type": "text"
      },
      "cell_type": "markdown",
      "source": [
        "### Load data"
      ]
    },
    {
      "metadata": {
        "id": "GxjOTtyGvSxN",
        "colab_type": "code",
        "colab": {}
      },
      "cell_type": "code",
      "source": [
        "%cd ../ds-predictive-modeling-challenge"
      ],
      "execution_count": 0,
      "outputs": []
    },
    {
      "metadata": {
        "id": "zpcworG-vSxQ",
        "colab_type": "code",
        "colab": {}
      },
      "cell_type": "code",
      "source": [
        "import numpy as np\n",
        "import pandas as pd\n",
        "from sklearn.ensemble import RandomForestClassifier\n",
        "\n",
        "train_features = pd.read_csv('train_features.csv')\n",
        "train_labels = pd.read_csv('train_labels.csv')\n",
        "\n",
        "X_train_numeric = train_features.select_dtypes(np.number)\n",
        "y_train = train_labels['status_group']"
      ],
      "execution_count": 0,
      "outputs": []
    },
    {
      "metadata": {
        "id": "rw2TmY6PvSxW",
        "colab_type": "text"
      },
      "cell_type": "markdown",
      "source": [
        "### With 2 cores (like Google Colab)\n",
        "https://scikit-learn.org/stable/modules/generated/sklearn.ensemble.RandomForestClassifier.html"
      ]
    },
    {
      "metadata": {
        "id": "1h6E7FIIvSxY",
        "colab_type": "code",
        "colab": {}
      },
      "cell_type": "code",
      "source": [
        "model = RandomForestClassifier(n_estimators=200, oob_score=True, n_jobs=2, random_state=42, verbose=1)\n",
        "model.fit(X_train_numeric, y_train)\n",
        "print('Out-of-bag score:', model.oob_score_)"
      ],
      "execution_count": 0,
      "outputs": []
    },
    {
      "metadata": {
        "id": "kSBXqC5bvSxd",
        "colab_type": "text"
      },
      "cell_type": "markdown",
      "source": [
        "### With 16 cores (on AWS m4.4xlarge)"
      ]
    },
    {
      "metadata": {
        "id": "1g3n4B_gvSxe",
        "colab_type": "code",
        "colab": {}
      },
      "cell_type": "code",
      "source": [
        ""
      ],
      "execution_count": 0,
      "outputs": []
    },
    {
      "metadata": {
        "id": "atOkzuCTvSxg",
        "colab_type": "text"
      },
      "cell_type": "markdown",
      "source": [
        "## ASSIGNMENT\n",
        "\n",
        "Revisit a previous assignment or project that had slow speeds or big data.\n",
        "\n",
        "Make it better with what you've learned today!\n",
        "\n",
        "You can use `wget` or Kaggle API to get data. Some possibilities include:\n",
        "\n",
        "- https://www.kaggle.com/c/ds1-predictive-modeling-challenge\n",
        "- https://www.kaggle.com/ntnu-testimon/paysim1\n",
        "- https://github.com/mdeff/fma\n",
        "- https://tech.instacart.com/3-million-instacart-orders-open-sourced-d40d29ead6f2 \n",
        "\n",
        "\n",
        "\n",
        "Also, you can play with [Datashader](http://datashader.org/) and its [example datasets](https://github.com/pyviz/datashader/blob/master/examples/datasets.yml)!"
      ]
    }
  ]
}