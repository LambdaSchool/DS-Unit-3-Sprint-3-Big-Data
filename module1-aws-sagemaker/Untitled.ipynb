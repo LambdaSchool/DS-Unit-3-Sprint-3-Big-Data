{
 "cells": [
  {
   "cell_type": "code",
   "execution_count": 9,
   "metadata": {},
   "outputs": [],
   "source": [
    "#reading in data \n",
    "import pandas as pd\n",
    "test_features = pd.read_csv('test_features.csv')\n",
    "train_features = pd.read_csv('train_features.csv')\n",
    "train_labels = pd.read_csv('train_labels.csv')"
   ]
  },
  {
   "cell_type": "code",
   "execution_count": 19,
   "metadata": {},
   "outputs": [
    {
     "name": "stdout",
     "output_type": "stream",
     "text": [
      "Solving environment: done\n",
      "\n",
      "\n",
      "==> WARNING: A newer version of conda exists. <==\n",
      "  current version: 4.5.12\n",
      "  latest version: 4.6.14\n",
      "\n",
      "Please update conda by running\n",
      "\n",
      "    $ conda update -n base -c defaults conda\n",
      "\n",
      "\n",
      "\n",
      "## Package Plan ##\n",
      "\n",
      "  environment location: /home/ec2-user/anaconda3/envs/python3\n",
      "\n",
      "  added / updated specs: \n",
      "    - category_encoders\n",
      "\n",
      "\n",
      "The following packages will be downloaded:\n",
      "\n",
      "    package                    |            build\n",
      "    ---------------------------|-----------------\n",
      "    openssl-1.0.2r             |       h14c3975_0         3.1 MB  conda-forge\n",
      "    scikit-learn-0.20.1        |   py36h4989274_0         5.7 MB\n",
      "    category_encoders-2.0.0    |             py_1          41 KB  conda-forge\n",
      "    ------------------------------------------------------------\n",
      "                                           Total:         8.9 MB\n",
      "\n",
      "The following NEW packages will be INSTALLED:\n",
      "\n",
      "    category_encoders: 2.0.0-py_1            conda-forge\n",
      "\n",
      "The following packages will be UPDATED:\n",
      "\n",
      "    ca-certificates:   2019.1.23-0                       --> 2019.3.9-hecc5488_0   conda-forge\n",
      "    certifi:           2019.3.9-py36_0                   --> 2019.3.9-py36_0       conda-forge\n",
      "    mkl:               2018.0.2-1                        --> 2018.0.3-1                       \n",
      "    openssl:           1.0.2r-h7b6447c_0                 --> 1.0.2r-h14c3975_0     conda-forge\n",
      "    scikit-learn:      0.19.1-py36h7aa7ec6_0             --> 0.20.1-py36h4989274_0            \n",
      "\n",
      "\n",
      "Downloading and Extracting Packages\n",
      "openssl-1.0.2r       | 3.1 MB    | ##################################### | 100% \n",
      "scikit-learn-0.20.1  | 5.7 MB    | ##################################### | 100% \n",
      "category_encoders-2. | 41 KB     | ##################################### | 100% \n",
      "Preparing transaction: done\n",
      "Verifying transaction: done\n",
      "Executing transaction: done\n"
     ]
    }
   ],
   "source": [
    "!conda install -c conda-forge category_encoders --yes"
   ]
  },
  {
   "cell_type": "code",
   "execution_count": 20,
   "metadata": {},
   "outputs": [],
   "source": [
    "from numba import jit"
   ]
  },
  {
   "cell_type": "code",
   "execution_count": 21,
   "metadata": {},
   "outputs": [],
   "source": [
    "import dask.dataframe as dd\n",
    "from dask.distributed import Client\n",
    "from dask import compute, delayed"
   ]
  },
  {
   "cell_type": "code",
   "execution_count": 22,
   "metadata": {},
   "outputs": [],
   "source": [
    "#test_features = dd.read_csv('test_features.csv')\n",
    "#train_features = dd.read_csv('train_features.csv')\n",
    "#train_labels = dd.read_csv('train_labels.csv')"
   ]
  },
  {
   "cell_type": "code",
   "execution_count": 23,
   "metadata": {},
   "outputs": [],
   "source": [
    "from sklearn.model_selection import train_test_split\n",
    "X_train, X_train_val, y_train, y_train_val  = train_test_split(train_features, train_labels,\n",
    "                                                               test_size=len(test_features))"
   ]
  },
  {
   "cell_type": "code",
   "execution_count": 24,
   "metadata": {},
   "outputs": [],
   "source": [
    "#since we don't have domain expertise we are going to use our intuition to create a \"ML baseline' \n",
    "#the commented remarks were initial observations, the model was improved, however remarks show learning process \n",
    "def wrangle(X):\n",
    "    X = X.copy()\n",
    "    \n",
    "    #drop some columns \n",
    "    X = X.drop(columns='id') #id is random \n",
    "    X = X.drop(columns='date_recorded') #we don't care about the recorded row date \n",
    "    X = X.drop(columns='longitude') #does not add relevant data\n",
    "    X = X.drop(columns='latitude') #does not add relevant data \n",
    "    X = X.drop(columns='num_private') # data dictionary has no description for this feature\n",
    "    X = X.drop(columns='public_meeting') # data dictionary provides only \"true/false\"\n",
    "    X = X.drop(columns='extraction_type_group') # not duplicate but very similar thus contains high variance of source feature\n",
    "    X = X.drop(columns='extraction_type_class') # not duplicate but very similar thus contains high variance of source feature\n",
    "    X = X.drop(columns='payment_type') # duplicate feature\n",
    "    X = X.drop(columns='quantity_group') # duplicate feature\n",
    "    X = X.drop(columns='source_type') # not duplicate but bery similar thus contains high variance of source feature\n",
    "    X = X.drop(columns='waterpoint_type_group') # not duplicate but very similar thus contains high variance of source feature\n",
    "    X = X.drop(columns='region') #quasi-duplicates\n",
    "    X = X.drop(columns='quality_group') #quasi-duplicates\n",
    "    X = X.drop(columns='source_class') #quasi-duplicates\n",
    "    X = X.drop(columns='management_group') #quasi-duplicates\n",
    "  \n",
    "    #drop high cardinality categoricals\n",
    "    X = X.drop(columns='funder')\n",
    "    X = X.drop(columns='installer')\n",
    "    X = X.drop(columns='wpt_name')\n",
    "    X = X.drop(columns='subvillage')\n",
    "    X = X.drop(columns='ward')\n",
    "    X = X.drop(columns='scheme_name')\n",
    "               \n",
    "    \n",
    "    #drop Nans from 'scheme_management' and 'permit' feature \n",
    "    X['scheme_management'] = X['scheme_management'].dropna(axis=0, how='all')\n",
    "    X['permit'].dropna(axis=0)\n",
    "    \n",
    "    return X \n",
    "\n",
    "\n",
    "X_train = wrangle(X_train)\n",
    "X_train_val = wrangle(X_train_val)  \n",
    "X_test = wrangle(test_features)"
   ]
  },
  {
   "cell_type": "code",
   "execution_count": 25,
   "metadata": {},
   "outputs": [],
   "source": [
    "import category_encoders as ce\n",
    "def encode(X_train, X_train_val, X_test):\n",
    "    X_train = X_train.copy()\n",
    "    X_train_val = X_train_val.copy()\n",
    "    X_test = X_test.copy()\n",
    "    \n",
    "    encode = ce.OrdinalEncoder()\n",
    "    X_train =  encode.fit_transform(X_train)\n",
    "    X_train_val = encode.fit_transform(X_train_val)\n",
    "    X_test = encode.fit_transform(X_test)\n",
    "    \n",
    "    return X_train, X_train_val, X_test"
   ]
  },
  {
   "cell_type": "code",
   "execution_count": 26,
   "metadata": {},
   "outputs": [
    {
     "data": {
      "text/plain": [
       "((45042, 18), (14358, 18), (14358, 18))"
      ]
     },
     "execution_count": 26,
     "metadata": {},
     "output_type": "execute_result"
    }
   ],
   "source": [
    "X_train, X_train_val, X_test = encode(X_train, X_train_val, X_test)\n",
    "X_train.shape, X_train_val.shape, X_test.shape"
   ]
  },
  {
   "cell_type": "code",
   "execution_count": 27,
   "metadata": {},
   "outputs": [],
   "source": [
    "y_train = y_train['status_group']\n",
    "y_train_val = y_train_val['status_group']"
   ]
  },
  {
   "cell_type": "code",
   "execution_count": 28,
   "metadata": {},
   "outputs": [
    {
     "data": {
      "text/html": [
       "<div>\n",
       "<style scoped>\n",
       "    .dataframe tbody tr th:only-of-type {\n",
       "        vertical-align: middle;\n",
       "    }\n",
       "\n",
       "    .dataframe tbody tr th {\n",
       "        vertical-align: top;\n",
       "    }\n",
       "\n",
       "    .dataframe thead th {\n",
       "        text-align: right;\n",
       "    }\n",
       "</style>\n",
       "<table border=\"1\" class=\"dataframe\">\n",
       "  <thead>\n",
       "    <tr style=\"text-align: right;\">\n",
       "      <th></th>\n",
       "      <th>amount_tsh</th>\n",
       "      <th>gps_height</th>\n",
       "      <th>basin</th>\n",
       "      <th>region_code</th>\n",
       "      <th>district_code</th>\n",
       "      <th>lga</th>\n",
       "      <th>population</th>\n",
       "      <th>recorded_by</th>\n",
       "      <th>scheme_management</th>\n",
       "      <th>permit</th>\n",
       "      <th>construction_year</th>\n",
       "      <th>extraction_type</th>\n",
       "      <th>management</th>\n",
       "      <th>payment</th>\n",
       "      <th>water_quality</th>\n",
       "      <th>quantity</th>\n",
       "      <th>source</th>\n",
       "      <th>waterpoint_type</th>\n",
       "    </tr>\n",
       "  </thead>\n",
       "  <tbody>\n",
       "    <tr>\n",
       "      <th>54187</th>\n",
       "      <td>250.0</td>\n",
       "      <td>1312</td>\n",
       "      <td>1</td>\n",
       "      <td>16</td>\n",
       "      <td>2</td>\n",
       "      <td>1</td>\n",
       "      <td>1325</td>\n",
       "      <td>1</td>\n",
       "      <td>1</td>\n",
       "      <td>1</td>\n",
       "      <td>1984</td>\n",
       "      <td>1</td>\n",
       "      <td>1</td>\n",
       "      <td>1</td>\n",
       "      <td>1</td>\n",
       "      <td>1</td>\n",
       "      <td>1</td>\n",
       "      <td>1</td>\n",
       "    </tr>\n",
       "    <tr>\n",
       "      <th>51196</th>\n",
       "      <td>0.0</td>\n",
       "      <td>0</td>\n",
       "      <td>2</td>\n",
       "      <td>12</td>\n",
       "      <td>3</td>\n",
       "      <td>2</td>\n",
       "      <td>0</td>\n",
       "      <td>1</td>\n",
       "      <td>2</td>\n",
       "      <td>1</td>\n",
       "      <td>0</td>\n",
       "      <td>1</td>\n",
       "      <td>2</td>\n",
       "      <td>2</td>\n",
       "      <td>1</td>\n",
       "      <td>2</td>\n",
       "      <td>2</td>\n",
       "      <td>1</td>\n",
       "    </tr>\n",
       "    <tr>\n",
       "      <th>15569</th>\n",
       "      <td>1000.0</td>\n",
       "      <td>552</td>\n",
       "      <td>3</td>\n",
       "      <td>10</td>\n",
       "      <td>1</td>\n",
       "      <td>3</td>\n",
       "      <td>1</td>\n",
       "      <td>1</td>\n",
       "      <td>2</td>\n",
       "      <td>2</td>\n",
       "      <td>1998</td>\n",
       "      <td>1</td>\n",
       "      <td>2</td>\n",
       "      <td>3</td>\n",
       "      <td>1</td>\n",
       "      <td>1</td>\n",
       "      <td>1</td>\n",
       "      <td>1</td>\n",
       "    </tr>\n",
       "    <tr>\n",
       "      <th>8156</th>\n",
       "      <td>10000.0</td>\n",
       "      <td>1419</td>\n",
       "      <td>4</td>\n",
       "      <td>3</td>\n",
       "      <td>1</td>\n",
       "      <td>4</td>\n",
       "      <td>1</td>\n",
       "      <td>1</td>\n",
       "      <td>3</td>\n",
       "      <td>1</td>\n",
       "      <td>2012</td>\n",
       "      <td>1</td>\n",
       "      <td>3</td>\n",
       "      <td>1</td>\n",
       "      <td>1</td>\n",
       "      <td>3</td>\n",
       "      <td>2</td>\n",
       "      <td>2</td>\n",
       "    </tr>\n",
       "    <tr>\n",
       "      <th>27172</th>\n",
       "      <td>0.0</td>\n",
       "      <td>1581</td>\n",
       "      <td>5</td>\n",
       "      <td>13</td>\n",
       "      <td>1</td>\n",
       "      <td>5</td>\n",
       "      <td>120</td>\n",
       "      <td>1</td>\n",
       "      <td>4</td>\n",
       "      <td>1</td>\n",
       "      <td>2008</td>\n",
       "      <td>2</td>\n",
       "      <td>4</td>\n",
       "      <td>2</td>\n",
       "      <td>1</td>\n",
       "      <td>1</td>\n",
       "      <td>3</td>\n",
       "      <td>1</td>\n",
       "    </tr>\n",
       "  </tbody>\n",
       "</table>\n",
       "</div>"
      ],
      "text/plain": [
       "       amount_tsh  gps_height  basin  region_code  district_code  lga  \\\n",
       "54187       250.0        1312      1           16              2    1   \n",
       "51196         0.0           0      2           12              3    2   \n",
       "15569      1000.0         552      3           10              1    3   \n",
       "8156      10000.0        1419      4            3              1    4   \n",
       "27172         0.0        1581      5           13              1    5   \n",
       "\n",
       "       population  recorded_by  scheme_management  permit  construction_year  \\\n",
       "54187        1325            1                  1       1               1984   \n",
       "51196           0            1                  2       1                  0   \n",
       "15569           1            1                  2       2               1998   \n",
       "8156            1            1                  3       1               2012   \n",
       "27172         120            1                  4       1               2008   \n",
       "\n",
       "       extraction_type  management  payment  water_quality  quantity  source  \\\n",
       "54187                1           1        1              1         1       1   \n",
       "51196                1           2        2              1         2       2   \n",
       "15569                1           2        3              1         1       1   \n",
       "8156                 1           3        1              1         3       2   \n",
       "27172                2           4        2              1         1       3   \n",
       "\n",
       "       waterpoint_type  \n",
       "54187                1  \n",
       "51196                1  \n",
       "15569                1  \n",
       "8156                 2  \n",
       "27172                1  "
      ]
     },
     "execution_count": 28,
     "metadata": {},
     "output_type": "execute_result"
    }
   ],
   "source": [
    "X_train.head()"
   ]
  },
  {
   "cell_type": "code",
   "execution_count": 36,
   "metadata": {},
   "outputs": [
    {
     "name": "stderr",
     "output_type": "stream",
     "text": [
      "[Parallel(n_jobs=-1)]: Using backend ThreadingBackend with 2 concurrent workers.\n",
      "[Parallel(n_jobs=-1)]: Done  46 tasks      | elapsed:    2.0s\n",
      "[Parallel(n_jobs=-1)]: Done 196 tasks      | elapsed:    7.8s\n",
      "[Parallel(n_jobs=-1)]: Done 300 out of 300 | elapsed:   11.8s finished\n"
     ]
    },
    {
     "data": {
      "text/plain": [
       "RandomForestClassifier(bootstrap=True, class_weight=None, criterion='gini',\n",
       "            max_depth=None, max_features='auto', max_leaf_nodes=None,\n",
       "            min_impurity_decrease=0.0, min_impurity_split=None,\n",
       "            min_samples_leaf=1, min_samples_split=2,\n",
       "            min_weight_fraction_leaf=0.0, n_estimators=300, n_jobs=-1,\n",
       "            oob_score=False, random_state=42, verbose=1, warm_start=False)"
      ]
     },
     "execution_count": 36,
     "metadata": {},
     "output_type": "execute_result"
    }
   ],
   "source": [
    "from sklearn.ensemble import RandomForestClassifier\n",
    "\n",
    "model = RandomForestClassifier(max_depth=None, n_estimators=300,\n",
    "                                n_jobs=-1, random_state=42, verbose=1)\n",
    "model.fit(X_train, y_train)"
   ]
  },
  {
   "cell_type": "code",
   "execution_count": null,
   "metadata": {},
   "outputs": [],
   "source": []
  }
 ],
 "metadata": {
  "kernelspec": {
   "display_name": "conda_python3",
   "language": "python",
   "name": "conda_python3"
  },
  "language_info": {
   "codemirror_mode": {
    "name": "ipython",
    "version": 3
   },
   "file_extension": ".py",
   "mimetype": "text/x-python",
   "name": "python",
   "nbconvert_exporter": "python",
   "pygments_lexer": "ipython3",
   "version": "3.6.5"
  }
 },
 "nbformat": 4,
 "nbformat_minor": 2
}
