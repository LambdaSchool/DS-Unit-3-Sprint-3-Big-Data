{
 "cells": [
  {
   "cell_type": "code",
   "execution_count": 29,
   "metadata": {},
   "outputs": [],
   "source": [
    "import pandas as pd\n",
    "import numpy as np\n",
    "import category_encoders as ce\n",
    "from sklearn.model_selection import train_test_split, RandomizedSearchCV\n",
    "from sklearn.ensemble import RandomForestClassifier"
   ]
  },
  {
   "cell_type": "code",
   "execution_count": 19,
   "metadata": {},
   "outputs": [
    {
     "data": {
      "text/plain": [
       "((59400, 40), (59400, 2))"
      ]
     },
     "execution_count": 19,
     "metadata": {},
     "output_type": "execute_result"
    }
   ],
   "source": [
    "features = pd.read_csv('train_features.csv')\n",
    "labels = pd.read_csv('train_labels.csv')\n",
    "\n",
    "features.shape, labels.shape"
   ]
  },
  {
   "cell_type": "code",
   "execution_count": 20,
   "metadata": {},
   "outputs": [
    {
     "data": {
      "text/html": [
       "<div>\n",
       "<style scoped>\n",
       "    .dataframe tbody tr th:only-of-type {\n",
       "        vertical-align: middle;\n",
       "    }\n",
       "\n",
       "    .dataframe tbody tr th {\n",
       "        vertical-align: top;\n",
       "    }\n",
       "\n",
       "    .dataframe thead th {\n",
       "        text-align: right;\n",
       "    }\n",
       "</style>\n",
       "<table border=\"1\" class=\"dataframe\">\n",
       "  <thead>\n",
       "    <tr style=\"text-align: right;\">\n",
       "      <th></th>\n",
       "      <th>id</th>\n",
       "      <th>amount_tsh</th>\n",
       "      <th>date_recorded</th>\n",
       "      <th>funder</th>\n",
       "      <th>gps_height</th>\n",
       "      <th>installer</th>\n",
       "      <th>longitude</th>\n",
       "      <th>latitude</th>\n",
       "      <th>wpt_name</th>\n",
       "      <th>num_private</th>\n",
       "      <th>...</th>\n",
       "      <th>payment_type</th>\n",
       "      <th>water_quality</th>\n",
       "      <th>quality_group</th>\n",
       "      <th>quantity</th>\n",
       "      <th>quantity_group</th>\n",
       "      <th>source</th>\n",
       "      <th>source_type</th>\n",
       "      <th>source_class</th>\n",
       "      <th>waterpoint_type</th>\n",
       "      <th>waterpoint_type_group</th>\n",
       "    </tr>\n",
       "  </thead>\n",
       "  <tbody>\n",
       "    <tr>\n",
       "      <th>0</th>\n",
       "      <td>69572</td>\n",
       "      <td>6000.0</td>\n",
       "      <td>2011-03-14</td>\n",
       "      <td>Roman</td>\n",
       "      <td>1390</td>\n",
       "      <td>Roman</td>\n",
       "      <td>34.938093</td>\n",
       "      <td>-9.856322</td>\n",
       "      <td>none</td>\n",
       "      <td>0</td>\n",
       "      <td>...</td>\n",
       "      <td>annually</td>\n",
       "      <td>soft</td>\n",
       "      <td>good</td>\n",
       "      <td>enough</td>\n",
       "      <td>enough</td>\n",
       "      <td>spring</td>\n",
       "      <td>spring</td>\n",
       "      <td>groundwater</td>\n",
       "      <td>communal standpipe</td>\n",
       "      <td>communal standpipe</td>\n",
       "    </tr>\n",
       "    <tr>\n",
       "      <th>1</th>\n",
       "      <td>8776</td>\n",
       "      <td>0.0</td>\n",
       "      <td>2013-03-06</td>\n",
       "      <td>Grumeti</td>\n",
       "      <td>1399</td>\n",
       "      <td>GRUMETI</td>\n",
       "      <td>34.698766</td>\n",
       "      <td>-2.147466</td>\n",
       "      <td>Zahanati</td>\n",
       "      <td>0</td>\n",
       "      <td>...</td>\n",
       "      <td>never pay</td>\n",
       "      <td>soft</td>\n",
       "      <td>good</td>\n",
       "      <td>insufficient</td>\n",
       "      <td>insufficient</td>\n",
       "      <td>rainwater harvesting</td>\n",
       "      <td>rainwater harvesting</td>\n",
       "      <td>surface</td>\n",
       "      <td>communal standpipe</td>\n",
       "      <td>communal standpipe</td>\n",
       "    </tr>\n",
       "    <tr>\n",
       "      <th>2</th>\n",
       "      <td>34310</td>\n",
       "      <td>25.0</td>\n",
       "      <td>2013-02-25</td>\n",
       "      <td>Lottery Club</td>\n",
       "      <td>686</td>\n",
       "      <td>World vision</td>\n",
       "      <td>37.460664</td>\n",
       "      <td>-3.821329</td>\n",
       "      <td>Kwa Mahundi</td>\n",
       "      <td>0</td>\n",
       "      <td>...</td>\n",
       "      <td>per bucket</td>\n",
       "      <td>soft</td>\n",
       "      <td>good</td>\n",
       "      <td>enough</td>\n",
       "      <td>enough</td>\n",
       "      <td>dam</td>\n",
       "      <td>dam</td>\n",
       "      <td>surface</td>\n",
       "      <td>communal standpipe multiple</td>\n",
       "      <td>communal standpipe</td>\n",
       "    </tr>\n",
       "    <tr>\n",
       "      <th>3</th>\n",
       "      <td>67743</td>\n",
       "      <td>0.0</td>\n",
       "      <td>2013-01-28</td>\n",
       "      <td>Unicef</td>\n",
       "      <td>263</td>\n",
       "      <td>UNICEF</td>\n",
       "      <td>38.486161</td>\n",
       "      <td>-11.155298</td>\n",
       "      <td>Zahanati Ya Nanyumbu</td>\n",
       "      <td>0</td>\n",
       "      <td>...</td>\n",
       "      <td>never pay</td>\n",
       "      <td>soft</td>\n",
       "      <td>good</td>\n",
       "      <td>dry</td>\n",
       "      <td>dry</td>\n",
       "      <td>machine dbh</td>\n",
       "      <td>borehole</td>\n",
       "      <td>groundwater</td>\n",
       "      <td>communal standpipe multiple</td>\n",
       "      <td>communal standpipe</td>\n",
       "    </tr>\n",
       "    <tr>\n",
       "      <th>4</th>\n",
       "      <td>19728</td>\n",
       "      <td>0.0</td>\n",
       "      <td>2011-07-13</td>\n",
       "      <td>Action In A</td>\n",
       "      <td>0</td>\n",
       "      <td>Artisan</td>\n",
       "      <td>31.130847</td>\n",
       "      <td>-1.825359</td>\n",
       "      <td>Shuleni</td>\n",
       "      <td>0</td>\n",
       "      <td>...</td>\n",
       "      <td>never pay</td>\n",
       "      <td>soft</td>\n",
       "      <td>good</td>\n",
       "      <td>seasonal</td>\n",
       "      <td>seasonal</td>\n",
       "      <td>rainwater harvesting</td>\n",
       "      <td>rainwater harvesting</td>\n",
       "      <td>surface</td>\n",
       "      <td>communal standpipe</td>\n",
       "      <td>communal standpipe</td>\n",
       "    </tr>\n",
       "  </tbody>\n",
       "</table>\n",
       "<p>5 rows × 40 columns</p>\n",
       "</div>"
      ],
      "text/plain": [
       "      id  amount_tsh date_recorded        funder  gps_height     installer  \\\n",
       "0  69572      6000.0    2011-03-14         Roman        1390         Roman   \n",
       "1   8776         0.0    2013-03-06       Grumeti        1399       GRUMETI   \n",
       "2  34310        25.0    2013-02-25  Lottery Club         686  World vision   \n",
       "3  67743         0.0    2013-01-28        Unicef         263        UNICEF   \n",
       "4  19728         0.0    2011-07-13   Action In A           0       Artisan   \n",
       "\n",
       "   longitude   latitude              wpt_name  num_private  ... payment_type  \\\n",
       "0  34.938093  -9.856322                  none            0  ...     annually   \n",
       "1  34.698766  -2.147466              Zahanati            0  ...    never pay   \n",
       "2  37.460664  -3.821329           Kwa Mahundi            0  ...   per bucket   \n",
       "3  38.486161 -11.155298  Zahanati Ya Nanyumbu            0  ...    never pay   \n",
       "4  31.130847  -1.825359               Shuleni            0  ...    never pay   \n",
       "\n",
       "  water_quality quality_group      quantity  quantity_group  \\\n",
       "0          soft          good        enough          enough   \n",
       "1          soft          good  insufficient    insufficient   \n",
       "2          soft          good        enough          enough   \n",
       "3          soft          good           dry             dry   \n",
       "4          soft          good      seasonal        seasonal   \n",
       "\n",
       "                 source           source_type  source_class  \\\n",
       "0                spring                spring   groundwater   \n",
       "1  rainwater harvesting  rainwater harvesting       surface   \n",
       "2                   dam                   dam       surface   \n",
       "3           machine dbh              borehole   groundwater   \n",
       "4  rainwater harvesting  rainwater harvesting       surface   \n",
       "\n",
       "               waterpoint_type waterpoint_type_group  \n",
       "0           communal standpipe    communal standpipe  \n",
       "1           communal standpipe    communal standpipe  \n",
       "2  communal standpipe multiple    communal standpipe  \n",
       "3  communal standpipe multiple    communal standpipe  \n",
       "4           communal standpipe    communal standpipe  \n",
       "\n",
       "[5 rows x 40 columns]"
      ]
     },
     "execution_count": 20,
     "metadata": {},
     "output_type": "execute_result"
    }
   ],
   "source": [
    "features.head()"
   ]
  },
  {
   "cell_type": "code",
   "execution_count": 21,
   "metadata": {},
   "outputs": [
    {
     "data": {
      "text/html": [
       "<div>\n",
       "<style scoped>\n",
       "    .dataframe tbody tr th:only-of-type {\n",
       "        vertical-align: middle;\n",
       "    }\n",
       "\n",
       "    .dataframe tbody tr th {\n",
       "        vertical-align: top;\n",
       "    }\n",
       "\n",
       "    .dataframe thead th {\n",
       "        text-align: right;\n",
       "    }\n",
       "</style>\n",
       "<table border=\"1\" class=\"dataframe\">\n",
       "  <thead>\n",
       "    <tr style=\"text-align: right;\">\n",
       "      <th></th>\n",
       "      <th>id</th>\n",
       "      <th>status_group</th>\n",
       "    </tr>\n",
       "  </thead>\n",
       "  <tbody>\n",
       "    <tr>\n",
       "      <th>0</th>\n",
       "      <td>69572</td>\n",
       "      <td>functional</td>\n",
       "    </tr>\n",
       "    <tr>\n",
       "      <th>1</th>\n",
       "      <td>8776</td>\n",
       "      <td>functional</td>\n",
       "    </tr>\n",
       "    <tr>\n",
       "      <th>2</th>\n",
       "      <td>34310</td>\n",
       "      <td>functional</td>\n",
       "    </tr>\n",
       "    <tr>\n",
       "      <th>3</th>\n",
       "      <td>67743</td>\n",
       "      <td>non functional</td>\n",
       "    </tr>\n",
       "    <tr>\n",
       "      <th>4</th>\n",
       "      <td>19728</td>\n",
       "      <td>functional</td>\n",
       "    </tr>\n",
       "  </tbody>\n",
       "</table>\n",
       "</div>"
      ],
      "text/plain": [
       "      id    status_group\n",
       "0  69572      functional\n",
       "1   8776      functional\n",
       "2  34310      functional\n",
       "3  67743  non functional\n",
       "4  19728      functional"
      ]
     },
     "execution_count": 21,
     "metadata": {},
     "output_type": "execute_result"
    }
   ],
   "source": [
    "labels.head()"
   ]
  },
  {
   "cell_type": "code",
   "execution_count": 22,
   "metadata": {},
   "outputs": [
    {
     "data": {
      "text/plain": [
       "((59400, 39), (59400, 1))"
      ]
     },
     "execution_count": 22,
     "metadata": {},
     "output_type": "execute_result"
    }
   ],
   "source": [
    "features = features.drop(columns='id')\n",
    "labels = labels.drop(columns='id')\n",
    "\n",
    "features.shape, labels.shape"
   ]
  },
  {
   "cell_type": "code",
   "execution_count": 23,
   "metadata": {},
   "outputs": [
    {
     "data": {
      "text/plain": [
       "((47520, 39), (11880, 39), (47520, 1), (11880, 1))"
      ]
     },
     "execution_count": 23,
     "metadata": {},
     "output_type": "execute_result"
    }
   ],
   "source": [
    "from sklearn.model_selection import train_test_split\n",
    "\n",
    "X_train, X_val, y_train, y_val = train_test_split(features, labels, test_size=0.2, random_state=42)\n",
    "\n",
    "X_train.shape, X_val.shape, y_train.shape, y_val.shape"
   ]
  },
  {
   "cell_type": "code",
   "execution_count": 24,
   "metadata": {},
   "outputs": [],
   "source": [
    "def wrangle(X):\n",
    "    # Create copy of dataframe to avoid copy warning\n",
    "    X = X.copy()\n",
    "    \n",
    "    # Some features have missing data showing as 0 that need to be changed to nan\n",
    "    X['gps_height'] = X['gps_height'].replace(0.0, np.nan)\n",
    "    X['longitude'] = X['longitude'].replace(0.0, np.nan)\n",
    "    X['latitude'] = X['latitude'].replace(0.0, np.nan)\n",
    "    X['construction_year'] = X['construction_year'].replace(0.0, np.nan)\n",
    "    X['population'] = X['population'].replace(0.0, np.nan)\n",
    "    X['amount_tsh'] = X['amount_tsh'].replace(0.0, np.nan)\n",
    "    \n",
    "    # gps_height: replace nan values with the mean of the smallest geographical region possible\n",
    "    # Excluding subvillage due to missing values\n",
    "    X['gps_height'].fillna(X.groupby(['ward'])['gps_height'].transform('mean'), inplace=True)\n",
    "    X['gps_height'].fillna(X.groupby(['district_code'])['gps_height'].transform('mean'), inplace=True)\n",
    "    X['gps_height'].fillna(X.groupby(['region_code'])['gps_height'].transform('mean'), inplace=True)\n",
    "    X['gps_height'].fillna(X['gps_height'].mean(), inplace=True)\n",
    "    \n",
    "    # longitude: replace nan values with the mean of the smallest geographical region possible\n",
    "    # Excluding subvillage due to missing values\n",
    "    X['longitude'].fillna(X.groupby(['ward'])['longitude'].transform('mean'), inplace=True)\n",
    "    X['longitude'].fillna(X.groupby(['district_code'])['longitude'].transform('mean'), inplace=True)\n",
    "    X['longitude'].fillna(X.groupby(['region_code'])['longitude'].transform('mean'), inplace=True)\n",
    "    X['longitude'].fillna(X['longitude'].mean(), inplace=True)\n",
    "    \n",
    "    # latitude: replace nan values with the mean of the smallest geographical region possible\n",
    "    # Excluding subvillage due to missing values\n",
    "    X['latitude'].fillna(X.groupby(['ward'])['latitude'].transform('mean'), inplace=True)\n",
    "    X['latitude'].fillna(X.groupby(['district_code'])['latitude'].transform('mean'), inplace=True)\n",
    "    X['latitude'].fillna(X.groupby(['region_code'])['latitude'].transform('mean'), inplace=True)\n",
    "    X['latitude'].fillna(X['latitude'].mean(), inplace=True)\n",
    "    \n",
    "    # population: replace nan values with the mean of the smallest geographical region possible\n",
    "    # Excluding subvillage due to missing values\n",
    "    X['population'].fillna(X.groupby(['ward'])['population'].transform('median'), inplace=True)\n",
    "    X['population'].fillna(X.groupby(['district_code'])['population'].transform('median'), inplace=True)\n",
    "    X['population'].fillna(X.groupby(['region_code'])['population'].transform('median'), inplace=True)\n",
    "    X['population'].fillna(X['population'].median(), inplace=True)\n",
    "    \n",
    "    # population: replace nan values with the mean of the smallest geographical region possible\n",
    "    # Excluding subvillage due to missing values\n",
    "    X['amount_tsh'].fillna(X.groupby(['ward'])['amount_tsh'].transform('median'), inplace=True)\n",
    "    X['amount_tsh'].fillna(X.groupby(['district_code'])['amount_tsh'].transform('median'), inplace=True)\n",
    "    X['amount_tsh'].fillna(X.groupby(['region_code'])['amount_tsh'].transform('median'), inplace=True)\n",
    "    X['amount_tsh'].fillna(X['amount_tsh'].median(), inplace=True)\n",
    "    \n",
    "    # construction_year: replace nan values with the mean of the smallest geographical region possible\n",
    "    # Excluding subvillage due to missing values\n",
    "    X['construction_year'].fillna(X.groupby(['ward'])['construction_year'].transform('median'), inplace=True)\n",
    "    X['construction_year'].fillna(X.groupby(['district_code'])['construction_year'].transform('median'), inplace=True)\n",
    "    X['construction_year'].fillna(X.groupby(['region_code'])['construction_year'].transform('median'), inplace=True)\n",
    "    X['construction_year'].fillna(X['construction_year'].median(), inplace=True)\n",
    "    \n",
    "    # Convert date to datetime\n",
    "    X['date_recorded'] = pd.to_datetime(X['date_recorded'], infer_datetime_format=True)\n",
    "    \n",
    "    # Extract datetime data\n",
    "    X['year_recorded'] = X['date_recorded'].dt.year\n",
    "    \n",
    "    # Drop duplicate or unnecessary features\n",
    "    X = X.drop(columns=['recorded_by', 'quantity_group', 'date_recorded', 'wpt_name', 'num_private', 'subvillage',\n",
    "                       'region_code', 'management_group', 'extraction_type_group', 'extraction_type_class',\n",
    "                       'scheme_name', 'payment', 'water_quality', 'source_type', 'source_class', 'waterpoint_type_group', \n",
    "                        'public_meeting', 'permit'])\n",
    "    \n",
    "    # Several categorical features have values showing as '0'\n",
    "    # Replace '0' with nan\n",
    "    categoricals = X.select_dtypes(exclude='number').columns.tolist()\n",
    "    X[categoricals] = X[categoricals].replace('0', np.nan)\n",
    "    \n",
    "    # Convert to lowercase to collapse duplicates\n",
    "    X['waterpoint_type'] = X['waterpoint_type'].str.lower()\n",
    "    X['funder'] = X['funder'].str.lower()\n",
    "    X['basin'] = X['basin'].str.lower()\n",
    "    X['region'] = X['region'].str.lower()\n",
    "    X['source'] = X['source'].str.lower()\n",
    "    X['lga'] = X['lga'].str.lower()\n",
    "    X['management'] = X['management'].str.lower()\n",
    "    X['quantity'] = X['quantity'].str.lower()\n",
    "    X['quality_group'] = X['quality_group'].str.lower()\n",
    "    X['payment_type'] = X['payment_type'].str.lower()\n",
    "    X['extraction_type'] = X['extraction_type'].str.lower()\n",
    "    \n",
    "    # Replace nan values with 'other'\n",
    "    X[\"funder\"].fillna(\"other\", inplace=True)\n",
    "    X[\"scheme_management\"].fillna(\"other\", inplace=True)\n",
    "    X[\"installer\"].fillna(\"other\", inplace=True)\n",
    "    \n",
    "    X = X.replace(np.nan, 'other')\n",
    "    \n",
    "    return X"
   ]
  },
  {
   "cell_type": "code",
   "execution_count": 25,
   "metadata": {},
   "outputs": [],
   "source": [
    "def feature_eng(X):\n",
    "    X = X.copy()\n",
    "    \n",
    "    # Engineered features from data exploration and cleaning notebook\n",
    "    X['amount_tsh_above_1000'] = X['amount_tsh'] > 1000\n",
    "    X['water_quality_good_and_seasonal'] = (X['quality_group'] == 'good') & (X['quantity'] == 'seasonal')\n",
    "    X['water_quality_good_and_dry'] = (X['quality_group'] == 'good') & (X['quantity'] == 'dry')\n",
    "    X['water_quality_good_and_insufficient'] = (X['quality_group'] == 'good') & (X['quantity'] == 'insufficient')\n",
    "    X['water_quality_good_and_enough'] = (X['quality_group'] == 'good') & (X['quantity'] == 'enough')\n",
    "    X['water_quality_good'] = X['quality_group'] == 'good'\n",
    "    X['age'] = 2019 - X['construction_year']\n",
    "    X['years_since_inspection'] = 2019 - X['year_recorded']\n",
    "    X['x_coordinate'] = np.cos(X['latitude'] * np.cos(X['longitude']))\n",
    "    X['y_coordinate'] = np.cos(X['latitude'] * np.sin(X['longitude']))\n",
    "    X['z_coordinate'] = np.sin(X['latitude'])\n",
    "    \n",
    "    return X"
   ]
  },
  {
   "cell_type": "code",
   "execution_count": 27,
   "metadata": {},
   "outputs": [],
   "source": [
    "def encode(X_train, X_val):\n",
    "    X_train = X_train.copy()\n",
    "    X_val = X_val.copy()\n",
    "    encoder = ce.OrdinalEncoder()\n",
    "    X_train = encoder.fit_transform(X_train)\n",
    "    X_val = encoder.transform(X_val)\n",
    "    \n",
    "    return X_train, X_val"
   ]
  },
  {
   "cell_type": "code",
   "execution_count": 30,
   "metadata": {},
   "outputs": [
    {
     "data": {
      "text/plain": [
       "((47520, 22), (11880, 22))"
      ]
     },
     "execution_count": 30,
     "metadata": {},
     "output_type": "execute_result"
    }
   ],
   "source": [
    "# run wrangle function\n",
    "X_train = wrangle(X_train)\n",
    "X_val = wrangle(X_val)\n",
    "\n",
    "X_train.shape, X_val.shape"
   ]
  },
  {
   "cell_type": "code",
   "execution_count": 32,
   "metadata": {},
   "outputs": [
    {
     "data": {
      "text/plain": [
       "((47520, 33), (11880, 33))"
      ]
     },
     "execution_count": 32,
     "metadata": {},
     "output_type": "execute_result"
    }
   ],
   "source": [
    "# run feature_eng function\n",
    "X_train = feature_eng(X_train)\n",
    "X_val = feature_eng(X_val)\n",
    "\n",
    "X_train.shape, X_val.shape"
   ]
  },
  {
   "cell_type": "code",
   "execution_count": 33,
   "metadata": {},
   "outputs": [
    {
     "data": {
      "text/plain": [
       "((47520, 33), (11880, 33))"
      ]
     },
     "execution_count": 33,
     "metadata": {},
     "output_type": "execute_result"
    }
   ],
   "source": [
    "# run encode function\n",
    "X_train, X_val = encode(X_train, X_val)\n",
    "\n",
    "X_train.shape, X_val.shape"
   ]
  },
  {
   "cell_type": "code",
   "execution_count": 36,
   "metadata": {},
   "outputs": [
    {
     "name": "stdout",
     "output_type": "stream",
     "text": [
      "Fitting 5 folds for each of 50 candidates, totalling 250 fits\n"
     ]
    },
    {
     "name": "stderr",
     "output_type": "stream",
     "text": [
      "[Parallel(n_jobs=-1)]: Using backend LokyBackend with 16 concurrent workers.\n",
      "[Parallel(n_jobs=-1)]: Done   9 tasks      | elapsed:  1.2min\n",
      "[Parallel(n_jobs=-1)]: Done  18 tasks      | elapsed:  1.6min\n",
      "/home/ec2-user/anaconda3/envs/python3/lib/python3.6/site-packages/sklearn/externals/joblib/externals/loky/process_executor.py:706: UserWarning: A worker stopped while some jobs were given to the executor. This can be caused by a too short worker timeout or by a memory leak.\n",
      "  \"timeout or by a memory leak.\", UserWarning\n",
      "[Parallel(n_jobs=-1)]: Done  29 tasks      | elapsed:  2.2min\n",
      "[Parallel(n_jobs=-1)]: Done  40 tasks      | elapsed:  3.8min\n",
      "[Parallel(n_jobs=-1)]: Done  53 tasks      | elapsed:  4.9min\n",
      "[Parallel(n_jobs=-1)]: Done  66 tasks      | elapsed:  6.0min\n",
      "[Parallel(n_jobs=-1)]: Done  81 tasks      | elapsed:  6.7min\n",
      "[Parallel(n_jobs=-1)]: Done  96 tasks      | elapsed:  7.7min\n",
      "[Parallel(n_jobs=-1)]: Done 113 tasks      | elapsed:  8.5min\n",
      "[Parallel(n_jobs=-1)]: Done 130 tasks      | elapsed:  9.7min\n",
      "[Parallel(n_jobs=-1)]: Done 149 tasks      | elapsed: 12.4min\n",
      "[Parallel(n_jobs=-1)]: Done 168 tasks      | elapsed: 14.3min\n",
      "[Parallel(n_jobs=-1)]: Done 189 tasks      | elapsed: 15.2min\n",
      "[Parallel(n_jobs=-1)]: Done 210 tasks      | elapsed: 16.9min\n",
      "[Parallel(n_jobs=-1)]: Done 245 out of 250 | elapsed: 19.5min remaining:   23.8s\n",
      "[Parallel(n_jobs=-1)]: Done 250 out of 250 | elapsed: 19.5min finished\n",
      "/home/ec2-user/anaconda3/envs/python3/lib/python3.6/site-packages/sklearn/model_selection/_search.py:740: DataConversionWarning: A column-vector y was passed when a 1d array was expected. Please change the shape of y to (n_samples,), for example using ravel().\n",
      "  self.best_estimator_.fit(X, y, **fit_params)\n"
     ]
    },
    {
     "data": {
      "text/plain": [
       "RandomizedSearchCV(cv=5, error_score='raise-deprecating',\n",
       "          estimator=RandomForestClassifier(bootstrap=True, class_weight=None, criterion='gini',\n",
       "            max_depth=None, max_features='auto', max_leaf_nodes=None,\n",
       "            min_impurity_decrease=0.0, min_impurity_split=None,\n",
       "            min_samples_leaf=1, min_samples_split=2,\n",
       "            min_weight_fraction_leaf=0.0, n_estimators='warn', n_jobs=-1,\n",
       "            oob_score=False, random_state=42, verbose=0, warm_start=False),\n",
       "          fit_params=None, iid=False, n_iter=50, n_jobs=-1,\n",
       "          param_distributions={'n_estimators': range(200, 500), 'criterion': ['gini', 'entropy']},\n",
       "          pre_dispatch='2*n_jobs', random_state=None, refit=True,\n",
       "          return_train_score=True, scoring='accuracy', verbose=10)"
      ]
     },
     "execution_count": 36,
     "metadata": {},
     "output_type": "execute_result"
    }
   ],
   "source": [
    "# Set parameters\n",
    "params = {\n",
    "    'n_estimators': range(200, 500),\n",
    "    'criterion': ['gini', 'entropy']\n",
    "}\n",
    "\n",
    "# Create randomized search\n",
    "search = RandomizedSearchCV(\n",
    "    estimator=RandomForestClassifier(n_jobs=-1, random_state=42, max_depth=None, max_features='auto'),\n",
    "    param_distributions=params,\n",
    "    n_iter=50,\n",
    "    scoring='accuracy',\n",
    "    iid=False,\n",
    "    n_jobs=-1,\n",
    "    cv=5,\n",
    "    verbose=10,\n",
    "    return_train_score=True\n",
    ")\n",
    "\n",
    "# fit the model\n",
    "search.fit(X_train, y_train)"
   ]
  },
  {
   "cell_type": "code",
   "execution_count": 37,
   "metadata": {},
   "outputs": [
    {
     "data": {
      "text/plain": [
       "RandomForestClassifier(bootstrap=True, class_weight=None, criterion='gini',\n",
       "            max_depth=None, max_features='auto', max_leaf_nodes=None,\n",
       "            min_impurity_decrease=0.0, min_impurity_split=None,\n",
       "            min_samples_leaf=1, min_samples_split=2,\n",
       "            min_weight_fraction_leaf=0.0, n_estimators=346, n_jobs=-1,\n",
       "            oob_score=False, random_state=42, verbose=0, warm_start=False)"
      ]
     },
     "execution_count": 37,
     "metadata": {},
     "output_type": "execute_result"
    }
   ],
   "source": [
    "search.best_estimator_"
   ]
  },
  {
   "cell_type": "code",
   "execution_count": 38,
   "metadata": {},
   "outputs": [
    {
     "data": {
      "text/plain": [
       "0.8021674739056911"
      ]
     },
     "execution_count": 38,
     "metadata": {},
     "output_type": "execute_result"
    }
   ],
   "source": [
    "search.best_score_"
   ]
  }
 ],
 "metadata": {
  "kernelspec": {
   "display_name": "conda_python3",
   "language": "python",
   "name": "conda_python3"
  },
  "language_info": {
   "codemirror_mode": {
    "name": "ipython",
    "version": 3
   },
   "file_extension": ".py",
   "mimetype": "text/x-python",
   "name": "python",
   "nbconvert_exporter": "python",
   "pygments_lexer": "ipython3",
   "version": "3.6.5"
  }
 },
 "nbformat": 4,
 "nbformat_minor": 2
}
