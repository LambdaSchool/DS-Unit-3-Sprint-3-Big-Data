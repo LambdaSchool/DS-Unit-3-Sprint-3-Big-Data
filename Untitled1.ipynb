{
 "cells": [
  {
   "cell_type": "code",
   "execution_count": null,
   "metadata": {},
   "outputs": [],
   "source": [
    "# I like Amazon sagemaker it's great for visually seeing development of machine learning models. \n",
    "#Because it's a great tool for data Scientist comparing different machine learning models to to SageMaker isn't as easy \n",
    "#I'd use amazon sage maker for a banking company that had over a 1,000,000 records because it would make the process easier.\n",
    "#Amazon Sagemaker makes deploying machine learning models much easier than open source codes"
   ]
  },
  {
   "cell_type": "code",
   "execution_count": null,
   "metadata": {},
   "outputs": [],
   "source": [
    "#Spark is more robust because of Hadoop\n",
    "#there's also a standalone mode if you would like to try before clustering\n",
    "#Spark is python Scala and R compatible\n",
    "#depending on how big yur data it might be a good tradeoff because resource control over dask if you use Yarn.. "
   ]
  }
 ],
 "metadata": {
  "kernelspec": {
   "display_name": "conda_python3",
   "language": "python",
   "name": "conda_python3"
  },
  "language_info": {
   "codemirror_mode": {
    "name": "ipython",
    "version": 3
   },
   "file_extension": ".py",
   "mimetype": "text/x-python",
   "name": "python",
   "nbconvert_exporter": "python",
   "pygments_lexer": "ipython3",
   "version": "3.6.5"
  }
 },
 "nbformat": 4,
 "nbformat_minor": 2
}
