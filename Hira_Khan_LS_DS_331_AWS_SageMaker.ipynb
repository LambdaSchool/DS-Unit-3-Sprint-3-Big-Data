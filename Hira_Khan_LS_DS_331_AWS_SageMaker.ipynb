{
  "nbformat": 4,
  "nbformat_minor": 0,
  "metadata": {
    "colab": {
      "name": "Hira Khan_LS_DS_331_AWS_SageMaker.ipynb",
      "version": "0.3.2",
      "provenance": [],
      "include_colab_link": true
    },
    "language_info": {
      "codemirror_mode": {
        "name": "ipython",
        "version": 3
      },
      "file_extension": ".py",
      "mimetype": "text/x-python",
      "name": "python",
      "nbconvert_exporter": "python",
      "pygments_lexer": "ipython3",
      "version": "3.7.3"
    },
    "kernelspec": {
      "display_name": "Python 3",
      "language": "python",
      "name": "python3"
    }
  },
  "cells": [
    {
      "cell_type": "markdown",
      "metadata": {
        "id": "view-in-github",
        "colab_type": "text"
      },
      "source": [
        "<a href=\"https://colab.research.google.com/github/Hira63S/DS-Unit-3-Sprint-3-Big-Data/blob/master/Hira_Khan_LS_DS_331_AWS_SageMaker.ipynb\" target=\"_parent\"><img src=\"https://colab.research.google.com/assets/colab-badge.svg\" alt=\"Open In Colab\"/></a>"
      ]
    },
    {
      "cell_type": "markdown",
      "metadata": {
        "id": "2Ls2zo-3PY4d",
        "colab_type": "text"
      },
      "source": [
        "_Lambda School Data Science — Big Data_\n",
        "\n",
        "# AWS SageMaker\n",
        "\n",
        "### Links\n",
        "\n",
        "#### AWS\n",
        "- The Open Guide to Amazon Web Services: EC2 Basics _(just this one short section!)_ https://github.com/open-guides/og-aws#ec2-basics\n",
        "- AWS in Plain English https://www.expeditedssl.com/aws-in-plain-english\n",
        "- Amazon SageMaker » Create an Amazon SageMaker Notebook Instance https://docs.aws.amazon.com/sagemaker/latest/dg/gs-setup-working-env.html\n",
        "- Amazon SageMaker » Install External Libraries https://docs.aws.amazon.com/sagemaker/latest/dg/nbi-add-external.html \n",
        "\n",
        "`conda install -n python3 bokeh dask datashader fastparquet numba python-snappy`\n",
        "\n",
        "#### Dask\n",
        "- Why Dask? https://docs.dask.org/en/latest/why.html\n",
        "- Use Cases https://docs.dask.org/en/latest/use-cases.html\n",
        "- User Interfaces https://docs.dask.org/en/latest/user-interfaces.html\n",
        "\n",
        "#### Numba\n",
        "- A ~5 minute guide http://numba.pydata.org/numba-doc/latest/user/5minguide.html"
      ]
    },
    {
      "cell_type": "markdown",
      "metadata": {
        "id": "4vIZRlOFPY4f",
        "colab_type": "text"
      },
      "source": [
        "## 1. Estimate pi\n",
        "https://en.wikipedia.org/wiki/Approximations_of_π#Summing_a_circle's_area"
      ]
    },
    {
      "cell_type": "markdown",
      "metadata": {
        "id": "HZyXfXchPY4g",
        "colab_type": "text"
      },
      "source": [
        "### With plain Python"
      ]
    },
    {
      "cell_type": "code",
      "metadata": {
        "id": "2f_eAkNkPY4h",
        "colab_type": "code",
        "colab": {}
      },
      "source": [
        "import random\n",
        "\n",
        "def monte_carlo_pi(nsamples):\n",
        "    acc = 0\n",
        "    for _ in range(int(nsamples)):\n",
        "        x = random.random()\n",
        "        y = random.random()\n",
        "        if (x**2 + y**2) < 1.0:\n",
        "            acc += 1\n",
        "    return 4.0 * acc / nsamples"
      ],
      "execution_count": 0,
      "outputs": []
    },
    {
      "cell_type": "code",
      "metadata": {
        "id": "uWye5p5xPY4k",
        "colab_type": "code",
        "outputId": "22a9301a-451e-4256-83a5-af1f0b0cc486",
        "colab": {
          "base_uri": "https://localhost:8080/",
          "height": 67
        }
      },
      "source": [
        "%%time\n",
        "monte_carlo_pi(1e7)"
      ],
      "execution_count": 2,
      "outputs": [
        {
          "output_type": "stream",
          "text": [
            "CPU times: user 3.97 s, sys: 2.74 ms, total: 3.98 s\n",
            "Wall time: 3.99 s\n"
          ],
          "name": "stdout"
        },
        {
          "output_type": "execute_result",
          "data": {
            "text/plain": [
              "3.1413156"
            ]
          },
          "metadata": {
            "tags": []
          },
          "execution_count": 2
        }
      ]
    },
    {
      "cell_type": "markdown",
      "metadata": {
        "id": "BeoqVoeqPY4n",
        "colab_type": "text"
      },
      "source": [
        "### With Numba\n",
        "http://numba.pydata.org/"
      ]
    },
    {
      "cell_type": "code",
      "metadata": {
        "id": "V1F8SXwjPY4o",
        "colab_type": "code",
        "colab": {}
      },
      "source": [
        "from numba import jit #we just jit just as decorator. Not as popular as data science pipeline\n",
        "#we used them a lot with flask."
      ],
      "execution_count": 0,
      "outputs": []
    },
    {
      "cell_type": "markdown",
      "metadata": {
        "id": "0uKIc5FEQO1t",
        "colab_type": "text"
      },
      "source": [
        ""
      ]
    },
    {
      "cell_type": "code",
      "metadata": {
        "id": "UJrYhIiSPY4q",
        "colab_type": "code",
        "colab": {}
      },
      "source": [
        "@jit(nopython=True)\n",
        "\n",
        "def monte_carlo_pi(nsamples):\n",
        "    acc = 0\n",
        "    for _ in range(int(nsamples)):\n",
        "        x = random.random()\n",
        "        y = random.random()\n",
        "        if (x**2 + y**2) < 1.0:\n",
        "            acc += 1\n",
        "    return 4.0 * acc / nsamples"
      ],
      "execution_count": 0,
      "outputs": []
    },
    {
      "cell_type": "code",
      "metadata": {
        "id": "JybeKkUKQnHg",
        "colab_type": "code",
        "colab": {
          "base_uri": "https://localhost:8080/",
          "height": 67
        },
        "outputId": "051131bc-d400-415b-b88b-33c27e8a2255"
      },
      "source": [
        "%%time\n",
        "monte_carlo_pi(1e7)\n"
      ],
      "execution_count": 7,
      "outputs": [
        {
          "output_type": "stream",
          "text": [
            "CPU times: user 286 ms, sys: 13.1 ms, total: 300 ms\n",
            "Wall time: 355 ms\n"
          ],
          "name": "stdout"
        },
        {
          "output_type": "execute_result",
          "data": {
            "text/plain": [
              "3.1416816"
            ]
          },
          "metadata": {
            "tags": []
          },
          "execution_count": 7
        }
      ]
    },
    {
      "cell_type": "markdown",
      "metadata": {
        "id": "wQCTwYFiPY4w",
        "colab_type": "text"
      },
      "source": [
        "## 2. Loop a slow function"
      ]
    },
    {
      "cell_type": "markdown",
      "metadata": {
        "id": "IPo6SECHPY4x",
        "colab_type": "text"
      },
      "source": [
        "### With plain Python"
      ]
    },
    {
      "cell_type": "code",
      "metadata": {
        "id": "fASYXgYzPY4y",
        "colab_type": "code",
        "colab": {}
      },
      "source": [
        "from time import sleep\n",
        "\n",
        "def slow_square(x):\n",
        "    sleep(1)\n",
        "    return x**2"
      ],
      "execution_count": 0,
      "outputs": []
    },
    {
      "cell_type": "code",
      "metadata": {
        "id": "WAniiIz4PY40",
        "colab_type": "code",
        "colab": {
          "base_uri": "https://localhost:8080/",
          "height": 67
        },
        "outputId": "e5074c3d-1442-4201-8a01-2bfe8d2471e1"
      },
      "source": [
        "%%time\n",
        "[slow_square(n) for n in range(16)]"
      ],
      "execution_count": 9,
      "outputs": [
        {
          "output_type": "stream",
          "text": [
            "CPU times: user 1.14 ms, sys: 1.95 ms, total: 3.09 ms\n",
            "Wall time: 16 s\n"
          ],
          "name": "stdout"
        },
        {
          "output_type": "execute_result",
          "data": {
            "text/plain": [
              "[0, 1, 4, 9, 16, 25, 36, 49, 64, 81, 100, 121, 144, 169, 196, 225]"
            ]
          },
          "metadata": {
            "tags": []
          },
          "execution_count": 9
        }
      ]
    },
    {
      "cell_type": "markdown",
      "metadata": {
        "id": "aWYIvez4Q0Ir",
        "colab_type": "text"
      },
      "source": [
        "DASK is big-version of pandas\n",
        "It is pandas as scale.\n",
        " API is almost the same. NOt everything in pandas is used in DASK, it also has a lot more complexity.\n",
        " \n",
        " DASK API: "
      ]
    },
    {
      "cell_type": "markdown",
      "metadata": {
        "id": "QV8i5PgWPY43",
        "colab_type": "text"
      },
      "source": [
        "### With Dask\n",
        "- https://examples.dask.org/delayed.html\n",
        "- http://docs.dask.org/en/latest/setup/single-distributed.html"
      ]
    },
    {
      "cell_type": "code",
      "metadata": {
        "id": "mV9tamLxPY44",
        "colab_type": "code",
        "colab": {}
      },
      "source": [
        "from dask import compute, delayed"
      ],
      "execution_count": 0,
      "outputs": []
    },
    {
      "cell_type": "code",
      "metadata": {
        "id": "8VoEO0V_PY46",
        "colab_type": "code",
        "colab": {
          "base_uri": "https://localhost:8080/",
          "height": 286
        },
        "outputId": "d0249980-d060-49ab-cd7c-31f4586d3ee8"
      },
      "source": [
        "[delayed(slow_square)(n) for n in range(16)]"
      ],
      "execution_count": 13,
      "outputs": [
        {
          "output_type": "execute_result",
          "data": {
            "text/plain": [
              "[Delayed('slow_square-abfd5c14-d11c-4307-bfdf-3c7b567467db'),\n",
              " Delayed('slow_square-f412eb31-7033-466b-b61d-67f37c09c958'),\n",
              " Delayed('slow_square-23f405ce-ce35-4d0f-90ea-a974045efb7b'),\n",
              " Delayed('slow_square-aaba5f8f-9a8c-4268-8f0d-ccae84849155'),\n",
              " Delayed('slow_square-bf897dfa-df0f-4c6e-8d9f-2a7c520f2c97'),\n",
              " Delayed('slow_square-2af216a3-6cef-45f6-8dd6-d0bd99f4d100'),\n",
              " Delayed('slow_square-aa022c4e-a209-476b-b791-279eeffffdb0'),\n",
              " Delayed('slow_square-cd3b7b45-c41f-4805-877d-b4acc40635da'),\n",
              " Delayed('slow_square-cb50e858-8c77-4552-9745-7cf7d85ad7d6'),\n",
              " Delayed('slow_square-0fd7667c-d839-4806-b3f1-3577a593a54f'),\n",
              " Delayed('slow_square-37b392b8-62d6-42fa-b07f-35254e7b3c73'),\n",
              " Delayed('slow_square-c5332dd3-ea66-4c3a-a961-3e09b92a1cae'),\n",
              " Delayed('slow_square-63337bfc-2b25-4224-9bcf-7c320ec4162b'),\n",
              " Delayed('slow_square-dad03451-f55b-46e2-b9f8-ab06902708a9'),\n",
              " Delayed('slow_square-5fbb405f-988e-4860-a729-c4ca26d094ca'),\n",
              " Delayed('slow_square-717a5bd8-cad1-46b4-9695-364a9d60879b')]"
            ]
          },
          "metadata": {
            "tags": []
          },
          "execution_count": 13
        }
      ]
    },
    {
      "cell_type": "code",
      "metadata": {
        "id": "Vphv3Tu4SOVv",
        "colab_type": "code",
        "colab": {
          "base_uri": "https://localhost:8080/",
          "height": 67
        },
        "outputId": "b10b3ee1-15c1-4af3-8803-3c6f8fcea453"
      },
      "source": [
        "%%time\n",
        "compute(delayed(slow_square)(n) for n in range(16))"
      ],
      "execution_count": 14,
      "outputs": [
        {
          "output_type": "stream",
          "text": [
            "CPU times: user 16.8 ms, sys: 4.86 ms, total: 21.7 ms\n",
            "Wall time: 8.02 s\n"
          ],
          "name": "stdout"
        },
        {
          "output_type": "execute_result",
          "data": {
            "text/plain": [
              "([0, 1, 4, 9, 16, 25, 36, 49, 64, 81, 100, 121, 144, 169, 196, 225],)"
            ]
          },
          "metadata": {
            "tags": []
          },
          "execution_count": 14
        }
      ]
    },
    {
      "cell_type": "markdown",
      "metadata": {
        "id": "IeKqfLhpRYdP",
        "colab_type": "text"
      },
      "source": [
        "Slow square API is a bit difference.\n",
        "If we want to pass in an argument, we pass it after the paranthesis.\n"
      ]
    },
    {
      "cell_type": "markdown",
      "metadata": {
        "id": "_qZ_PdbIPY5A",
        "colab_type": "text"
      },
      "source": [
        "## 3. Analyze millions of Instacart orders"
      ]
    },
    {
      "cell_type": "markdown",
      "metadata": {
        "id": "tUKLj0p3PY5B",
        "colab_type": "text"
      },
      "source": [
        "### Download data\n",
        "https://tech.instacart.com/3-million-instacart-orders-open-sourced-d40d29ead6f2"
      ]
    },
    {
      "cell_type": "code",
      "metadata": {
        "id": "aYR1jrITPY5C",
        "colab_type": "code",
        "colab": {
          "base_uri": "https://localhost:8080/",
          "height": 222
        },
        "outputId": "d1ee8f6e-6b5c-4079-a9ac-3625f1d1a770"
      },
      "source": [
        "!wget https://s3.amazonaws.com/instacart-datasets/instacart_online_grocery_shopping_2017_05_01.tar.gz"
      ],
      "execution_count": 1,
      "outputs": [
        {
          "output_type": "stream",
          "text": [
            "--2019-06-10 21:33:22--  https://s3.amazonaws.com/instacart-datasets/instacart_online_grocery_shopping_2017_05_01.tar.gz\n",
            "Resolving s3.amazonaws.com (s3.amazonaws.com)... 52.216.146.157\n",
            "Connecting to s3.amazonaws.com (s3.amazonaws.com)|52.216.146.157|:443... connected.\n",
            "HTTP request sent, awaiting response... 200 OK\n",
            "Length: 205548478 (196M) [application/x-gzip]\n",
            "Saving to: ‘instacart_online_grocery_shopping_2017_05_01.tar.gz’\n",
            "\n",
            "instacart_online_gr 100%[===================>] 196.03M  44.3MB/s    in 4.9s    \n",
            "\n",
            "2019-06-10 21:33:32 (40.2 MB/s) - ‘instacart_online_grocery_shopping_2017_05_01.tar.gz’ saved [205548478/205548478]\n",
            "\n"
          ],
          "name": "stdout"
        }
      ]
    },
    {
      "cell_type": "code",
      "metadata": {
        "id": "j4QHNhahPY5F",
        "colab_type": "code",
        "colab": {
          "base_uri": "https://localhost:8080/",
          "height": 235
        },
        "outputId": "f9599a8d-fcfa-47fa-a1d4-5d41852cb15b"
      },
      "source": [
        "!tar --gunzip --extract --verbose --file=instacart_online_grocery_shopping_2017_05_01.tar.gz"
      ],
      "execution_count": 2,
      "outputs": [
        {
          "output_type": "stream",
          "text": [
            "instacart_2017_05_01/\n",
            "instacart_2017_05_01/._aisles.csv\n",
            "instacart_2017_05_01/aisles.csv\n",
            "instacart_2017_05_01/._departments.csv\n",
            "instacart_2017_05_01/departments.csv\n",
            "instacart_2017_05_01/._order_products__prior.csv\n",
            "instacart_2017_05_01/order_products__prior.csv\n",
            "instacart_2017_05_01/._order_products__train.csv\n",
            "instacart_2017_05_01/order_products__train.csv\n",
            "instacart_2017_05_01/._orders.csv\n",
            "instacart_2017_05_01/orders.csv\n",
            "instacart_2017_05_01/._products.csv\n",
            "instacart_2017_05_01/products.csv\n"
          ],
          "name": "stdout"
        }
      ]
    },
    {
      "cell_type": "code",
      "metadata": {
        "id": "v-QRjJwjPY5H",
        "colab_type": "code",
        "colab": {
          "base_uri": "https://localhost:8080/",
          "height": 34
        },
        "outputId": "a3937d84-c21a-456f-c0f0-76230a60c460"
      },
      "source": [
        "%cd instacart_2017_05_01"
      ],
      "execution_count": 3,
      "outputs": [
        {
          "output_type": "stream",
          "text": [
            "/content/instacart_2017_05_01\n"
          ],
          "name": "stdout"
        }
      ]
    },
    {
      "cell_type": "code",
      "metadata": {
        "id": "d-0dVikrPY5K",
        "colab_type": "code",
        "colab": {
          "base_uri": "https://localhost:8080/",
          "height": 118
        },
        "outputId": "a8e921ef-357e-454a-f699-31adb6765288"
      },
      "source": [
        "!ls -lh *.csv"
      ],
      "execution_count": 4,
      "outputs": [
        {
          "output_type": "stream",
          "text": [
            "-rw-r--r-- 1 502 staff 2.6K May  2  2017 aisles.csv\n",
            "-rw-r--r-- 1 502 staff  270 May  2  2017 departments.csv\n",
            "-rw-r--r-- 1 502 staff 551M May  2  2017 order_products__prior.csv\n",
            "-rw-r--r-- 1 502 staff  24M May  2  2017 order_products__train.csv\n",
            "-rw-r--r-- 1 502 staff 104M May  2  2017 orders.csv\n",
            "-rw-r--r-- 1 502 staff 2.1M May  2  2017 products.csv\n"
          ],
          "name": "stdout"
        }
      ]
    },
    {
      "cell_type": "markdown",
      "metadata": {
        "id": "MVx2ibdMPY5M",
        "colab_type": "text"
      },
      "source": [
        "### With Pandas"
      ]
    },
    {
      "cell_type": "markdown",
      "metadata": {
        "id": "GYtnd026PY5N",
        "colab_type": "text"
      },
      "source": [
        "#### Load & merge data"
      ]
    },
    {
      "cell_type": "code",
      "metadata": {
        "id": "DKy8xrjvPY5P",
        "colab_type": "code",
        "colab": {}
      },
      "source": [
        "import pandas as pd"
      ],
      "execution_count": 0,
      "outputs": []
    },
    {
      "cell_type": "code",
      "metadata": {
        "id": "ztqRatPuPY5S",
        "colab_type": "code",
        "colab": {
          "base_uri": "https://localhost:8080/",
          "height": 202
        },
        "outputId": "fa6d1415-5fa2-4bda-b40d-0aed8f97fb0c"
      },
      "source": [
        "%%time\n",
        "order_products = pd.concat([\n",
        "    pd.read_csv('order_products__prior.csv'), \n",
        "    pd.read_csv('order_products__train.csv')])\n",
        "\n",
        "order_products.info()"
      ],
      "execution_count": 6,
      "outputs": [
        {
          "output_type": "stream",
          "text": [
            "<class 'pandas.core.frame.DataFrame'>\n",
            "Int64Index: 33819106 entries, 0 to 1384616\n",
            "Data columns (total 4 columns):\n",
            "order_id             int64\n",
            "product_id           int64\n",
            "add_to_cart_order    int64\n",
            "reordered            int64\n",
            "dtypes: int64(4)\n",
            "memory usage: 1.3 GB\n",
            "CPU times: user 9.47 s, sys: 2.71 s, total: 12.2 s\n",
            "Wall time: 12.2 s\n"
          ],
          "name": "stdout"
        }
      ]
    },
    {
      "cell_type": "code",
      "metadata": {
        "id": "jYobV9EwPY5U",
        "colab_type": "code",
        "colab": {
          "base_uri": "https://localhost:8080/",
          "height": 195
        },
        "outputId": "2eac7bcb-e8fc-4065-b2c2-862378e39a18"
      },
      "source": [
        "order_products.head()"
      ],
      "execution_count": 7,
      "outputs": [
        {
          "output_type": "execute_result",
          "data": {
            "text/html": [
              "<div>\n",
              "<style scoped>\n",
              "    .dataframe tbody tr th:only-of-type {\n",
              "        vertical-align: middle;\n",
              "    }\n",
              "\n",
              "    .dataframe tbody tr th {\n",
              "        vertical-align: top;\n",
              "    }\n",
              "\n",
              "    .dataframe thead th {\n",
              "        text-align: right;\n",
              "    }\n",
              "</style>\n",
              "<table border=\"1\" class=\"dataframe\">\n",
              "  <thead>\n",
              "    <tr style=\"text-align: right;\">\n",
              "      <th></th>\n",
              "      <th>order_id</th>\n",
              "      <th>product_id</th>\n",
              "      <th>add_to_cart_order</th>\n",
              "      <th>reordered</th>\n",
              "    </tr>\n",
              "  </thead>\n",
              "  <tbody>\n",
              "    <tr>\n",
              "      <th>0</th>\n",
              "      <td>2</td>\n",
              "      <td>33120</td>\n",
              "      <td>1</td>\n",
              "      <td>1</td>\n",
              "    </tr>\n",
              "    <tr>\n",
              "      <th>1</th>\n",
              "      <td>2</td>\n",
              "      <td>28985</td>\n",
              "      <td>2</td>\n",
              "      <td>1</td>\n",
              "    </tr>\n",
              "    <tr>\n",
              "      <th>2</th>\n",
              "      <td>2</td>\n",
              "      <td>9327</td>\n",
              "      <td>3</td>\n",
              "      <td>0</td>\n",
              "    </tr>\n",
              "    <tr>\n",
              "      <th>3</th>\n",
              "      <td>2</td>\n",
              "      <td>45918</td>\n",
              "      <td>4</td>\n",
              "      <td>1</td>\n",
              "    </tr>\n",
              "    <tr>\n",
              "      <th>4</th>\n",
              "      <td>2</td>\n",
              "      <td>30035</td>\n",
              "      <td>5</td>\n",
              "      <td>0</td>\n",
              "    </tr>\n",
              "  </tbody>\n",
              "</table>\n",
              "</div>"
            ],
            "text/plain": [
              "   order_id  product_id  add_to_cart_order  reordered\n",
              "0         2       33120                  1          1\n",
              "1         2       28985                  2          1\n",
              "2         2        9327                  3          0\n",
              "3         2       45918                  4          1\n",
              "4         2       30035                  5          0"
            ]
          },
          "metadata": {
            "tags": []
          },
          "execution_count": 7
        }
      ]
    },
    {
      "cell_type": "code",
      "metadata": {
        "id": "03FjObqhPY5W",
        "colab_type": "code",
        "colab": {
          "base_uri": "https://localhost:8080/",
          "height": 168
        },
        "outputId": "9d78a8d4-0875-4645-fc72-8b01872fe71f"
      },
      "source": [
        "products = pd.read_csv('products.csv')\n",
        "products.info()"
      ],
      "execution_count": 8,
      "outputs": [
        {
          "output_type": "stream",
          "text": [
            "<class 'pandas.core.frame.DataFrame'>\n",
            "RangeIndex: 49688 entries, 0 to 49687\n",
            "Data columns (total 4 columns):\n",
            "product_id       49688 non-null int64\n",
            "product_name     49688 non-null object\n",
            "aisle_id         49688 non-null int64\n",
            "department_id    49688 non-null int64\n",
            "dtypes: int64(3), object(1)\n",
            "memory usage: 1.5+ MB\n"
          ],
          "name": "stdout"
        }
      ]
    },
    {
      "cell_type": "code",
      "metadata": {
        "id": "gzU0IiByPY5c",
        "colab_type": "code",
        "colab": {
          "base_uri": "https://localhost:8080/",
          "height": 195
        },
        "outputId": "48a993a3-825f-417b-c29f-ab70ec6f951e"
      },
      "source": [
        "products.head()"
      ],
      "execution_count": 9,
      "outputs": [
        {
          "output_type": "execute_result",
          "data": {
            "text/html": [
              "<div>\n",
              "<style scoped>\n",
              "    .dataframe tbody tr th:only-of-type {\n",
              "        vertical-align: middle;\n",
              "    }\n",
              "\n",
              "    .dataframe tbody tr th {\n",
              "        vertical-align: top;\n",
              "    }\n",
              "\n",
              "    .dataframe thead th {\n",
              "        text-align: right;\n",
              "    }\n",
              "</style>\n",
              "<table border=\"1\" class=\"dataframe\">\n",
              "  <thead>\n",
              "    <tr style=\"text-align: right;\">\n",
              "      <th></th>\n",
              "      <th>product_id</th>\n",
              "      <th>product_name</th>\n",
              "      <th>aisle_id</th>\n",
              "      <th>department_id</th>\n",
              "    </tr>\n",
              "  </thead>\n",
              "  <tbody>\n",
              "    <tr>\n",
              "      <th>0</th>\n",
              "      <td>1</td>\n",
              "      <td>Chocolate Sandwich Cookies</td>\n",
              "      <td>61</td>\n",
              "      <td>19</td>\n",
              "    </tr>\n",
              "    <tr>\n",
              "      <th>1</th>\n",
              "      <td>2</td>\n",
              "      <td>All-Seasons Salt</td>\n",
              "      <td>104</td>\n",
              "      <td>13</td>\n",
              "    </tr>\n",
              "    <tr>\n",
              "      <th>2</th>\n",
              "      <td>3</td>\n",
              "      <td>Robust Golden Unsweetened Oolong Tea</td>\n",
              "      <td>94</td>\n",
              "      <td>7</td>\n",
              "    </tr>\n",
              "    <tr>\n",
              "      <th>3</th>\n",
              "      <td>4</td>\n",
              "      <td>Smart Ones Classic Favorites Mini Rigatoni Wit...</td>\n",
              "      <td>38</td>\n",
              "      <td>1</td>\n",
              "    </tr>\n",
              "    <tr>\n",
              "      <th>4</th>\n",
              "      <td>5</td>\n",
              "      <td>Green Chile Anytime Sauce</td>\n",
              "      <td>5</td>\n",
              "      <td>13</td>\n",
              "    </tr>\n",
              "  </tbody>\n",
              "</table>\n",
              "</div>"
            ],
            "text/plain": [
              "   product_id  ... department_id\n",
              "0           1  ...            19\n",
              "1           2  ...            13\n",
              "2           3  ...             7\n",
              "3           4  ...             1\n",
              "4           5  ...            13\n",
              "\n",
              "[5 rows x 4 columns]"
            ]
          },
          "metadata": {
            "tags": []
          },
          "execution_count": 9
        }
      ]
    },
    {
      "cell_type": "code",
      "metadata": {
        "id": "TWQlEZa2PY5k",
        "colab_type": "code",
        "colab": {
          "base_uri": "https://localhost:8080/",
          "height": 50
        },
        "outputId": "131413d0-5248-4236-c5a6-4cbab80ad032"
      },
      "source": [
        "%%time\n",
        "order_products = pd.merge(order_products, products[['product_id', 'product_name']])"
      ],
      "execution_count": 10,
      "outputs": [
        {
          "output_type": "stream",
          "text": [
            "CPU times: user 6.59 s, sys: 814 ms, total: 7.4 s\n",
            "Wall time: 7.4 s\n"
          ],
          "name": "stdout"
        }
      ]
    },
    {
      "cell_type": "code",
      "metadata": {
        "id": "od-5YKJHPY5p",
        "colab_type": "code",
        "colab": {
          "base_uri": "https://localhost:8080/",
          "height": 195
        },
        "outputId": "f308ccd6-8c4e-43a2-aed2-754e9d5c1e32"
      },
      "source": [
        "order_products.head()"
      ],
      "execution_count": 11,
      "outputs": [
        {
          "output_type": "execute_result",
          "data": {
            "text/html": [
              "<div>\n",
              "<style scoped>\n",
              "    .dataframe tbody tr th:only-of-type {\n",
              "        vertical-align: middle;\n",
              "    }\n",
              "\n",
              "    .dataframe tbody tr th {\n",
              "        vertical-align: top;\n",
              "    }\n",
              "\n",
              "    .dataframe thead th {\n",
              "        text-align: right;\n",
              "    }\n",
              "</style>\n",
              "<table border=\"1\" class=\"dataframe\">\n",
              "  <thead>\n",
              "    <tr style=\"text-align: right;\">\n",
              "      <th></th>\n",
              "      <th>order_id</th>\n",
              "      <th>product_id</th>\n",
              "      <th>add_to_cart_order</th>\n",
              "      <th>reordered</th>\n",
              "      <th>product_name</th>\n",
              "    </tr>\n",
              "  </thead>\n",
              "  <tbody>\n",
              "    <tr>\n",
              "      <th>0</th>\n",
              "      <td>2</td>\n",
              "      <td>33120</td>\n",
              "      <td>1</td>\n",
              "      <td>1</td>\n",
              "      <td>Organic Egg Whites</td>\n",
              "    </tr>\n",
              "    <tr>\n",
              "      <th>1</th>\n",
              "      <td>26</td>\n",
              "      <td>33120</td>\n",
              "      <td>5</td>\n",
              "      <td>0</td>\n",
              "      <td>Organic Egg Whites</td>\n",
              "    </tr>\n",
              "    <tr>\n",
              "      <th>2</th>\n",
              "      <td>120</td>\n",
              "      <td>33120</td>\n",
              "      <td>13</td>\n",
              "      <td>0</td>\n",
              "      <td>Organic Egg Whites</td>\n",
              "    </tr>\n",
              "    <tr>\n",
              "      <th>3</th>\n",
              "      <td>327</td>\n",
              "      <td>33120</td>\n",
              "      <td>5</td>\n",
              "      <td>1</td>\n",
              "      <td>Organic Egg Whites</td>\n",
              "    </tr>\n",
              "    <tr>\n",
              "      <th>4</th>\n",
              "      <td>390</td>\n",
              "      <td>33120</td>\n",
              "      <td>28</td>\n",
              "      <td>1</td>\n",
              "      <td>Organic Egg Whites</td>\n",
              "    </tr>\n",
              "  </tbody>\n",
              "</table>\n",
              "</div>"
            ],
            "text/plain": [
              "   order_id  product_id  add_to_cart_order  reordered        product_name\n",
              "0         2       33120                  1          1  Organic Egg Whites\n",
              "1        26       33120                  5          0  Organic Egg Whites\n",
              "2       120       33120                 13          0  Organic Egg Whites\n",
              "3       327       33120                  5          1  Organic Egg Whites\n",
              "4       390       33120                 28          1  Organic Egg Whites"
            ]
          },
          "metadata": {
            "tags": []
          },
          "execution_count": 11
        }
      ]
    },
    {
      "cell_type": "markdown",
      "metadata": {
        "id": "Sxg6nXHePY5t",
        "colab_type": "text"
      },
      "source": [
        "#### Most popular products?"
      ]
    },
    {
      "cell_type": "code",
      "metadata": {
        "id": "bLlqbuClPY5t",
        "colab_type": "code",
        "colab": {
          "base_uri": "https://localhost:8080/",
          "height": 202
        },
        "outputId": "de30e5a6-f38f-4bfe-f2e4-8bf2d3622985"
      },
      "source": [
        "order_products['product_name'].value_counts()[:10]\n"
      ],
      "execution_count": 13,
      "outputs": [
        {
          "output_type": "execute_result",
          "data": {
            "text/plain": [
              "Banana                    491291\n",
              "Bag of Organic Bananas    394930\n",
              "Organic Strawberries      275577\n",
              "Organic Baby Spinach      251705\n",
              "Organic Hass Avocado      220877\n",
              "Organic Avocado           184224\n",
              "Large Lemon               160792\n",
              "Strawberries              149445\n",
              "Limes                     146660\n",
              "Organic Whole Milk        142813\n",
              "Name: product_name, dtype: int64"
            ]
          },
          "metadata": {
            "tags": []
          },
          "execution_count": 13
        }
      ]
    },
    {
      "cell_type": "markdown",
      "metadata": {
        "id": "TiGX9dNKPY5y",
        "colab_type": "text"
      },
      "source": [
        "#### Organic?"
      ]
    },
    {
      "cell_type": "code",
      "metadata": {
        "id": "viOHzukEPY5y",
        "colab_type": "code",
        "colab": {
          "base_uri": "https://localhost:8080/",
          "height": 50
        },
        "outputId": "1cc6092d-1fce-43b3-c8c7-8a6bda01fc27"
      },
      "source": [
        "%time\n",
        "order_products['organic'] = order_products['product_name'].str.contains('Organic')\n"
      ],
      "execution_count": 16,
      "outputs": [
        {
          "output_type": "stream",
          "text": [
            "CPU times: user 3 µs, sys: 1 µs, total: 4 µs\n",
            "Wall time: 5.72 µs\n"
          ],
          "name": "stdout"
        }
      ]
    },
    {
      "cell_type": "code",
      "metadata": {
        "id": "T7Rq9jcuPY50",
        "colab_type": "code",
        "colab": {
          "base_uri": "https://localhost:8080/",
          "height": 101
        },
        "outputId": "fe01fad4-f9ac-4de2-9f3f-ea520d7cbca8"
      },
      "source": [
        "%time\n",
        "order_products['organic'].value_counts(normalize=True)\n"
      ],
      "execution_count": 18,
      "outputs": [
        {
          "output_type": "stream",
          "text": [
            "CPU times: user 3 µs, sys: 0 ns, total: 3 µs\n",
            "Wall time: 5.96 µs\n"
          ],
          "name": "stdout"
        },
        {
          "output_type": "execute_result",
          "data": {
            "text/plain": [
              "False    0.684912\n",
              "True     0.315088\n",
              "Name: organic, dtype: float64"
            ]
          },
          "metadata": {
            "tags": []
          },
          "execution_count": 18
        }
      ]
    },
    {
      "cell_type": "markdown",
      "metadata": {
        "id": "PO6bZgANPY52",
        "colab_type": "text"
      },
      "source": [
        "### With Dask\n",
        "https://examples.dask.org/dataframe.html"
      ]
    },
    {
      "cell_type": "code",
      "metadata": {
        "id": "Tq19kEOQPY52",
        "colab_type": "code",
        "colab": {}
      },
      "source": [
        "import dask.dataframe as dd\n",
        "from dask.distributed import Client"
      ],
      "execution_count": 0,
      "outputs": []
    },
    {
      "cell_type": "markdown",
      "metadata": {
        "id": "EBHdJ6H-PY54",
        "colab_type": "text"
      },
      "source": [
        "#### Load & merge data\n",
        "https://examples.dask.org/dataframes/01-data-access.html#Read-CSV-files"
      ]
    },
    {
      "cell_type": "code",
      "metadata": {
        "id": "bfVb4PzvPY54",
        "colab_type": "code",
        "colab": {
          "base_uri": "https://localhost:8080/",
          "height": 50
        },
        "outputId": "e70462ce-dfa8-40c4-a26f-43c030dd9844"
      },
      "source": [
        "%%time\n",
        "order_products = dd.read_csv('order_products*.csv')"
      ],
      "execution_count": 20,
      "outputs": [
        {
          "output_type": "stream",
          "text": [
            "CPU times: user 24.6 ms, sys: 2.9 ms, total: 27.5 ms\n",
            "Wall time: 30.5 ms\n"
          ],
          "name": "stdout"
        }
      ]
    },
    {
      "cell_type": "code",
      "metadata": {
        "id": "dpYyLXASPY56",
        "colab_type": "code",
        "colab": {
          "base_uri": "https://localhost:8080/",
          "height": 50
        },
        "outputId": "bc47df5e-6723-401b-d286-b8f78aafbe49"
      },
      "source": [
        "%%time\n",
        "order_products = dd.merge(order_products, products[['product_id', 'product_name']])"
      ],
      "execution_count": 22,
      "outputs": [
        {
          "output_type": "stream",
          "text": [
            "CPU times: user 26.7 ms, sys: 2.9 ms, total: 29.6 ms\n",
            "Wall time: 34.3 ms\n"
          ],
          "name": "stdout"
        }
      ]
    },
    {
      "cell_type": "markdown",
      "metadata": {
        "id": "MPTUgcNZPY57",
        "colab_type": "text"
      },
      "source": [
        "http://docs.dask.org/en/latest/dataframe-performance.html#persist-intelligently"
      ]
    },
    {
      "cell_type": "code",
      "metadata": {
        "id": "FuT4Q0A_PY58",
        "colab_type": "code",
        "colab": {
          "base_uri": "https://localhost:8080/",
          "height": 195
        },
        "outputId": "e700627f-7d18-4953-beb1-7785c3230884"
      },
      "source": [
        "order_products.head()"
      ],
      "execution_count": 25,
      "outputs": [
        {
          "output_type": "execute_result",
          "data": {
            "text/html": [
              "<div>\n",
              "<style scoped>\n",
              "    .dataframe tbody tr th:only-of-type {\n",
              "        vertical-align: middle;\n",
              "    }\n",
              "\n",
              "    .dataframe tbody tr th {\n",
              "        vertical-align: top;\n",
              "    }\n",
              "\n",
              "    .dataframe thead th {\n",
              "        text-align: right;\n",
              "    }\n",
              "</style>\n",
              "<table border=\"1\" class=\"dataframe\">\n",
              "  <thead>\n",
              "    <tr style=\"text-align: right;\">\n",
              "      <th></th>\n",
              "      <th>order_id</th>\n",
              "      <th>product_id</th>\n",
              "      <th>add_to_cart_order</th>\n",
              "      <th>reordered</th>\n",
              "      <th>product_name</th>\n",
              "    </tr>\n",
              "  </thead>\n",
              "  <tbody>\n",
              "    <tr>\n",
              "      <th>0</th>\n",
              "      <td>2</td>\n",
              "      <td>33120</td>\n",
              "      <td>1</td>\n",
              "      <td>1</td>\n",
              "      <td>Organic Egg Whites</td>\n",
              "    </tr>\n",
              "    <tr>\n",
              "      <th>1</th>\n",
              "      <td>26</td>\n",
              "      <td>33120</td>\n",
              "      <td>5</td>\n",
              "      <td>0</td>\n",
              "      <td>Organic Egg Whites</td>\n",
              "    </tr>\n",
              "    <tr>\n",
              "      <th>2</th>\n",
              "      <td>120</td>\n",
              "      <td>33120</td>\n",
              "      <td>13</td>\n",
              "      <td>0</td>\n",
              "      <td>Organic Egg Whites</td>\n",
              "    </tr>\n",
              "    <tr>\n",
              "      <th>3</th>\n",
              "      <td>327</td>\n",
              "      <td>33120</td>\n",
              "      <td>5</td>\n",
              "      <td>1</td>\n",
              "      <td>Organic Egg Whites</td>\n",
              "    </tr>\n",
              "    <tr>\n",
              "      <th>4</th>\n",
              "      <td>390</td>\n",
              "      <td>33120</td>\n",
              "      <td>28</td>\n",
              "      <td>1</td>\n",
              "      <td>Organic Egg Whites</td>\n",
              "    </tr>\n",
              "  </tbody>\n",
              "</table>\n",
              "</div>"
            ],
            "text/plain": [
              "   order_id  product_id  add_to_cart_order  reordered        product_name\n",
              "0         2       33120                  1          1  Organic Egg Whites\n",
              "1        26       33120                  5          0  Organic Egg Whites\n",
              "2       120       33120                 13          0  Organic Egg Whites\n",
              "3       327       33120                  5          1  Organic Egg Whites\n",
              "4       390       33120                 28          1  Organic Egg Whites"
            ]
          },
          "metadata": {
            "tags": []
          },
          "execution_count": 25
        }
      ]
    },
    {
      "cell_type": "markdown",
      "metadata": {
        "id": "gOt66e8gPY59",
        "colab_type": "text"
      },
      "source": [
        "#### Most popular products?"
      ]
    },
    {
      "cell_type": "code",
      "metadata": {
        "id": "Qq8nTf3PPY5-",
        "colab_type": "code",
        "colab": {
          "base_uri": "https://localhost:8080/",
          "height": 1092
        },
        "outputId": "8b4eaa5c-1a52-4c79-c2fb-3e69abdadffd"
      },
      "source": [
        "%%time\n",
        "order_products['product_name'].value_counts().compute()"
      ],
      "execution_count": 27,
      "outputs": [
        {
          "output_type": "stream",
          "text": [
            "CPU times: user 25.1 s, sys: 522 ms, total: 25.7 s\n",
            "Wall time: 16.7 s\n"
          ],
          "name": "stdout"
        },
        {
          "output_type": "execute_result",
          "data": {
            "text/plain": [
              "Banana                                                       491291\n",
              "Bag of Organic Bananas                                       394930\n",
              "Organic Strawberries                                         275577\n",
              "Organic Baby Spinach                                         251705\n",
              "Organic Hass Avocado                                         220877\n",
              "Organic Avocado                                              184224\n",
              "Large Lemon                                                  160792\n",
              "Strawberries                                                 149445\n",
              "Limes                                                        146660\n",
              "Organic Whole Milk                                           142813\n",
              "Organic Raspberries                                          142603\n",
              "Organic Yellow Onion                                         117716\n",
              "Organic Garlic                                               113936\n",
              "Organic Zucchini                                             109412\n",
              "Organic Blueberries                                          105026\n",
              "Cucumber Kirby                                                99728\n",
              "Organic Fuji Apple                                            92889\n",
              "Organic Lemon                                                 91251\n",
              "Organic Grape Tomatoes                                        88078\n",
              "Apple Honeycrisp Organic                                      87272\n",
              "Seedless Red Grapes                                           86748\n",
              "Organic Cucumber                                              85005\n",
              "Honeycrisp Apple                                              83320\n",
              "Organic Baby Carrots                                          80493\n",
              "Sparkling Water Grapefruit                                    79245\n",
              "Organic Half & Half                                           79006\n",
              "Organic Large Extra Fancy Fuji Apple                          78056\n",
              "Yellow Onions                                                 76929\n",
              "Organic Baby Arugula                                          75752\n",
              "Organic Gala Apples                                           75655\n",
              "                                                              ...  \n",
              "Frittata, Farmer's Market                                         1\n",
              "Vanilla Bean Sheep Milk Ice Cream                                 1\n",
              "Pure Peppermint Extract                                           1\n",
              "Pure Performance Restorative Shampoo Chamomile & Honey            1\n",
              "Pumpkin Spice Almond Nog                                          1\n",
              "Tangerine Melon Bubble Bath                                       1\n",
              "Organic Aleppo Pepper                                             1\n",
              "Hennepin Farmhouse Ale                                            1\n",
              "Indian Wells Merlot                                               1\n",
              "Coconut Bliss Pineapple Coconut                                   1\n",
              "Coconut Cardamom Almond Butter                                    1\n",
              "Pasta Shapes In Tomato Sauce                                      1\n",
              "Hot Oatmeal Multigrain Raisin                                     1\n",
              "Water With Electrolytes                                           1\n",
              "Sweetart Jelly Beans                                              1\n",
              "Cinnamon Rice Pudding Snacks                                      1\n",
              "Citronge Extra Fine Orange Liqueur                                1\n",
              "Lowfat Cherry Lime Supernova Kefir Cultured Milk Smoothie         1\n",
              "Lindor Peppermint White Chocolate Truffles                        1\n",
              "Organic Better Rest Tea Blend                                     1\n",
              "Aged Parmesan Cheese Sticks                                       1\n",
              "Molasses, Bead                                                    1\n",
              "Orange Recharge                                                   1\n",
              "Pasta & Enchilada Sauce, Organic, 7 Veggie                        1\n",
              "Ultra Sun Blossom Liquid 90 loads Fabric Enhancers                1\n",
              "Organic Ice Cream Birthday Cake                                   1\n",
              "11.3 Oz. Oreo Fudge Creme Double Chocolate                        1\n",
              "Cld/Flu Van Chrry                                                 1\n",
              "12 Inch Taper Candle White                                        1\n",
              "All Natural Stevia Liquid Extract Sweetener                       1\n",
              "Name: product_name, Length: 49685, dtype: int64"
            ]
          },
          "metadata": {
            "tags": []
          },
          "execution_count": 27
        }
      ]
    },
    {
      "cell_type": "markdown",
      "metadata": {
        "id": "ehJxPNFAPY6B",
        "colab_type": "text"
      },
      "source": [
        "#### Organic?"
      ]
    },
    {
      "cell_type": "code",
      "metadata": {
        "id": "Xci90HEHPY6C",
        "colab_type": "code",
        "colab": {
          "base_uri": "https://localhost:8080/",
          "height": 50
        },
        "outputId": "1133749a-9f5b-4027-99a2-fb8c3ad65d32"
      },
      "source": [
        "%%time\n",
        "order_products['organic'] = order_products['product_name'].str.contains('Organic')\n"
      ],
      "execution_count": 28,
      "outputs": [
        {
          "output_type": "stream",
          "text": [
            "CPU times: user 8.3 ms, sys: 1.07 ms, total: 9.38 ms\n",
            "Wall time: 9.19 ms\n"
          ],
          "name": "stdout"
        }
      ]
    },
    {
      "cell_type": "code",
      "metadata": {
        "id": "Qp_jZz9bPY6F",
        "colab_type": "code",
        "colab": {
          "base_uri": "https://localhost:8080/",
          "height": 101
        },
        "outputId": "a4018805-640f-4a98-bcff-2a37d1204ded"
      },
      "source": [
        "%%time\n",
        "\n",
        "order_products['organic'].value_counts().compute()"
      ],
      "execution_count": 29,
      "outputs": [
        {
          "output_type": "stream",
          "text": [
            "CPU times: user 39.5 s, sys: 918 ms, total: 40.5 s\n",
            "Wall time: 30.8 s\n"
          ],
          "name": "stdout"
        },
        {
          "output_type": "execute_result",
          "data": {
            "text/plain": [
              "False    23163118\n",
              "True     10655988\n",
              "Name: organic, dtype: int64"
            ]
          },
          "metadata": {
            "tags": []
          },
          "execution_count": 29
        }
      ]
    },
    {
      "cell_type": "markdown",
      "metadata": {
        "id": "7UX1aS0vPY6I",
        "colab_type": "text"
      },
      "source": [
        "## 4. Fit a machine learning model"
      ]
    },
    {
      "cell_type": "markdown",
      "metadata": {
        "id": "pkHiFS_BPY6J",
        "colab_type": "text"
      },
      "source": [
        "### Load data"
      ]
    },
    {
      "cell_type": "code",
      "metadata": {
        "id": "BDb2yyv0aITb",
        "colab_type": "code",
        "colab": {
          "base_uri": "https://localhost:8080/",
          "height": 222
        },
        "outputId": "6132bc0a-2d89-4519-fe0b-ff3d42af17f5"
      },
      "source": [
        "!wget https://raw.githubusercontent.com/Hira63S/DS-Unit-3-Sprint-3-Big-Data/master/module1-aws-sagemaker/ds-predictive-modeling-challenge-data/train_features.csv"
      ],
      "execution_count": 35,
      "outputs": [
        {
          "output_type": "stream",
          "text": [
            "--2019-06-10 22:00:59--  https://raw.githubusercontent.com/Hira63S/DS-Unit-3-Sprint-3-Big-Data/master/module1-aws-sagemaker/ds-predictive-modeling-challenge-data/train_features.csv\n",
            "Resolving raw.githubusercontent.com (raw.githubusercontent.com)... 151.101.0.133, 151.101.64.133, 151.101.128.133, ...\n",
            "Connecting to raw.githubusercontent.com (raw.githubusercontent.com)|151.101.0.133|:443... connected.\n",
            "HTTP request sent, awaiting response... 200 OK\n",
            "Length: 20054664 (19M) [text/plain]\n",
            "Saving to: ‘train_features.csv’\n",
            "\n",
            "train_features.csv  100%[===================>]  19.12M  --.-KB/s    in 0.1s    \n",
            "\n",
            "2019-06-10 22:01:00 (139 MB/s) - ‘train_features.csv’ saved [20054664/20054664]\n",
            "\n"
          ],
          "name": "stdout"
        }
      ]
    },
    {
      "cell_type": "code",
      "metadata": {
        "id": "V3KFEFeqaQjJ",
        "colab_type": "code",
        "colab": {
          "base_uri": "https://localhost:8080/",
          "height": 222
        },
        "outputId": "7dac1a9c-3e9c-4f0f-9dff-45666bfaa441"
      },
      "source": [
        "!wget https://raw.githubusercontent.com/Hira63S/DS-Unit-3-Sprint-3-Big-Data/master/module1-aws-sagemaker/ds-predictive-modeling-challenge-data/train_labels.csv"
      ],
      "execution_count": 36,
      "outputs": [
        {
          "output_type": "stream",
          "text": [
            "--2019-06-10 22:01:32--  https://raw.githubusercontent.com/Hira63S/DS-Unit-3-Sprint-3-Big-Data/master/module1-aws-sagemaker/ds-predictive-modeling-challenge-data/train_labels.csv\n",
            "Resolving raw.githubusercontent.com (raw.githubusercontent.com)... 151.101.0.133, 151.101.64.133, 151.101.128.133, ...\n",
            "Connecting to raw.githubusercontent.com (raw.githubusercontent.com)|151.101.0.133|:443... connected.\n",
            "HTTP request sent, awaiting response... 200 OK\n",
            "Length: 1148327 (1.1M) [text/plain]\n",
            "Saving to: ‘train_labels.csv’\n",
            "\n",
            "\rtrain_labels.csv      0%[                    ]       0  --.-KB/s               \rtrain_labels.csv    100%[===================>]   1.09M  --.-KB/s    in 0.04s   \n",
            "\n",
            "2019-06-10 22:01:33 (24.7 MB/s) - ‘train_labels.csv’ saved [1148327/1148327]\n",
            "\n"
          ],
          "name": "stdout"
        }
      ]
    },
    {
      "cell_type": "code",
      "metadata": {
        "id": "NgO3EJGjaamX",
        "colab_type": "code",
        "colab": {
          "base_uri": "https://localhost:8080/",
          "height": 222
        },
        "outputId": "99b49b26-b294-4912-a9f6-44419366a6e3"
      },
      "source": [
        "!wget https://raw.githubusercontent.com/Hira63S/DS-Unit-3-Sprint-3-Big-Data/master/module1-aws-sagemaker/ds-predictive-modeling-challenge-data/test_features.csv"
      ],
      "execution_count": 37,
      "outputs": [
        {
          "output_type": "stream",
          "text": [
            "--2019-06-10 22:02:14--  https://raw.githubusercontent.com/Hira63S/DS-Unit-3-Sprint-3-Big-Data/master/module1-aws-sagemaker/ds-predictive-modeling-challenge-data/test_features.csv\n",
            "Resolving raw.githubusercontent.com (raw.githubusercontent.com)... 151.101.0.133, 151.101.64.133, 151.101.128.133, ...\n",
            "Connecting to raw.githubusercontent.com (raw.githubusercontent.com)|151.101.0.133|:443... connected.\n",
            "HTTP request sent, awaiting response... 200 OK\n",
            "Length: 4851589 (4.6M) [text/plain]\n",
            "Saving to: ‘test_features.csv’\n",
            "\n",
            "\rtest_features.csv     0%[                    ]       0  --.-KB/s               \rtest_features.csv   100%[===================>]   4.63M  --.-KB/s    in 0.07s   \n",
            "\n",
            "2019-06-10 22:02:14 (65.2 MB/s) - ‘test_features.csv’ saved [4851589/4851589]\n",
            "\n"
          ],
          "name": "stdout"
        }
      ]
    },
    {
      "cell_type": "code",
      "metadata": {
        "id": "lV32JHJKPY6K",
        "colab_type": "code",
        "colab": {
          "base_uri": "https://localhost:8080/",
          "height": 50
        },
        "outputId": "b3c5443a-d72e-4deb-9054-0da0676b7055"
      },
      "source": [
        "%cd ../ds-predictive-modeling-challenge-data"
      ],
      "execution_count": 34,
      "outputs": [
        {
          "output_type": "stream",
          "text": [
            "[Errno 2] No such file or directory: '../ds-predictive-modeling-challenge-data'\n",
            "/content/instacart_2017_05_01\n"
          ],
          "name": "stdout"
        }
      ]
    },
    {
      "cell_type": "code",
      "metadata": {
        "id": "AdyFOWO4PY6L",
        "colab_type": "code",
        "colab": {}
      },
      "source": [
        "import numpy as np\n",
        "import pandas as pd\n",
        "from sklearn.ensemble import RandomForestClassifier\n",
        "\n",
        "train_features = pd.read_csv('train_features.csv')\n",
        "train_labels = pd.read_csv('train_labels.csv')\n",
        "\n",
        "X_train_numeric = train_features.select_dtypes(np.number)\n",
        "y_train = train_labels['status_group']"
      ],
      "execution_count": 0,
      "outputs": []
    },
    {
      "cell_type": "code",
      "metadata": {
        "id": "LqL6Tr0UhITh",
        "colab_type": "code",
        "colab": {
          "base_uri": "https://localhost:8080/",
          "height": 67
        },
        "outputId": "c0d1c208-32ce-4fbb-c36b-341d8aa5d48d"
      },
      "source": [
        "train_features.head(0)"
      ],
      "execution_count": 48,
      "outputs": [
        {
          "output_type": "execute_result",
          "data": {
            "text/html": [
              "<div>\n",
              "<style scoped>\n",
              "    .dataframe tbody tr th:only-of-type {\n",
              "        vertical-align: middle;\n",
              "    }\n",
              "\n",
              "    .dataframe tbody tr th {\n",
              "        vertical-align: top;\n",
              "    }\n",
              "\n",
              "    .dataframe thead th {\n",
              "        text-align: right;\n",
              "    }\n",
              "</style>\n",
              "<table border=\"1\" class=\"dataframe\">\n",
              "  <thead>\n",
              "    <tr style=\"text-align: right;\">\n",
              "      <th></th>\n",
              "      <th>id</th>\n",
              "      <th>amount_tsh</th>\n",
              "      <th>date_recorded</th>\n",
              "      <th>funder</th>\n",
              "      <th>gps_height</th>\n",
              "      <th>installer</th>\n",
              "      <th>longitude</th>\n",
              "      <th>latitude</th>\n",
              "      <th>wpt_name</th>\n",
              "      <th>num_private</th>\n",
              "      <th>basin</th>\n",
              "      <th>subvillage</th>\n",
              "      <th>region</th>\n",
              "      <th>region_code</th>\n",
              "      <th>district_code</th>\n",
              "      <th>lga</th>\n",
              "      <th>ward</th>\n",
              "      <th>population</th>\n",
              "      <th>public_meeting</th>\n",
              "      <th>recorded_by</th>\n",
              "      <th>scheme_management</th>\n",
              "      <th>scheme_name</th>\n",
              "      <th>permit</th>\n",
              "      <th>construction_year</th>\n",
              "      <th>extraction_type</th>\n",
              "      <th>extraction_type_group</th>\n",
              "      <th>extraction_type_class</th>\n",
              "      <th>management</th>\n",
              "      <th>management_group</th>\n",
              "      <th>payment</th>\n",
              "      <th>payment_type</th>\n",
              "      <th>water_quality</th>\n",
              "      <th>quality_group</th>\n",
              "      <th>quantity</th>\n",
              "      <th>quantity_group</th>\n",
              "      <th>source</th>\n",
              "      <th>source_type</th>\n",
              "      <th>source_class</th>\n",
              "      <th>waterpoint_type</th>\n",
              "      <th>waterpoint_type_group</th>\n",
              "    </tr>\n",
              "  </thead>\n",
              "  <tbody>\n",
              "  </tbody>\n",
              "</table>\n",
              "</div>"
            ],
            "text/plain": [
              "Empty DataFrame\n",
              "Columns: [id, amount_tsh, date_recorded, funder, gps_height, installer, longitude, latitude, wpt_name, num_private, basin, subvillage, region, region_code, district_code, lga, ward, population, public_meeting, recorded_by, scheme_management, scheme_name, permit, construction_year, extraction_type, extraction_type_group, extraction_type_class, management, management_group, payment, payment_type, water_quality, quality_group, quantity, quantity_group, source, source_type, source_class, waterpoint_type, waterpoint_type_group]\n",
              "Index: []"
            ]
          },
          "metadata": {
            "tags": []
          },
          "execution_count": 48
        }
      ]
    },
    {
      "cell_type": "markdown",
      "metadata": {
        "id": "GGBUCH-YPY6O",
        "colab_type": "text"
      },
      "source": [
        "### With 2 cores (like Google Colab)\n",
        "https://scikit-learn.org/stable/modules/generated/sklearn.ensemble.RandomForestClassifier.html"
      ]
    },
    {
      "cell_type": "code",
      "metadata": {
        "id": "ApG8kL5PPY6P",
        "colab_type": "code",
        "colab": {
          "base_uri": "https://localhost:8080/",
          "height": 101
        },
        "outputId": "55fae590-9cf4-4579-fec5-e233b84bae6e"
      },
      "source": [
        "model = RandomForestClassifier(n_estimators=200, oob_score=True, n_jobs=-1, random_state=42, verbose=1)\n",
        "model.fit(X_train_numeric, y_train)\n",
        "print('Out-of-bag score:', model.oob_score_)"
      ],
      "execution_count": 40,
      "outputs": [
        {
          "output_type": "stream",
          "text": [
            "[Parallel(n_jobs=-1)]: Using backend ThreadingBackend with 2 concurrent workers.\n",
            "[Parallel(n_jobs=-1)]: Done  46 tasks      | elapsed:    5.1s\n",
            "[Parallel(n_jobs=-1)]: Done 196 tasks      | elapsed:   21.4s\n",
            "[Parallel(n_jobs=-1)]: Done 200 out of 200 | elapsed:   21.8s finished\n"
          ],
          "name": "stderr"
        },
        {
          "output_type": "stream",
          "text": [
            "Out-of-bag score: 0.7206228956228956\n"
          ],
          "name": "stdout"
        }
      ]
    },
    {
      "cell_type": "markdown",
      "metadata": {
        "id": "qZ4mZGQWPY6X",
        "colab_type": "text"
      },
      "source": [
        "### With 16 cores (on AWS m4.4xlarge)"
      ]
    },
    {
      "cell_type": "code",
      "metadata": {
        "id": "591c6cbyPY6Y",
        "colab_type": "code",
        "colab": {
          "base_uri": "https://localhost:8080/",
          "height": 134
        },
        "outputId": "58b4fab1-7e9e-4610-ad09-9354c611a24b"
      },
      "source": [
        "%%time\n",
        "\n",
        "model = RandomForestClassifier(n_estimators = 200, oob_score = True, n_jobs = -1, random_state = 42, verbose = 1)\n",
        "model.fit(X_train_numeric, y_train)\n",
        "print('Out-of-bag score:', model.oob_score_)"
      ],
      "execution_count": 41,
      "outputs": [
        {
          "output_type": "stream",
          "text": [
            "[Parallel(n_jobs=-1)]: Using backend ThreadingBackend with 2 concurrent workers.\n",
            "[Parallel(n_jobs=-1)]: Done  46 tasks      | elapsed:    4.6s\n",
            "[Parallel(n_jobs=-1)]: Done 196 tasks      | elapsed:   21.0s\n",
            "[Parallel(n_jobs=-1)]: Done 200 out of 200 | elapsed:   21.3s finished\n"
          ],
          "name": "stderr"
        },
        {
          "output_type": "stream",
          "text": [
            "Out-of-bag score: 0.7206228956228956\n",
            "CPU times: user 44.3 s, sys: 343 ms, total: 44.7 s\n",
            "Wall time: 23.8 s\n"
          ],
          "name": "stdout"
        }
      ]
    },
    {
      "cell_type": "markdown",
      "metadata": {
        "id": "qO_LjHGrPY6b",
        "colab_type": "text"
      },
      "source": [
        "## ASSIGNMENT\n",
        "\n",
        "Revisit a previous assignment or project that had slow speeds or big data.\n",
        "\n",
        "Make it better with what you've learned today!\n",
        "\n",
        "You can use `wget` or Kaggle API to get data. Some possibilities include:\n",
        "\n",
        "- https://www.kaggle.com/c/ds1-predictive-modeling-challenge\n",
        "- https://www.kaggle.com/ntnu-testimon/paysim1\n",
        "- https://github.com/mdeff/fma\n",
        "- https://tech.instacart.com/3-million-instacart-orders-open-sourced-d40d29ead6f2 \n",
        "\n",
        "\n",
        "\n",
        "Also, you can play with [Datashader](http://datashader.org/) and its [example datasets](https://github.com/pyviz/datashader/blob/master/examples/datasets.yml)!"
      ]
    },
    {
      "cell_type": "markdown",
      "metadata": {
        "id": "5LJ3KOfebDxd",
        "colab_type": "text"
      },
      "source": [
        "###DASK - look into dask. Good for both scaling up and scaling out\n"
      ]
    },
    {
      "cell_type": "code",
      "metadata": {
        "id": "7HH2mEoUbRSn",
        "colab_type": "code",
        "colab": {
          "base_uri": "https://localhost:8080/",
          "height": 222
        },
        "outputId": "f68aa8d9-586c-4907-e908-8fc451c87289"
      },
      "source": [
        "!wget https://raw.githubusercontent.com/Hira63S/Project-2-Water-Pump/master/train_features.csv"
      ],
      "execution_count": 42,
      "outputs": [
        {
          "output_type": "stream",
          "text": [
            "--2019-06-10 22:09:26--  https://raw.githubusercontent.com/Hira63S/Project-2-Water-Pump/master/train_features.csv\n",
            "Resolving raw.githubusercontent.com (raw.githubusercontent.com)... 151.101.0.133, 151.101.64.133, 151.101.128.133, ...\n",
            "Connecting to raw.githubusercontent.com (raw.githubusercontent.com)|151.101.0.133|:443... connected.\n",
            "HTTP request sent, awaiting response... 200 OK\n",
            "Length: 19907686 (19M) [text/plain]\n",
            "Saving to: ‘train_features.csv.1’\n",
            "\n",
            "train_features.csv. 100%[===================>]  18.99M  --.-KB/s    in 0.1s    \n",
            "\n",
            "2019-06-10 22:09:26 (167 MB/s) - ‘train_features.csv.1’ saved [19907686/19907686]\n",
            "\n"
          ],
          "name": "stdout"
        }
      ]
    },
    {
      "cell_type": "code",
      "metadata": {
        "id": "akvVSikqbROr",
        "colab_type": "code",
        "colab": {
          "base_uri": "https://localhost:8080/",
          "height": 222
        },
        "outputId": "a6be0d39-c8eb-427e-ad44-ee7bdf5f8c95"
      },
      "source": [
        "!wget https://raw.githubusercontent.com/Hira63S/Project-2-Water-Pump/master/train_labels.csv"
      ],
      "execution_count": 43,
      "outputs": [
        {
          "output_type": "stream",
          "text": [
            "--2019-06-10 22:09:52--  https://raw.githubusercontent.com/Hira63S/Project-2-Water-Pump/master/train_labels.csv\n",
            "Resolving raw.githubusercontent.com (raw.githubusercontent.com)... 151.101.0.133, 151.101.64.133, 151.101.128.133, ...\n",
            "Connecting to raw.githubusercontent.com (raw.githubusercontent.com)|151.101.0.133|:443... connected.\n",
            "HTTP request sent, awaiting response... 200 OK\n",
            "Length: 1207728 (1.2M) [text/plain]\n",
            "Saving to: ‘train_labels.csv.1’\n",
            "\n",
            "\rtrain_labels.csv.1    0%[                    ]       0  --.-KB/s               \rtrain_labels.csv.1  100%[===================>]   1.15M  --.-KB/s    in 0.04s   \n",
            "\n",
            "2019-06-10 22:09:52 (25.8 MB/s) - ‘train_labels.csv.1’ saved [1207728/1207728]\n",
            "\n"
          ],
          "name": "stdout"
        }
      ]
    },
    {
      "cell_type": "code",
      "metadata": {
        "id": "u023-KCbcS5g",
        "colab_type": "code",
        "colab": {
          "base_uri": "https://localhost:8080/",
          "height": 222
        },
        "outputId": "b2b4c102-e159-44e7-cae2-40cb2b050be8"
      },
      "source": [
        "!wget https://raw.githubusercontent.com/Hira63S/Project-2-Water-Pump/master/test_features.csv"
      ],
      "execution_count": 44,
      "outputs": [
        {
          "output_type": "stream",
          "text": [
            "--2019-06-10 22:10:29--  https://raw.githubusercontent.com/Hira63S/Project-2-Water-Pump/master/test_features.csv\n",
            "Resolving raw.githubusercontent.com (raw.githubusercontent.com)... 151.101.0.133, 151.101.64.133, 151.101.128.133, ...\n",
            "Connecting to raw.githubusercontent.com (raw.githubusercontent.com)|151.101.0.133|:443... connected.\n",
            "HTTP request sent, awaiting response... 200 OK\n",
            "Length: 4816177 (4.6M) [text/plain]\n",
            "Saving to: ‘test_features.csv.1’\n",
            "\n",
            "\rtest_features.csv.1   0%[                    ]       0  --.-KB/s               \rtest_features.csv.1 100%[===================>]   4.59M  --.-KB/s    in 0.06s   \n",
            "\n",
            "2019-06-10 22:10:30 (75.5 MB/s) - ‘test_features.csv.1’ saved [4816177/4816177]\n",
            "\n"
          ],
          "name": "stdout"
        }
      ]
    },
    {
      "cell_type": "code",
      "metadata": {
        "id": "NL3x65wNcSsb",
        "colab_type": "code",
        "colab": {}
      },
      "source": [
        "import numpy as np\n",
        "import pandas as pd\n",
        "from sklearn.ensemble import RandomForestClassifier\n",
        "\n",
        "train_features = pd.read_csv('train_features.csv.1')\n",
        "train_labels = pd.read_csv('train_labels.csv.1')\n",
        "\n",
        "X_train_numeric = train_features.select_dtypes(np.number)\n",
        "y_train = train_labels['status_group']"
      ],
      "execution_count": 0,
      "outputs": []
    },
    {
      "cell_type": "code",
      "metadata": {
        "id": "4pU-hzA4c54p",
        "colab_type": "code",
        "colab": {
          "base_uri": "https://localhost:8080/",
          "height": 134
        },
        "outputId": "95ab859e-41bd-467d-8169-20bb0b739982"
      },
      "source": [
        "%%time\n",
        "\n",
        "model = RandomForestClassifier(n_estimators = 200, oob_score = True, n_jobs = -1, random_state = 42, verbose = 1)\n",
        "model.fit(X_train_numeric, y_train)\n",
        "print('Out-of-bag score:', model.oob_score_)"
      ],
      "execution_count": 47,
      "outputs": [
        {
          "output_type": "stream",
          "text": [
            "[Parallel(n_jobs=-1)]: Using backend ThreadingBackend with 2 concurrent workers.\n",
            "[Parallel(n_jobs=-1)]: Done  46 tasks      | elapsed:    4.5s\n",
            "[Parallel(n_jobs=-1)]: Done 196 tasks      | elapsed:   20.6s\n",
            "[Parallel(n_jobs=-1)]: Done 200 out of 200 | elapsed:   21.1s finished\n"
          ],
          "name": "stderr"
        },
        {
          "output_type": "stream",
          "text": [
            "Out-of-bag score: 0.7206228956228956\n",
            "CPU times: user 43.7 s, sys: 311 ms, total: 44 s\n",
            "Wall time: 23.4 s\n"
          ],
          "name": "stdout"
        }
      ]
    },
    {
      "cell_type": "code",
      "metadata": {
        "id": "O83bbMgfc517",
        "colab_type": "code",
        "colab": {}
      },
      "source": [
        ""
      ],
      "execution_count": 0,
      "outputs": []
    },
    {
      "cell_type": "code",
      "metadata": {
        "id": "iQnj5Ll9c5yY",
        "colab_type": "code",
        "colab": {}
      },
      "source": [
        ""
      ],
      "execution_count": 0,
      "outputs": []
    }
  ]
}